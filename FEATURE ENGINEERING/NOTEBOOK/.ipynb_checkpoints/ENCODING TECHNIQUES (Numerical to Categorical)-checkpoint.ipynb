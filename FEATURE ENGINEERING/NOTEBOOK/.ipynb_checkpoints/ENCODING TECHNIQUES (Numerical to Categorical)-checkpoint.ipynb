{
 "cells": [
  {
   "cell_type": "markdown",
   "id": "38a4ec01-7a8d-48da-b468-a7c068ffa10d",
   "metadata": {},
   "source": [
    "### UNIFORM BINNING"
   ]
  },
  {
   "cell_type": "code",
   "execution_count": 1,
   "id": "85a14234-ac4a-483f-b840-66f375134cce",
   "metadata": {},
   "outputs": [],
   "source": [
    "import numpy as np\n",
    "import pandas as pd\n",
    "import matplotlib.pyplot as plt\n",
    "import seaborn as sns"
   ]
  },
  {
   "cell_type": "code",
   "execution_count": null,
   "id": "4b60d1c8-244e-4194-aaa4-533f842dc2bf",
   "metadata": {},
   "outputs": [],
   "source": [
    "np.random.seed(42) \n",
    "mean = 50\n",
    "std_dev = 10\n",
    "size = 1000\n",
    "data = np.random.normal(mean, std_dev, size)\n",
    "df = pd.DataFrame(data, columns=['Age'])"
   ]
  },
  {
   "cell_type": "code",
   "execution_count": null,
   "id": "f402bb7a-d36a-4a2a-ab90-6251c62a0ffc",
   "metadata": {},
   "outputs": [],
   "source": [
    "df.head()"
   ]
  },
  {
   "cell_type": "code",
   "execution_count": null,
   "id": "b0e7f20f-8624-4ff6-adef-308a5736fa3d",
   "metadata": {},
   "outputs": [],
   "source": [
    "plt.hist(df[\"Age\"])\n",
    "plt.show()"
   ]
  },
  {
   "cell_type": "code",
   "execution_count": null,
   "id": "5ae318c7-bbac-4523-baac-c24e52907025",
   "metadata": {},
   "outputs": [],
   "source": [
    "len(df)"
   ]
  },
  {
   "cell_type": "code",
   "execution_count": null,
   "id": "12603125-b186-41c2-bfd9-7c80c162f79e",
   "metadata": {},
   "outputs": [],
   "source": [
    "## Struge Rule\n",
    "n = len(df)\n",
    "k = int(np.ceil(np.log2(n) + 1))"
   ]
  },
  {
   "cell_type": "code",
   "execution_count": null,
   "id": "0b69fff2-0854-419b-b26b-0a3904b214d2",
   "metadata": {},
   "outputs": [],
   "source": [
    "print(k)"
   ]
  },
  {
   "cell_type": "code",
   "execution_count": null,
   "id": "b775e73a-944c-4dbd-851b-1b527603f768",
   "metadata": {},
   "outputs": [],
   "source": [
    "from sklearn.preprocessing import KBinsDiscretizer\n",
    "\n",
    "kbins = KBinsDiscretizer(n_bins=k, encode='ordinal', strategy='uniform')\n",
    "\n",
    "df['Age_Binned'] = kbins.fit_transform(df[['Age']])"
   ]
  },
  {
   "cell_type": "code",
   "execution_count": null,
   "id": "7b3ed946-eb9f-450a-830b-1070c8f982b0",
   "metadata": {},
   "outputs": [],
   "source": [
    "df.head()"
   ]
  },
  {
   "cell_type": "code",
   "execution_count": null,
   "id": "f42182f8-4cd1-4e7c-aa06-a1e94db25e9c",
   "metadata": {},
   "outputs": [],
   "source": [
    "plt.hist(df[\"Age_Binned\"])"
   ]
  },
  {
   "cell_type": "code",
   "execution_count": null,
   "id": "1c1926ce-286d-45a9-ab89-5f34c221086d",
   "metadata": {},
   "outputs": [],
   "source": [
    "sns.countplot(x=df[\"Age_Binned\"],data=df)"
   ]
  },
  {
   "cell_type": "markdown",
   "id": "abfac9c9-80b0-488e-8da6-ea8f82a3c15e",
   "metadata": {},
   "source": [
    "### QUANTILE BINNING"
   ]
  },
  {
   "cell_type": "code",
   "execution_count": null,
   "id": "cf14b2a6-ae81-4217-9b6c-73429755f05c",
   "metadata": {},
   "outputs": [],
   "source": [
    "np.random.seed(42)  # For reproducibility\n",
    "data = np.random.randint(1, 100, size=200).reshape(-1, 1)\n",
    "df = pd.DataFrame(data, columns=['Value'])"
   ]
  },
  {
   "cell_type": "code",
   "execution_count": null,
   "id": "ff1ffdb7-4885-4fb1-9621-21ccd6eab0e3",
   "metadata": {},
   "outputs": [],
   "source": [
    "df.head()"
   ]
  },
  {
   "cell_type": "code",
   "execution_count": null,
   "id": "c10b7721-503b-447d-8cd3-4901aa8b04e7",
   "metadata": {},
   "outputs": [],
   "source": [
    "df[\"Value\"].value_counts()"
   ]
  },
  {
   "cell_type": "code",
   "execution_count": null,
   "id": "5670cc81-da3e-4a36-b949-cfefe7abc290",
   "metadata": {},
   "outputs": [],
   "source": [
    "sns.countplot(x=df[\"Value\"],data=df)"
   ]
  },
  {
   "cell_type": "code",
   "execution_count": null,
   "id": "3e1e7647-8361-4656-a6df-f974ccaebdf9",
   "metadata": {},
   "outputs": [],
   "source": [
    "from sklearn.preprocessing import KBinsDiscretizer\n",
    "\n",
    "kbins = KBinsDiscretizer(n_bins=4, encode='ordinal', strategy='quantile')\n",
    "\n",
    "df['Quantile_Binned'] = kbins.fit_transform(df[['Value']])"
   ]
  },
  {
   "cell_type": "code",
   "execution_count": null,
   "id": "0a75d8ce-9ffc-42f6-98d7-856a9603087b",
   "metadata": {},
   "outputs": [],
   "source": [
    "df.head()"
   ]
  },
  {
   "cell_type": "code",
   "execution_count": null,
   "id": "49d869e8-ee1c-4041-b39d-73b775a6fd85",
   "metadata": {},
   "outputs": [],
   "source": [
    "sns.countplot(x=df[\"Quantile_Binned\"],data=df)"
   ]
  },
  {
   "cell_type": "code",
   "execution_count": null,
   "id": "da418da4-c859-4850-b2a1-40eea85c0419",
   "metadata": {},
   "outputs": [],
   "source": [
    "df[\"Quantile_Binned\"].value_counts()"
   ]
  },
  {
   "cell_type": "markdown",
   "id": "e0d71edc-a42f-4102-bb75-04db473ba59b",
   "metadata": {},
   "source": [
    "### CUSTOM BINNING"
   ]
  },
  {
   "cell_type": "code",
   "execution_count": 2,
   "id": "9c58b5b5-567f-44e5-a56a-ffae9a9b256b",
   "metadata": {},
   "outputs": [],
   "source": [
    "data = {\n",
    "    'Name': ['Alice', 'Bob', 'Charlie', 'David', 'Emma', 'Frank', 'Grace', 'Henry', 'Isabella', 'Jack'],\n",
    "    'Age': [25, 32, 45, 18, 60, 37, 28, 22, 49, 35]\n",
    "}\n",
    "df = pd.DataFrame(data)"
   ]
  },
  {
   "cell_type": "code",
   "execution_count": 3,
   "id": "253adfe7-0a5d-4d46-8d98-83d32b80b9b6",
   "metadata": {},
   "outputs": [
    {
     "data": {
      "text/html": [
       "<div>\n",
       "<style scoped>\n",
       "    .dataframe tbody tr th:only-of-type {\n",
       "        vertical-align: middle;\n",
       "    }\n",
       "\n",
       "    .dataframe tbody tr th {\n",
       "        vertical-align: top;\n",
       "    }\n",
       "\n",
       "    .dataframe thead th {\n",
       "        text-align: right;\n",
       "    }\n",
       "</style>\n",
       "<table border=\"1\" class=\"dataframe\">\n",
       "  <thead>\n",
       "    <tr style=\"text-align: right;\">\n",
       "      <th></th>\n",
       "      <th>Name</th>\n",
       "      <th>Age</th>\n",
       "    </tr>\n",
       "  </thead>\n",
       "  <tbody>\n",
       "    <tr>\n",
       "      <th>0</th>\n",
       "      <td>Alice</td>\n",
       "      <td>25</td>\n",
       "    </tr>\n",
       "    <tr>\n",
       "      <th>1</th>\n",
       "      <td>Bob</td>\n",
       "      <td>32</td>\n",
       "    </tr>\n",
       "    <tr>\n",
       "      <th>2</th>\n",
       "      <td>Charlie</td>\n",
       "      <td>45</td>\n",
       "    </tr>\n",
       "    <tr>\n",
       "      <th>3</th>\n",
       "      <td>David</td>\n",
       "      <td>18</td>\n",
       "    </tr>\n",
       "    <tr>\n",
       "      <th>4</th>\n",
       "      <td>Emma</td>\n",
       "      <td>60</td>\n",
       "    </tr>\n",
       "  </tbody>\n",
       "</table>\n",
       "</div>"
      ],
      "text/plain": [
       "      Name  Age\n",
       "0    Alice   25\n",
       "1      Bob   32\n",
       "2  Charlie   45\n",
       "3    David   18\n",
       "4     Emma   60"
      ]
     },
     "execution_count": 3,
     "metadata": {},
     "output_type": "execute_result"
    }
   ],
   "source": [
    "df.head()"
   ]
  },
  {
   "cell_type": "code",
   "execution_count": 4,
   "id": "4eabc672-ced5-4cb6-8546-94178b1cbb50",
   "metadata": {},
   "outputs": [],
   "source": [
    "bins = [0, 18, 30, 40, 50, float('inf')]\n",
    "\n",
    "labels = ['0-18', '19-30', '31-40', '41-50', '51+']"
   ]
  },
  {
   "cell_type": "code",
   "execution_count": 9,
   "id": "ad770ee6-673a-4fca-b05d-15c39bb845ef",
   "metadata": {},
   "outputs": [],
   "source": [
    "df['Age_Binned'] = pd.cut(df['Age'], bins=bins, labels=labels)"
   ]
  },
  {
   "cell_type": "code",
   "execution_count": 10,
   "id": "d0a9b455-d342-49c3-88c0-bf717e36c5e7",
   "metadata": {},
   "outputs": [
    {
     "data": {
      "text/html": [
       "<div>\n",
       "<style scoped>\n",
       "    .dataframe tbody tr th:only-of-type {\n",
       "        vertical-align: middle;\n",
       "    }\n",
       "\n",
       "    .dataframe tbody tr th {\n",
       "        vertical-align: top;\n",
       "    }\n",
       "\n",
       "    .dataframe thead th {\n",
       "        text-align: right;\n",
       "    }\n",
       "</style>\n",
       "<table border=\"1\" class=\"dataframe\">\n",
       "  <thead>\n",
       "    <tr style=\"text-align: right;\">\n",
       "      <th></th>\n",
       "      <th>Name</th>\n",
       "      <th>Age</th>\n",
       "      <th>Age_Binned</th>\n",
       "    </tr>\n",
       "  </thead>\n",
       "  <tbody>\n",
       "    <tr>\n",
       "      <th>0</th>\n",
       "      <td>Alice</td>\n",
       "      <td>25</td>\n",
       "      <td>19-30</td>\n",
       "    </tr>\n",
       "    <tr>\n",
       "      <th>1</th>\n",
       "      <td>Bob</td>\n",
       "      <td>32</td>\n",
       "      <td>31-40</td>\n",
       "    </tr>\n",
       "    <tr>\n",
       "      <th>2</th>\n",
       "      <td>Charlie</td>\n",
       "      <td>45</td>\n",
       "      <td>41-50</td>\n",
       "    </tr>\n",
       "    <tr>\n",
       "      <th>3</th>\n",
       "      <td>David</td>\n",
       "      <td>18</td>\n",
       "      <td>0-18</td>\n",
       "    </tr>\n",
       "    <tr>\n",
       "      <th>4</th>\n",
       "      <td>Emma</td>\n",
       "      <td>60</td>\n",
       "      <td>51+</td>\n",
       "    </tr>\n",
       "  </tbody>\n",
       "</table>\n",
       "</div>"
      ],
      "text/plain": [
       "      Name  Age Age_Binned\n",
       "0    Alice   25      19-30\n",
       "1      Bob   32      31-40\n",
       "2  Charlie   45      41-50\n",
       "3    David   18       0-18\n",
       "4     Emma   60        51+"
      ]
     },
     "execution_count": 10,
     "metadata": {},
     "output_type": "execute_result"
    }
   ],
   "source": [
    "df.head()"
   ]
  },
  {
   "cell_type": "code",
   "execution_count": 11,
   "id": "4e4b4ba3-a67a-4b00-bb62-6658c358c4ab",
   "metadata": {},
   "outputs": [
    {
     "data": {
      "text/plain": [
       "Age_Binned\n",
       "19-30    3\n",
       "31-40    3\n",
       "41-50    2\n",
       "0-18     1\n",
       "51+      1\n",
       "Name: count, dtype: int64"
      ]
     },
     "execution_count": 11,
     "metadata": {},
     "output_type": "execute_result"
    }
   ],
   "source": [
    "df[\"Age_Binned\"].value_counts()"
   ]
  },
  {
   "cell_type": "code",
   "execution_count": 12,
   "id": "75c4ca1f-0244-4330-b18e-f3003fe9d5b7",
   "metadata": {},
   "outputs": [
    {
     "data": {
      "text/plain": [
       "Age\n",
       "25    1\n",
       "32    1\n",
       "45    1\n",
       "18    1\n",
       "60    1\n",
       "37    1\n",
       "28    1\n",
       "22    1\n",
       "49    1\n",
       "35    1\n",
       "Name: count, dtype: int64"
      ]
     },
     "execution_count": 12,
     "metadata": {},
     "output_type": "execute_result"
    }
   ],
   "source": [
    "df[\"Age\"].value_counts()"
   ]
  },
  {
   "cell_type": "code",
   "execution_count": null,
   "id": "1db8771c-cc40-4211-b698-ffd70ecd6168",
   "metadata": {},
   "outputs": [],
   "source": []
  }
 ],
 "metadata": {
  "kernelspec": {
   "display_name": "Python 3 (ipykernel)",
   "language": "python",
   "name": "python3"
  },
  "language_info": {
   "codemirror_mode": {
    "name": "ipython",
    "version": 3
   },
   "file_extension": ".py",
   "mimetype": "text/x-python",
   "name": "python",
   "nbconvert_exporter": "python",
   "pygments_lexer": "ipython3",
   "version": "3.11.7"
  }
 },
 "nbformat": 4,
 "nbformat_minor": 5
}
