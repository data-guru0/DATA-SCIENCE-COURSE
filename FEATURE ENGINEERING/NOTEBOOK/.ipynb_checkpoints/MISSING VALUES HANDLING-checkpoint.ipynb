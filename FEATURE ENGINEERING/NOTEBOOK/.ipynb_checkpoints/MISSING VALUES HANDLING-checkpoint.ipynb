{
 "cells": [
  {
   "cell_type": "markdown",
   "id": "ed208b9e-ac87-4127-aab8-c3dbac34a7aa",
   "metadata": {},
   "source": [
    "## Univariate Numerical Imputation"
   ]
  },
  {
   "cell_type": "code",
   "execution_count": null,
   "id": "74fea487-017b-4948-90af-df453f7c9172",
   "metadata": {},
   "outputs": [],
   "source": [
    "import numpy as np\n",
    "import pandas as pd"
   ]
  },
  {
   "cell_type": "markdown",
   "id": "6a8be91a-f1e6-431b-b7c7-e4fe355a4a3b",
   "metadata": {},
   "source": [
    "### Mean Imputation"
   ]
  },
  {
   "cell_type": "code",
   "execution_count": null,
   "id": "07969149-ef56-4213-aff3-dab6274ff781",
   "metadata": {},
   "outputs": [],
   "source": [
    "from sklearn.impute import SimpleImputer"
   ]
  },
  {
   "cell_type": "code",
   "execution_count": null,
   "id": "8467c3e4-fe3b-4b24-acfa-e920890862aa",
   "metadata": {},
   "outputs": [],
   "source": [
    "data = {\n",
    "    'Value': [5, 7, np.nan, 10, np.nan, 6]\n",
    "}\n",
    "\n",
    "df = pd.DataFrame(data)\n",
    "df.head(6)"
   ]
  },
  {
   "cell_type": "code",
   "execution_count": null,
   "id": "1b8eede2-3052-4d38-9199-4acdc19a62cd",
   "metadata": {},
   "outputs": [],
   "source": [
    "imputer = SimpleImputer(strategy='mean')\n",
    "\n",
    "df['Transformed_Value'] = imputer.fit_transform(df[['Value']])"
   ]
  },
  {
   "cell_type": "code",
   "execution_count": null,
   "id": "877dc6c8-8c63-4724-81a9-4987cdafde05",
   "metadata": {},
   "outputs": [],
   "source": [
    "df.head()"
   ]
  },
  {
   "cell_type": "markdown",
   "id": "9a16ad8c-e96d-4837-8bdb-899319506c72",
   "metadata": {},
   "source": [
    "### Median Imputation"
   ]
  },
  {
   "cell_type": "code",
   "execution_count": null,
   "id": "eff375ae-1a48-4738-a56d-b92ec5c5a94c",
   "metadata": {},
   "outputs": [],
   "source": [
    "data = {\n",
    "    'Value': [5, 7, np.nan, 10, np.nan, 6]\n",
    "}\n",
    "\n",
    "df = pd.DataFrame(data)\n",
    "df.head(6)\n"
   ]
  },
  {
   "cell_type": "code",
   "execution_count": null,
   "id": "693a989a-3cae-4d5e-b314-6bdad3651bf0",
   "metadata": {},
   "outputs": [],
   "source": [
    "imputer = SimpleImputer(strategy='median')\n",
    "\n",
    "df['Transformed_Value'] = imputer.fit_transform(df[['Value']])"
   ]
  },
  {
   "cell_type": "code",
   "execution_count": null,
   "id": "cc0f0cd0-6e47-4895-88ea-5f08fb7ef488",
   "metadata": {},
   "outputs": [],
   "source": [
    "df.head(6)"
   ]
  },
  {
   "cell_type": "markdown",
   "id": "f9252734-3315-43a8-99d9-3662148f4840",
   "metadata": {},
   "source": [
    "### MODE Imputation"
   ]
  },
  {
   "cell_type": "code",
   "execution_count": null,
   "id": "f1cb14ae-0a68-46ca-a344-dccff32ca3ac",
   "metadata": {},
   "outputs": [],
   "source": [
    "data = {\n",
    "    'X': [5, 7, np.nan, 7, np.nan, 6,7]\n",
    "}\n",
    "\n",
    "df = pd.DataFrame(data)\n",
    "df"
   ]
  },
  {
   "cell_type": "code",
   "execution_count": null,
   "id": "1674f070-4323-437b-a36c-cd0108c52f67",
   "metadata": {},
   "outputs": [],
   "source": [
    "imputer = SimpleImputer(strategy='most_frequent')\n",
    "df['X_transformed'] = imputer.fit_transform(df[['X']])"
   ]
  },
  {
   "cell_type": "code",
   "execution_count": null,
   "id": "dce4b840-e90c-4fc3-93bc-69b7ff074051",
   "metadata": {},
   "outputs": [],
   "source": [
    "df"
   ]
  },
  {
   "cell_type": "markdown",
   "id": "f5d9f096-c553-4569-8c25-8f80bf7180d8",
   "metadata": {},
   "source": [
    "### Custom/Constant value Imputation"
   ]
  },
  {
   "cell_type": "code",
   "execution_count": null,
   "id": "ecdc41aa-2f53-4019-b445-1c074b6093e5",
   "metadata": {},
   "outputs": [],
   "source": [
    "data = {\n",
    "    'X': [5, 7, np.nan, 10, np.nan, 6]\n",
    "}\n",
    "\n",
    "df = pd.DataFrame(data)\n",
    "df"
   ]
  },
  {
   "cell_type": "code",
   "execution_count": null,
   "id": "bb20c993-6bf9-48a3-abf1-3d3200362bf5",
   "metadata": {},
   "outputs": [],
   "source": [
    "imputer = SimpleImputer(strategy='constant', fill_value=2)\n",
    "\n",
    "df['X_transformed'] = imputer.fit_transform(df[['X']])"
   ]
  },
  {
   "cell_type": "code",
   "execution_count": null,
   "id": "3d265459-085b-4491-885d-6783b4e1103d",
   "metadata": {},
   "outputs": [],
   "source": [
    "df"
   ]
  },
  {
   "cell_type": "markdown",
   "id": "32573282-9c16-467e-8c5a-f013bcf1a050",
   "metadata": {},
   "source": [
    "### Forward/Backward Fill Imputation"
   ]
  },
  {
   "cell_type": "code",
   "execution_count": null,
   "id": "fdabcdd7-8a63-4753-85a2-632fc93349fb",
   "metadata": {},
   "outputs": [],
   "source": [
    "### Forward Fill"
   ]
  },
  {
   "cell_type": "code",
   "execution_count": null,
   "id": "b3d7be7b-fa6b-47f5-8221-67a56d21c7fe",
   "metadata": {},
   "outputs": [],
   "source": [
    "data = {\n",
    "    'X': [5, None, 7, None, 10, None]\n",
    "}\n",
    "\n",
    "df = pd.DataFrame(data)\n",
    "df"
   ]
  },
  {
   "cell_type": "code",
   "execution_count": null,
   "id": "5d78e3f5-c192-4517-a40f-51042c1500b5",
   "metadata": {},
   "outputs": [],
   "source": [
    "df[\"Forward_Fill\"] = df[\"X\"].fillna(method='ffill')"
   ]
  },
  {
   "cell_type": "code",
   "execution_count": null,
   "id": "5643cbfe-5259-4ed7-826f-9c99f7584b6f",
   "metadata": {},
   "outputs": [],
   "source": [
    "df"
   ]
  },
  {
   "cell_type": "code",
   "execution_count": null,
   "id": "11317cea-7f56-4756-a753-9202091b85b4",
   "metadata": {},
   "outputs": [],
   "source": [
    "### Backward Fill"
   ]
  },
  {
   "cell_type": "code",
   "execution_count": null,
   "id": "20a130ea-6d61-4f1f-bc05-68716fbb9214",
   "metadata": {},
   "outputs": [],
   "source": [
    "df[\"Backward_Fill\"] = df[\"X\"].fillna(method='bfill')"
   ]
  },
  {
   "cell_type": "code",
   "execution_count": null,
   "id": "5c9a41d0-a577-4a31-bf32-cc6aab819520",
   "metadata": {},
   "outputs": [],
   "source": [
    "df"
   ]
  },
  {
   "cell_type": "markdown",
   "id": "80a91035-aab1-48d5-a2e9-fa00f53a071a",
   "metadata": {},
   "source": [
    "### Interpolation Imputation"
   ]
  },
  {
   "cell_type": "code",
   "execution_count": null,
   "id": "f9ce7434-1757-4094-87a0-cbab2c1f064d",
   "metadata": {},
   "outputs": [],
   "source": [
    "data = {\n",
    "    'X': [5, None, 7, None, 10, None, 15]\n",
    "}\n",
    "\n",
    "df = pd.DataFrame(data)\n",
    "df"
   ]
  },
  {
   "cell_type": "code",
   "execution_count": null,
   "id": "ee8b164d-9b9d-4187-9727-ae80b7317896",
   "metadata": {},
   "outputs": [],
   "source": [
    "df[\"X_transformed\"] = df[\"X\"].interpolate(method='linear')"
   ]
  },
  {
   "cell_type": "code",
   "execution_count": null,
   "id": "3aa11320-b540-4419-94d9-4664f4498ade",
   "metadata": {},
   "outputs": [],
   "source": [
    "df"
   ]
  },
  {
   "cell_type": "markdown",
   "id": "526954f0-eedf-4c1f-9a20-032a23c1915b",
   "metadata": {},
   "source": [
    "### Moving Average Imputation "
   ]
  },
  {
   "cell_type": "code",
   "execution_count": null,
   "id": "9c188c5a-3424-4552-a191-a446f4cc3af7",
   "metadata": {},
   "outputs": [],
   "source": [
    "data = {\n",
    "    'X': [5, 8, np.nan, 12, 15, np.nan, 20, 22, np.nan, 25, 28, 30]\n",
    "}\n",
    "\n",
    "df = pd.DataFrame(data)\n",
    "df"
   ]
  },
  {
   "cell_type": "code",
   "execution_count": null,
   "id": "5482c772-afd8-4f22-a2d9-dd8352ef3eac",
   "metadata": {},
   "outputs": [],
   "source": [
    "df['X_filled'] = df['X'].fillna(df['X'].rolling(window=3, min_periods=1).mean())"
   ]
  },
  {
   "cell_type": "code",
   "execution_count": null,
   "id": "78bc5896-816b-4c52-8684-0c8e3a8f4757",
   "metadata": {},
   "outputs": [],
   "source": [
    "df"
   ]
  },
  {
   "cell_type": "markdown",
   "id": "395b9a0e-3045-4333-9325-70bf1ef8a98a",
   "metadata": {},
   "source": [
    "### End of Distruibition Imputation"
   ]
  },
  {
   "cell_type": "code",
   "execution_count": null,
   "id": "53f4f78c-9754-44d8-b5ef-9b7ef322680d",
   "metadata": {
    "scrolled": true
   },
   "outputs": [],
   "source": [
    "data = {\n",
    "    'X': [10, 15, 20, 25, 30, 35, np.nan, 45, np.nan, 55]\n",
    "}\n",
    "\n",
    "df = pd.DataFrame(data)\n",
    "df"
   ]
  },
  {
   "cell_type": "code",
   "execution_count": null,
   "id": "851ddbb6-e982-4abc-8261-3b5a182a94c9",
   "metadata": {},
   "outputs": [],
   "source": [
    "P_low = df['X'].quantile(0.1)  # 10th percentile\n",
    "P_high = df['X'].quantile(0.9)  # 90th percentile"
   ]
  },
  {
   "cell_type": "code",
   "execution_count": null,
   "id": "dafa010d-4e98-488f-8107-59614927ca50",
   "metadata": {},
   "outputs": [],
   "source": [
    "P_low , P_high"
   ]
  },
  {
   "cell_type": "code",
   "execution_count": null,
   "id": "219fef8a-edf3-4d12-bcf6-1e91dc72b02a",
   "metadata": {},
   "outputs": [],
   "source": [
    "df['X_imputed'] = df['X'].fillna(df['X'].median())\n"
   ]
  },
  {
   "cell_type": "code",
   "execution_count": null,
   "id": "a63f951e-7a6a-4d4c-887d-0e20b82fc342",
   "metadata": {},
   "outputs": [],
   "source": [
    "df"
   ]
  },
  {
   "cell_type": "code",
   "execution_count": null,
   "id": "ec85f458-85dd-45c9-b969-3cf3c02cb23f",
   "metadata": {},
   "outputs": [],
   "source": [
    "df.loc[df['X'] < P_low, 'X_imputed'] = P_low\n",
    "\n",
    "df.loc[df['X'] > P_high, 'X_imputed'] = P_high"
   ]
  },
  {
   "cell_type": "code",
   "execution_count": null,
   "id": "c99645f8-568c-48ae-bb39-1e769f36e049",
   "metadata": {},
   "outputs": [],
   "source": [
    "df"
   ]
  },
  {
   "cell_type": "markdown",
   "id": "170d04e5-3c76-45a2-8983-ce6f10488e61",
   "metadata": {},
   "source": [
    "## Univariate Categorical Imputation"
   ]
  },
  {
   "cell_type": "markdown",
   "id": "223249e9-4e84-4429-bff3-2ebc026e1cbd",
   "metadata": {},
   "source": [
    "### Mode/Frequent Category Imputation"
   ]
  },
  {
   "cell_type": "code",
   "execution_count": null,
   "id": "23a14e26-81a8-43ab-9191-6a63ecb34309",
   "metadata": {},
   "outputs": [],
   "source": [
    "data = {\n",
    "    'X': [\"yes\", \"yes\", np.nan, \"no\", np.nan, \"yes\",\"no\"]\n",
    "}\n",
    "\n",
    "df = pd.DataFrame(data)\n",
    "df"
   ]
  },
  {
   "cell_type": "code",
   "execution_count": null,
   "id": "d1642bb1-a828-43bc-8768-102d9f8d5ca4",
   "metadata": {},
   "outputs": [],
   "source": [
    "mode = df['X'].mode()[0]"
   ]
  },
  {
   "cell_type": "code",
   "execution_count": null,
   "id": "d2f6810e-c2fa-4887-87fd-57e158dcb4e2",
   "metadata": {},
   "outputs": [],
   "source": [
    "mode"
   ]
  },
  {
   "cell_type": "code",
   "execution_count": null,
   "id": "86e9317b-f43e-4167-b02f-58a214ca3d7d",
   "metadata": {},
   "outputs": [],
   "source": [
    "df[\"X_transfromed\"] = df['X'].fillna(mode)"
   ]
  },
  {
   "cell_type": "code",
   "execution_count": null,
   "id": "13f8a32c-115f-4783-a2f0-72f4a205c907",
   "metadata": {},
   "outputs": [],
   "source": [
    "df"
   ]
  },
  {
   "cell_type": "markdown",
   "id": "1d79f41f-18d2-40e6-b83e-58690b4e2b66",
   "metadata": {},
   "source": [
    "### Custom Imputation"
   ]
  },
  {
   "cell_type": "code",
   "execution_count": null,
   "id": "d2b057fe-d873-4ef2-91b1-7e3c1076968b",
   "metadata": {},
   "outputs": [],
   "source": [
    "data = {\n",
    "    'X': [\"yes\", \"yes\", np.nan, \"no\", np.nan, \"yes\",\"no\"]\n",
    "}\n",
    "\n",
    "df = pd.DataFrame(data)\n",
    "df"
   ]
  },
  {
   "cell_type": "code",
   "execution_count": null,
   "id": "ccb2ef7c-90b7-4c85-944a-e4664eb709cc",
   "metadata": {},
   "outputs": [],
   "source": [
    "df[\"X_transformed\"] = df[\"X\"].fillna(\"missing\")"
   ]
  },
  {
   "cell_type": "code",
   "execution_count": null,
   "id": "0bcb0f06-5af3-4b28-be52-c2366f32b511",
   "metadata": {},
   "outputs": [],
   "source": [
    "df"
   ]
  },
  {
   "cell_type": "markdown",
   "id": "cca0b1d9-a042-4572-9031-8525f1879098",
   "metadata": {},
   "source": [
    "### HOT DECK Imputation"
   ]
  },
  {
   "cell_type": "code",
   "execution_count": null,
   "id": "ce1ba69f-fef8-45cc-894d-d635aab940ab",
   "metadata": {},
   "outputs": [],
   "source": [
    "data = {\n",
    "    'Fruit': ['Apple', 'Banana', 'Apple', 'Orange', 'Banana', np.nan, 'Orange', 'Apple', np.nan, 'Banana']\n",
    "}\n",
    "\n",
    "df = pd.DataFrame(data)\n",
    "df"
   ]
  },
  {
   "cell_type": "code",
   "execution_count": null,
   "id": "d8135ff0-a473-49ec-8b13-24fddec82483",
   "metadata": {},
   "outputs": [],
   "source": [
    "missing_indices = df[df['Fruit'].isna()].index"
   ]
  },
  {
   "cell_type": "code",
   "execution_count": null,
   "id": "e59c7391-2a12-4e82-9050-d2d428803899",
   "metadata": {},
   "outputs": [],
   "source": [
    "missing_indices"
   ]
  },
  {
   "cell_type": "code",
   "execution_count": null,
   "id": "fa853cf9-2640-4f23-83ca-61e43368bba7",
   "metadata": {},
   "outputs": [],
   "source": [
    "non_missing_values = df['Fruit'].dropna().values"
   ]
  },
  {
   "cell_type": "code",
   "execution_count": null,
   "id": "9d76a56a-0637-4012-bc90-e36fb437868a",
   "metadata": {},
   "outputs": [],
   "source": [
    "non_missing_values"
   ]
  },
  {
   "cell_type": "code",
   "execution_count": null,
   "id": "58301f64-d3c2-4e42-9ad4-2a80cc77972c",
   "metadata": {},
   "outputs": [],
   "source": [
    "len(missing_indices)"
   ]
  },
  {
   "cell_type": "code",
   "execution_count": null,
   "id": "2d8b2318-dd1c-45ad-a340-1779ce8ad242",
   "metadata": {},
   "outputs": [],
   "source": [
    "np.random.seed(42)\n",
    "\n",
    "imputed_values = np.random.choice(non_missing_values, size=len(missing_indices))"
   ]
  },
  {
   "cell_type": "code",
   "execution_count": null,
   "id": "dfd2aa94-a3a4-4379-8844-f0ff6133ecdc",
   "metadata": {},
   "outputs": [],
   "source": [
    "imputed_values"
   ]
  },
  {
   "cell_type": "code",
   "execution_count": null,
   "id": "c001f3a4-c648-4803-9a7a-efcae750b64a",
   "metadata": {},
   "outputs": [],
   "source": [
    "df.loc[missing_indices, 'Fruit'] = imputed_values"
   ]
  },
  {
   "cell_type": "code",
   "execution_count": null,
   "id": "d882ec91-c8c2-4425-9d11-347eb78b3087",
   "metadata": {},
   "outputs": [],
   "source": [
    "df"
   ]
  },
  {
   "cell_type": "markdown",
   "id": "4e71c1e4-72cd-4fc7-b2fd-ca985eea5a1a",
   "metadata": {},
   "source": [
    "### Proxy Variable Imputation"
   ]
  },
  {
   "cell_type": "code",
   "execution_count": null,
   "id": "40f5f320-e315-4482-9508-541c780da5ae",
   "metadata": {},
   "outputs": [],
   "source": [
    "data = {\n",
    "    'Fruit': ['Apple', 'Banana', 'Apple', 'Orange', 'Banana', np.nan, 'Orange', 'Apple', np.nan, 'Banana'],\n",
    "    'Color': ['Red', 'Yellow', 'Red', 'Orange', 'Yellow', 'Red', 'Orange', 'Red', 'Yellow', 'Yellow']\n",
    "}\n",
    "\n",
    "df = pd.DataFrame(data)\n",
    "df"
   ]
  },
  {
   "cell_type": "code",
   "execution_count": null,
   "id": "1ec40196-37ce-45ba-99fc-8d589fb7f388",
   "metadata": {},
   "outputs": [],
   "source": [
    "missing_indices = df[df['Fruit'].isna()].index"
   ]
  },
  {
   "cell_type": "code",
   "execution_count": null,
   "id": "b39dae03-e6b2-46c7-a5c6-9d27121e15e0",
   "metadata": {},
   "outputs": [],
   "source": [
    "missing_indices "
   ]
  },
  {
   "cell_type": "code",
   "execution_count": null,
   "id": "7a099c48-f1c5-4dfd-8e7b-e39a08cd67de",
   "metadata": {},
   "outputs": [],
   "source": [
    "# Calculate mode of Fruit for each Color category\n",
    "fruit_mode_by_color = df.groupby('Color')['Fruit'].agg(lambda x: x.mode().iloc[0])"
   ]
  },
  {
   "cell_type": "code",
   "execution_count": null,
   "id": "a474b044-7ba6-4fdd-92f1-76b371aca1bc",
   "metadata": {},
   "outputs": [],
   "source": [
    "fruit_mode_by_color"
   ]
  },
  {
   "cell_type": "code",
   "execution_count": null,
   "id": "e8242124-e1df-4c2e-91f2-89a51c0989bd",
   "metadata": {},
   "outputs": [],
   "source": [
    "# Impute missing values using the proxy variable\n",
    "for idx in missing_indices: ##[5,8]\n",
    "    color_value = df.loc[idx, 'Color']\n",
    "    # print(color_value)\n",
    "    \n",
    "    imputed_fruit = fruit_mode_by_color[color_value]\n",
    "\n",
    "    # print(imputed_fruit)\n",
    "    \n",
    "    df.loc[idx, 'Fruit'] = imputed_fruit"
   ]
  },
  {
   "cell_type": "code",
   "execution_count": null,
   "id": "b87431d6-c78f-4aa3-8058-37616d53fca2",
   "metadata": {},
   "outputs": [],
   "source": [
    "df"
   ]
  },
  {
   "cell_type": "markdown",
   "id": "bbc92bf2-eece-4179-9ef4-1432c51f9516",
   "metadata": {},
   "source": [
    "## Multivariate Imputation"
   ]
  },
  {
   "cell_type": "markdown",
   "id": "2853cb9f-288c-451f-bcd2-d537503ad190",
   "metadata": {},
   "source": [
    "### MICE "
   ]
  },
  {
   "cell_type": "code",
   "execution_count": null,
   "id": "9d43fa88-ddaf-4e01-b428-4f1c891ce6d3",
   "metadata": {},
   "outputs": [],
   "source": [
    "!pip scikit-learn fancyimpute"
   ]
  },
  {
   "cell_type": "code",
   "execution_count": 1,
   "id": "e740cf60-9d85-45dc-9f70-cd9ff634a4ce",
   "metadata": {},
   "outputs": [],
   "source": [
    "import pandas as pd\n",
    "import numpy as np\n",
    "from fancyimpute import IterativeImputer"
   ]
  },
  {
   "cell_type": "code",
   "execution_count": null,
   "id": "884fa8c2-18af-4fe6-922f-22059a908580",
   "metadata": {},
   "outputs": [],
   "source": [
    "data = {\n",
    "    'A': [1, 2, np.nan, 4, 5],\n",
    "    'B': [3, np.nan, 5, np.nan, 7],\n",
    "    'C': [np.nan, 2, 3, 4, np.nan],\n",
    "    'D': [1, np.nan, 3, np.nan, 5]\n",
    "}\n",
    "\n",
    "df = pd.DataFrame(data)\n",
    "df"
   ]
  },
  {
   "cell_type": "code",
   "execution_count": null,
   "id": "d526d11f-2dca-4f74-9d69-a7a5ab3882e7",
   "metadata": {},
   "outputs": [],
   "source": [
    "mice_imputer = IterativeImputer()"
   ]
  },
  {
   "cell_type": "code",
   "execution_count": null,
   "id": "d4f07d99-0338-4ccf-8082-7eb34045b15f",
   "metadata": {},
   "outputs": [],
   "source": [
    "imputed_data = mice_imputer.fit_transform(df)"
   ]
  },
  {
   "cell_type": "code",
   "execution_count": null,
   "id": "a5341ffc-e9aa-49d3-8251-643c0d49a5b5",
   "metadata": {},
   "outputs": [],
   "source": [
    "imputed_data"
   ]
  },
  {
   "cell_type": "code",
   "execution_count": null,
   "id": "bea728c4-82e2-45b8-b723-01f556508c01",
   "metadata": {},
   "outputs": [],
   "source": [
    "df_imputed = pd.DataFrame(imputed_data, columns=df.columns)\n",
    "df_imputed"
   ]
  },
  {
   "cell_type": "markdown",
   "id": "62c352a7-4e43-4991-9319-4436804feca7",
   "metadata": {},
   "source": [
    "### KNN Imputation"
   ]
  },
  {
   "cell_type": "code",
   "execution_count": null,
   "id": "f4a18b8f-c066-46da-a196-bfe5eba6fb89",
   "metadata": {},
   "outputs": [],
   "source": [
    "from fancyimpute import KNN"
   ]
  },
  {
   "cell_type": "code",
   "execution_count": null,
   "id": "d7ff2b1b-de64-420a-9946-fa3c8cb83276",
   "metadata": {},
   "outputs": [],
   "source": [
    "data = {\n",
    "    'A': [1, 2, np.nan, 4, 5],\n",
    "    'B': [3, np.nan, 5, np.nan, 7],\n",
    "    'C': [np.nan, 2, 3, 4, np.nan],\n",
    "    'D': [1, np.nan, 3, np.nan, 5]\n",
    "}\n",
    "\n",
    "df = pd.DataFrame(data)\n",
    "df"
   ]
  },
  {
   "cell_type": "code",
   "execution_count": null,
   "id": "c7de169d-e20e-4413-a780-cedff2a59e57",
   "metadata": {},
   "outputs": [],
   "source": [
    "knn_imputer = KNN()"
   ]
  },
  {
   "cell_type": "code",
   "execution_count": null,
   "id": "9bb2387e-9bef-4200-874c-4eeda23e1d7a",
   "metadata": {},
   "outputs": [],
   "source": [
    "imputed_data = knn_imputer.fit_transform(df)"
   ]
  },
  {
   "cell_type": "code",
   "execution_count": null,
   "id": "00d1cf35-5fb4-483b-90e9-e6276c575cb7",
   "metadata": {},
   "outputs": [],
   "source": [
    "imputed_data"
   ]
  },
  {
   "cell_type": "code",
   "execution_count": null,
   "id": "fd1bd98b-8510-4d91-a709-2a9aae83170f",
   "metadata": {},
   "outputs": [],
   "source": [
    "df_imputed = pd.DataFrame(imputed_data, columns=df.columns)\n",
    "df_imputed"
   ]
  },
  {
   "cell_type": "code",
   "execution_count": null,
   "id": "f407357d-4433-45f7-8598-3b0f49c646eb",
   "metadata": {},
   "outputs": [],
   "source": [
    "### USING SCIKIT_LEARN\n",
    "\n",
    "from sklearn.impute import KNNImputer\n",
    "\n",
    "# Initialize the KNN imputer with the desired number of neighbors (k)\n",
    "knn_imputer = KNNImputer(n_neighbors=3)\n",
    "\n",
    "# Fit the imputer on the dataset and transform it to fill in missing values\n",
    "df_imputed = knn_imputer.fit_transform(df)\n",
    "\n",
    "# Convert the imputed data back to a DataFrame\n",
    "df_imputed = pd.DataFrame(df_imputed, columns=df.columns)\n"
   ]
  },
  {
   "cell_type": "markdown",
   "id": "8b70e857-3646-4062-a891-ef2d8842f609",
   "metadata": {},
   "source": [
    "### Regression Imputation"
   ]
  },
  {
   "cell_type": "code",
   "execution_count": null,
   "id": "d2b0294d-9e77-4762-8e49-ecc67cb6a86f",
   "metadata": {},
   "outputs": [],
   "source": [
    "data = {\n",
    "    'A': [1, 2, np.nan, 4, 5],\n",
    "    'B': [3, np.nan, 5, np.nan, 7],\n",
    "    'C': [np.nan, 2, 3, 4, np.nan],\n",
    "    'D': [1, np.nan, 3, np.nan, 5]\n",
    "}\n",
    "\n",
    "df = pd.DataFrame(data)\n",
    "df"
   ]
  },
  {
   "cell_type": "code",
   "execution_count": null,
   "id": "cdefdb03-d5e7-4a68-b11d-a41273b782ed",
   "metadata": {},
   "outputs": [],
   "source": [
    "from sklearn.linear_model import LinearRegression\n",
    "from sklearn.impute import SimpleImputer "
   ]
  },
  {
   "cell_type": "code",
   "execution_count": null,
   "id": "cc5cde1c-3e3e-4e5f-a652-123f39d05c6a",
   "metadata": {},
   "outputs": [],
   "source": [
    "def regression_imputation(df, target_column):\n",
    "    # Separate the columns into those with and without missing values in the target column\n",
    "    train_df = df[df[target_column].notna()]\n",
    "    test_df = df[df[target_column].isna()]\n",
    "    \n",
    "    # Separate predictors and target for training data\n",
    "    X_train = train_df.drop(columns=[target_column])\n",
    "    y_train = train_df[target_column]\n",
    "    \n",
    "    # Separate predictors for testing data (ensure no NaNs)\n",
    "    X_test = test_df.drop(columns=[target_column])\n",
    "    \n",
    "    # Handle missing values in X_train and X_test separately (if any)\n",
    "    imputer = SimpleImputer(strategy='mean')  # Replace NaNs with mean (or any desired strategy)\n",
    "    X_train_imputed = imputer.fit_transform(X_train)\n",
    "    X_test_imputed = imputer.transform(X_test)  # Use fitted imputer from training data\n",
    "    \n",
    "    # Fit a regression model\n",
    "    model = LinearRegression()\n",
    "    model.fit(X_train_imputed, y_train)\n",
    "    \n",
    "    # Predict the missing values\n",
    "    predicted_values = model.predict(X_test_imputed)\n",
    "    \n",
    "    # Impute the missing values in original DataFrame\n",
    "    df.loc[df[target_column].isna(), target_column] = predicted_values\n",
    "    \n",
    "    return df"
   ]
  },
  {
   "cell_type": "code",
   "execution_count": null,
   "id": "2f417127-fa9d-4aeb-954b-64212e9fb905",
   "metadata": {},
   "outputs": [],
   "source": [
    "for column in df.columns:\n",
    "    df = regression_imputation(df, column)"
   ]
  },
  {
   "cell_type": "code",
   "execution_count": null,
   "id": "aae9d287-b6f8-4806-993e-4126037bc62b",
   "metadata": {},
   "outputs": [],
   "source": [
    "df"
   ]
  },
  {
   "cell_type": "markdown",
   "id": "da2bcbc2-daeb-4b2c-9bc2-3c1ca329a8f9",
   "metadata": {},
   "source": [
    "### Random Forest Imputation"
   ]
  },
  {
   "cell_type": "code",
   "execution_count": null,
   "id": "bb48a590-dd7f-4987-b3e1-4d0553ed6ea8",
   "metadata": {},
   "outputs": [],
   "source": [
    "data = {\n",
    "    'A': [1, 2, np.nan, 4, 5],\n",
    "    'B': [3, np.nan, 5, np.nan, 7],\n",
    "    'C': [np.nan, 2, 3, 4, np.nan],\n",
    "    'D': [1, np.nan, 3, np.nan, 5]\n",
    "}\n",
    "\n",
    "df = pd.DataFrame(data)\n",
    "df"
   ]
  },
  {
   "cell_type": "code",
   "execution_count": null,
   "id": "9fa2c456-9c67-4ff2-86b7-0009eed0d4b7",
   "metadata": {},
   "outputs": [],
   "source": [
    "from sklearn.ensemble import RandomForestRegressor\n",
    "\n",
    "def random_forest_imputation(df, target_column):\n",
    "    # Separate the columns into those with and without missing values in the target column\n",
    "    train_df = df[df[target_column].notna()]\n",
    "    test_df = df[df[target_column].isna()]\n",
    "    \n",
    "    # Separate predictors and target for training data\n",
    "    X_train = train_df.drop(columns=[target_column])\n",
    "    y_train = train_df[target_column]\n",
    "    \n",
    "    # Separate predictors for testing data (ensure no NaNs)\n",
    "    X_test = test_df.drop(columns=[target_column])\n",
    "    \n",
    "    # Handle missing values in X_train and X_test separately (if any)\n",
    "    imputer = SimpleImputer(strategy='mean')  # Replace NaNs with mean (or any desired strategy)\n",
    "    X_train_imputed = imputer.fit_transform(X_train)\n",
    "    X_test_imputed = imputer.transform(X_test)  # Use fitted imputer from training data\n",
    "    \n",
    "    # Fit a regression model\n",
    "    model = RandomForestRegressor()\n",
    "    model.fit(X_train_imputed, y_train)\n",
    "    \n",
    "    # Predict the missing values\n",
    "    predicted_values = model.predict(X_test_imputed)\n",
    "    \n",
    "    # Impute the missing values in original DataFrame\n",
    "    df.loc[df[target_column].isna(), target_column] = predicted_values\n",
    "    \n",
    "    return df"
   ]
  },
  {
   "cell_type": "code",
   "execution_count": null,
   "id": "4dbfc6b0-525c-4853-8efb-19da8931629e",
   "metadata": {},
   "outputs": [],
   "source": [
    "for column in df.columns:\n",
    "    df = random_forest_imputation(df, column)"
   ]
  },
  {
   "cell_type": "code",
   "execution_count": null,
   "id": "15ee392c-b189-4aec-910c-f7498d256d3d",
   "metadata": {},
   "outputs": [],
   "source": [
    "df"
   ]
  },
  {
   "cell_type": "markdown",
   "id": "646914a3-0569-4751-8c18-63f27339d31c",
   "metadata": {},
   "source": [
    "## MISSING INDICATORS"
   ]
  },
  {
   "cell_type": "code",
   "execution_count": 2,
   "id": "b04be1bc-f0d8-45f5-830d-74bf4d982576",
   "metadata": {},
   "outputs": [
    {
     "data": {
      "text/html": [
       "<div>\n",
       "<style scoped>\n",
       "    .dataframe tbody tr th:only-of-type {\n",
       "        vertical-align: middle;\n",
       "    }\n",
       "\n",
       "    .dataframe tbody tr th {\n",
       "        vertical-align: top;\n",
       "    }\n",
       "\n",
       "    .dataframe thead th {\n",
       "        text-align: right;\n",
       "    }\n",
       "</style>\n",
       "<table border=\"1\" class=\"dataframe\">\n",
       "  <thead>\n",
       "    <tr style=\"text-align: right;\">\n",
       "      <th></th>\n",
       "      <th>A</th>\n",
       "      <th>B</th>\n",
       "      <th>C</th>\n",
       "      <th>D</th>\n",
       "    </tr>\n",
       "  </thead>\n",
       "  <tbody>\n",
       "    <tr>\n",
       "      <th>0</th>\n",
       "      <td>1.0</td>\n",
       "      <td>3.0</td>\n",
       "      <td>NaN</td>\n",
       "      <td>1.0</td>\n",
       "    </tr>\n",
       "    <tr>\n",
       "      <th>1</th>\n",
       "      <td>2.0</td>\n",
       "      <td>NaN</td>\n",
       "      <td>2.0</td>\n",
       "      <td>NaN</td>\n",
       "    </tr>\n",
       "    <tr>\n",
       "      <th>2</th>\n",
       "      <td>NaN</td>\n",
       "      <td>5.0</td>\n",
       "      <td>3.0</td>\n",
       "      <td>3.0</td>\n",
       "    </tr>\n",
       "    <tr>\n",
       "      <th>3</th>\n",
       "      <td>4.0</td>\n",
       "      <td>NaN</td>\n",
       "      <td>4.0</td>\n",
       "      <td>NaN</td>\n",
       "    </tr>\n",
       "    <tr>\n",
       "      <th>4</th>\n",
       "      <td>5.0</td>\n",
       "      <td>7.0</td>\n",
       "      <td>NaN</td>\n",
       "      <td>5.0</td>\n",
       "    </tr>\n",
       "  </tbody>\n",
       "</table>\n",
       "</div>"
      ],
      "text/plain": [
       "     A    B    C    D\n",
       "0  1.0  3.0  NaN  1.0\n",
       "1  2.0  NaN  2.0  NaN\n",
       "2  NaN  5.0  3.0  3.0\n",
       "3  4.0  NaN  4.0  NaN\n",
       "4  5.0  7.0  NaN  5.0"
      ]
     },
     "execution_count": 2,
     "metadata": {},
     "output_type": "execute_result"
    }
   ],
   "source": [
    "data = {\n",
    "    'A': [1, 2, np.nan, 4, 5],\n",
    "    'B': [3, np.nan, 5, np.nan, 7],\n",
    "    'C': [np.nan, 2, 3, 4, np.nan],\n",
    "    'D': [1, np.nan, 3, np.nan, 5]\n",
    "}\n",
    "\n",
    "df = pd.DataFrame(data)\n",
    "df"
   ]
  },
  {
   "cell_type": "code",
   "execution_count": 3,
   "id": "e73297e2-1a37-49ea-a3b9-373395528d9c",
   "metadata": {},
   "outputs": [],
   "source": [
    "from sklearn.impute import SimpleImputer, MissingIndicator"
   ]
  },
  {
   "cell_type": "code",
   "execution_count": 4,
   "id": "f583557b-231a-4597-93fd-d648c5cadb55",
   "metadata": {},
   "outputs": [],
   "source": [
    "indicator = MissingIndicator()\n",
    "missing_indicators = indicator.fit_transform(df)"
   ]
  },
  {
   "cell_type": "code",
   "execution_count": 5,
   "id": "b3ef9d81-f901-4868-a753-8ae93379cf80",
   "metadata": {},
   "outputs": [
    {
     "data": {
      "text/plain": [
       "array([[False, False,  True, False],\n",
       "       [False,  True, False,  True],\n",
       "       [ True, False, False, False],\n",
       "       [False,  True, False,  True],\n",
       "       [False, False,  True, False]])"
      ]
     },
     "execution_count": 5,
     "metadata": {},
     "output_type": "execute_result"
    }
   ],
   "source": [
    "missing_indicators"
   ]
  },
  {
   "cell_type": "code",
   "execution_count": 6,
   "id": "20a25d5b-46e9-4b41-a82a-0f3351146dec",
   "metadata": {},
   "outputs": [],
   "source": [
    "missing_indicator_df = pd.DataFrame(missing_indicators, columns=[f'{col}_missing' for col in df.columns])"
   ]
  },
  {
   "cell_type": "code",
   "execution_count": 7,
   "id": "121f58e0-25fd-40b5-8ee2-2af3325aa31a",
   "metadata": {},
   "outputs": [
    {
     "data": {
      "text/html": [
       "<div>\n",
       "<style scoped>\n",
       "    .dataframe tbody tr th:only-of-type {\n",
       "        vertical-align: middle;\n",
       "    }\n",
       "\n",
       "    .dataframe tbody tr th {\n",
       "        vertical-align: top;\n",
       "    }\n",
       "\n",
       "    .dataframe thead th {\n",
       "        text-align: right;\n",
       "    }\n",
       "</style>\n",
       "<table border=\"1\" class=\"dataframe\">\n",
       "  <thead>\n",
       "    <tr style=\"text-align: right;\">\n",
       "      <th></th>\n",
       "      <th>A_missing</th>\n",
       "      <th>B_missing</th>\n",
       "      <th>C_missing</th>\n",
       "      <th>D_missing</th>\n",
       "    </tr>\n",
       "  </thead>\n",
       "  <tbody>\n",
       "    <tr>\n",
       "      <th>0</th>\n",
       "      <td>False</td>\n",
       "      <td>False</td>\n",
       "      <td>True</td>\n",
       "      <td>False</td>\n",
       "    </tr>\n",
       "    <tr>\n",
       "      <th>1</th>\n",
       "      <td>False</td>\n",
       "      <td>True</td>\n",
       "      <td>False</td>\n",
       "      <td>True</td>\n",
       "    </tr>\n",
       "    <tr>\n",
       "      <th>2</th>\n",
       "      <td>True</td>\n",
       "      <td>False</td>\n",
       "      <td>False</td>\n",
       "      <td>False</td>\n",
       "    </tr>\n",
       "    <tr>\n",
       "      <th>3</th>\n",
       "      <td>False</td>\n",
       "      <td>True</td>\n",
       "      <td>False</td>\n",
       "      <td>True</td>\n",
       "    </tr>\n",
       "    <tr>\n",
       "      <th>4</th>\n",
       "      <td>False</td>\n",
       "      <td>False</td>\n",
       "      <td>True</td>\n",
       "      <td>False</td>\n",
       "    </tr>\n",
       "  </tbody>\n",
       "</table>\n",
       "</div>"
      ],
      "text/plain": [
       "   A_missing  B_missing  C_missing  D_missing\n",
       "0      False      False       True      False\n",
       "1      False       True      False       True\n",
       "2       True      False      False      False\n",
       "3      False       True      False       True\n",
       "4      False      False       True      False"
      ]
     },
     "execution_count": 7,
     "metadata": {},
     "output_type": "execute_result"
    }
   ],
   "source": [
    "missing_indicator_df"
   ]
  },
  {
   "cell_type": "code",
   "execution_count": 8,
   "id": "dd5ad465-2a66-4ae8-a233-1891f3b2e768",
   "metadata": {},
   "outputs": [],
   "source": [
    "missing_indicator_df = missing_indicator_df.astype(int)"
   ]
  },
  {
   "cell_type": "code",
   "execution_count": 9,
   "id": "74e3ef2b-e82d-4671-87dc-56eae9974bd8",
   "metadata": {},
   "outputs": [
    {
     "data": {
      "text/html": [
       "<div>\n",
       "<style scoped>\n",
       "    .dataframe tbody tr th:only-of-type {\n",
       "        vertical-align: middle;\n",
       "    }\n",
       "\n",
       "    .dataframe tbody tr th {\n",
       "        vertical-align: top;\n",
       "    }\n",
       "\n",
       "    .dataframe thead th {\n",
       "        text-align: right;\n",
       "    }\n",
       "</style>\n",
       "<table border=\"1\" class=\"dataframe\">\n",
       "  <thead>\n",
       "    <tr style=\"text-align: right;\">\n",
       "      <th></th>\n",
       "      <th>A_missing</th>\n",
       "      <th>B_missing</th>\n",
       "      <th>C_missing</th>\n",
       "      <th>D_missing</th>\n",
       "    </tr>\n",
       "  </thead>\n",
       "  <tbody>\n",
       "    <tr>\n",
       "      <th>0</th>\n",
       "      <td>0</td>\n",
       "      <td>0</td>\n",
       "      <td>1</td>\n",
       "      <td>0</td>\n",
       "    </tr>\n",
       "    <tr>\n",
       "      <th>1</th>\n",
       "      <td>0</td>\n",
       "      <td>1</td>\n",
       "      <td>0</td>\n",
       "      <td>1</td>\n",
       "    </tr>\n",
       "    <tr>\n",
       "      <th>2</th>\n",
       "      <td>1</td>\n",
       "      <td>0</td>\n",
       "      <td>0</td>\n",
       "      <td>0</td>\n",
       "    </tr>\n",
       "    <tr>\n",
       "      <th>3</th>\n",
       "      <td>0</td>\n",
       "      <td>1</td>\n",
       "      <td>0</td>\n",
       "      <td>1</td>\n",
       "    </tr>\n",
       "    <tr>\n",
       "      <th>4</th>\n",
       "      <td>0</td>\n",
       "      <td>0</td>\n",
       "      <td>1</td>\n",
       "      <td>0</td>\n",
       "    </tr>\n",
       "  </tbody>\n",
       "</table>\n",
       "</div>"
      ],
      "text/plain": [
       "   A_missing  B_missing  C_missing  D_missing\n",
       "0          0          0          1          0\n",
       "1          0          1          0          1\n",
       "2          1          0          0          0\n",
       "3          0          1          0          1\n",
       "4          0          0          1          0"
      ]
     },
     "execution_count": 9,
     "metadata": {},
     "output_type": "execute_result"
    }
   ],
   "source": [
    "missing_indicator_df"
   ]
  },
  {
   "cell_type": "code",
   "execution_count": 11,
   "id": "9bf029f9-7463-4e0d-a776-836ad7dbc82c",
   "metadata": {},
   "outputs": [],
   "source": [
    "imputer = SimpleImputer(strategy='mean')\n",
    "imputed_data = imputer.fit_transform(df)"
   ]
  },
  {
   "cell_type": "code",
   "execution_count": 12,
   "id": "80fde154-f900-4c67-96e4-5f47c9cd59ae",
   "metadata": {},
   "outputs": [],
   "source": [
    "df_imputed = pd.DataFrame(imputed_data, columns=df.columns)"
   ]
  },
  {
   "cell_type": "code",
   "execution_count": 13,
   "id": "cabb92de-d375-4035-adf4-d5190e840d0b",
   "metadata": {},
   "outputs": [
    {
     "data": {
      "text/html": [
       "<div>\n",
       "<style scoped>\n",
       "    .dataframe tbody tr th:only-of-type {\n",
       "        vertical-align: middle;\n",
       "    }\n",
       "\n",
       "    .dataframe tbody tr th {\n",
       "        vertical-align: top;\n",
       "    }\n",
       "\n",
       "    .dataframe thead th {\n",
       "        text-align: right;\n",
       "    }\n",
       "</style>\n",
       "<table border=\"1\" class=\"dataframe\">\n",
       "  <thead>\n",
       "    <tr style=\"text-align: right;\">\n",
       "      <th></th>\n",
       "      <th>A</th>\n",
       "      <th>B</th>\n",
       "      <th>C</th>\n",
       "      <th>D</th>\n",
       "    </tr>\n",
       "  </thead>\n",
       "  <tbody>\n",
       "    <tr>\n",
       "      <th>0</th>\n",
       "      <td>1.0</td>\n",
       "      <td>3.0</td>\n",
       "      <td>3.0</td>\n",
       "      <td>1.0</td>\n",
       "    </tr>\n",
       "    <tr>\n",
       "      <th>1</th>\n",
       "      <td>2.0</td>\n",
       "      <td>5.0</td>\n",
       "      <td>2.0</td>\n",
       "      <td>3.0</td>\n",
       "    </tr>\n",
       "    <tr>\n",
       "      <th>2</th>\n",
       "      <td>3.0</td>\n",
       "      <td>5.0</td>\n",
       "      <td>3.0</td>\n",
       "      <td>3.0</td>\n",
       "    </tr>\n",
       "    <tr>\n",
       "      <th>3</th>\n",
       "      <td>4.0</td>\n",
       "      <td>5.0</td>\n",
       "      <td>4.0</td>\n",
       "      <td>3.0</td>\n",
       "    </tr>\n",
       "    <tr>\n",
       "      <th>4</th>\n",
       "      <td>5.0</td>\n",
       "      <td>7.0</td>\n",
       "      <td>3.0</td>\n",
       "      <td>5.0</td>\n",
       "    </tr>\n",
       "  </tbody>\n",
       "</table>\n",
       "</div>"
      ],
      "text/plain": [
       "     A    B    C    D\n",
       "0  1.0  3.0  3.0  1.0\n",
       "1  2.0  5.0  2.0  3.0\n",
       "2  3.0  5.0  3.0  3.0\n",
       "3  4.0  5.0  4.0  3.0\n",
       "4  5.0  7.0  3.0  5.0"
      ]
     },
     "execution_count": 13,
     "metadata": {},
     "output_type": "execute_result"
    }
   ],
   "source": [
    "df_imputed"
   ]
  },
  {
   "cell_type": "code",
   "execution_count": 14,
   "id": "bfded81e-0444-498f-a6df-5c9e3951bf60",
   "metadata": {},
   "outputs": [],
   "source": [
    "df_final = pd.concat([df_imputed, missing_indicator_df], axis=1)"
   ]
  },
  {
   "cell_type": "code",
   "execution_count": 15,
   "id": "8b7ad31c-2c02-455e-b6ba-a99aef5a8c14",
   "metadata": {},
   "outputs": [
    {
     "data": {
      "text/html": [
       "<div>\n",
       "<style scoped>\n",
       "    .dataframe tbody tr th:only-of-type {\n",
       "        vertical-align: middle;\n",
       "    }\n",
       "\n",
       "    .dataframe tbody tr th {\n",
       "        vertical-align: top;\n",
       "    }\n",
       "\n",
       "    .dataframe thead th {\n",
       "        text-align: right;\n",
       "    }\n",
       "</style>\n",
       "<table border=\"1\" class=\"dataframe\">\n",
       "  <thead>\n",
       "    <tr style=\"text-align: right;\">\n",
       "      <th></th>\n",
       "      <th>A</th>\n",
       "      <th>B</th>\n",
       "      <th>C</th>\n",
       "      <th>D</th>\n",
       "      <th>A_missing</th>\n",
       "      <th>B_missing</th>\n",
       "      <th>C_missing</th>\n",
       "      <th>D_missing</th>\n",
       "    </tr>\n",
       "  </thead>\n",
       "  <tbody>\n",
       "    <tr>\n",
       "      <th>0</th>\n",
       "      <td>1.0</td>\n",
       "      <td>3.0</td>\n",
       "      <td>3.0</td>\n",
       "      <td>1.0</td>\n",
       "      <td>0</td>\n",
       "      <td>0</td>\n",
       "      <td>1</td>\n",
       "      <td>0</td>\n",
       "    </tr>\n",
       "    <tr>\n",
       "      <th>1</th>\n",
       "      <td>2.0</td>\n",
       "      <td>5.0</td>\n",
       "      <td>2.0</td>\n",
       "      <td>3.0</td>\n",
       "      <td>0</td>\n",
       "      <td>1</td>\n",
       "      <td>0</td>\n",
       "      <td>1</td>\n",
       "    </tr>\n",
       "    <tr>\n",
       "      <th>2</th>\n",
       "      <td>3.0</td>\n",
       "      <td>5.0</td>\n",
       "      <td>3.0</td>\n",
       "      <td>3.0</td>\n",
       "      <td>1</td>\n",
       "      <td>0</td>\n",
       "      <td>0</td>\n",
       "      <td>0</td>\n",
       "    </tr>\n",
       "    <tr>\n",
       "      <th>3</th>\n",
       "      <td>4.0</td>\n",
       "      <td>5.0</td>\n",
       "      <td>4.0</td>\n",
       "      <td>3.0</td>\n",
       "      <td>0</td>\n",
       "      <td>1</td>\n",
       "      <td>0</td>\n",
       "      <td>1</td>\n",
       "    </tr>\n",
       "    <tr>\n",
       "      <th>4</th>\n",
       "      <td>5.0</td>\n",
       "      <td>7.0</td>\n",
       "      <td>3.0</td>\n",
       "      <td>5.0</td>\n",
       "      <td>0</td>\n",
       "      <td>0</td>\n",
       "      <td>1</td>\n",
       "      <td>0</td>\n",
       "    </tr>\n",
       "  </tbody>\n",
       "</table>\n",
       "</div>"
      ],
      "text/plain": [
       "     A    B    C    D  A_missing  B_missing  C_missing  D_missing\n",
       "0  1.0  3.0  3.0  1.0          0          0          1          0\n",
       "1  2.0  5.0  2.0  3.0          0          1          0          1\n",
       "2  3.0  5.0  3.0  3.0          1          0          0          0\n",
       "3  4.0  5.0  4.0  3.0          0          1          0          1\n",
       "4  5.0  7.0  3.0  5.0          0          0          1          0"
      ]
     },
     "execution_count": 15,
     "metadata": {},
     "output_type": "execute_result"
    }
   ],
   "source": [
    "df_final"
   ]
  },
  {
   "cell_type": "code",
   "execution_count": null,
   "id": "29ca43ca-63d7-4a34-b2d6-caf93ad3661b",
   "metadata": {},
   "outputs": [],
   "source": []
  }
 ],
 "metadata": {
  "kernelspec": {
   "display_name": "Python 3 (ipykernel)",
   "language": "python",
   "name": "python3"
  },
  "language_info": {
   "codemirror_mode": {
    "name": "ipython",
    "version": 3
   },
   "file_extension": ".py",
   "mimetype": "text/x-python",
   "name": "python",
   "nbconvert_exporter": "python",
   "pygments_lexer": "ipython3",
   "version": "3.11.7"
  }
 },
 "nbformat": 4,
 "nbformat_minor": 5
}
