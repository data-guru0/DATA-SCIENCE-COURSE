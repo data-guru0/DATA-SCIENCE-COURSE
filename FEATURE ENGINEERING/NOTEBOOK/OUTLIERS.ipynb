{
 "cells": [
  {
   "cell_type": "markdown",
   "id": "850e964c-7b77-46ba-b455-25ad1e7b44e4",
   "metadata": {},
   "source": [
    "### Z-SCORE METHOD"
   ]
  },
  {
   "cell_type": "code",
   "execution_count": 1,
   "id": "b3c40c79-44f5-450c-8afc-8997bdc159ac",
   "metadata": {},
   "outputs": [],
   "source": [
    "import numpy as np\n",
    "import pandas as pd\n",
    "import matplotlib.pyplot as plt\n",
    "import seaborn as sns"
   ]
  },
  {
   "cell_type": "code",
   "execution_count": null,
   "id": "f4d7e5ec-6544-4921-aec4-458aabd52139",
   "metadata": {},
   "outputs": [],
   "source": [
    "!pip install scipy"
   ]
  },
  {
   "cell_type": "code",
   "execution_count": null,
   "id": "67a6593b-24a8-45b1-9941-58c2ed378202",
   "metadata": {},
   "outputs": [],
   "source": [
    "from scipy.stats import zscore"
   ]
  },
  {
   "cell_type": "code",
   "execution_count": null,
   "id": "1f595c70-55db-40c1-93b4-e36556aca928",
   "metadata": {},
   "outputs": [],
   "source": [
    "data = {\n",
    "    'Value': [10, 12, 12, 13, 12, 11, 14, 100, 10, 12, 12, 13, 12, 11, 14, 10, 12, 12, 13, 12, 11, 14, 50]\n",
    "}\n",
    "df = pd.DataFrame(data)\n",
    "df"
   ]
  },
  {
   "cell_type": "code",
   "execution_count": null,
   "id": "c71e224f-c0a1-4a22-be75-8d3d8ad873fc",
   "metadata": {},
   "outputs": [],
   "source": [
    "df['Z-Score'] = zscore(df['Value'])"
   ]
  },
  {
   "cell_type": "code",
   "execution_count": null,
   "id": "f334019d-2766-46d1-8129-40007dceea20",
   "metadata": {},
   "outputs": [],
   "source": [
    "df"
   ]
  },
  {
   "cell_type": "code",
   "execution_count": null,
   "id": "afd0c661-958d-4c09-9dec-f4570752d320",
   "metadata": {},
   "outputs": [],
   "source": [
    "threshold = 3"
   ]
  },
  {
   "cell_type": "code",
   "execution_count": null,
   "id": "d489f9b4-1dfc-47a3-90cd-705d511db852",
   "metadata": {},
   "outputs": [],
   "source": [
    "df['Outlier'] = np.abs(df['Z-Score']) > threshold"
   ]
  },
  {
   "cell_type": "code",
   "execution_count": null,
   "id": "503dad8d-e6bc-4bd4-ac7c-69a1ac4c63ba",
   "metadata": {},
   "outputs": [],
   "source": [
    "df"
   ]
  },
  {
   "cell_type": "code",
   "execution_count": null,
   "id": "f70d10c9-8441-4dbe-8e01-8371f6cc0354",
   "metadata": {},
   "outputs": [],
   "source": [
    "plt.figure(figsize=(12, 6))\n",
    "plt.subplot(1, 2, 1)\n",
    "sns.boxplot(y=df['Value'])\n",
    "plt.title('Before Removing Outliers')"
   ]
  },
  {
   "cell_type": "code",
   "execution_count": null,
   "id": "f601b8e3-e211-4d55-aa24-f7b41790c36b",
   "metadata": {},
   "outputs": [],
   "source": [
    "df_clean = df[df['Outlier'] == False]"
   ]
  },
  {
   "cell_type": "code",
   "execution_count": null,
   "id": "b4857701-bbd2-47d0-b0cb-5adaa3dd64e8",
   "metadata": {},
   "outputs": [],
   "source": [
    "df_clean"
   ]
  },
  {
   "cell_type": "code",
   "execution_count": null,
   "id": "c821e49f-a112-41a7-8638-582f078867af",
   "metadata": {},
   "outputs": [],
   "source": [
    "plt.subplot(1, 2, 2)\n",
    "sns.boxplot(y=df_clean['Value'])\n",
    "plt.title('After Removing Outliers')"
   ]
  },
  {
   "cell_type": "markdown",
   "id": "a621ce13-2049-41ba-aed7-6e56e9af607c",
   "metadata": {},
   "source": [
    "### IQR METHOD"
   ]
  },
  {
   "cell_type": "code",
   "execution_count": null,
   "id": "fe620abd-ceca-4964-9548-58db6d838c41",
   "metadata": {},
   "outputs": [],
   "source": [
    "data = {\n",
    "    'Value': np.append(np.random.normal(50, 10, 100), [150, 200, 250, 300, 350, 400])\n",
    "}\n",
    "df = pd.DataFrame(data)"
   ]
  },
  {
   "cell_type": "code",
   "execution_count": null,
   "id": "3b9074bf-05db-4c73-8245-45e5aea89036",
   "metadata": {
    "scrolled": true
   },
   "outputs": [],
   "source": [
    "df"
   ]
  },
  {
   "cell_type": "code",
   "execution_count": null,
   "id": "db47de26-d22a-47d7-933f-7686d8f2c073",
   "metadata": {},
   "outputs": [],
   "source": [
    "sns.boxplot(df[\"Value\"])"
   ]
  },
  {
   "cell_type": "code",
   "execution_count": null,
   "id": "5fabde8e-f484-4f33-8cd0-858d24d5cff0",
   "metadata": {},
   "outputs": [],
   "source": [
    "Q1 = df['Value'].quantile(0.25)\n",
    "Q3 = df['Value'].quantile(0.75)"
   ]
  },
  {
   "cell_type": "code",
   "execution_count": null,
   "id": "9dbb8ed7-e7ce-48df-9b20-858a76902804",
   "metadata": {},
   "outputs": [],
   "source": [
    "IQR = Q3 - Q1"
   ]
  },
  {
   "cell_type": "code",
   "execution_count": null,
   "id": "668ef256-3188-4812-8244-a2805f1c9e6e",
   "metadata": {},
   "outputs": [],
   "source": [
    "lower_bound = Q1 - 1.5 * IQR\n",
    "upper_bound = Q3 + 1.5 * IQR"
   ]
  },
  {
   "cell_type": "code",
   "execution_count": null,
   "id": "80bbee70-3685-4185-a16f-d5946bf297f5",
   "metadata": {},
   "outputs": [],
   "source": [
    "lower_bound"
   ]
  },
  {
   "cell_type": "code",
   "execution_count": null,
   "id": "9354013f-86ca-45af-9e95-fed5e0276010",
   "metadata": {},
   "outputs": [],
   "source": [
    "upper_bound"
   ]
  },
  {
   "cell_type": "code",
   "execution_count": null,
   "id": "cc5ffad7-329c-4687-8824-b0f23e19aef2",
   "metadata": {},
   "outputs": [],
   "source": [
    "df['Outlier'] = (df['Value'] < lower_bound) | (df['Value'] > upper_bound)"
   ]
  },
  {
   "cell_type": "code",
   "execution_count": null,
   "id": "f743882f-f118-4e79-b77f-17bf5f323c8a",
   "metadata": {},
   "outputs": [],
   "source": [
    "df"
   ]
  },
  {
   "cell_type": "code",
   "execution_count": null,
   "id": "693fa775-fd7f-447b-a28e-7e999caa4bc0",
   "metadata": {},
   "outputs": [],
   "source": [
    "df_clean = df[df['Outlier'] == False]"
   ]
  },
  {
   "cell_type": "code",
   "execution_count": null,
   "id": "5743d615-63c1-4cbf-b587-13fbd633fce0",
   "metadata": {},
   "outputs": [],
   "source": [
    "sns.boxplot(df_clean[\"Value\"])"
   ]
  },
  {
   "cell_type": "markdown",
   "id": "34bd6269-ce55-47d6-b720-3ee4d38ee77d",
   "metadata": {},
   "source": [
    "### PERCENTILE METHOD"
   ]
  },
  {
   "cell_type": "code",
   "execution_count": null,
   "id": "a44c2727-41cc-4041-85ed-fc9eeac20fa9",
   "metadata": {},
   "outputs": [],
   "source": [
    "data = np.concatenate([np.random.normal(loc=0, scale=1, size=90), np.array([10, 12, 15, -8, -10])])\n",
    "\n",
    "df = pd.DataFrame(data, columns=['Value'])"
   ]
  },
  {
   "cell_type": "code",
   "execution_count": null,
   "id": "bda474af-e905-4307-a317-00a0a20cddd2",
   "metadata": {},
   "outputs": [],
   "source": [
    "df"
   ]
  },
  {
   "cell_type": "code",
   "execution_count": null,
   "id": "9a6435ab-4b08-4717-9564-6fec1ebed0d7",
   "metadata": {},
   "outputs": [],
   "source": [
    "sns.boxplot(df[\"Value\"])"
   ]
  },
  {
   "cell_type": "code",
   "execution_count": null,
   "id": "4401625f-4027-4390-90ef-b953984ea3f8",
   "metadata": {},
   "outputs": [],
   "source": [
    "lower_bound = np.percentile(df[\"Value\"], 5)\n",
    "upper_bound = np.percentile(df[\"Value\"], 95)"
   ]
  },
  {
   "cell_type": "code",
   "execution_count": null,
   "id": "877526b4-5e2b-4433-84f3-094ce287e369",
   "metadata": {},
   "outputs": [],
   "source": [
    "lower_bound1 = df['Value'].quantile(0.05)\n",
    "upper_bound2 = df['Value'].quantile(0.95)"
   ]
  },
  {
   "cell_type": "code",
   "execution_count": null,
   "id": "441c2908-95fb-459b-bdef-432577d02422",
   "metadata": {},
   "outputs": [],
   "source": [
    "lower_bound"
   ]
  },
  {
   "cell_type": "code",
   "execution_count": null,
   "id": "840ec06e-36dc-4391-bcb4-f8c014cb0412",
   "metadata": {},
   "outputs": [],
   "source": [
    "lower_bound1"
   ]
  },
  {
   "cell_type": "code",
   "execution_count": null,
   "id": "afbd5059-2524-4377-ac89-d8769047af5e",
   "metadata": {},
   "outputs": [],
   "source": [
    "df['Outlier'] = (df['Value'] < lower_bound) | (df['Value'] > upper_bound)"
   ]
  },
  {
   "cell_type": "code",
   "execution_count": null,
   "id": "055a8805-8741-4835-999b-becd8309f98a",
   "metadata": {},
   "outputs": [],
   "source": [
    "df"
   ]
  },
  {
   "cell_type": "code",
   "execution_count": null,
   "id": "238dc022-3899-4c83-8c8f-acd6b0b7936b",
   "metadata": {},
   "outputs": [],
   "source": [
    "cleaned_df = df[(df['Value'] >= lower_bound) & (df['Value'] <= upper_bound)]"
   ]
  },
  {
   "cell_type": "code",
   "execution_count": null,
   "id": "b396e02f-8bbc-456f-b2b7-88ca2c60c0b0",
   "metadata": {},
   "outputs": [],
   "source": [
    "sns.boxplot(cleaned_df[\"Value\"])"
   ]
  },
  {
   "cell_type": "markdown",
   "id": "d124bf2f-9027-4289-a18a-77de2508a50f",
   "metadata": {},
   "source": [
    "### WINSORIZATION"
   ]
  },
  {
   "cell_type": "code",
   "execution_count": 2,
   "id": "ec6d8fdc-60a1-45c1-b62f-e2fddd2946d8",
   "metadata": {},
   "outputs": [],
   "source": [
    "data = np.concatenate([np.random.normal(loc=0, scale=1, size=50),\n",
    "                       np.array([10, 12, 15, -8, -10])]) \n",
    "\n",
    "df = pd.DataFrame(data, columns=['Value'])"
   ]
  },
  {
   "cell_type": "code",
   "execution_count": 3,
   "id": "65b7815d-5385-42b9-a6b2-738f59a47b1b",
   "metadata": {},
   "outputs": [
    {
     "data": {
      "text/html": [
       "<div>\n",
       "<style scoped>\n",
       "    .dataframe tbody tr th:only-of-type {\n",
       "        vertical-align: middle;\n",
       "    }\n",
       "\n",
       "    .dataframe tbody tr th {\n",
       "        vertical-align: top;\n",
       "    }\n",
       "\n",
       "    .dataframe thead th {\n",
       "        text-align: right;\n",
       "    }\n",
       "</style>\n",
       "<table border=\"1\" class=\"dataframe\">\n",
       "  <thead>\n",
       "    <tr style=\"text-align: right;\">\n",
       "      <th></th>\n",
       "      <th>Value</th>\n",
       "    </tr>\n",
       "  </thead>\n",
       "  <tbody>\n",
       "    <tr>\n",
       "      <th>0</th>\n",
       "      <td>-0.311066</td>\n",
       "    </tr>\n",
       "    <tr>\n",
       "      <th>1</th>\n",
       "      <td>0.739003</td>\n",
       "    </tr>\n",
       "    <tr>\n",
       "      <th>2</th>\n",
       "      <td>-0.494620</td>\n",
       "    </tr>\n",
       "    <tr>\n",
       "      <th>3</th>\n",
       "      <td>1.262769</td>\n",
       "    </tr>\n",
       "    <tr>\n",
       "      <th>4</th>\n",
       "      <td>0.873707</td>\n",
       "    </tr>\n",
       "    <tr>\n",
       "      <th>5</th>\n",
       "      <td>-0.656549</td>\n",
       "    </tr>\n",
       "    <tr>\n",
       "      <th>6</th>\n",
       "      <td>-0.717047</td>\n",
       "    </tr>\n",
       "    <tr>\n",
       "      <th>7</th>\n",
       "      <td>-0.162388</td>\n",
       "    </tr>\n",
       "    <tr>\n",
       "      <th>8</th>\n",
       "      <td>0.988187</td>\n",
       "    </tr>\n",
       "    <tr>\n",
       "      <th>9</th>\n",
       "      <td>0.278472</td>\n",
       "    </tr>\n",
       "    <tr>\n",
       "      <th>10</th>\n",
       "      <td>0.595545</td>\n",
       "    </tr>\n",
       "    <tr>\n",
       "      <th>11</th>\n",
       "      <td>-0.535148</td>\n",
       "    </tr>\n",
       "    <tr>\n",
       "      <th>12</th>\n",
       "      <td>-1.568599</td>\n",
       "    </tr>\n",
       "    <tr>\n",
       "      <th>13</th>\n",
       "      <td>0.687051</td>\n",
       "    </tr>\n",
       "    <tr>\n",
       "      <th>14</th>\n",
       "      <td>0.013309</td>\n",
       "    </tr>\n",
       "    <tr>\n",
       "      <th>15</th>\n",
       "      <td>1.659642</td>\n",
       "    </tr>\n",
       "    <tr>\n",
       "      <th>16</th>\n",
       "      <td>-0.579819</td>\n",
       "    </tr>\n",
       "    <tr>\n",
       "      <th>17</th>\n",
       "      <td>0.404290</td>\n",
       "    </tr>\n",
       "    <tr>\n",
       "      <th>18</th>\n",
       "      <td>-0.947971</td>\n",
       "    </tr>\n",
       "    <tr>\n",
       "      <th>19</th>\n",
       "      <td>-0.034040</td>\n",
       "    </tr>\n",
       "    <tr>\n",
       "      <th>20</th>\n",
       "      <td>0.052440</td>\n",
       "    </tr>\n",
       "    <tr>\n",
       "      <th>21</th>\n",
       "      <td>0.849117</td>\n",
       "    </tr>\n",
       "    <tr>\n",
       "      <th>22</th>\n",
       "      <td>-0.918008</td>\n",
       "    </tr>\n",
       "    <tr>\n",
       "      <th>23</th>\n",
       "      <td>-1.351093</td>\n",
       "    </tr>\n",
       "    <tr>\n",
       "      <th>24</th>\n",
       "      <td>-0.245685</td>\n",
       "    </tr>\n",
       "    <tr>\n",
       "      <th>25</th>\n",
       "      <td>1.474644</td>\n",
       "    </tr>\n",
       "    <tr>\n",
       "      <th>26</th>\n",
       "      <td>-0.089419</td>\n",
       "    </tr>\n",
       "    <tr>\n",
       "      <th>27</th>\n",
       "      <td>1.400647</td>\n",
       "    </tr>\n",
       "    <tr>\n",
       "      <th>28</th>\n",
       "      <td>0.186863</td>\n",
       "    </tr>\n",
       "    <tr>\n",
       "      <th>29</th>\n",
       "      <td>0.807787</td>\n",
       "    </tr>\n",
       "    <tr>\n",
       "      <th>30</th>\n",
       "      <td>0.857353</td>\n",
       "    </tr>\n",
       "    <tr>\n",
       "      <th>31</th>\n",
       "      <td>-0.792588</td>\n",
       "    </tr>\n",
       "    <tr>\n",
       "      <th>32</th>\n",
       "      <td>-0.231351</td>\n",
       "    </tr>\n",
       "    <tr>\n",
       "      <th>33</th>\n",
       "      <td>-0.821733</td>\n",
       "    </tr>\n",
       "    <tr>\n",
       "      <th>34</th>\n",
       "      <td>0.404316</td>\n",
       "    </tr>\n",
       "    <tr>\n",
       "      <th>35</th>\n",
       "      <td>-1.352907</td>\n",
       "    </tr>\n",
       "    <tr>\n",
       "      <th>36</th>\n",
       "      <td>1.741810</td>\n",
       "    </tr>\n",
       "    <tr>\n",
       "      <th>37</th>\n",
       "      <td>-2.113419</td>\n",
       "    </tr>\n",
       "    <tr>\n",
       "      <th>38</th>\n",
       "      <td>0.533427</td>\n",
       "    </tr>\n",
       "    <tr>\n",
       "      <th>39</th>\n",
       "      <td>0.696807</td>\n",
       "    </tr>\n",
       "    <tr>\n",
       "      <th>40</th>\n",
       "      <td>-0.869820</td>\n",
       "    </tr>\n",
       "    <tr>\n",
       "      <th>41</th>\n",
       "      <td>0.054791</td>\n",
       "    </tr>\n",
       "    <tr>\n",
       "      <th>42</th>\n",
       "      <td>0.936199</td>\n",
       "    </tr>\n",
       "    <tr>\n",
       "      <th>43</th>\n",
       "      <td>0.114740</td>\n",
       "    </tr>\n",
       "    <tr>\n",
       "      <th>44</th>\n",
       "      <td>-1.496151</td>\n",
       "    </tr>\n",
       "    <tr>\n",
       "      <th>45</th>\n",
       "      <td>0.477560</td>\n",
       "    </tr>\n",
       "    <tr>\n",
       "      <th>46</th>\n",
       "      <td>-1.166726</td>\n",
       "    </tr>\n",
       "    <tr>\n",
       "      <th>47</th>\n",
       "      <td>0.993298</td>\n",
       "    </tr>\n",
       "    <tr>\n",
       "      <th>48</th>\n",
       "      <td>-0.044121</td>\n",
       "    </tr>\n",
       "    <tr>\n",
       "      <th>49</th>\n",
       "      <td>0.284493</td>\n",
       "    </tr>\n",
       "    <tr>\n",
       "      <th>50</th>\n",
       "      <td>10.000000</td>\n",
       "    </tr>\n",
       "    <tr>\n",
       "      <th>51</th>\n",
       "      <td>12.000000</td>\n",
       "    </tr>\n",
       "    <tr>\n",
       "      <th>52</th>\n",
       "      <td>15.000000</td>\n",
       "    </tr>\n",
       "    <tr>\n",
       "      <th>53</th>\n",
       "      <td>-8.000000</td>\n",
       "    </tr>\n",
       "    <tr>\n",
       "      <th>54</th>\n",
       "      <td>-10.000000</td>\n",
       "    </tr>\n",
       "  </tbody>\n",
       "</table>\n",
       "</div>"
      ],
      "text/plain": [
       "        Value\n",
       "0   -0.311066\n",
       "1    0.739003\n",
       "2   -0.494620\n",
       "3    1.262769\n",
       "4    0.873707\n",
       "5   -0.656549\n",
       "6   -0.717047\n",
       "7   -0.162388\n",
       "8    0.988187\n",
       "9    0.278472\n",
       "10   0.595545\n",
       "11  -0.535148\n",
       "12  -1.568599\n",
       "13   0.687051\n",
       "14   0.013309\n",
       "15   1.659642\n",
       "16  -0.579819\n",
       "17   0.404290\n",
       "18  -0.947971\n",
       "19  -0.034040\n",
       "20   0.052440\n",
       "21   0.849117\n",
       "22  -0.918008\n",
       "23  -1.351093\n",
       "24  -0.245685\n",
       "25   1.474644\n",
       "26  -0.089419\n",
       "27   1.400647\n",
       "28   0.186863\n",
       "29   0.807787\n",
       "30   0.857353\n",
       "31  -0.792588\n",
       "32  -0.231351\n",
       "33  -0.821733\n",
       "34   0.404316\n",
       "35  -1.352907\n",
       "36   1.741810\n",
       "37  -2.113419\n",
       "38   0.533427\n",
       "39   0.696807\n",
       "40  -0.869820\n",
       "41   0.054791\n",
       "42   0.936199\n",
       "43   0.114740\n",
       "44  -1.496151\n",
       "45   0.477560\n",
       "46  -1.166726\n",
       "47   0.993298\n",
       "48  -0.044121\n",
       "49   0.284493\n",
       "50  10.000000\n",
       "51  12.000000\n",
       "52  15.000000\n",
       "53  -8.000000\n",
       "54 -10.000000"
      ]
     },
     "execution_count": 3,
     "metadata": {},
     "output_type": "execute_result"
    }
   ],
   "source": [
    "df"
   ]
  },
  {
   "cell_type": "code",
   "execution_count": 4,
   "id": "3374143e-94a9-4162-904a-d32ad167551c",
   "metadata": {},
   "outputs": [
    {
     "data": {
      "image/png": "[encoded data removed]",
      "text/plain": [
       "<Figure size 640x480 with 1 Axes>"
      ]
     },
     "metadata": {},
     "output_type": "display_data"
    }
   ],
   "source": [
    "plt.hist(df['Value'])\n",
    "plt.show()"
   ]
  },
  {
   "cell_type": "code",
   "execution_count": 5,
   "id": "5c87041d-8321-41cc-bbf6-7c7b96b3e4a9",
   "metadata": {},
   "outputs": [],
   "source": [
    "lower_bound = np.percentile(df[\"Value\"], 5)\n",
    "upper_bound = np.percentile(df[\"Value\"], 95)"
   ]
  },
  {
   "cell_type": "code",
   "execution_count": 6,
   "id": "361fda7a-bc5c-4a97-b42a-72b3a8862ba4",
   "metadata": {},
   "outputs": [
    {
     "data": {
      "text/plain": [
       "-1.7320448040936398"
      ]
     },
     "execution_count": 6,
     "metadata": {},
     "output_type": "execute_result"
    }
   ],
   "source": [
    "lower_bound"
   ]
  },
  {
   "cell_type": "code",
   "execution_count": 7,
   "id": "488e1636-e00e-49e1-b7be-55d463b0e848",
   "metadata": {},
   "outputs": [
    {
     "data": {
      "text/plain": [
       "4.219267113668208"
      ]
     },
     "execution_count": 7,
     "metadata": {},
     "output_type": "execute_result"
    }
   ],
   "source": [
    "upper_bound"
   ]
  },
  {
   "cell_type": "code",
   "execution_count": 8,
   "id": "1a4d5d17-bfd0-4785-891f-db632d8452e3",
   "metadata": {},
   "outputs": [],
   "source": [
    "df['Winsorized'] = df['Value'].clip(lower=lower_bound, upper=upper_bound)"
   ]
  },
  {
   "cell_type": "code",
   "execution_count": 9,
   "id": "c5bc1ac1-a589-4544-88d2-fc688730f6af",
   "metadata": {},
   "outputs": [
    {
     "data": {
      "text/html": [
       "<div>\n",
       "<style scoped>\n",
       "    .dataframe tbody tr th:only-of-type {\n",
       "        vertical-align: middle;\n",
       "    }\n",
       "\n",
       "    .dataframe tbody tr th {\n",
       "        vertical-align: top;\n",
       "    }\n",
       "\n",
       "    .dataframe thead th {\n",
       "        text-align: right;\n",
       "    }\n",
       "</style>\n",
       "<table border=\"1\" class=\"dataframe\">\n",
       "  <thead>\n",
       "    <tr style=\"text-align: right;\">\n",
       "      <th></th>\n",
       "      <th>Value</th>\n",
       "      <th>Winsorized</th>\n",
       "    </tr>\n",
       "  </thead>\n",
       "  <tbody>\n",
       "    <tr>\n",
       "      <th>0</th>\n",
       "      <td>-0.311066</td>\n",
       "      <td>-0.311066</td>\n",
       "    </tr>\n",
       "    <tr>\n",
       "      <th>1</th>\n",
       "      <td>0.739003</td>\n",
       "      <td>0.739003</td>\n",
       "    </tr>\n",
       "    <tr>\n",
       "      <th>2</th>\n",
       "      <td>-0.494620</td>\n",
       "      <td>-0.494620</td>\n",
       "    </tr>\n",
       "    <tr>\n",
       "      <th>3</th>\n",
       "      <td>1.262769</td>\n",
       "      <td>1.262769</td>\n",
       "    </tr>\n",
       "    <tr>\n",
       "      <th>4</th>\n",
       "      <td>0.873707</td>\n",
       "      <td>0.873707</td>\n",
       "    </tr>\n",
       "    <tr>\n",
       "      <th>5</th>\n",
       "      <td>-0.656549</td>\n",
       "      <td>-0.656549</td>\n",
       "    </tr>\n",
       "    <tr>\n",
       "      <th>6</th>\n",
       "      <td>-0.717047</td>\n",
       "      <td>-0.717047</td>\n",
       "    </tr>\n",
       "    <tr>\n",
       "      <th>7</th>\n",
       "      <td>-0.162388</td>\n",
       "      <td>-0.162388</td>\n",
       "    </tr>\n",
       "    <tr>\n",
       "      <th>8</th>\n",
       "      <td>0.988187</td>\n",
       "      <td>0.988187</td>\n",
       "    </tr>\n",
       "    <tr>\n",
       "      <th>9</th>\n",
       "      <td>0.278472</td>\n",
       "      <td>0.278472</td>\n",
       "    </tr>\n",
       "    <tr>\n",
       "      <th>10</th>\n",
       "      <td>0.595545</td>\n",
       "      <td>0.595545</td>\n",
       "    </tr>\n",
       "    <tr>\n",
       "      <th>11</th>\n",
       "      <td>-0.535148</td>\n",
       "      <td>-0.535148</td>\n",
       "    </tr>\n",
       "    <tr>\n",
       "      <th>12</th>\n",
       "      <td>-1.568599</td>\n",
       "      <td>-1.568599</td>\n",
       "    </tr>\n",
       "    <tr>\n",
       "      <th>13</th>\n",
       "      <td>0.687051</td>\n",
       "      <td>0.687051</td>\n",
       "    </tr>\n",
       "    <tr>\n",
       "      <th>14</th>\n",
       "      <td>0.013309</td>\n",
       "      <td>0.013309</td>\n",
       "    </tr>\n",
       "    <tr>\n",
       "      <th>15</th>\n",
       "      <td>1.659642</td>\n",
       "      <td>1.659642</td>\n",
       "    </tr>\n",
       "    <tr>\n",
       "      <th>16</th>\n",
       "      <td>-0.579819</td>\n",
       "      <td>-0.579819</td>\n",
       "    </tr>\n",
       "    <tr>\n",
       "      <th>17</th>\n",
       "      <td>0.404290</td>\n",
       "      <td>0.404290</td>\n",
       "    </tr>\n",
       "    <tr>\n",
       "      <th>18</th>\n",
       "      <td>-0.947971</td>\n",
       "      <td>-0.947971</td>\n",
       "    </tr>\n",
       "    <tr>\n",
       "      <th>19</th>\n",
       "      <td>-0.034040</td>\n",
       "      <td>-0.034040</td>\n",
       "    </tr>\n",
       "    <tr>\n",
       "      <th>20</th>\n",
       "      <td>0.052440</td>\n",
       "      <td>0.052440</td>\n",
       "    </tr>\n",
       "    <tr>\n",
       "      <th>21</th>\n",
       "      <td>0.849117</td>\n",
       "      <td>0.849117</td>\n",
       "    </tr>\n",
       "    <tr>\n",
       "      <th>22</th>\n",
       "      <td>-0.918008</td>\n",
       "      <td>-0.918008</td>\n",
       "    </tr>\n",
       "    <tr>\n",
       "      <th>23</th>\n",
       "      <td>-1.351093</td>\n",
       "      <td>-1.351093</td>\n",
       "    </tr>\n",
       "    <tr>\n",
       "      <th>24</th>\n",
       "      <td>-0.245685</td>\n",
       "      <td>-0.245685</td>\n",
       "    </tr>\n",
       "    <tr>\n",
       "      <th>25</th>\n",
       "      <td>1.474644</td>\n",
       "      <td>1.474644</td>\n",
       "    </tr>\n",
       "    <tr>\n",
       "      <th>26</th>\n",
       "      <td>-0.089419</td>\n",
       "      <td>-0.089419</td>\n",
       "    </tr>\n",
       "    <tr>\n",
       "      <th>27</th>\n",
       "      <td>1.400647</td>\n",
       "      <td>1.400647</td>\n",
       "    </tr>\n",
       "    <tr>\n",
       "      <th>28</th>\n",
       "      <td>0.186863</td>\n",
       "      <td>0.186863</td>\n",
       "    </tr>\n",
       "    <tr>\n",
       "      <th>29</th>\n",
       "      <td>0.807787</td>\n",
       "      <td>0.807787</td>\n",
       "    </tr>\n",
       "    <tr>\n",
       "      <th>30</th>\n",
       "      <td>0.857353</td>\n",
       "      <td>0.857353</td>\n",
       "    </tr>\n",
       "    <tr>\n",
       "      <th>31</th>\n",
       "      <td>-0.792588</td>\n",
       "      <td>-0.792588</td>\n",
       "    </tr>\n",
       "    <tr>\n",
       "      <th>32</th>\n",
       "      <td>-0.231351</td>\n",
       "      <td>-0.231351</td>\n",
       "    </tr>\n",
       "    <tr>\n",
       "      <th>33</th>\n",
       "      <td>-0.821733</td>\n",
       "      <td>-0.821733</td>\n",
       "    </tr>\n",
       "    <tr>\n",
       "      <th>34</th>\n",
       "      <td>0.404316</td>\n",
       "      <td>0.404316</td>\n",
       "    </tr>\n",
       "    <tr>\n",
       "      <th>35</th>\n",
       "      <td>-1.352907</td>\n",
       "      <td>-1.352907</td>\n",
       "    </tr>\n",
       "    <tr>\n",
       "      <th>36</th>\n",
       "      <td>1.741810</td>\n",
       "      <td>1.741810</td>\n",
       "    </tr>\n",
       "    <tr>\n",
       "      <th>37</th>\n",
       "      <td>-2.113419</td>\n",
       "      <td>-1.732045</td>\n",
       "    </tr>\n",
       "    <tr>\n",
       "      <th>38</th>\n",
       "      <td>0.533427</td>\n",
       "      <td>0.533427</td>\n",
       "    </tr>\n",
       "    <tr>\n",
       "      <th>39</th>\n",
       "      <td>0.696807</td>\n",
       "      <td>0.696807</td>\n",
       "    </tr>\n",
       "    <tr>\n",
       "      <th>40</th>\n",
       "      <td>-0.869820</td>\n",
       "      <td>-0.869820</td>\n",
       "    </tr>\n",
       "    <tr>\n",
       "      <th>41</th>\n",
       "      <td>0.054791</td>\n",
       "      <td>0.054791</td>\n",
       "    </tr>\n",
       "    <tr>\n",
       "      <th>42</th>\n",
       "      <td>0.936199</td>\n",
       "      <td>0.936199</td>\n",
       "    </tr>\n",
       "    <tr>\n",
       "      <th>43</th>\n",
       "      <td>0.114740</td>\n",
       "      <td>0.114740</td>\n",
       "    </tr>\n",
       "    <tr>\n",
       "      <th>44</th>\n",
       "      <td>-1.496151</td>\n",
       "      <td>-1.496151</td>\n",
       "    </tr>\n",
       "    <tr>\n",
       "      <th>45</th>\n",
       "      <td>0.477560</td>\n",
       "      <td>0.477560</td>\n",
       "    </tr>\n",
       "    <tr>\n",
       "      <th>46</th>\n",
       "      <td>-1.166726</td>\n",
       "      <td>-1.166726</td>\n",
       "    </tr>\n",
       "    <tr>\n",
       "      <th>47</th>\n",
       "      <td>0.993298</td>\n",
       "      <td>0.993298</td>\n",
       "    </tr>\n",
       "    <tr>\n",
       "      <th>48</th>\n",
       "      <td>-0.044121</td>\n",
       "      <td>-0.044121</td>\n",
       "    </tr>\n",
       "    <tr>\n",
       "      <th>49</th>\n",
       "      <td>0.284493</td>\n",
       "      <td>0.284493</td>\n",
       "    </tr>\n",
       "    <tr>\n",
       "      <th>50</th>\n",
       "      <td>10.000000</td>\n",
       "      <td>4.219267</td>\n",
       "    </tr>\n",
       "    <tr>\n",
       "      <th>51</th>\n",
       "      <td>12.000000</td>\n",
       "      <td>4.219267</td>\n",
       "    </tr>\n",
       "    <tr>\n",
       "      <th>52</th>\n",
       "      <td>15.000000</td>\n",
       "      <td>4.219267</td>\n",
       "    </tr>\n",
       "    <tr>\n",
       "      <th>53</th>\n",
       "      <td>-8.000000</td>\n",
       "      <td>-1.732045</td>\n",
       "    </tr>\n",
       "    <tr>\n",
       "      <th>54</th>\n",
       "      <td>-10.000000</td>\n",
       "      <td>-1.732045</td>\n",
       "    </tr>\n",
       "  </tbody>\n",
       "</table>\n",
       "</div>"
      ],
      "text/plain": [
       "        Value  Winsorized\n",
       "0   -0.311066   -0.311066\n",
       "1    0.739003    0.739003\n",
       "2   -0.494620   -0.494620\n",
       "3    1.262769    1.262769\n",
       "4    0.873707    0.873707\n",
       "5   -0.656549   -0.656549\n",
       "6   -0.717047   -0.717047\n",
       "7   -0.162388   -0.162388\n",
       "8    0.988187    0.988187\n",
       "9    0.278472    0.278472\n",
       "10   0.595545    0.595545\n",
       "11  -0.535148   -0.535148\n",
       "12  -1.568599   -1.568599\n",
       "13   0.687051    0.687051\n",
       "14   0.013309    0.013309\n",
       "15   1.659642    1.659642\n",
       "16  -0.579819   -0.579819\n",
       "17   0.404290    0.404290\n",
       "18  -0.947971   -0.947971\n",
       "19  -0.034040   -0.034040\n",
       "20   0.052440    0.052440\n",
       "21   0.849117    0.849117\n",
       "22  -0.918008   -0.918008\n",
       "23  -1.351093   -1.351093\n",
       "24  -0.245685   -0.245685\n",
       "25   1.474644    1.474644\n",
       "26  -0.089419   -0.089419\n",
       "27   1.400647    1.400647\n",
       "28   0.186863    0.186863\n",
       "29   0.807787    0.807787\n",
       "30   0.857353    0.857353\n",
       "31  -0.792588   -0.792588\n",
       "32  -0.231351   -0.231351\n",
       "33  -0.821733   -0.821733\n",
       "34   0.404316    0.404316\n",
       "35  -1.352907   -1.352907\n",
       "36   1.741810    1.741810\n",
       "37  -2.113419   -1.732045\n",
       "38   0.533427    0.533427\n",
       "39   0.696807    0.696807\n",
       "40  -0.869820   -0.869820\n",
       "41   0.054791    0.054791\n",
       "42   0.936199    0.936199\n",
       "43   0.114740    0.114740\n",
       "44  -1.496151   -1.496151\n",
       "45   0.477560    0.477560\n",
       "46  -1.166726   -1.166726\n",
       "47   0.993298    0.993298\n",
       "48  -0.044121   -0.044121\n",
       "49   0.284493    0.284493\n",
       "50  10.000000    4.219267\n",
       "51  12.000000    4.219267\n",
       "52  15.000000    4.219267\n",
       "53  -8.000000   -1.732045\n",
       "54 -10.000000   -1.732045"
      ]
     },
     "execution_count": 9,
     "metadata": {},
     "output_type": "execute_result"
    }
   ],
   "source": [
    "df"
   ]
  },
  {
   "cell_type": "code",
   "execution_count": 10,
   "id": "e655b29f-31aa-4ac2-9580-150d3bc8b282",
   "metadata": {},
   "outputs": [
    {
     "data": {
      "image/png": "[encoded data removed]",
      "text/plain": [
       "<Figure size 640x480 with 1 Axes>"
      ]
     },
     "metadata": {},
     "output_type": "display_data"
    }
   ],
   "source": [
    "plt.hist(df['Winsorized'])\n",
    "plt.show()"
   ]
  },
  {
   "cell_type": "code",
   "execution_count": 11,
   "id": "6d883737-1db3-4109-9441-49e179a9787d",
   "metadata": {},
   "outputs": [
    {
     "data": {
      "text/plain": [
       "<Axes: >"
      ]
     },
     "execution_count": 11,
     "metadata": {},
     "output_type": "execute_result"
    },
    {
     "data": {
      "image/png": "[encoded data removed]",
      "text/plain": [
       "<Figure size 640x480 with 1 Axes>"
      ]
     },
     "metadata": {},
     "output_type": "display_data"
    }
   ],
   "source": [
    "sns.boxplot(df['Value'])"
   ]
  },
  {
   "cell_type": "code",
   "execution_count": 12,
   "id": "23328359-142a-4230-9ce1-4cbd3e238661",
   "metadata": {},
   "outputs": [
    {
     "data": {
      "text/plain": [
       "<Axes: >"
      ]
     },
     "execution_count": 12,
     "metadata": {},
     "output_type": "execute_result"
    },
    {
     "data": {
      "image/png": "[encoded data removed]",
      "text/plain": [
       "<Figure size 640x480 with 1 Axes>"
      ]
     },
     "metadata": {},
     "output_type": "display_data"
    }
   ],
   "source": [
    "sns.boxplot(df[\"Winsorized\"])"
   ]
  },
  {
   "cell_type": "code",
   "execution_count": null,
   "id": "26735535-cce8-4086-84b1-41d8ddb1fd13",
   "metadata": {},
   "outputs": [],
   "source": []
  },
  {
   "cell_type": "code",
   "execution_count": null,
   "id": "aab5e229-82eb-4967-9e3c-e36db910ea62",
   "metadata": {},
   "outputs": [],
   "source": []
  }
 ],
 "metadata": {
  "kernelspec": {
   "display_name": "Python 3 (ipykernel)",
   "language": "python",
   "name": "python3"
  },
  "language_info": {
   "codemirror_mode": {
    "name": "ipython",
    "version": 3
   },
   "file_extension": ".py",
   "mimetype": "text/x-python",
   "name": "python",
   "nbconvert_exporter": "python",
   "pygments_lexer": "ipython3",
   "version": "3.11.7"
  }
 },
 "nbformat": 4,
 "nbformat_minor": 5
}
