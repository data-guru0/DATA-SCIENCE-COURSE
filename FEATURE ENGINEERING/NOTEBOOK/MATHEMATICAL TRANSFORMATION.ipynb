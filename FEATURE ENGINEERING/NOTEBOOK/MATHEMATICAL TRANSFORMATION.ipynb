{
 "cells": [
  {
   "cell_type": "markdown",
   "id": "0528d255-a483-42b6-a571-6484acbd83cc",
   "metadata": {},
   "source": [
    "### LOGARITHMIC TRANSFORMATION"
   ]
  },
  {
   "cell_type": "code",
   "execution_count": 1,
   "id": "aae8ccca-910b-49e4-bc18-06996985a0c4",
   "metadata": {},
   "outputs": [],
   "source": [
    "import numpy as np\n",
    "import pandas as pd\n",
    "import matplotlib.pyplot as plt\n",
    "\n",
    "from scipy.stats import skew"
   ]
  },
  {
   "cell_type": "code",
   "execution_count": null,
   "id": "3b94add4-20ea-460a-ac74-44075f526173",
   "metadata": {},
   "outputs": [],
   "source": [
    "np.random.seed(0)\n",
    "data = {\n",
    "    'value': np.random.exponential(scale=2.0, size=1000)\n",
    "}\n",
    "df = pd.DataFrame(data)"
   ]
  },
  {
   "cell_type": "code",
   "execution_count": null,
   "id": "92349d01-1fc2-4c0d-a8a2-64cde2b4641a",
   "metadata": {},
   "outputs": [],
   "source": [
    "df"
   ]
  },
  {
   "cell_type": "code",
   "execution_count": null,
   "id": "2b046539-0da3-4020-a661-12487e902676",
   "metadata": {},
   "outputs": [],
   "source": [
    "plt.hist(df['value'], bins=30, color='blue', alpha=0.7, edgecolor='black')\n",
    "plt.show()"
   ]
  },
  {
   "cell_type": "code",
   "execution_count": null,
   "id": "224be826-2ed4-40a8-85ab-bea767f33efe",
   "metadata": {},
   "outputs": [],
   "source": [
    "skew(df[\"value\"])"
   ]
  },
  {
   "cell_type": "code",
   "execution_count": null,
   "id": "1a0693c2-7777-45de-9118-be10ab98c559",
   "metadata": {},
   "outputs": [],
   "source": [
    "df['log_transformed_value'] = np.log(df['value'] + 1)"
   ]
  },
  {
   "cell_type": "code",
   "execution_count": null,
   "id": "e77af8af-95ff-478d-898f-0621e954fa57",
   "metadata": {},
   "outputs": [],
   "source": [
    "df.head()"
   ]
  },
  {
   "cell_type": "code",
   "execution_count": null,
   "id": "1df20de7-ed86-4c61-bf9f-3b904ef5a1bf",
   "metadata": {},
   "outputs": [],
   "source": [
    "plt.hist(df['log_transformed_value'], bins=30, color='green', alpha=0.7, edgecolor='black')\n",
    "plt.show()"
   ]
  },
  {
   "cell_type": "code",
   "execution_count": null,
   "id": "2cac7ec7-e901-448d-8885-f3d50aef5bd4",
   "metadata": {},
   "outputs": [],
   "source": [
    "skew(df[\"log_transformed_value\"])"
   ]
  },
  {
   "cell_type": "markdown",
   "id": "f638364c-40e8-447b-94dc-470ad086946d",
   "metadata": {},
   "source": [
    "### SQUARE ROOT TRANSFORMATION"
   ]
  },
  {
   "cell_type": "code",
   "execution_count": null,
   "id": "c5895c2f-566e-40b5-bf4a-1735895c3a62",
   "metadata": {},
   "outputs": [],
   "source": [
    "np.random.seed(0)\n",
    "data = {\n",
    "    'original_data': np.random.exponential(scale=2.0, size=1000) \n",
    "}\n",
    "df = pd.DataFrame(data)\n",
    "df"
   ]
  },
  {
   "cell_type": "code",
   "execution_count": null,
   "id": "8ae1c8a7-f906-4a44-8670-7f4c49fac1ab",
   "metadata": {},
   "outputs": [],
   "source": [
    "plt.hist(df['original_data'], bins=30, color='blue', alpha=0.7, edgecolor='black')\n",
    "plt.show()"
   ]
  },
  {
   "cell_type": "code",
   "execution_count": null,
   "id": "9d2a3673-cbef-449a-b271-df05a6dc1c18",
   "metadata": {},
   "outputs": [],
   "source": [
    "skew(df[\"original_data\"])"
   ]
  },
  {
   "cell_type": "code",
   "execution_count": null,
   "id": "0cddf742-76f9-465a-a2f7-7eb49da1ba67",
   "metadata": {},
   "outputs": [],
   "source": [
    "df['sqrt_transformed'] = np.sqrt(df['original_data'])"
   ]
  },
  {
   "cell_type": "code",
   "execution_count": null,
   "id": "b4eae25a-bc84-4a6f-8da5-63e819ea71b1",
   "metadata": {},
   "outputs": [],
   "source": [
    "df"
   ]
  },
  {
   "cell_type": "code",
   "execution_count": null,
   "id": "756baf91-2f6a-4733-bbb2-bdc808f437ab",
   "metadata": {},
   "outputs": [],
   "source": [
    "plt.hist(df['sqrt_transformed'], bins=30, color='green', alpha=0.7, edgecolor='black')\n",
    "plt.show()"
   ]
  },
  {
   "cell_type": "code",
   "execution_count": null,
   "id": "e64e7360-1c0e-4606-8fb2-85526f4ae0b1",
   "metadata": {},
   "outputs": [],
   "source": [
    "skew(df[\"sqrt_transformed\"])"
   ]
  },
  {
   "cell_type": "markdown",
   "id": "2b4b760b-a76b-4723-b3bb-a61f823a0b99",
   "metadata": {},
   "source": [
    "### RECIPROCAL TRANSFORMATION"
   ]
  },
  {
   "cell_type": "code",
   "execution_count": null,
   "id": "99788d5a-b490-4499-aa0b-56757c166370",
   "metadata": {},
   "outputs": [],
   "source": [
    "data = np.random.exponential(scale=2, size=1000) \n",
    "\n",
    "data = 50 - data\n",
    "\n",
    "# Create a DataFrame\n",
    "df = pd.DataFrame(data, columns=['Original'])"
   ]
  },
  {
   "cell_type": "code",
   "execution_count": null,
   "id": "0180316f-cc96-4fbe-93de-3fd7f3a53c4b",
   "metadata": {},
   "outputs": [],
   "source": [
    "df"
   ]
  },
  {
   "cell_type": "code",
   "execution_count": null,
   "id": "9e4ddc46-1847-4b40-8668-021e40e2fe4c",
   "metadata": {},
   "outputs": [],
   "source": [
    "skew(df[\"Original\"])  ## Not highly negative skewed"
   ]
  },
  {
   "cell_type": "code",
   "execution_count": null,
   "id": "78adc349-5400-4117-bb5a-be96b7527e71",
   "metadata": {},
   "outputs": [],
   "source": [
    "plt.hist(df[\"Original\"], bins=30, color='blue', alpha=0.7, edgecolor='black')\n",
    "plt.show()"
   ]
  },
  {
   "cell_type": "code",
   "execution_count": null,
   "id": "b2e95f6e-a6cc-48a3-a543-a042e78a9c50",
   "metadata": {},
   "outputs": [],
   "source": [
    "df['reciprocal_transformed'] = 1 / df['Original']"
   ]
  },
  {
   "cell_type": "code",
   "execution_count": null,
   "id": "e9cab586-ceea-4948-8904-193c82b01bdc",
   "metadata": {},
   "outputs": [],
   "source": [
    "df.head()"
   ]
  },
  {
   "cell_type": "code",
   "execution_count": null,
   "id": "5053183e-048f-4c63-b8de-4330ab815913",
   "metadata": {},
   "outputs": [],
   "source": [
    "plt.hist(df['reciprocal_transformed'], bins=30, color='green', alpha=0.7, edgecolor='black')\n",
    "plt.show()"
   ]
  },
  {
   "cell_type": "code",
   "execution_count": null,
   "id": "fb56f53f-464d-4c64-9e2a-3d4d02d0115d",
   "metadata": {},
   "outputs": [],
   "source": [
    "skew(df[\"reciprocal_transformed\"])"
   ]
  },
  {
   "cell_type": "markdown",
   "id": "ad9e10cb-b4be-4d37-9690-33aebc6eb7ab",
   "metadata": {},
   "source": [
    "### BOX-COX TRANSFORMATION"
   ]
  },
  {
   "cell_type": "code",
   "execution_count": null,
   "id": "2421502c-42a8-4b82-9c40-e170f5c72e9f",
   "metadata": {},
   "outputs": [],
   "source": [
    "np.random.seed(0)\n",
    "data = {\n",
    "    'A': np.random.exponential(scale=2, size=100),  # Positively skewed\n",
    "    'B': np.random.chisquare(df=2, size=100)        # Positively skewed\n",
    "}\n",
    "df = pd.DataFrame(data)\n",
    "df"
   ]
  },
  {
   "cell_type": "code",
   "execution_count": null,
   "id": "4cfdaf1c-83a2-4a9e-b19e-2cfe801ca3af",
   "metadata": {},
   "outputs": [],
   "source": [
    "skew(df[\"A\"])"
   ]
  },
  {
   "cell_type": "code",
   "execution_count": null,
   "id": "afed6cb0-bd65-472f-aab8-1a179091688c",
   "metadata": {},
   "outputs": [],
   "source": [
    "skew(df[\"B\"])"
   ]
  },
  {
   "cell_type": "code",
   "execution_count": null,
   "id": "a42a5c96-9527-4381-9770-169326e854f1",
   "metadata": {},
   "outputs": [],
   "source": [
    "plt.hist(df[\"A\"], bins=30, color='blue', alpha=0.7, edgecolor='black')\n",
    "plt.show()"
   ]
  },
  {
   "cell_type": "code",
   "execution_count": null,
   "id": "e9c62fbf-e774-4c15-82da-7c0eae067b09",
   "metadata": {},
   "outputs": [],
   "source": [
    "plt.hist(df[\"B\"], bins=30, color='blue', alpha=0.7, edgecolor='black')\n",
    "plt.show()"
   ]
  },
  {
   "cell_type": "code",
   "execution_count": null,
   "id": "85ea9e8a-ba24-4303-87e9-fb5040345f23",
   "metadata": {},
   "outputs": [],
   "source": [
    "from scipy.stats import boxcox"
   ]
  },
  {
   "cell_type": "code",
   "execution_count": null,
   "id": "c01a7639-6599-437a-ab5e-6a1ea0fc60dd",
   "metadata": {},
   "outputs": [],
   "source": [
    "df[\"Transformed_A\"] , lambda_value_a = boxcox(df[\"A\"])"
   ]
  },
  {
   "cell_type": "code",
   "execution_count": null,
   "id": "beaa167c-da47-4812-8a38-ec590c2b8cba",
   "metadata": {},
   "outputs": [],
   "source": [
    "lambda_value_a"
   ]
  },
  {
   "cell_type": "code",
   "execution_count": null,
   "id": "9c803f89-03ed-49dd-82a4-ee2328db9168",
   "metadata": {},
   "outputs": [],
   "source": [
    "skew(df[\"A\"])"
   ]
  },
  {
   "cell_type": "code",
   "execution_count": null,
   "id": "35f9e56f-35a1-438c-ad5c-d3192acb6ac6",
   "metadata": {},
   "outputs": [],
   "source": [
    "skew(df[\"Transformed_A\"])"
   ]
  },
  {
   "cell_type": "code",
   "execution_count": null,
   "id": "c9a22f84-7a2b-493e-8bfd-9055680576d3",
   "metadata": {},
   "outputs": [],
   "source": [
    "df[\"Transformed_B\"], lambda_value_b = boxcox(df[\"B\"])"
   ]
  },
  {
   "cell_type": "code",
   "execution_count": null,
   "id": "e309fe54-971b-4947-92cf-f120421ec08f",
   "metadata": {},
   "outputs": [],
   "source": [
    "lambda_value_b"
   ]
  },
  {
   "cell_type": "code",
   "execution_count": null,
   "id": "eb9565ad-05d5-4aca-933e-8e5eb08716bb",
   "metadata": {},
   "outputs": [],
   "source": [
    "skew(df[\"Transformed_B\"])"
   ]
  },
  {
   "cell_type": "code",
   "execution_count": null,
   "id": "22fe0a22-15fa-4132-b105-20bd547a67eb",
   "metadata": {},
   "outputs": [],
   "source": [
    "plt.hist(df[\"Transformed_A\"],bins=30, color='green', alpha=0.7, edgecolor='black')\n",
    "plt.show()"
   ]
  },
  {
   "cell_type": "code",
   "execution_count": null,
   "id": "271091e6-b694-4b2c-b38c-5c771bb061cc",
   "metadata": {},
   "outputs": [],
   "source": [
    "plt.hist(df[\"Transformed_B\"], bins=30, color='green', alpha=0.7, edgecolor='black')\n",
    "plt.show()"
   ]
  },
  {
   "cell_type": "markdown",
   "id": "bbdef824-5392-431e-a297-ab96122b112a",
   "metadata": {},
   "source": [
    "### YEO-JOSHNSON TRANSFORMATION"
   ]
  },
  {
   "cell_type": "code",
   "execution_count": 2,
   "id": "ef465b42-4819-43e6-b766-58e57ef5b624",
   "metadata": {},
   "outputs": [
    {
     "data": {
      "text/html": [
       "<div>\n",
       "<style scoped>\n",
       "    .dataframe tbody tr th:only-of-type {\n",
       "        vertical-align: middle;\n",
       "    }\n",
       "\n",
       "    .dataframe tbody tr th {\n",
       "        vertical-align: top;\n",
       "    }\n",
       "\n",
       "    .dataframe thead th {\n",
       "        text-align: right;\n",
       "    }\n",
       "</style>\n",
       "<table border=\"1\" class=\"dataframe\">\n",
       "  <thead>\n",
       "    <tr style=\"text-align: right;\">\n",
       "      <th></th>\n",
       "      <th>A</th>\n",
       "      <th>B</th>\n",
       "    </tr>\n",
       "  </thead>\n",
       "  <tbody>\n",
       "    <tr>\n",
       "      <th>0</th>\n",
       "      <td>1.591749</td>\n",
       "      <td>2.265268</td>\n",
       "    </tr>\n",
       "    <tr>\n",
       "      <th>1</th>\n",
       "      <td>2.511862</td>\n",
       "      <td>0.629443</td>\n",
       "    </tr>\n",
       "    <tr>\n",
       "      <th>2</th>\n",
       "      <td>1.846446</td>\n",
       "      <td>2.657516</td>\n",
       "    </tr>\n",
       "    <tr>\n",
       "      <th>3</th>\n",
       "      <td>1.574402</td>\n",
       "      <td>6.550286</td>\n",
       "    </tr>\n",
       "    <tr>\n",
       "      <th>4</th>\n",
       "      <td>1.102097</td>\n",
       "      <td>0.572042</td>\n",
       "    </tr>\n",
       "    <tr>\n",
       "      <th>...</th>\n",
       "      <td>...</td>\n",
       "      <td>...</td>\n",
       "    </tr>\n",
       "    <tr>\n",
       "      <th>95</th>\n",
       "      <td>0.404701</td>\n",
       "      <td>1.348489</td>\n",
       "    </tr>\n",
       "    <tr>\n",
       "      <th>96</th>\n",
       "      <td>1.766258</td>\n",
       "      <td>0.516026</td>\n",
       "    </tr>\n",
       "    <tr>\n",
       "      <th>97</th>\n",
       "      <td>0.040625</td>\n",
       "      <td>0.587015</td>\n",
       "    </tr>\n",
       "    <tr>\n",
       "      <th>98</th>\n",
       "      <td>3.531482</td>\n",
       "      <td>0.119562</td>\n",
       "    </tr>\n",
       "    <tr>\n",
       "      <th>99</th>\n",
       "      <td>0.009413</td>\n",
       "      <td>1.139795</td>\n",
       "    </tr>\n",
       "  </tbody>\n",
       "</table>\n",
       "<p>100 rows × 2 columns</p>\n",
       "</div>"
      ],
      "text/plain": [
       "           A         B\n",
       "0   1.591749  2.265268\n",
       "1   2.511862  0.629443\n",
       "2   1.846446  2.657516\n",
       "3   1.574402  6.550286\n",
       "4   1.102097  0.572042\n",
       "..       ...       ...\n",
       "95  0.404701  1.348489\n",
       "96  1.766258  0.516026\n",
       "97  0.040625  0.587015\n",
       "98  3.531482  0.119562\n",
       "99  0.009413  1.139795\n",
       "\n",
       "[100 rows x 2 columns]"
      ]
     },
     "execution_count": 2,
     "metadata": {},
     "output_type": "execute_result"
    }
   ],
   "source": [
    "np.random.seed(0)\n",
    "data = {\n",
    "    'A': np.random.exponential(scale=2, size=100),  # Positively skewed\n",
    "    'B': np.random.chisquare(df=2, size=100)        # Positively skewed\n",
    "}\n",
    "df = pd.DataFrame(data)\n",
    "df"
   ]
  },
  {
   "cell_type": "code",
   "execution_count": 3,
   "id": "8eaab2b0-4d34-4c24-9af2-db826bb2eb12",
   "metadata": {},
   "outputs": [
    {
     "data": {
      "text/plain": [
       "1.7459333876296321"
      ]
     },
     "execution_count": 3,
     "metadata": {},
     "output_type": "execute_result"
    }
   ],
   "source": [
    "skew(df[\"A\"])"
   ]
  },
  {
   "cell_type": "code",
   "execution_count": 4,
   "id": "7a0dcb60-ea29-4267-8e8b-6658b059c46b",
   "metadata": {},
   "outputs": [
    {
     "data": {
      "text/plain": [
       "2.3748098222146865"
      ]
     },
     "execution_count": 4,
     "metadata": {},
     "output_type": "execute_result"
    }
   ],
   "source": [
    "skew(df[\"B\"])"
   ]
  },
  {
   "cell_type": "code",
   "execution_count": 5,
   "id": "391ef575-b45d-462c-bea9-03863273a692",
   "metadata": {},
   "outputs": [
    {
     "data": {
      "image/png": "[encoded data removed]",
      "text/plain": [
       "<Figure size 640x480 with 1 Axes>"
      ]
     },
     "metadata": {},
     "output_type": "display_data"
    }
   ],
   "source": [
    "plt.hist(df[\"A\"], bins=30, color='blue', alpha=0.7, edgecolor='black')\n",
    "plt.show()"
   ]
  },
  {
   "cell_type": "code",
   "execution_count": 6,
   "id": "f6f61cb9-a412-4845-b4d6-adc8b65bfce7",
   "metadata": {},
   "outputs": [
    {
     "data": {
      "image/png": "[encoded data removed]",
      "text/plain": [
       "<Figure size 640x480 with 1 Axes>"
      ]
     },
     "metadata": {},
     "output_type": "display_data"
    }
   ],
   "source": [
    "plt.hist(df[\"B\"], bins=30, color='blue', alpha=0.7, edgecolor='black')\n",
    "plt.show()"
   ]
  },
  {
   "cell_type": "code",
   "execution_count": 7,
   "id": "4703355c-980a-4fb5-abc8-406d2aa6abbe",
   "metadata": {},
   "outputs": [],
   "source": [
    "from scipy.stats import yeojohnson"
   ]
  },
  {
   "cell_type": "code",
   "execution_count": 8,
   "id": "ac8eb92b-63ce-4e06-96a6-501246240428",
   "metadata": {},
   "outputs": [],
   "source": [
    "df[\"Transformed_A\"] , lambda_value_a = yeojohnson(df[\"A\"])\n",
    "df[\"Transformed_B\"] , lambda_value_b = yeojohnson(df[\"B\"])"
   ]
  },
  {
   "cell_type": "code",
   "execution_count": 9,
   "id": "d75183e2-2ca3-4f34-a2df-56ed5be45527",
   "metadata": {},
   "outputs": [
    {
     "data": {
      "text/plain": [
       "-0.4147071843900983"
      ]
     },
     "execution_count": 9,
     "metadata": {},
     "output_type": "execute_result"
    }
   ],
   "source": [
    "lambda_value_a"
   ]
  },
  {
   "cell_type": "code",
   "execution_count": 10,
   "id": "db713557-93c8-4b50-b5d2-d3dac822a73e",
   "metadata": {},
   "outputs": [
    {
     "data": {
      "text/plain": [
       "-0.26263744413184587"
      ]
     },
     "execution_count": 10,
     "metadata": {},
     "output_type": "execute_result"
    }
   ],
   "source": [
    "lambda_value_b"
   ]
  },
  {
   "cell_type": "code",
   "execution_count": 11,
   "id": "0eee2dc5-c588-408e-8870-566e92d680a7",
   "metadata": {},
   "outputs": [
    {
     "data": {
      "text/plain": [
       "0.07127561414764873"
      ]
     },
     "execution_count": 11,
     "metadata": {},
     "output_type": "execute_result"
    }
   ],
   "source": [
    "skew(df[\"Transformed_A\"])"
   ]
  },
  {
   "cell_type": "code",
   "execution_count": 12,
   "id": "af64f8f3-7d28-4dd3-81b6-c7cdf87618db",
   "metadata": {},
   "outputs": [
    {
     "data": {
      "text/plain": [
       "0.029695724508001856"
      ]
     },
     "execution_count": 12,
     "metadata": {},
     "output_type": "execute_result"
    }
   ],
   "source": [
    "skew(df[\"Transformed_B\"])"
   ]
  },
  {
   "cell_type": "code",
   "execution_count": 13,
   "id": "124cb539-b654-4dc9-b5b4-4e5e660b94e4",
   "metadata": {},
   "outputs": [
    {
     "data": {
      "image/png": "[encoded data removed]",
      "text/plain": [
       "<Figure size 640x480 with 1 Axes>"
      ]
     },
     "metadata": {},
     "output_type": "display_data"
    }
   ],
   "source": [
    "plt.hist(df[\"Transformed_A\"],bins=30, color='green', alpha=0.7, edgecolor='black')\n",
    "plt.show()"
   ]
  },
  {
   "cell_type": "code",
   "execution_count": 14,
   "id": "1edf42f6-90b7-4a4e-a161-fb4c2a2fc9b9",
   "metadata": {},
   "outputs": [
    {
     "data": {
      "image/png": "[encoded data removed]",
      "text/plain": [
       "<Figure size 640x480 with 1 Axes>"
      ]
     },
     "metadata": {},
     "output_type": "display_data"
    }
   ],
   "source": [
    "plt.hist(df[\"Transformed_B\"],bins=30, color='green', alpha=0.7, edgecolor='black')\n",
    "plt.show()"
   ]
  },
  {
   "cell_type": "code",
   "execution_count": null,
   "id": "5d8bf3c5-80c5-4344-a568-d9a43d12f308",
   "metadata": {},
   "outputs": [],
   "source": []
  }
 ],
 "metadata": {
  "kernelspec": {
   "display_name": "Python 3 (ipykernel)",
   "language": "python",
   "name": "python3"
  },
  "language_info": {
   "codemirror_mode": {
    "name": "ipython",
    "version": 3
   },
   "file_extension": ".py",
   "mimetype": "text/x-python",
   "name": "python",
   "nbconvert_exporter": "python",
   "pygments_lexer": "ipython3",
   "version": "3.11.7"
  }
 },
 "nbformat": 4,
 "nbformat_minor": 5
}
