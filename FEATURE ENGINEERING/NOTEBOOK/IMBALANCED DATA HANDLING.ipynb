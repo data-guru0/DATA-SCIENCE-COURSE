{
 "cells": [
  {
   "cell_type": "markdown",
   "id": "a0240ea9-94d4-459f-afa9-f0e308f1e8ab",
   "metadata": {},
   "source": [
    "### RANDOM OVERSAMPLING"
   ]
  },
  {
   "cell_type": "code",
   "execution_count": 1,
   "id": "9fdc6214-c1a8-40c6-b82e-0d93a52707a3",
   "metadata": {},
   "outputs": [],
   "source": [
    "import pandas as pd\n",
    "import numpy as np\n",
    "import matplotlib.pyplot as plt"
   ]
  },
  {
   "cell_type": "code",
   "execution_count": null,
   "id": "0c675c94-9e0b-47f7-895e-0687251bbe7e",
   "metadata": {},
   "outputs": [],
   "source": [
    "!pip install imbalanced-learn"
   ]
  },
  {
   "cell_type": "code",
   "execution_count": null,
   "id": "e00f88d5-011b-4e25-8329-f11574721682",
   "metadata": {},
   "outputs": [],
   "source": [
    "from imblearn.over_sampling import RandomOverSampler"
   ]
  },
  {
   "cell_type": "code",
   "execution_count": null,
   "id": "da12e514-b2a1-4240-9e6e-f51ed6d832f6",
   "metadata": {},
   "outputs": [],
   "source": [
    "X = np.array([[1.0, 1.0],\n",
    "              [2.0, 2.0],\n",
    "              [5.0, 5.0],\n",
    "              [6.0, 6.0],\n",
    "              [7.0, 7.0],\n",
    "              [8.0, 8.0],\n",
    "              [9.0, 9.0],\n",
    "              [10.0, 10.0],\n",
    "              [11.0, 11.0],\n",
    "              [12.0, 12.0]])\n",
    "\n",
    "y = np.array([1, 1, 0, 0, 0, 0, 0, 0, 0, 0])\n",
    "df = pd.DataFrame(X, columns=['Feature 1', 'Feature 2'])\n",
    "df['Class'] = y"
   ]
  },
  {
   "cell_type": "code",
   "execution_count": null,
   "id": "4fa9e2fe-66bb-463e-b2d2-95bc08d1d5fd",
   "metadata": {},
   "outputs": [],
   "source": [
    "df.head()"
   ]
  },
  {
   "cell_type": "code",
   "execution_count": null,
   "id": "600d22f6-ab21-41f6-8439-b13f19369458",
   "metadata": {},
   "outputs": [],
   "source": [
    "df[\"Class\"].value_counts()"
   ]
  },
  {
   "cell_type": "code",
   "execution_count": null,
   "id": "09b00f93-aeea-41e1-9b87-9f3ed1a6d41d",
   "metadata": {},
   "outputs": [],
   "source": [
    "ros = RandomOverSampler(random_state=42)"
   ]
  },
  {
   "cell_type": "code",
   "execution_count": null,
   "id": "ee5747b5-83b8-4689-bd89-b135abf1e84a",
   "metadata": {},
   "outputs": [],
   "source": [
    "X_resampled, y_resampled = ros.fit_resample(df[['Feature 1', 'Feature 2']], df['Class'])"
   ]
  },
  {
   "cell_type": "code",
   "execution_count": null,
   "id": "ac4baf6e-2b03-4bc5-b486-0b3cac4f5a76",
   "metadata": {},
   "outputs": [],
   "source": [
    "X_resampled"
   ]
  },
  {
   "cell_type": "code",
   "execution_count": null,
   "id": "983d8605-0781-4109-a667-735a8db1d755",
   "metadata": {},
   "outputs": [],
   "source": [
    "df_resampled = pd.DataFrame(X_resampled, columns=['Feature 1', 'Feature 2'])\n",
    "df_resampled['Class'] = y_resampled"
   ]
  },
  {
   "cell_type": "code",
   "execution_count": null,
   "id": "7156185f-0505-4586-a1fd-d6921f4978d0",
   "metadata": {},
   "outputs": [],
   "source": [
    "df_resampled[\"Class\"].value_counts()"
   ]
  },
  {
   "cell_type": "code",
   "execution_count": null,
   "id": "bd3e4874-fa85-4861-a2f4-0a19644aea2f",
   "metadata": {},
   "outputs": [],
   "source": [
    "df_resampled.duplicated().sum()"
   ]
  },
  {
   "cell_type": "markdown",
   "id": "b740a253-680f-41ee-9106-98496394e0e4",
   "metadata": {},
   "source": [
    "### SMOTE"
   ]
  },
  {
   "cell_type": "code",
   "execution_count": null,
   "id": "2c005266-4793-47dd-baaf-dc7913f8afd9",
   "metadata": {},
   "outputs": [],
   "source": [
    "from imblearn.over_sampling import SMOTE"
   ]
  },
  {
   "cell_type": "code",
   "execution_count": null,
   "id": "55cf1a24-8a17-453c-bfec-65083811a088",
   "metadata": {},
   "outputs": [],
   "source": [
    "np.random.seed(0)\n",
    "num_samples = 1000\n",
    "num_features = 5\n",
    "\n",
    "X = np.random.randn(num_samples, num_features)\n",
    "y = np.concatenate([np.zeros(900), np.ones(100)]) \n",
    "\n",
    "# Create a DataFrame\n",
    "feature_names = [f'feature_{i}' for i in range(num_features)]\n",
    "df = pd.DataFrame(X, columns=feature_names)\n",
    "df['Class'] = y.astype(int)"
   ]
  },
  {
   "cell_type": "code",
   "execution_count": null,
   "id": "c1c6a92c-2c85-4d73-9b62-b8d9921e1185",
   "metadata": {},
   "outputs": [],
   "source": [
    "df.head()"
   ]
  },
  {
   "cell_type": "code",
   "execution_count": null,
   "id": "a33cde1a-e54d-4398-9997-9d37b74cd373",
   "metadata": {},
   "outputs": [],
   "source": [
    "df[\"Class\"].value_counts()"
   ]
  },
  {
   "cell_type": "code",
   "execution_count": null,
   "id": "1627929f-f725-4415-860b-a765154dc1b8",
   "metadata": {},
   "outputs": [],
   "source": [
    "smote = SMOTE(random_state=42)\n",
    "X_resampled, y_resampled = smote.fit_resample(df.drop('Class', axis=1), df['Class'])"
   ]
  },
  {
   "cell_type": "code",
   "execution_count": null,
   "id": "68306f25-d81f-49db-ae46-f568324e47fe",
   "metadata": {},
   "outputs": [],
   "source": [
    "X_resampled"
   ]
  },
  {
   "cell_type": "code",
   "execution_count": null,
   "id": "56b773ce-b48b-4aae-8d67-fcaac32c093b",
   "metadata": {},
   "outputs": [],
   "source": [
    "df_resampled = pd.DataFrame(X_resampled, columns=feature_names)\n",
    "df_resampled['Class'] = y_resampled"
   ]
  },
  {
   "cell_type": "code",
   "execution_count": null,
   "id": "27836e69-5596-4bb4-a858-46857e270c62",
   "metadata": {},
   "outputs": [],
   "source": [
    "df_resampled[\"Class\"].value_counts()"
   ]
  },
  {
   "cell_type": "code",
   "execution_count": null,
   "id": "978dfe35-f28f-40f1-b259-8c2a7848cb64",
   "metadata": {},
   "outputs": [],
   "source": [
    "df_resampled.duplicated().sum()"
   ]
  },
  {
   "cell_type": "markdown",
   "id": "dea700e0-4e38-4286-8db3-b9c95ee31335",
   "metadata": {},
   "source": [
    "### UNDERSAMPLING"
   ]
  },
  {
   "cell_type": "code",
   "execution_count": null,
   "id": "72e3a59a-63a4-4dd2-9a46-160851a7f2b5",
   "metadata": {},
   "outputs": [],
   "source": [
    "class0_data = np.random.randn(900, 5)\n",
    "class0_df = pd.DataFrame(class0_data, columns=[f'feature_{i}' for i in range(5)])\n",
    "class0_df['Class'] = 0\n",
    "\n",
    "class1_data = np.random.randn(400, 5)\n",
    "class1_df = pd.DataFrame(class1_data, columns=[f'feature_{i}' for i in range(5)])\n",
    "class1_df['Class'] = 1\n",
    "\n",
    "df = pd.concat([class0_df, class1_df], ignore_index=True)\n",
    "df.head()"
   ]
  },
  {
   "cell_type": "code",
   "execution_count": null,
   "id": "23c5dd9c-cb22-4ee7-8357-a4912b3fb2dd",
   "metadata": {},
   "outputs": [],
   "source": [
    "df['Class'].value_counts()"
   ]
  },
  {
   "cell_type": "code",
   "execution_count": null,
   "id": "da972c15-d811-49f6-9e6f-73c4acd211eb",
   "metadata": {},
   "outputs": [],
   "source": [
    "class_0 = df[df[\"Class\"]==0]\n",
    "class_1 = df[df[\"Class\"]==1]"
   ]
  },
  {
   "cell_type": "code",
   "execution_count": null,
   "id": "6435e889-b510-4325-9f26-d7d10681b498",
   "metadata": {},
   "outputs": [],
   "source": [
    "class_0.shape"
   ]
  },
  {
   "cell_type": "code",
   "execution_count": null,
   "id": "fea0d1c5-8a32-4fe9-8639-cb841db58681",
   "metadata": {},
   "outputs": [],
   "source": [
    "class_1.shape"
   ]
  },
  {
   "cell_type": "code",
   "execution_count": null,
   "id": "4e12f8ec-3997-4629-bbdf-c3e871d84885",
   "metadata": {},
   "outputs": [],
   "source": [
    "undersampled_class0 = class_0.sample(n=400, random_state=42)"
   ]
  },
  {
   "cell_type": "code",
   "execution_count": null,
   "id": "0a132c9d-c4a9-41d7-a751-5a4d34a36a74",
   "metadata": {},
   "outputs": [],
   "source": [
    "undersampled_class0.shape"
   ]
  },
  {
   "cell_type": "code",
   "execution_count": null,
   "id": "73c33db8-955b-46ca-9966-ffe36a366ffc",
   "metadata": {},
   "outputs": [],
   "source": [
    "df_resampled = pd.concat([undersampled_class0, class_1], ignore_index=True)"
   ]
  },
  {
   "cell_type": "code",
   "execution_count": null,
   "id": "09436f51-bcfb-41c3-a5aa-78e4fee6dca9",
   "metadata": {},
   "outputs": [],
   "source": [
    "df_resampled.tail()"
   ]
  },
  {
   "cell_type": "code",
   "execution_count": null,
   "id": "4f478b03-85d0-4738-a030-11195e403026",
   "metadata": {},
   "outputs": [],
   "source": [
    "df_resampled[\"Class\"].value_counts()"
   ]
  },
  {
   "cell_type": "code",
   "execution_count": null,
   "id": "291e933e-050c-414b-981b-92dd256716bc",
   "metadata": {},
   "outputs": [],
   "source": [
    "## SHUFFLING\n",
    "df_resampled = df_resampled.sample(frac=1, random_state=0).reset_index(drop=True)"
   ]
  },
  {
   "cell_type": "code",
   "execution_count": null,
   "id": "213a6475-4ffb-4e0e-981b-012814b047df",
   "metadata": {},
   "outputs": [],
   "source": [
    "df_resampled.head()"
   ]
  },
  {
   "cell_type": "markdown",
   "id": "0dbf03e2-4c42-44d4-bcfd-c20c4e53116f",
   "metadata": {},
   "source": [
    "### HYBRID SAMPLING"
   ]
  },
  {
   "cell_type": "code",
   "execution_count": 2,
   "id": "18c3a18a-2950-48aa-987b-73a31eccf954",
   "metadata": {},
   "outputs": [],
   "source": [
    "np.random.seed(0)\n",
    "\n",
    "# Class 0 (majority class): 900 samples\n",
    "class0_data = np.random.randn(900, 5)\n",
    "class0_df = pd.DataFrame(class0_data, columns=[f'feature_{i}' for i in range(5)])\n",
    "class0_df['Class'] = 0\n",
    "\n",
    "# Class 1 (minority class): 100 samples\n",
    "class1_data = np.random.randn(100, 5)\n",
    "class1_df = pd.DataFrame(class1_data, columns=[f'feature_{i}' for i in range(5)])\n",
    "class1_df['Class'] = 1\n",
    "\n",
    "# Combine into a single DataFrame\n",
    "df = pd.concat([class0_df, class1_df], ignore_index=True)"
   ]
  },
  {
   "cell_type": "code",
   "execution_count": 3,
   "id": "fac0a624-3441-42aa-a843-db0309e7e2c1",
   "metadata": {},
   "outputs": [
    {
     "data": {
      "text/html": [
       "<div>\n",
       "<style scoped>\n",
       "    .dataframe tbody tr th:only-of-type {\n",
       "        vertical-align: middle;\n",
       "    }\n",
       "\n",
       "    .dataframe tbody tr th {\n",
       "        vertical-align: top;\n",
       "    }\n",
       "\n",
       "    .dataframe thead th {\n",
       "        text-align: right;\n",
       "    }\n",
       "</style>\n",
       "<table border=\"1\" class=\"dataframe\">\n",
       "  <thead>\n",
       "    <tr style=\"text-align: right;\">\n",
       "      <th></th>\n",
       "      <th>feature_0</th>\n",
       "      <th>feature_1</th>\n",
       "      <th>feature_2</th>\n",
       "      <th>feature_3</th>\n",
       "      <th>feature_4</th>\n",
       "      <th>Class</th>\n",
       "    </tr>\n",
       "  </thead>\n",
       "  <tbody>\n",
       "    <tr>\n",
       "      <th>0</th>\n",
       "      <td>1.764052</td>\n",
       "      <td>0.400157</td>\n",
       "      <td>0.978738</td>\n",
       "      <td>2.240893</td>\n",
       "      <td>1.867558</td>\n",
       "      <td>0</td>\n",
       "    </tr>\n",
       "    <tr>\n",
       "      <th>1</th>\n",
       "      <td>-0.977278</td>\n",
       "      <td>0.950088</td>\n",
       "      <td>-0.151357</td>\n",
       "      <td>-0.103219</td>\n",
       "      <td>0.410599</td>\n",
       "      <td>0</td>\n",
       "    </tr>\n",
       "    <tr>\n",
       "      <th>2</th>\n",
       "      <td>0.144044</td>\n",
       "      <td>1.454274</td>\n",
       "      <td>0.761038</td>\n",
       "      <td>0.121675</td>\n",
       "      <td>0.443863</td>\n",
       "      <td>0</td>\n",
       "    </tr>\n",
       "    <tr>\n",
       "      <th>3</th>\n",
       "      <td>0.333674</td>\n",
       "      <td>1.494079</td>\n",
       "      <td>-0.205158</td>\n",
       "      <td>0.313068</td>\n",
       "      <td>-0.854096</td>\n",
       "      <td>0</td>\n",
       "    </tr>\n",
       "    <tr>\n",
       "      <th>4</th>\n",
       "      <td>-2.552990</td>\n",
       "      <td>0.653619</td>\n",
       "      <td>0.864436</td>\n",
       "      <td>-0.742165</td>\n",
       "      <td>2.269755</td>\n",
       "      <td>0</td>\n",
       "    </tr>\n",
       "  </tbody>\n",
       "</table>\n",
       "</div>"
      ],
      "text/plain": [
       "   feature_0  feature_1  feature_2  feature_3  feature_4  Class\n",
       "0   1.764052   0.400157   0.978738   2.240893   1.867558      0\n",
       "1  -0.977278   0.950088  -0.151357  -0.103219   0.410599      0\n",
       "2   0.144044   1.454274   0.761038   0.121675   0.443863      0\n",
       "3   0.333674   1.494079  -0.205158   0.313068  -0.854096      0\n",
       "4  -2.552990   0.653619   0.864436  -0.742165   2.269755      0"
      ]
     },
     "execution_count": 3,
     "metadata": {},
     "output_type": "execute_result"
    }
   ],
   "source": [
    "df.head()"
   ]
  },
  {
   "cell_type": "code",
   "execution_count": 4,
   "id": "deb376cd-8686-4445-8828-15eaa82fe96e",
   "metadata": {},
   "outputs": [
    {
     "data": {
      "text/plain": [
       "Class\n",
       "0    900\n",
       "1    100\n",
       "Name: count, dtype: int64"
      ]
     },
     "execution_count": 4,
     "metadata": {},
     "output_type": "execute_result"
    }
   ],
   "source": [
    "df[\"Class\"].value_counts()"
   ]
  },
  {
   "cell_type": "code",
   "execution_count": 5,
   "id": "37f746d6-24cd-4d1c-90a1-3dd2b76b8bd5",
   "metadata": {},
   "outputs": [],
   "source": [
    "from imblearn.over_sampling import SMOTE\n",
    "from imblearn.under_sampling import RandomUnderSampler"
   ]
  },
  {
   "cell_type": "code",
   "execution_count": 6,
   "id": "81fe4b01-9b25-413d-a8a4-0353a771e541",
   "metadata": {},
   "outputs": [],
   "source": [
    "### UNDERSAMPLINNG\n",
    "undersample_strategy = {0 : 300}  # Undersample majority class to the size of minority class\n",
    "\n",
    "\n",
    "undersampler = RandomUnderSampler(sampling_strategy=undersample_strategy, random_state=0)\n",
    "\n",
    "X_resampled, y_resampled = undersampler.fit_resample(df.drop('Class', axis=1), df['Class'])"
   ]
  },
  {
   "cell_type": "code",
   "execution_count": 7,
   "id": "ebbd09a0-914f-4d66-840a-e7c528459095",
   "metadata": {},
   "outputs": [
    {
     "data": {
      "text/plain": [
       "((400, 5), (400,))"
      ]
     },
     "execution_count": 7,
     "metadata": {},
     "output_type": "execute_result"
    }
   ],
   "source": [
    "X_resampled.shape , y_resampled.shape"
   ]
  },
  {
   "cell_type": "code",
   "execution_count": 8,
   "id": "74f0369d-08a0-4831-8745-373d8436c4c3",
   "metadata": {},
   "outputs": [],
   "source": [
    "### SMOTE\n",
    "smote = SMOTE(random_state=0)\n",
    "X_resampled, y_resampled = smote.fit_resample(X_resampled, y_resampled)"
   ]
  },
  {
   "cell_type": "code",
   "execution_count": 9,
   "id": "eae98246-9aa5-4310-ab6c-df1fd818611f",
   "metadata": {},
   "outputs": [
    {
     "data": {
      "text/plain": [
       "((600, 5), (600,))"
      ]
     },
     "execution_count": 9,
     "metadata": {},
     "output_type": "execute_result"
    }
   ],
   "source": [
    "X_resampled.shape , y_resampled.shape"
   ]
  },
  {
   "cell_type": "code",
   "execution_count": 10,
   "id": "0976dc82-8ea6-4140-8d1f-03a7341eb926",
   "metadata": {},
   "outputs": [],
   "source": [
    "# Convert resampled data back to DataFrame\n",
    "df_resampled = pd.DataFrame(X_resampled, columns=[f'feature_{i}' for i in range(5)])\n",
    "df_resampled['Class'] = y_resampled"
   ]
  },
  {
   "cell_type": "code",
   "execution_count": 11,
   "id": "3fb11c67-2d68-477d-ab37-ee720556089a",
   "metadata": {},
   "outputs": [
    {
     "data": {
      "text/plain": [
       "Class\n",
       "0    300\n",
       "1    300\n",
       "Name: count, dtype: int64"
      ]
     },
     "execution_count": 11,
     "metadata": {},
     "output_type": "execute_result"
    }
   ],
   "source": [
    "df_resampled[\"Class\"].value_counts()"
   ]
  },
  {
   "cell_type": "code",
   "execution_count": 12,
   "id": "49b5a189-abc7-48ef-9ccd-4194d6483841",
   "metadata": {},
   "outputs": [
    {
     "data": {
      "text/html": [
       "<div>\n",
       "<style scoped>\n",
       "    .dataframe tbody tr th:only-of-type {\n",
       "        vertical-align: middle;\n",
       "    }\n",
       "\n",
       "    .dataframe tbody tr th {\n",
       "        vertical-align: top;\n",
       "    }\n",
       "\n",
       "    .dataframe thead th {\n",
       "        text-align: right;\n",
       "    }\n",
       "</style>\n",
       "<table border=\"1\" class=\"dataframe\">\n",
       "  <thead>\n",
       "    <tr style=\"text-align: right;\">\n",
       "      <th></th>\n",
       "      <th>feature_0</th>\n",
       "      <th>feature_1</th>\n",
       "      <th>feature_2</th>\n",
       "      <th>feature_3</th>\n",
       "      <th>feature_4</th>\n",
       "      <th>Class</th>\n",
       "    </tr>\n",
       "  </thead>\n",
       "  <tbody>\n",
       "    <tr>\n",
       "      <th>0</th>\n",
       "      <td>-0.935127</td>\n",
       "      <td>0.381824</td>\n",
       "      <td>0.398296</td>\n",
       "      <td>-1.255775</td>\n",
       "      <td>1.222877</td>\n",
       "      <td>0</td>\n",
       "    </tr>\n",
       "    <tr>\n",
       "      <th>1</th>\n",
       "      <td>2.132153</td>\n",
       "      <td>0.936446</td>\n",
       "      <td>-0.035095</td>\n",
       "      <td>1.265078</td>\n",
       "      <td>0.211497</td>\n",
       "      <td>0</td>\n",
       "    </tr>\n",
       "    <tr>\n",
       "      <th>2</th>\n",
       "      <td>0.100159</td>\n",
       "      <td>-0.475175</td>\n",
       "      <td>1.272954</td>\n",
       "      <td>-1.696131</td>\n",
       "      <td>0.730184</td>\n",
       "      <td>0</td>\n",
       "    </tr>\n",
       "    <tr>\n",
       "      <th>3</th>\n",
       "      <td>-0.663478</td>\n",
       "      <td>1.126636</td>\n",
       "      <td>-1.079932</td>\n",
       "      <td>-1.147469</td>\n",
       "      <td>-0.437820</td>\n",
       "      <td>0</td>\n",
       "    </tr>\n",
       "    <tr>\n",
       "      <th>4</th>\n",
       "      <td>0.677246</td>\n",
       "      <td>-0.031911</td>\n",
       "      <td>-0.173608</td>\n",
       "      <td>0.898241</td>\n",
       "      <td>-0.197787</td>\n",
       "      <td>0</td>\n",
       "    </tr>\n",
       "  </tbody>\n",
       "</table>\n",
       "</div>"
      ],
      "text/plain": [
       "   feature_0  feature_1  feature_2  feature_3  feature_4  Class\n",
       "0  -0.935127   0.381824   0.398296  -1.255775   1.222877      0\n",
       "1   2.132153   0.936446  -0.035095   1.265078   0.211497      0\n",
       "2   0.100159  -0.475175   1.272954  -1.696131   0.730184      0\n",
       "3  -0.663478   1.126636  -1.079932  -1.147469  -0.437820      0\n",
       "4   0.677246  -0.031911  -0.173608   0.898241  -0.197787      0"
      ]
     },
     "execution_count": 12,
     "metadata": {},
     "output_type": "execute_result"
    }
   ],
   "source": [
    "df_resampled.head()"
   ]
  },
  {
   "cell_type": "code",
   "execution_count": 13,
   "id": "c73bba78-3cb3-4aa5-a7e1-ed91027079ff",
   "metadata": {},
   "outputs": [],
   "source": [
    "### SHUFFLING\n",
    "df_resampled = df_resampled.sample(frac=1, random_state=0).reset_index(drop=True)"
   ]
  },
  {
   "cell_type": "code",
   "execution_count": 14,
   "id": "260712bf-41e0-4719-bb34-29fa5574fe3d",
   "metadata": {},
   "outputs": [
    {
     "data": {
      "text/html": [
       "<div>\n",
       "<style scoped>\n",
       "    .dataframe tbody tr th:only-of-type {\n",
       "        vertical-align: middle;\n",
       "    }\n",
       "\n",
       "    .dataframe tbody tr th {\n",
       "        vertical-align: top;\n",
       "    }\n",
       "\n",
       "    .dataframe thead th {\n",
       "        text-align: right;\n",
       "    }\n",
       "</style>\n",
       "<table border=\"1\" class=\"dataframe\">\n",
       "  <thead>\n",
       "    <tr style=\"text-align: right;\">\n",
       "      <th></th>\n",
       "      <th>feature_0</th>\n",
       "      <th>feature_1</th>\n",
       "      <th>feature_2</th>\n",
       "      <th>feature_3</th>\n",
       "      <th>feature_4</th>\n",
       "      <th>Class</th>\n",
       "    </tr>\n",
       "  </thead>\n",
       "  <tbody>\n",
       "    <tr>\n",
       "      <th>0</th>\n",
       "      <td>-0.946076</td>\n",
       "      <td>1.153331</td>\n",
       "      <td>0.077131</td>\n",
       "      <td>-0.213818</td>\n",
       "      <td>-0.555937</td>\n",
       "      <td>1</td>\n",
       "    </tr>\n",
       "    <tr>\n",
       "      <th>1</th>\n",
       "      <td>-0.779923</td>\n",
       "      <td>0.089076</td>\n",
       "      <td>-0.129153</td>\n",
       "      <td>0.264739</td>\n",
       "      <td>-1.661848</td>\n",
       "      <td>0</td>\n",
       "    </tr>\n",
       "    <tr>\n",
       "      <th>2</th>\n",
       "      <td>-0.062053</td>\n",
       "      <td>1.259167</td>\n",
       "      <td>0.704111</td>\n",
       "      <td>-1.495680</td>\n",
       "      <td>2.526368</td>\n",
       "      <td>0</td>\n",
       "    </tr>\n",
       "    <tr>\n",
       "      <th>3</th>\n",
       "      <td>1.077169</td>\n",
       "      <td>0.825145</td>\n",
       "      <td>-0.189224</td>\n",
       "      <td>1.232787</td>\n",
       "      <td>0.331181</td>\n",
       "      <td>1</td>\n",
       "    </tr>\n",
       "    <tr>\n",
       "      <th>4</th>\n",
       "      <td>-0.184951</td>\n",
       "      <td>-0.176783</td>\n",
       "      <td>-2.199254</td>\n",
       "      <td>0.729289</td>\n",
       "      <td>1.100558</td>\n",
       "      <td>0</td>\n",
       "    </tr>\n",
       "  </tbody>\n",
       "</table>\n",
       "</div>"
      ],
      "text/plain": [
       "   feature_0  feature_1  feature_2  feature_3  feature_4  Class\n",
       "0  -0.946076   1.153331   0.077131  -0.213818  -0.555937      1\n",
       "1  -0.779923   0.089076  -0.129153   0.264739  -1.661848      0\n",
       "2  -0.062053   1.259167   0.704111  -1.495680   2.526368      0\n",
       "3   1.077169   0.825145  -0.189224   1.232787   0.331181      1\n",
       "4  -0.184951  -0.176783  -2.199254   0.729289   1.100558      0"
      ]
     },
     "execution_count": 14,
     "metadata": {},
     "output_type": "execute_result"
    }
   ],
   "source": [
    "df_resampled.head()"
   ]
  },
  {
   "cell_type": "code",
   "execution_count": null,
   "id": "183c485a-bead-437f-b81a-cd9ab8c683dc",
   "metadata": {},
   "outputs": [],
   "source": []
  },
  {
   "cell_type": "code",
   "execution_count": null,
   "id": "788eb4d0-162e-4bc9-ae09-176dc61646b4",
   "metadata": {},
   "outputs": [],
   "source": []
  },
  {
   "cell_type": "code",
   "execution_count": null,
   "id": "7711eed8-9b41-49c8-93a8-0d8c56e2c139",
   "metadata": {},
   "outputs": [],
   "source": []
  },
  {
   "cell_type": "code",
   "execution_count": null,
   "id": "9bb76379-65e0-4c40-9529-e043f6c117de",
   "metadata": {},
   "outputs": [],
   "source": []
  }
 ],
 "metadata": {
  "kernelspec": {
   "display_name": "Python 3 (ipykernel)",
   "language": "python",
   "name": "python3"
  },
  "language_info": {
   "codemirror_mode": {
    "name": "ipython",
    "version": 3
   },
   "file_extension": ".py",
   "mimetype": "text/x-python",
   "name": "python",
   "nbconvert_exporter": "python",
   "pygments_lexer": "ipython3",
   "version": "3.11.7"
  }
 },
 "nbformat": 4,
 "nbformat_minor": 5
}
