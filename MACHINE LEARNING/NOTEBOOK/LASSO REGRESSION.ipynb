{
 "cells": [
  {
   "cell_type": "code",
   "execution_count": 2,
   "id": "f4954b07-971c-4592-b5e2-d82b4b924f1d",
   "metadata": {},
   "outputs": [],
   "source": [
    "import numpy as np\n",
    "import pandas as pd\n",
    "import matplotlib.pyplot as plt\n",
    "\n",
    "from sklearn.datasets import load_diabetes\n",
    "from sklearn.model_selection import train_test_split\n",
    "from sklearn.linear_model import Lasso , LinearRegression\n",
    "from sklearn.metrics import mean_squared_error, r2_score\n"
   ]
  },
  {
   "cell_type": "code",
   "execution_count": null,
   "id": "70d70115-3314-4f48-9868-2cdad4d7e91b",
   "metadata": {},
   "outputs": [],
   "source": [
    "diabetes = load_diabetes()\n",
    "\n",
    "data = pd.DataFrame(diabetes.data, columns=diabetes.feature_names)\n",
    "data['target'] = diabetes.target"
   ]
  },
  {
   "cell_type": "code",
   "execution_count": null,
   "id": "1c165f99-7d7c-4dc7-b906-4ffba74e5ecb",
   "metadata": {},
   "outputs": [],
   "source": [
    "data.head()"
   ]
  },
  {
   "cell_type": "code",
   "execution_count": null,
   "id": "d7082a52-0231-4745-860e-013b864e6338",
   "metadata": {},
   "outputs": [],
   "source": [
    "X = data.drop('target', axis=1)\n",
    "y = data['target']\n",
    "\n",
    "X_train, X_test, y_train, y_test = train_test_split(X, y, test_size=0.2, random_state=42)"
   ]
  },
  {
   "cell_type": "markdown",
   "id": "abe51c0c-dad1-4ca0-b72e-fd37ba5ffa3d",
   "metadata": {},
   "source": [
    "### Applying Linear Regression"
   ]
  },
  {
   "cell_type": "code",
   "execution_count": null,
   "id": "e77a0cc0-2540-4751-8b79-e7347a9c9175",
   "metadata": {},
   "outputs": [],
   "source": [
    "\n",
    "lr = LinearRegression()\n",
    "\n",
    "lr.fit(X_train, y_train)\n",
    "\n",
    "y_pred = lr.predict(X_test)"
   ]
  },
  {
   "cell_type": "code",
   "execution_count": null,
   "id": "abeb16dc-81f8-428b-bc17-a46dd1897f4b",
   "metadata": {},
   "outputs": [],
   "source": [
    "y_pred"
   ]
  },
  {
   "cell_type": "code",
   "execution_count": null,
   "id": "aeb1a740-f4de-4411-a201-ca5545bbb57c",
   "metadata": {},
   "outputs": [],
   "source": [
    "mse = mean_squared_error(y_test, y_pred)\n",
    "r2 = r2_score(y_test, y_pred)\n",
    "\n",
    "print(f\"Mean Squared Error: {mse}\")\n",
    "print(f\"R^2 Score: {r2}\")"
   ]
  },
  {
   "cell_type": "code",
   "execution_count": null,
   "id": "b20baf1e-ca86-4167-9b3e-1155aa07245d",
   "metadata": {},
   "outputs": [],
   "source": [
    "# Display the coefficients\n",
    "coef = pd.Series(lr.coef_, index=X.columns)"
   ]
  },
  {
   "cell_type": "code",
   "execution_count": null,
   "id": "12e2bf76-1e6d-48ba-b3d7-addb4e359fed",
   "metadata": {},
   "outputs": [],
   "source": [
    "coef"
   ]
  },
  {
   "cell_type": "markdown",
   "id": "11020e87-7097-4583-bf4f-c217054269ce",
   "metadata": {},
   "source": [
    "### Applying Lasso Regression"
   ]
  },
  {
   "cell_type": "code",
   "execution_count": null,
   "id": "ba9b1000-8932-4f54-a3b6-b3214e1f3558",
   "metadata": {},
   "outputs": [],
   "source": [
    "\n",
    "lasso = Lasso(alpha=0.1)\n",
    "\n",
    "lasso.fit(X_train, y_train)\n",
    "\n",
    "y_pred = lasso.predict(X_test)"
   ]
  },
  {
   "cell_type": "code",
   "execution_count": null,
   "id": "292b6f9d-0c5c-4c2d-b6de-9152448d8681",
   "metadata": {},
   "outputs": [],
   "source": [
    "mse = mean_squared_error(y_test, y_pred)\n",
    "r2 = r2_score(y_test, y_pred)\n",
    "\n",
    "print(f\"Mean Squared Error: {mse}\")\n",
    "print(f\"R^2 Score: {r2}\")"
   ]
  },
  {
   "cell_type": "code",
   "execution_count": null,
   "id": "d63f0da0-a92e-4bbc-b09b-a37502cdda32",
   "metadata": {},
   "outputs": [],
   "source": [
    "# Display the coefficients\n",
    "coef = pd.Series(lasso.coef_, index=X.columns)"
   ]
  },
  {
   "cell_type": "code",
   "execution_count": null,
   "id": "e2eb05d8-7a1d-405f-8387-67a189cc6036",
   "metadata": {},
   "outputs": [],
   "source": [
    "lasso.intercept_"
   ]
  },
  {
   "cell_type": "code",
   "execution_count": null,
   "id": "c51e3604-995b-4bc8-8915-43e60a257ecb",
   "metadata": {},
   "outputs": [],
   "source": [
    "coef"
   ]
  },
  {
   "cell_type": "code",
   "execution_count": null,
   "id": "91ad92ae-0394-4253-8689-fb5a056cdd34",
   "metadata": {},
   "outputs": [],
   "source": []
  },
  {
   "cell_type": "markdown",
   "id": "49116959-21be-4fbb-9a68-477d25ad810d",
   "metadata": {},
   "source": [
    "## SPARSITY IN LASSO"
   ]
  },
  {
   "cell_type": "code",
   "execution_count": 1,
   "id": "67535737-34ce-4fac-ad1e-f30b4d119735",
   "metadata": {},
   "outputs": [],
   "source": [
    "from sklearn.datasets import make_regression\n",
    "from sklearn.preprocessing import StandardScaler"
   ]
  },
  {
   "cell_type": "code",
   "execution_count": 3,
   "id": "fde8e648-a889-425e-b429-85c6437e714d",
   "metadata": {},
   "outputs": [],
   "source": [
    "np.random.seed(42)"
   ]
  },
  {
   "cell_type": "code",
   "execution_count": 4,
   "id": "c8dae32a-5e66-4d03-95ce-00c5cb35daf1",
   "metadata": {},
   "outputs": [],
   "source": [
    "X, y = make_regression(n_samples=1000, n_features=100, n_informative=10, noise=0.1, random_state=42)"
   ]
  },
  {
   "cell_type": "code",
   "execution_count": 5,
   "id": "cba540ca-b5f2-42d4-aeb8-b5f6f81d1e66",
   "metadata": {},
   "outputs": [
    {
     "data": {
      "text/html": [
       "<div>\n",
       "<style scoped>\n",
       "    .dataframe tbody tr th:only-of-type {\n",
       "        vertical-align: middle;\n",
       "    }\n",
       "\n",
       "    .dataframe tbody tr th {\n",
       "        vertical-align: top;\n",
       "    }\n",
       "\n",
       "    .dataframe thead th {\n",
       "        text-align: right;\n",
       "    }\n",
       "</style>\n",
       "<table border=\"1\" class=\"dataframe\">\n",
       "  <thead>\n",
       "    <tr style=\"text-align: right;\">\n",
       "      <th></th>\n",
       "      <th>feature_0</th>\n",
       "      <th>feature_1</th>\n",
       "      <th>feature_2</th>\n",
       "      <th>feature_3</th>\n",
       "      <th>feature_4</th>\n",
       "      <th>feature_5</th>\n",
       "      <th>feature_6</th>\n",
       "      <th>feature_7</th>\n",
       "      <th>feature_8</th>\n",
       "      <th>feature_9</th>\n",
       "      <th>...</th>\n",
       "      <th>feature_91</th>\n",
       "      <th>feature_92</th>\n",
       "      <th>feature_93</th>\n",
       "      <th>feature_94</th>\n",
       "      <th>feature_95</th>\n",
       "      <th>feature_96</th>\n",
       "      <th>feature_97</th>\n",
       "      <th>feature_98</th>\n",
       "      <th>feature_99</th>\n",
       "      <th>target</th>\n",
       "    </tr>\n",
       "  </thead>\n",
       "  <tbody>\n",
       "    <tr>\n",
       "      <th>0</th>\n",
       "      <td>-0.353273</td>\n",
       "      <td>-1.469201</td>\n",
       "      <td>-0.748674</td>\n",
       "      <td>0.568326</td>\n",
       "      <td>0.442359</td>\n",
       "      <td>-0.209873</td>\n",
       "      <td>0.482965</td>\n",
       "      <td>-0.086548</td>\n",
       "      <td>-0.276123</td>\n",
       "      <td>0.328453</td>\n",
       "      <td>...</td>\n",
       "      <td>-0.721595</td>\n",
       "      <td>-0.627373</td>\n",
       "      <td>2.202578</td>\n",
       "      <td>1.795924</td>\n",
       "      <td>-0.397011</td>\n",
       "      <td>1.392781</td>\n",
       "      <td>-0.719678</td>\n",
       "      <td>0.244672</td>\n",
       "      <td>-2.457507</td>\n",
       "      <td>-234.747811</td>\n",
       "    </tr>\n",
       "    <tr>\n",
       "      <th>1</th>\n",
       "      <td>0.257256</td>\n",
       "      <td>2.140309</td>\n",
       "      <td>-0.630692</td>\n",
       "      <td>-0.572608</td>\n",
       "      <td>-0.171383</td>\n",
       "      <td>0.338625</td>\n",
       "      <td>1.846603</td>\n",
       "      <td>-0.085243</td>\n",
       "      <td>-0.202000</td>\n",
       "      <td>0.927974</td>\n",
       "      <td>...</td>\n",
       "      <td>0.347883</td>\n",
       "      <td>-0.447221</td>\n",
       "      <td>-0.185935</td>\n",
       "      <td>0.549527</td>\n",
       "      <td>0.739119</td>\n",
       "      <td>-1.233837</td>\n",
       "      <td>-1.265086</td>\n",
       "      <td>-0.095604</td>\n",
       "      <td>-0.745764</td>\n",
       "      <td>51.233025</td>\n",
       "    </tr>\n",
       "    <tr>\n",
       "      <th>2</th>\n",
       "      <td>0.781233</td>\n",
       "      <td>-0.657438</td>\n",
       "      <td>1.976438</td>\n",
       "      <td>-0.169421</td>\n",
       "      <td>-0.920985</td>\n",
       "      <td>0.474556</td>\n",
       "      <td>-0.210418</td>\n",
       "      <td>0.612659</td>\n",
       "      <td>-0.205452</td>\n",
       "      <td>0.967930</td>\n",
       "      <td>...</td>\n",
       "      <td>-0.151687</td>\n",
       "      <td>-0.320438</td>\n",
       "      <td>0.389994</td>\n",
       "      <td>1.184124</td>\n",
       "      <td>-1.637070</td>\n",
       "      <td>-0.513537</td>\n",
       "      <td>1.676920</td>\n",
       "      <td>-0.630121</td>\n",
       "      <td>-1.034070</td>\n",
       "      <td>-106.716029</td>\n",
       "    </tr>\n",
       "    <tr>\n",
       "      <th>3</th>\n",
       "      <td>-2.358464</td>\n",
       "      <td>0.204154</td>\n",
       "      <td>-1.579345</td>\n",
       "      <td>0.289784</td>\n",
       "      <td>-0.174711</td>\n",
       "      <td>-0.024830</td>\n",
       "      <td>-1.862864</td>\n",
       "      <td>-0.585063</td>\n",
       "      <td>-0.133526</td>\n",
       "      <td>0.454331</td>\n",
       "      <td>...</td>\n",
       "      <td>-0.825769</td>\n",
       "      <td>-0.228151</td>\n",
       "      <td>-0.014925</td>\n",
       "      <td>0.435048</td>\n",
       "      <td>0.362451</td>\n",
       "      <td>-0.488274</td>\n",
       "      <td>0.282450</td>\n",
       "      <td>2.384598</td>\n",
       "      <td>-0.429833</td>\n",
       "      <td>-55.619155</td>\n",
       "    </tr>\n",
       "    <tr>\n",
       "      <th>4</th>\n",
       "      <td>-0.448543</td>\n",
       "      <td>1.635798</td>\n",
       "      <td>0.564842</td>\n",
       "      <td>0.211397</td>\n",
       "      <td>-0.318748</td>\n",
       "      <td>-1.472037</td>\n",
       "      <td>0.644518</td>\n",
       "      <td>0.808036</td>\n",
       "      <td>-1.389299</td>\n",
       "      <td>-0.114802</td>\n",
       "      <td>...</td>\n",
       "      <td>0.305243</td>\n",
       "      <td>-0.048965</td>\n",
       "      <td>-0.739771</td>\n",
       "      <td>-0.143259</td>\n",
       "      <td>1.040062</td>\n",
       "      <td>-1.400071</td>\n",
       "      <td>0.711411</td>\n",
       "      <td>1.122374</td>\n",
       "      <td>1.378470</td>\n",
       "      <td>-111.074505</td>\n",
       "    </tr>\n",
       "  </tbody>\n",
       "</table>\n",
       "<p>5 rows × 101 columns</p>\n",
       "</div>"
      ],
      "text/plain": [
       "   feature_0  feature_1  feature_2  feature_3  feature_4  feature_5  \\\n",
       "0  -0.353273  -1.469201  -0.748674   0.568326   0.442359  -0.209873   \n",
       "1   0.257256   2.140309  -0.630692  -0.572608  -0.171383   0.338625   \n",
       "2   0.781233  -0.657438   1.976438  -0.169421  -0.920985   0.474556   \n",
       "3  -2.358464   0.204154  -1.579345   0.289784  -0.174711  -0.024830   \n",
       "4  -0.448543   1.635798   0.564842   0.211397  -0.318748  -1.472037   \n",
       "\n",
       "   feature_6  feature_7  feature_8  feature_9  ...  feature_91  feature_92  \\\n",
       "0   0.482965  -0.086548  -0.276123   0.328453  ...   -0.721595   -0.627373   \n",
       "1   1.846603  -0.085243  -0.202000   0.927974  ...    0.347883   -0.447221   \n",
       "2  -0.210418   0.612659  -0.205452   0.967930  ...   -0.151687   -0.320438   \n",
       "3  -1.862864  -0.585063  -0.133526   0.454331  ...   -0.825769   -0.228151   \n",
       "4   0.644518   0.808036  -1.389299  -0.114802  ...    0.305243   -0.048965   \n",
       "\n",
       "   feature_93  feature_94  feature_95  feature_96  feature_97  feature_98  \\\n",
       "0    2.202578    1.795924   -0.397011    1.392781   -0.719678    0.244672   \n",
       "1   -0.185935    0.549527    0.739119   -1.233837   -1.265086   -0.095604   \n",
       "2    0.389994    1.184124   -1.637070   -0.513537    1.676920   -0.630121   \n",
       "3   -0.014925    0.435048    0.362451   -0.488274    0.282450    2.384598   \n",
       "4   -0.739771   -0.143259    1.040062   -1.400071    0.711411    1.122374   \n",
       "\n",
       "   feature_99      target  \n",
       "0   -2.457507 -234.747811  \n",
       "1   -0.745764   51.233025  \n",
       "2   -1.034070 -106.716029  \n",
       "3   -0.429833  -55.619155  \n",
       "4    1.378470 -111.074505  \n",
       "\n",
       "[5 rows x 101 columns]"
      ]
     },
     "execution_count": 5,
     "metadata": {},
     "output_type": "execute_result"
    }
   ],
   "source": [
    "feature_names = [f'feature_{i}' for i in range(X.shape[1])]\n",
    "data = pd.DataFrame(X, columns=feature_names)\n",
    "data['target'] = y\n",
    "\n",
    "data.head()"
   ]
  },
  {
   "cell_type": "code",
   "execution_count": 6,
   "id": "0589f8e6-7389-4742-91ee-cf879337dbe9",
   "metadata": {},
   "outputs": [
    {
     "data": {
      "text/plain": [
       "101"
      ]
     },
     "execution_count": 6,
     "metadata": {},
     "output_type": "execute_result"
    }
   ],
   "source": [
    "len(data.columns)"
   ]
  },
  {
   "cell_type": "code",
   "execution_count": 7,
   "id": "46a85b1f-3e06-42b4-9b26-dc3ae10b1a48",
   "metadata": {},
   "outputs": [],
   "source": [
    "X = data.drop('target', axis=1)\n",
    "y = data['target']\n",
    "X_train, X_test, y_train, y_test = train_test_split(X, y, test_size=0.2, random_state=42)"
   ]
  },
  {
   "cell_type": "code",
   "execution_count": 8,
   "id": "5b9434e6-572e-48d4-9c08-23b07bf016cc",
   "metadata": {},
   "outputs": [],
   "source": [
    "scaler = StandardScaler()\n",
    "X_train_scaled = scaler.fit_transform(X_train)\n",
    "X_test_scaled = scaler.transform(X_test)"
   ]
  },
  {
   "cell_type": "code",
   "execution_count": 9,
   "id": "fda21372-f5f2-41ad-a24b-7eeef61e14dc",
   "metadata": {},
   "outputs": [],
   "source": [
    "lasso = Lasso(alpha=0.1)\n",
    "\n",
    "lasso.fit(X_train_scaled, y_train)\n",
    "\n",
    "y_pred = lasso.predict(X_test_scaled)"
   ]
  },
  {
   "cell_type": "code",
   "execution_count": 10,
   "id": "6819a3e3-b3c4-4ab1-baa7-c663353aebc1",
   "metadata": {},
   "outputs": [],
   "source": [
    "coef = pd.Series(lasso.coef_, index=X.columns)"
   ]
  },
  {
   "cell_type": "code",
   "execution_count": 11,
   "id": "f5372562-6cb3-4fe6-9352-ce744289907a",
   "metadata": {},
   "outputs": [
    {
     "data": {
      "text/plain": [
       "feature_0     0.0\n",
       "feature_1     0.0\n",
       "feature_2    -0.0\n",
       "feature_3     0.0\n",
       "feature_4     0.0\n",
       "             ... \n",
       "feature_95   -0.0\n",
       "feature_96   -0.0\n",
       "feature_97    0.0\n",
       "feature_98   -0.0\n",
       "feature_99   -0.0\n",
       "Length: 100, dtype: float64"
      ]
     },
     "execution_count": 11,
     "metadata": {},
     "output_type": "execute_result"
    }
   ],
   "source": [
    "coef"
   ]
  },
  {
   "cell_type": "code",
   "execution_count": 12,
   "id": "210482c2-a01e-40e7-af85-127f73cf0477",
   "metadata": {},
   "outputs": [
    {
     "name": "stdout",
     "output_type": "stream",
     "text": [
      "Number of non-zero coefficients: 10\n"
     ]
    }
   ],
   "source": [
    "non_zero_coef = (coef != 0).sum()\n",
    "print(f\"Number of non-zero coefficients: {non_zero_coef}\")"
   ]
  },
  {
   "cell_type": "code",
   "execution_count": null,
   "id": "c5f2b512-3290-411b-85d3-824615cbea64",
   "metadata": {},
   "outputs": [],
   "source": [
    "### Initially total input columns : 100\n",
    "### Non-zero coefficient columns : 10\n",
    "### Zero coefficient columns : 90"
   ]
  },
  {
   "cell_type": "code",
   "execution_count": 13,
   "id": "b8516781-478f-4063-8625-08a979d431b9",
   "metadata": {},
   "outputs": [
    {
     "data": {
      "image/png": "[encoded data removed]",
      "text/plain": [
       "<Figure size 1400x600 with 1 Axes>"
      ]
     },
     "metadata": {},
     "output_type": "display_data"
    }
   ],
   "source": [
    "plt.figure(figsize=(14, 6))\n",
    "coef.plot(kind='bar')\n",
    "plt.title('Lasso Coefficients (Sparsity)')\n",
    "plt.xlabel('Features')\n",
    "plt.ylabel('Coefficient Value')\n",
    "plt.show()"
   ]
  },
  {
   "cell_type": "code",
   "execution_count": null,
   "id": "79ee8046-d553-43e2-9ed3-e479354e63ce",
   "metadata": {},
   "outputs": [],
   "source": []
  }
 ],
 "metadata": {
  "kernelspec": {
   "display_name": "Python 3 (ipykernel)",
   "language": "python",
   "name": "python3"
  },
  "language_info": {
   "codemirror_mode": {
    "name": "ipython",
    "version": 3
   },
   "file_extension": ".py",
   "mimetype": "text/x-python",
   "name": "python",
   "nbconvert_exporter": "python",
   "pygments_lexer": "ipython3",
   "version": "3.11.7"
  }
 },
 "nbformat": 4,
 "nbformat_minor": 5
}
