{
 "cells": [
  {
   "cell_type": "code",
   "execution_count": 1,
   "id": "d2f86eac-18db-4a07-8783-ca5eb32e5790",
   "metadata": {},
   "outputs": [],
   "source": [
    "import numpy as np\n",
    "import pandas as pd\n",
    "from sklearn.datasets import fetch_california_housing\n",
    "from sklearn.model_selection import train_test_split\n",
    "\n",
    "from sklearn.preprocessing import StandardScaler\n",
    "\n",
    "from sklearn.linear_model import LinearRegression, Lasso, Ridge\n",
    "from sklearn.metrics import mean_squared_error, r2_score"
   ]
  },
  {
   "cell_type": "code",
   "execution_count": 2,
   "id": "450d8115-3ea0-4f71-9777-6bfa4ab0b250",
   "metadata": {},
   "outputs": [],
   "source": [
    "california = fetch_california_housing()\n",
    "data = pd.DataFrame(california.data, columns=california.feature_names)\n",
    "data['MedHouseVal'] = california.target"
   ]
  },
  {
   "cell_type": "code",
   "execution_count": 3,
   "id": "8957045e-bcfa-41ea-9601-da7155010d5d",
   "metadata": {},
   "outputs": [
    {
     "data": {
      "text/html": [
       "<div>\n",
       "<style scoped>\n",
       "    .dataframe tbody tr th:only-of-type {\n",
       "        vertical-align: middle;\n",
       "    }\n",
       "\n",
       "    .dataframe tbody tr th {\n",
       "        vertical-align: top;\n",
       "    }\n",
       "\n",
       "    .dataframe thead th {\n",
       "        text-align: right;\n",
       "    }\n",
       "</style>\n",
       "<table border=\"1\" class=\"dataframe\">\n",
       "  <thead>\n",
       "    <tr style=\"text-align: right;\">\n",
       "      <th></th>\n",
       "      <th>MedInc</th>\n",
       "      <th>HouseAge</th>\n",
       "      <th>AveRooms</th>\n",
       "      <th>AveBedrms</th>\n",
       "      <th>Population</th>\n",
       "      <th>AveOccup</th>\n",
       "      <th>Latitude</th>\n",
       "      <th>Longitude</th>\n",
       "      <th>MedHouseVal</th>\n",
       "    </tr>\n",
       "  </thead>\n",
       "  <tbody>\n",
       "    <tr>\n",
       "      <th>0</th>\n",
       "      <td>8.3252</td>\n",
       "      <td>41.0</td>\n",
       "      <td>6.984127</td>\n",
       "      <td>1.023810</td>\n",
       "      <td>322.0</td>\n",
       "      <td>2.555556</td>\n",
       "      <td>37.88</td>\n",
       "      <td>-122.23</td>\n",
       "      <td>4.526</td>\n",
       "    </tr>\n",
       "    <tr>\n",
       "      <th>1</th>\n",
       "      <td>8.3014</td>\n",
       "      <td>21.0</td>\n",
       "      <td>6.238137</td>\n",
       "      <td>0.971880</td>\n",
       "      <td>2401.0</td>\n",
       "      <td>2.109842</td>\n",
       "      <td>37.86</td>\n",
       "      <td>-122.22</td>\n",
       "      <td>3.585</td>\n",
       "    </tr>\n",
       "    <tr>\n",
       "      <th>2</th>\n",
       "      <td>7.2574</td>\n",
       "      <td>52.0</td>\n",
       "      <td>8.288136</td>\n",
       "      <td>1.073446</td>\n",
       "      <td>496.0</td>\n",
       "      <td>2.802260</td>\n",
       "      <td>37.85</td>\n",
       "      <td>-122.24</td>\n",
       "      <td>3.521</td>\n",
       "    </tr>\n",
       "    <tr>\n",
       "      <th>3</th>\n",
       "      <td>5.6431</td>\n",
       "      <td>52.0</td>\n",
       "      <td>5.817352</td>\n",
       "      <td>1.073059</td>\n",
       "      <td>558.0</td>\n",
       "      <td>2.547945</td>\n",
       "      <td>37.85</td>\n",
       "      <td>-122.25</td>\n",
       "      <td>3.413</td>\n",
       "    </tr>\n",
       "    <tr>\n",
       "      <th>4</th>\n",
       "      <td>3.8462</td>\n",
       "      <td>52.0</td>\n",
       "      <td>6.281853</td>\n",
       "      <td>1.081081</td>\n",
       "      <td>565.0</td>\n",
       "      <td>2.181467</td>\n",
       "      <td>37.85</td>\n",
       "      <td>-122.25</td>\n",
       "      <td>3.422</td>\n",
       "    </tr>\n",
       "  </tbody>\n",
       "</table>\n",
       "</div>"
      ],
      "text/plain": [
       "   MedInc  HouseAge  AveRooms  AveBedrms  Population  AveOccup  Latitude  \\\n",
       "0  8.3252      41.0  6.984127   1.023810       322.0  2.555556     37.88   \n",
       "1  8.3014      21.0  6.238137   0.971880      2401.0  2.109842     37.86   \n",
       "2  7.2574      52.0  8.288136   1.073446       496.0  2.802260     37.85   \n",
       "3  5.6431      52.0  5.817352   1.073059       558.0  2.547945     37.85   \n",
       "4  3.8462      52.0  6.281853   1.081081       565.0  2.181467     37.85   \n",
       "\n",
       "   Longitude  MedHouseVal  \n",
       "0    -122.23        4.526  \n",
       "1    -122.22        3.585  \n",
       "2    -122.24        3.521  \n",
       "3    -122.25        3.413  \n",
       "4    -122.25        3.422  "
      ]
     },
     "execution_count": 3,
     "metadata": {},
     "output_type": "execute_result"
    }
   ],
   "source": [
    "data.head()"
   ]
  },
  {
   "cell_type": "code",
   "execution_count": 4,
   "id": "80907ee3-d3f3-4aa4-a23a-0f572d0f723e",
   "metadata": {},
   "outputs": [],
   "source": [
    "X = data.drop('MedHouseVal', axis=1)\n",
    "y = data['MedHouseVal']"
   ]
  },
  {
   "cell_type": "code",
   "execution_count": 5,
   "id": "daec8270-c22d-4338-8e90-d0e865514578",
   "metadata": {},
   "outputs": [],
   "source": [
    "X_train, X_test, y_train, y_test = train_test_split(X, y, test_size=0.2, random_state=42)"
   ]
  },
  {
   "cell_type": "code",
   "execution_count": 6,
   "id": "31313c13-ec4b-434b-ba5a-ff8c431a8aec",
   "metadata": {},
   "outputs": [],
   "source": [
    "scaler = StandardScaler()\n",
    "X_train = scaler.fit_transform(X_train)\n",
    "X_test = scaler.transform(X_test)"
   ]
  },
  {
   "cell_type": "markdown",
   "id": "38f11231-1647-47e9-8abc-e8755c85a732",
   "metadata": {},
   "source": [
    "### APPLY LINEAR REGRESSION"
   ]
  },
  {
   "cell_type": "code",
   "execution_count": 8,
   "id": "d92da3dc-12c4-4c96-91b1-47f917ad543f",
   "metadata": {},
   "outputs": [],
   "source": [
    "linear_reg = LinearRegression()\n",
    "linear_reg.fit(X_train, y_train)\n",
    "y_pred_linear = linear_reg.predict(X_test)\n",
    "mse_linear = mean_squared_error(y_test, y_pred_linear)\n",
    "r2_linear = r2_score(y_test, y_pred_linear)"
   ]
  },
  {
   "cell_type": "code",
   "execution_count": 9,
   "id": "0c3b28ab-1d37-4638-91a8-d7be653d5de8",
   "metadata": {},
   "outputs": [
    {
     "name": "stdout",
     "output_type": "stream",
     "text": [
      "MSE Linear Reg : 0.5558915986952441\n"
     ]
    }
   ],
   "source": [
    "print(f\"MSE Linear Reg : {mse_linear}\")"
   ]
  },
  {
   "cell_type": "code",
   "execution_count": 10,
   "id": "f4a3076c-58fe-47f9-9668-3ef228e6fd8e",
   "metadata": {},
   "outputs": [
    {
     "name": "stdout",
     "output_type": "stream",
     "text": [
      "R2 Linear Reg : 0.575787706032451\n"
     ]
    }
   ],
   "source": [
    "print(f\"R2 Linear Reg : {r2_linear}\")"
   ]
  },
  {
   "cell_type": "markdown",
   "id": "793890bf-915e-4c1f-8ceb-59648b0e2c39",
   "metadata": {},
   "source": [
    "### APPLY LASSO REGRESSION"
   ]
  },
  {
   "cell_type": "code",
   "execution_count": 11,
   "id": "c9e13b61-0652-468c-b811-e0bb222981ef",
   "metadata": {},
   "outputs": [],
   "source": [
    "lasso_reg = Lasso(alpha=0.1)\n",
    "lasso_reg.fit(X_train, y_train)\n",
    "y_pred_lasso = lasso_reg.predict(X_test)\n",
    "mse_lasso = mean_squared_error(y_test, y_pred_lasso)\n",
    "r2_lasso = r2_score(y_test, y_pred_lasso)"
   ]
  },
  {
   "cell_type": "code",
   "execution_count": 12,
   "id": "9b633cbf-1d9b-42d1-94f9-9f9440138748",
   "metadata": {},
   "outputs": [
    {
     "name": "stdout",
     "output_type": "stream",
     "text": [
      "MSE Lasso Reg : 0.6796290284328825\n"
     ]
    }
   ],
   "source": [
    "print(f\"MSE Lasso Reg : {mse_lasso}\")"
   ]
  },
  {
   "cell_type": "code",
   "execution_count": 13,
   "id": "92ff236d-038a-4070-83e1-2e33294ac8ee",
   "metadata": {},
   "outputs": [
    {
     "name": "stdout",
     "output_type": "stream",
     "text": [
      "R2 Lasso Reg : 0.48136113250290735\n"
     ]
    }
   ],
   "source": [
    "print(f\"R2 Lasso Reg : {r2_lasso}\")"
   ]
  },
  {
   "cell_type": "code",
   "execution_count": 14,
   "id": "2ffe4f82-bed0-4c69-a28c-8ea9b614e72a",
   "metadata": {},
   "outputs": [
    {
     "data": {
      "text/plain": [
       "array([ 0.71059779,  0.1064527 , -0.        ,  0.        , -0.        ,\n",
       "       -0.        , -0.01146856, -0.        ])"
      ]
     },
     "execution_count": 14,
     "metadata": {},
     "output_type": "execute_result"
    }
   ],
   "source": [
    "lasso_reg.coef_"
   ]
  },
  {
   "cell_type": "markdown",
   "id": "940798a1-6b4c-4c6c-b705-5991ebfc0992",
   "metadata": {},
   "source": [
    "### APPLY RIDGE"
   ]
  },
  {
   "cell_type": "code",
   "execution_count": 15,
   "id": "5b92d982-34ed-4557-90f8-6a9eb342aa3d",
   "metadata": {},
   "outputs": [],
   "source": [
    "ridge_reg = Ridge(alpha=1.0)\n",
    "ridge_reg.fit(X_train, y_train)\n",
    "y_pred_ridge = ridge_reg.predict(X_test)\n",
    "\n",
    "mse_ridge = mean_squared_error(y_test, y_pred_ridge)\n",
    "r2_ridge = r2_score(y_test, y_pred_ridge)"
   ]
  },
  {
   "cell_type": "code",
   "execution_count": 16,
   "id": "0797f4c6-65a3-4068-8f40-20eceb338765",
   "metadata": {},
   "outputs": [
    {
     "name": "stdout",
     "output_type": "stream",
     "text": [
      "MSE Ridge Reg : 0.5558548589435974\n"
     ]
    }
   ],
   "source": [
    "print(f\"MSE Ridge Reg : {mse_ridge}\")"
   ]
  },
  {
   "cell_type": "code",
   "execution_count": 17,
   "id": "79019158-5106-4145-ba24-5d6c58c38c7d",
   "metadata": {},
   "outputs": [
    {
     "name": "stdout",
     "output_type": "stream",
     "text": [
      "R2 Ridge Reg : 0.575815742891368\n"
     ]
    }
   ],
   "source": [
    "print(f\"R2 Ridge Reg : {r2_ridge}\")"
   ]
  },
  {
   "cell_type": "code",
   "execution_count": 18,
   "id": "788ccaec-a44b-4dbc-a046-809b3b96b231",
   "metadata": {},
   "outputs": [
    {
     "data": {
      "text/plain": [
       "array([ 0.85432679,  0.12262397, -0.29421036,  0.33900794, -0.00228221,\n",
       "       -0.04083302, -0.89616759, -0.86907074])"
      ]
     },
     "execution_count": 18,
     "metadata": {},
     "output_type": "execute_result"
    }
   ],
   "source": [
    "ridge_reg.coef_"
   ]
  },
  {
   "cell_type": "code",
   "execution_count": 19,
   "id": "f4f30d31-72c1-4be6-8eff-d066f55221c3",
   "metadata": {},
   "outputs": [
    {
     "data": {
      "text/plain": [
       "2.0719469373788777"
      ]
     },
     "execution_count": 19,
     "metadata": {},
     "output_type": "execute_result"
    }
   ],
   "source": [
    "ridge_reg.intercept_"
   ]
  },
  {
   "cell_type": "code",
   "execution_count": null,
   "id": "dfb04f67-4959-4824-80a5-53ddad2b42c7",
   "metadata": {},
   "outputs": [],
   "source": []
  }
 ],
 "metadata": {
  "kernelspec": {
   "display_name": "Python 3 (ipykernel)",
   "language": "python",
   "name": "python3"
  },
  "language_info": {
   "codemirror_mode": {
    "name": "ipython",
    "version": 3
   },
   "file_extension": ".py",
   "mimetype": "text/x-python",
   "name": "python",
   "nbconvert_exporter": "python",
   "pygments_lexer": "ipython3",
   "version": "3.11.7"
  }
 },
 "nbformat": 4,
 "nbformat_minor": 5
}
