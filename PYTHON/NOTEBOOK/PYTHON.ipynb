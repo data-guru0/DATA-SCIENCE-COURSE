{
 "cells": [
  {
   "cell_type": "markdown",
   "id": "569cfd00-354d-45e5-a233-eb2b1e379aa5",
   "metadata": {},
   "source": [
    "### 1. Printing in Python"
   ]
  },
  {
   "cell_type": "code",
   "execution_count": 2,
   "id": "081937cc-16ff-4e24-a8ab-c26dff154548",
   "metadata": {},
   "outputs": [
    {
     "name": "stdout",
     "output_type": "stream",
     "text": [
      "Hello World\n"
     ]
    }
   ],
   "source": [
    "print(\"Hello World\")"
   ]
  },
  {
   "cell_type": "markdown",
   "id": "34a3bfc2-b077-4b25-8396-c555eb000103",
   "metadata": {},
   "source": [
    "### 2. Comments in Python"
   ]
  },
  {
   "cell_type": "code",
   "execution_count": 3,
   "id": "a7d82054-7603-41d1-b9a2-15379b5666b8",
   "metadata": {},
   "outputs": [],
   "source": [
    "### Single Line"
   ]
  },
  {
   "cell_type": "code",
   "execution_count": 5,
   "id": "3d89bf54-43b4-41ab-b7f4-d9aef66de24d",
   "metadata": {},
   "outputs": [
    {
     "name": "stdout",
     "output_type": "stream",
     "text": [
      "Hello world\n"
     ]
    }
   ],
   "source": [
    "print(\"Hello world\") #It prints hello world"
   ]
  },
  {
   "cell_type": "code",
   "execution_count": null,
   "id": "ea07785e-b40f-4bd0-81ea-39b51aefca00",
   "metadata": {},
   "outputs": [],
   "source": [
    "### Multiline comments- No"
   ]
  },
  {
   "cell_type": "code",
   "execution_count": null,
   "id": "da278bda-de15-427c-99d1-c7821b926a32",
   "metadata": {},
   "outputs": [],
   "source": [
    "# This is a comment\n",
    "# This is a comment"
   ]
  },
  {
   "cell_type": "code",
   "execution_count": null,
   "id": "52981771-b6a5-4602-9772-f7184e5a5eca",
   "metadata": {},
   "outputs": [],
   "source": [
    "### Docstrings"
   ]
  },
  {
   "cell_type": "code",
   "execution_count": 6,
   "id": "a6cd69c0-7fae-4f25-a737-4bb817a7fb3c",
   "metadata": {},
   "outputs": [
    {
     "data": {
      "text/plain": [
       "'\\nThis is a docstring\\nThis is a docstring\\n'"
      ]
     },
     "execution_count": 6,
     "metadata": {},
     "output_type": "execute_result"
    }
   ],
   "source": [
    "\"\"\"\n",
    "This is a docstring\n",
    "This is a docstring\n",
    "\"\"\""
   ]
  },
  {
   "cell_type": "markdown",
   "id": "5b6b6997-d38c-47fc-8e40-2d87d92e2355",
   "metadata": {},
   "source": [
    "### 3. Variables in Python"
   ]
  },
  {
   "cell_type": "code",
   "execution_count": null,
   "id": "4ea980c3-2c61-47df-9b4a-92700d7977a5",
   "metadata": {},
   "outputs": [],
   "source": [
    "## Containers for storing value"
   ]
  },
  {
   "cell_type": "code",
   "execution_count": null,
   "id": "4aa87f3a-dda4-467f-98be-f114f02183c9",
   "metadata": {},
   "outputs": [],
   "source": [
    "## Case sensitive : abc , ABC"
   ]
  },
  {
   "cell_type": "code",
   "execution_count": null,
   "id": "bf299ecb-ada7-4ab9-af5d-7bce328afa5f",
   "metadata": {},
   "outputs": [],
   "source": [
    "var_name = value"
   ]
  },
  {
   "cell_type": "code",
   "execution_count": 7,
   "id": "cb16a0ae-f9cc-45df-aaf7-ce7237099923",
   "metadata": {},
   "outputs": [],
   "source": [
    "abc = 5"
   ]
  },
  {
   "cell_type": "code",
   "execution_count": 8,
   "id": "45024cf2-5470-478e-a357-03753a304c9a",
   "metadata": {},
   "outputs": [
    {
     "name": "stdout",
     "output_type": "stream",
     "text": [
      "5\n"
     ]
    }
   ],
   "source": [
    "print(abc)"
   ]
  },
  {
   "cell_type": "code",
   "execution_count": null,
   "id": "914d4629-790e-4065-9d6f-aa622f93969e",
   "metadata": {},
   "outputs": [],
   "source": [
    "a=5\n",
    "b=10\n",
    "c=12"
   ]
  },
  {
   "cell_type": "code",
   "execution_count": 11,
   "id": "faf708b9-9476-4c15-999b-f2536cccb207",
   "metadata": {},
   "outputs": [
    {
     "name": "stdout",
     "output_type": "stream",
     "text": [
      "12\n"
     ]
    }
   ],
   "source": [
    "a,b,c = 5,10,12\n",
    "print(c)"
   ]
  },
  {
   "cell_type": "code",
   "execution_count": 12,
   "id": "23c44925-76d4-4c4e-a8e6-d76ddb193bbd",
   "metadata": {},
   "outputs": [
    {
     "name": "stdout",
     "output_type": "stream",
     "text": [
      "5 10 12\n"
     ]
    }
   ],
   "source": [
    "print(a,b,c)"
   ]
  },
  {
   "cell_type": "code",
   "execution_count": 15,
   "id": "8b6cbde0-2be4-496d-9c29-1c26dd5f1777",
   "metadata": {},
   "outputs": [
    {
     "name": "stdout",
     "output_type": "stream",
     "text": [
      "5\n"
     ]
    }
   ],
   "source": [
    "a = b = c = 5\n",
    "print(c)"
   ]
  },
  {
   "cell_type": "markdown",
   "id": "17864ff9-6ff4-49b1-b82f-260f8e7792f3",
   "metadata": {},
   "source": [
    "### Global variables"
   ]
  },
  {
   "cell_type": "code",
   "execution_count": 20,
   "id": "08e5e757-3301-490e-bac9-00d3af8eff02",
   "metadata": {},
   "outputs": [],
   "source": [
    "x = \"We are learning Java\"\n",
    "\n",
    "def print_name():\n",
    "    global x\n",
    "    x = \"We are learning Python\"\n",
    "    print(x)"
   ]
  },
  {
   "cell_type": "code",
   "execution_count": 21,
   "id": "0db765e8-dae6-45b2-a7a5-6be3e862106c",
   "metadata": {},
   "outputs": [
    {
     "name": "stdout",
     "output_type": "stream",
     "text": [
      "We are learning Python\n"
     ]
    }
   ],
   "source": [
    "print_name()"
   ]
  },
  {
   "cell_type": "code",
   "execution_count": 22,
   "id": "49d68ae4-94d9-4ae9-a0fe-a4cf84545608",
   "metadata": {},
   "outputs": [
    {
     "name": "stdout",
     "output_type": "stream",
     "text": [
      "We are learning Python\n"
     ]
    }
   ],
   "source": [
    "print(x)"
   ]
  },
  {
   "cell_type": "markdown",
   "id": "ba94dfd4-8286-4b40-94d9-2157d2862041",
   "metadata": {},
   "source": [
    "### 4. Built-In Data Types in Python "
   ]
  },
  {
   "cell_type": "code",
   "execution_count": 23,
   "id": "622ee396-a27a-471b-ad6a-29be1dec3768",
   "metadata": {},
   "outputs": [],
   "source": [
    "## type function"
   ]
  },
  {
   "cell_type": "code",
   "execution_count": 24,
   "id": "8ffa827a-459b-4371-aa57-7cf5cd3034a7",
   "metadata": {},
   "outputs": [
    {
     "data": {
      "text/plain": [
       "str"
      ]
     },
     "execution_count": 24,
     "metadata": {},
     "output_type": "execute_result"
    }
   ],
   "source": [
    "x = \"We are learning\"\n",
    "type(x)"
   ]
  },
  {
   "cell_type": "markdown",
   "id": "8b0a9b1b-6935-4459-b71c-5846bc87b7ca",
   "metadata": {},
   "source": [
    "### 5. Numerical Data Types"
   ]
  },
  {
   "cell_type": "code",
   "execution_count": null,
   "id": "ed06d7b7-d65c-437b-a55f-1df8f7f26795",
   "metadata": {},
   "outputs": [],
   "source": [
    "### int , float , complex"
   ]
  },
  {
   "cell_type": "code",
   "execution_count": 30,
   "id": "5aed15cf-a2f7-4896-b5ac-b4ef41a03dec",
   "metadata": {},
   "outputs": [
    {
     "name": "stdout",
     "output_type": "stream",
     "text": [
      "1j\n"
     ]
    },
    {
     "data": {
      "text/plain": [
       "complex"
      ]
     },
     "execution_count": 30,
     "metadata": {},
     "output_type": "execute_result"
    }
   ],
   "source": [
    "x = 1j\n",
    "print(x)\n",
    "type(x)"
   ]
  },
  {
   "cell_type": "code",
   "execution_count": 33,
   "id": "b1dbe72d-aa77-4414-bc3d-1dfbdfaef36e",
   "metadata": {},
   "outputs": [
    {
     "name": "stdout",
     "output_type": "stream",
     "text": [
      "None\n"
     ]
    },
    {
     "data": {
      "text/plain": [
       "NoneType"
      ]
     },
     "execution_count": 33,
     "metadata": {},
     "output_type": "execute_result"
    }
   ],
   "source": [
    "### None\n",
    "\n",
    "x = None\n",
    "print(x)\n",
    "type(x)"
   ]
  },
  {
   "cell_type": "markdown",
   "id": "3412a30a-5fa7-4080-a8c9-da4a3a68c2ce",
   "metadata": {},
   "source": [
    "### 6. Python Strings"
   ]
  },
  {
   "cell_type": "code",
   "execution_count": null,
   "id": "05002ea6-db3e-4906-9cab-3023ec9ef509",
   "metadata": {},
   "outputs": [],
   "source": [
    "\"\" , ''"
   ]
  },
  {
   "cell_type": "code",
   "execution_count": null,
   "id": "da216e5f-caf4-406d-9514-608030cbc074",
   "metadata": {},
   "outputs": [],
   "source": [
    "\"\"\"\n",
    "\"\"\""
   ]
  },
  {
   "cell_type": "code",
   "execution_count": 47,
   "id": "64ee6a7f-51a5-4bc4-b7e9-6f31c5ce4c9f",
   "metadata": {},
   "outputs": [
    {
     "name": "stdout",
     "output_type": "stream",
     "text": [
      "Hello World\n"
     ]
    },
    {
     "data": {
      "text/plain": [
       "str"
      ]
     },
     "execution_count": 47,
     "metadata": {},
     "output_type": "execute_result"
    }
   ],
   "source": [
    "a = \"Hello World\"\n",
    "print(a)\n",
    "type(a)"
   ]
  },
  {
   "cell_type": "code",
   "execution_count": 41,
   "id": "dfce40e8-f7f8-42c5-917e-2115126df31d",
   "metadata": {},
   "outputs": [
    {
     "name": "stdout",
     "output_type": "stream",
     "text": [
      "Hello\n"
     ]
    }
   ],
   "source": [
    "print(a)"
   ]
  },
  {
   "cell_type": "code",
   "execution_count": 46,
   "id": "0691ac06-95e3-4b54-9557-be275d38763f",
   "metadata": {},
   "outputs": [
    {
     "data": {
      "text/plain": [
       "'l'"
      ]
     },
     "execution_count": 46,
     "metadata": {},
     "output_type": "execute_result"
    }
   ],
   "source": [
    "### Indexing\n",
    "a[-3]"
   ]
  },
  {
   "cell_type": "code",
   "execution_count": 48,
   "id": "f517b5cf-75bd-4eed-8ed4-f6c2dd7cb2c6",
   "metadata": {},
   "outputs": [
    {
     "data": {
      "text/plain": [
       "'Hello World'"
      ]
     },
     "execution_count": 48,
     "metadata": {},
     "output_type": "execute_result"
    }
   ],
   "source": [
    "a"
   ]
  },
  {
   "cell_type": "code",
   "execution_count": 50,
   "id": "31af6646-ef19-4251-8ba3-a06617dbeaae",
   "metadata": {},
   "outputs": [
    {
     "data": {
      "text/plain": [
       "'HloW'"
      ]
     },
     "execution_count": 50,
     "metadata": {},
     "output_type": "execute_result"
    }
   ],
   "source": [
    "### Slicing of String\n",
    "a[0:8:2]"
   ]
  },
  {
   "cell_type": "code",
   "execution_count": 51,
   "id": "0763a793-2718-4b9e-b782-469fba4b1897",
   "metadata": {},
   "outputs": [],
   "source": [
    "#### Methods of Strings"
   ]
  },
  {
   "cell_type": "code",
   "execution_count": 52,
   "id": "1e568108-4776-46fb-b933-8d1fad659679",
   "metadata": {},
   "outputs": [
    {
     "data": {
      "text/plain": [
       "'HELLO WORLD'"
      ]
     },
     "execution_count": 52,
     "metadata": {},
     "output_type": "execute_result"
    }
   ],
   "source": [
    "### 1. upper()\n",
    "x = \"hello world\"\n",
    "x.upper()"
   ]
  },
  {
   "cell_type": "code",
   "execution_count": 53,
   "id": "6d478255-bbcd-4619-961f-fbbe3b9c4559",
   "metadata": {},
   "outputs": [
    {
     "data": {
      "text/plain": [
       "'hello'"
      ]
     },
     "execution_count": 53,
     "metadata": {},
     "output_type": "execute_result"
    }
   ],
   "source": [
    "####2. lower()\n",
    "x =\"Hello\"\n",
    "x.lower()"
   ]
  },
  {
   "cell_type": "code",
   "execution_count": 54,
   "id": "06e106d6-746b-44ba-9881-cf59021f2526",
   "metadata": {},
   "outputs": [
    {
     "name": "stdout",
     "output_type": "stream",
     "text": [
      "Hello\n"
     ]
    }
   ],
   "source": [
    "### len()\n",
    "print(x)"
   ]
  },
  {
   "cell_type": "code",
   "execution_count": 55,
   "id": "70564b74-a81b-4bba-94e7-6bc313d9cf4c",
   "metadata": {},
   "outputs": [
    {
     "data": {
      "text/plain": [
       "5"
      ]
     },
     "execution_count": 55,
     "metadata": {},
     "output_type": "execute_result"
    }
   ],
   "source": [
    "len(x)"
   ]
  },
  {
   "cell_type": "code",
   "execution_count": 57,
   "id": "2804e977-4a28-4de0-9f27-12ea223eacef",
   "metadata": {},
   "outputs": [
    {
     "data": {
      "text/plain": [
       "'Hello world'"
      ]
     },
     "execution_count": 57,
     "metadata": {},
     "output_type": "execute_result"
    }
   ],
   "source": [
    "### captialise \n",
    "\n",
    "x= \"hello world\"\n",
    "x.capitalize()"
   ]
  },
  {
   "cell_type": "code",
   "execution_count": 58,
   "id": "22c59aac-c747-43f8-83dc-e6649c9ee780",
   "metadata": {},
   "outputs": [
    {
     "data": {
      "text/plain": [
       "'HEllo'"
      ]
     },
     "execution_count": 58,
     "metadata": {},
     "output_type": "execute_result"
    }
   ],
   "source": [
    "### strip()\n",
    "x = \"            HEllo   \"\n",
    "x.strip()"
   ]
  },
  {
   "cell_type": "code",
   "execution_count": 59,
   "id": "173eeb1c-d7c9-4971-9db2-fa876e53e2e1",
   "metadata": {},
   "outputs": [
    {
     "data": {
      "text/plain": [
       "'We are learning Python'"
      ]
     },
     "execution_count": 59,
     "metadata": {},
     "output_type": "execute_result"
    }
   ],
   "source": [
    "### replace\n",
    "x = \"We are learning Java\"\n",
    "x.replace(\"Java\" , \"Python\")"
   ]
  },
  {
   "cell_type": "code",
   "execution_count": 60,
   "id": "f0638689-78d4-4812-8d84-7db5b464c9e8",
   "metadata": {},
   "outputs": [
    {
     "data": {
      "text/plain": [
       "['We are ', ' learning ', ' Java']"
      ]
     },
     "execution_count": 60,
     "metadata": {},
     "output_type": "execute_result"
    }
   ],
   "source": [
    "### split()\n",
    "x = \"We are , learning , Java\"\n",
    "x.split(\",\")\n"
   ]
  },
  {
   "cell_type": "code",
   "execution_count": 63,
   "id": "a0666bae-26ca-4d84-81ee-39d099862607",
   "metadata": {},
   "outputs": [
    {
     "name": "stdout",
     "output_type": "stream",
     "text": [
      "We are learning Python\n"
     ]
    }
   ],
   "source": [
    "### String concatenation\n",
    "a = \"We are \"\n",
    "b =\"learning Python\"\n",
    "\n",
    "c=a+b\n",
    "print(c)"
   ]
  },
  {
   "cell_type": "markdown",
   "id": "92738834-3667-42c7-968f-d6944e62cf3e",
   "metadata": {},
   "source": [
    "#### Formatting Strings"
   ]
  },
  {
   "cell_type": "code",
   "execution_count": 64,
   "id": "1f5ec90b-d74f-416c-85c9-98e08bbc5b01",
   "metadata": {},
   "outputs": [
    {
     "name": "stdout",
     "output_type": "stream",
     "text": [
      "Rohan is 18 years old\n"
     ]
    }
   ],
   "source": [
    "###### 1. format method\n",
    "name=\"Rohan\"\n",
    "age = 18\n",
    "# Rohan is 18 years old\n",
    "c = \"{} is {} years old\".format(name,age)\n",
    "print(c)"
   ]
  },
  {
   "cell_type": "code",
   "execution_count": 65,
   "id": "cd0be7cb-8c71-4960-9d93-6658ba73b4f8",
   "metadata": {},
   "outputs": [
    {
     "name": "stdout",
     "output_type": "stream",
     "text": [
      "Rohan is 18 years old\n"
     ]
    }
   ],
   "source": [
    "##### f strings\n",
    "name=\"Rohan\"\n",
    "age = 18\n",
    "c = f\"{name} is {age} years old\"\n",
    "print(c)"
   ]
  },
  {
   "cell_type": "code",
   "execution_count": null,
   "id": "a80066b1-1b4e-4512-b960-9b6640763dec",
   "metadata": {},
   "outputs": [],
   "source": [
    "### Escape chracters\n",
    "We are learning Python\n",
    "We are doing good"
   ]
  },
  {
   "cell_type": "code",
   "execution_count": 67,
   "id": "3debe5f9-1e05-4a35-a34c-87470b71b78e",
   "metadata": {},
   "outputs": [
    {
     "name": "stdout",
     "output_type": "stream",
     "text": [
      "We are learning Python. \n",
      "We are doing good\n"
     ]
    }
   ],
   "source": [
    "a = \"We are learning Python. \\nWe are doing good\"\n",
    "print(a)"
   ]
  },
  {
   "cell_type": "code",
   "execution_count": null,
   "id": "a0114c55-25bf-4154-a51d-670d2a71d43d",
   "metadata": {},
   "outputs": [],
   "source": [
    "He said \"I am fine\""
   ]
  },
  {
   "cell_type": "code",
   "execution_count": 70,
   "id": "8ebbdbc6-1dcd-443c-b539-054b18c0adef",
   "metadata": {},
   "outputs": [
    {
     "name": "stdout",
     "output_type": "stream",
     "text": [
      "He said \"I am fine\" \n"
     ]
    }
   ],
   "source": [
    "c = \"He said \\\"I am fine\\\" \" \n",
    "print(c)"
   ]
  },
  {
   "cell_type": "markdown",
   "id": "379ff65c-a158-4189-b47b-585e3232f663",
   "metadata": {},
   "source": [
    "### 7. Python Booleans"
   ]
  },
  {
   "cell_type": "code",
   "execution_count": null,
   "id": "fedf8007-26c0-48e1-9ade-6b18d442fa6a",
   "metadata": {},
   "outputs": [],
   "source": [
    "True , False"
   ]
  },
  {
   "cell_type": "code",
   "execution_count": 71,
   "id": "58ab64db-52ea-406f-b6b9-1a53d26da344",
   "metadata": {},
   "outputs": [
    {
     "name": "stdout",
     "output_type": "stream",
     "text": [
      "True\n",
      "False\n"
     ]
    }
   ],
   "source": [
    "a = True\n",
    "b = False\n",
    "print(a)"
   ]
  },
  {
   "cell_type": "code",
   "execution_count": 73,
   "id": "c765ff6b-6755-4e22-a9e5-ffe27fc70686",
   "metadata": {},
   "outputs": [
    {
     "data": {
      "text/plain": [
       "bool"
      ]
     },
     "execution_count": 73,
     "metadata": {},
     "output_type": "execute_result"
    }
   ],
   "source": [
    "type(b)"
   ]
  },
  {
   "cell_type": "code",
   "execution_count": null,
   "id": "6e9f9ddc-9bb8-43bc-b823-31b9461b8d7a",
   "metadata": {},
   "outputs": [],
   "source": [
    "0-False , Rest all numbers are true"
   ]
  },
  {
   "cell_type": "code",
   "execution_count": 74,
   "id": "c8f473e0-a419-4729-86f9-9a56e7588ab6",
   "metadata": {},
   "outputs": [],
   "source": [
    "a = 0\n",
    "b = 1"
   ]
  },
  {
   "cell_type": "code",
   "execution_count": null,
   "id": "ceec37e6-ca63-4cbf-b207-7ac9283a0332",
   "metadata": {},
   "outputs": [],
   "source": []
  },
  {
   "cell_type": "code",
   "execution_count": 76,
   "id": "2db25874-690e-4214-91df-beb8c5f1a8fc",
   "metadata": {},
   "outputs": [
    {
     "data": {
      "text/plain": [
       "int"
      ]
     },
     "execution_count": 76,
     "metadata": {},
     "output_type": "execute_result"
    }
   ],
   "source": [
    "type(a)"
   ]
  },
  {
   "cell_type": "code",
   "execution_count": 77,
   "id": "4433d6ec-43f2-4ea6-a6eb-5ecf99f04bdb",
   "metadata": {},
   "outputs": [],
   "source": [
    "c = bool(a)\n",
    "d = bool(b)"
   ]
  },
  {
   "cell_type": "code",
   "execution_count": 78,
   "id": "0a3cb0d6-b595-403f-abf4-821731e119b6",
   "metadata": {},
   "outputs": [
    {
     "data": {
      "text/plain": [
       "bool"
      ]
     },
     "execution_count": 78,
     "metadata": {},
     "output_type": "execute_result"
    }
   ],
   "source": [
    "type(c)"
   ]
  },
  {
   "cell_type": "code",
   "execution_count": 80,
   "id": "7429731a-4f67-4270-b8cb-a529fae4bd24",
   "metadata": {},
   "outputs": [
    {
     "name": "stdout",
     "output_type": "stream",
     "text": [
      "True\n"
     ]
    }
   ],
   "source": [
    "print(d)"
   ]
  },
  {
   "cell_type": "markdown",
   "id": "80fe5039-8f70-4bc3-bd50-f81c52cdea6b",
   "metadata": {},
   "source": [
    "### 8. Python Operators"
   ]
  },
  {
   "cell_type": "code",
   "execution_count": null,
   "id": "54a7a4c0-3141-447f-b2fb-31b35ec1a663",
   "metadata": {},
   "outputs": [],
   "source": [
    "### 1. Arithamtic : +,-,*,/,**"
   ]
  },
  {
   "cell_type": "code",
   "execution_count": 81,
   "id": "af039865-75fa-4717-831b-85dd44f9d9a8",
   "metadata": {},
   "outputs": [],
   "source": [
    "a=5\n",
    "b=3"
   ]
  },
  {
   "cell_type": "code",
   "execution_count": 85,
   "id": "b1494776-0d02-4f22-a77d-a96cd5233ead",
   "metadata": {},
   "outputs": [
    {
     "name": "stdout",
     "output_type": "stream",
     "text": [
      "15\n"
     ]
    }
   ],
   "source": [
    "print(a*b)"
   ]
  },
  {
   "cell_type": "code",
   "execution_count": null,
   "id": "1c409140-c2bc-42dd-a3f9-4be3fb1393f6",
   "metadata": {},
   "outputs": [],
   "source": [
    "###2. Assignment operater\n",
    "a = 5"
   ]
  },
  {
   "cell_type": "code",
   "execution_count": 93,
   "id": "18893c4e-25b8-4426-8c4e-ddbe4e77f285",
   "metadata": {},
   "outputs": [],
   "source": [
    "#### 3. Comparison operator\n",
    "a=10\n",
    "b=8"
   ]
  },
  {
   "cell_type": "code",
   "execution_count": 94,
   "id": "4704631a-c98f-48e3-835e-a41662c5db0a",
   "metadata": {},
   "outputs": [
    {
     "data": {
      "text/plain": [
       "True"
      ]
     },
     "execution_count": 94,
     "metadata": {},
     "output_type": "execute_result"
    }
   ],
   "source": [
    "a!=b"
   ]
  },
  {
   "cell_type": "code",
   "execution_count": null,
   "id": "bb5a7705-9336-48ab-985b-5e71e316f486",
   "metadata": {},
   "outputs": [],
   "source": [
    "### Logical operators : "
   ]
  },
  {
   "cell_type": "code",
   "execution_count": 101,
   "id": "9e9880e8-1ec1-4dff-9d64-cdc53ed713e4",
   "metadata": {},
   "outputs": [],
   "source": [
    "### 1. and\n",
    "age = 17\n",
    "license=\"no\""
   ]
  },
  {
   "cell_type": "code",
   "execution_count": 105,
   "id": "0a11a168-2d7b-4315-a65e-44fab011a7f3",
   "metadata": {},
   "outputs": [
    {
     "data": {
      "text/plain": [
       "True"
      ]
     },
     "execution_count": 105,
     "metadata": {},
     "output_type": "execute_result"
    }
   ],
   "source": [
    "not(age>18 and license==\"yes\")"
   ]
  },
  {
   "cell_type": "code",
   "execution_count": null,
   "id": "db345a7b-a192-4fc0-bc52-ab462aaaf4b0",
   "metadata": {},
   "outputs": [],
   "source": [
    "### or"
   ]
  },
  {
   "cell_type": "code",
   "execution_count": 104,
   "id": "1e7e3bf9-b359-40a5-9e13-2c06953d946d",
   "metadata": {},
   "outputs": [
    {
     "data": {
      "text/plain": [
       "True"
      ]
     },
     "execution_count": 104,
     "metadata": {},
     "output_type": "execute_result"
    }
   ],
   "source": [
    "not(age>18 or license==\"yes\")"
   ]
  },
  {
   "cell_type": "code",
   "execution_count": 108,
   "id": "511932e0-a05d-4d4f-bcb2-b0f6717e12e0",
   "metadata": {},
   "outputs": [
    {
     "data": {
      "text/plain": [
       "True"
      ]
     },
     "execution_count": 108,
     "metadata": {},
     "output_type": "execute_result"
    }
   ],
   "source": [
    "### Membership Operators\n",
    "list1=[1,2,3,4,5]\n",
    "\n",
    "12 not in list1"
   ]
  },
  {
   "cell_type": "code",
   "execution_count": null,
   "id": "003bc4b6-1742-4a70-b6bd-691ed16f5399",
   "metadata": {},
   "outputs": [],
   "source": []
  },
  {
   "cell_type": "code",
   "execution_count": null,
   "id": "36f8b34c-2b8b-477c-817a-11d2789d2066",
   "metadata": {},
   "outputs": [],
   "source": []
  },
  {
   "cell_type": "markdown",
   "id": "16fab34b-9eb4-4325-8a7b-bc992d4cd8c1",
   "metadata": {},
   "source": [
    "### 9. Python Lists"
   ]
  },
  {
   "cell_type": "code",
   "execution_count": 109,
   "id": "e0a14ca8-5d21-4820-b599-a198d84924d8",
   "metadata": {},
   "outputs": [],
   "source": [
    "list1 = [1,2,3,4,5,1,1,5]"
   ]
  },
  {
   "cell_type": "code",
   "execution_count": 111,
   "id": "2c780e3e-a3e1-49ad-bf46-0fd1fdd40752",
   "metadata": {},
   "outputs": [
    {
     "data": {
      "text/plain": [
       "5"
      ]
     },
     "execution_count": 111,
     "metadata": {},
     "output_type": "execute_result"
    }
   ],
   "source": [
    "list1[-1]"
   ]
  },
  {
   "cell_type": "code",
   "execution_count": 112,
   "id": "694096af-0559-4d85-80cb-9490200546b7",
   "metadata": {},
   "outputs": [
    {
     "name": "stdout",
     "output_type": "stream",
     "text": [
      "[1, 2, 3, 4, 5, 1, 1, 5]\n"
     ]
    }
   ],
   "source": [
    "print(list1)"
   ]
  },
  {
   "cell_type": "code",
   "execution_count": 113,
   "id": "e485203a-2eef-4b77-87e8-e888ee065323",
   "metadata": {},
   "outputs": [],
   "source": [
    "list1[0] = 15"
   ]
  },
  {
   "cell_type": "code",
   "execution_count": 114,
   "id": "442ffdb1-73a7-4149-abb2-c210b718f882",
   "metadata": {},
   "outputs": [
    {
     "name": "stdout",
     "output_type": "stream",
     "text": [
      "[15, 2, 3, 4, 5, 1, 1, 5]\n"
     ]
    }
   ],
   "source": [
    "print(list1)"
   ]
  },
  {
   "cell_type": "code",
   "execution_count": 115,
   "id": "02dc2ae9-39d3-418d-91bb-0962f7c9e687",
   "metadata": {},
   "outputs": [
    {
     "data": {
      "text/plain": [
       "[15, 2, 3, 4, 5, 1, 1, 5]"
      ]
     },
     "execution_count": 115,
     "metadata": {},
     "output_type": "execute_result"
    }
   ],
   "source": [
    "### acessing list\n",
    "list1"
   ]
  },
  {
   "cell_type": "code",
   "execution_count": 118,
   "id": "b804486b-88a7-4e93-8de1-e54f2865bb57",
   "metadata": {},
   "outputs": [
    {
     "data": {
      "text/plain": [
       "[15, 3, 5]"
      ]
     },
     "execution_count": 118,
     "metadata": {},
     "output_type": "execute_result"
    }
   ],
   "source": [
    "list1[0:5:2]"
   ]
  },
  {
   "cell_type": "code",
   "execution_count": 121,
   "id": "0b9331b7-4726-4674-b81d-9791f5119904",
   "metadata": {},
   "outputs": [
    {
     "data": {
      "text/plain": [
       "[15, 2, 3, 4, 5, 1, 1, 'Mohan']"
      ]
     },
     "execution_count": 121,
     "metadata": {},
     "output_type": "execute_result"
    }
   ],
   "source": [
    "list1"
   ]
  },
  {
   "cell_type": "code",
   "execution_count": 122,
   "id": "38a64fd2-8589-44dc-b8e2-460ec59a1c23",
   "metadata": {},
   "outputs": [],
   "source": [
    "list1[0:3] = [\"Ram\" , \"Rohan\" , \"Sohan\"]"
   ]
  },
  {
   "cell_type": "code",
   "execution_count": 123,
   "id": "2214ae6c-5a46-4e8d-ae9b-f2f65058e0fb",
   "metadata": {},
   "outputs": [
    {
     "data": {
      "text/plain": [
       "['Ram', 'Rohan', 'Sohan', 4, 5, 1, 1, 'Mohan']"
      ]
     },
     "execution_count": 123,
     "metadata": {},
     "output_type": "execute_result"
    }
   ],
   "source": [
    "list1"
   ]
  },
  {
   "cell_type": "code",
   "execution_count": null,
   "id": "d4db520f-bef4-4281-ad8d-b855e55da80d",
   "metadata": {},
   "outputs": [],
   "source": [
    "### Add list items"
   ]
  },
  {
   "cell_type": "code",
   "execution_count": 125,
   "id": "5f20a46f-b3c8-4aac-8981-9970ebf37ae8",
   "metadata": {},
   "outputs": [
    {
     "name": "stdout",
     "output_type": "stream",
     "text": [
      "['Ram', 'rahul', 'sohan']\n"
     ]
    }
   ],
   "source": [
    "##1.append\n",
    "list1 = [\"Ram\",\"rahul\",\"sohan\"]\n",
    "print(list1)"
   ]
  },
  {
   "cell_type": "code",
   "execution_count": 126,
   "id": "8f0c3520-288a-4ff7-8b0d-1b7def7326c5",
   "metadata": {},
   "outputs": [],
   "source": [
    "list1.append(\"Mohan\")"
   ]
  },
  {
   "cell_type": "code",
   "execution_count": 127,
   "id": "4ee6cd1d-46d7-4b4a-9bdf-9a980eba693b",
   "metadata": {},
   "outputs": [
    {
     "data": {
      "text/plain": [
       "['Ram', 'rahul', 'sohan', 'Mohan']"
      ]
     },
     "execution_count": 127,
     "metadata": {},
     "output_type": "execute_result"
    }
   ],
   "source": [
    "list1"
   ]
  },
  {
   "cell_type": "code",
   "execution_count": 128,
   "id": "d49f32ad-43fa-4b89-98ce-3bbf2929849f",
   "metadata": {},
   "outputs": [
    {
     "data": {
      "text/plain": [
       "['Ram', 'rahul', 'sohan', 'Mohan']"
      ]
     },
     "execution_count": 128,
     "metadata": {},
     "output_type": "execute_result"
    }
   ],
   "source": [
    "### insert\n",
    "list1"
   ]
  },
  {
   "cell_type": "code",
   "execution_count": 129,
   "id": "5afee4ca-3482-45f1-91d3-5f6130a4138a",
   "metadata": {},
   "outputs": [],
   "source": [
    "list1.insert(0 , \"Aryan\")"
   ]
  },
  {
   "cell_type": "code",
   "execution_count": 130,
   "id": "6ea9bd5c-d732-4e12-8ce9-e82a589bb5b5",
   "metadata": {},
   "outputs": [
    {
     "data": {
      "text/plain": [
       "['Aryan', 'Ram', 'rahul', 'sohan', 'Mohan']"
      ]
     },
     "execution_count": 130,
     "metadata": {},
     "output_type": "execute_result"
    }
   ],
   "source": [
    "list1"
   ]
  },
  {
   "cell_type": "code",
   "execution_count": 131,
   "id": "51662808-3a4d-445b-99c1-7fae1029ff3f",
   "metadata": {},
   "outputs": [
    {
     "data": {
      "text/plain": [
       "['Aryan', 'Ram', 'rahul', 'sohan', 'Mohan']"
      ]
     },
     "execution_count": 131,
     "metadata": {},
     "output_type": "execute_result"
    }
   ],
   "source": [
    "### extend\n",
    "list1"
   ]
  },
  {
   "cell_type": "code",
   "execution_count": 132,
   "id": "0e39af59-33e7-4da3-9076-4b91c761461f",
   "metadata": {},
   "outputs": [],
   "source": [
    "list2=[1,2,3,4,5]"
   ]
  },
  {
   "cell_type": "code",
   "execution_count": 133,
   "id": "8c4cce23-e13a-401f-ba77-f6b63884806c",
   "metadata": {},
   "outputs": [],
   "source": [
    "list1.extend(list2)"
   ]
  },
  {
   "cell_type": "code",
   "execution_count": 134,
   "id": "3a885d19-6394-46ef-9ede-11636ec2aa06",
   "metadata": {},
   "outputs": [
    {
     "data": {
      "text/plain": [
       "['Aryan', 'Ram', 'rahul', 'sohan', 'Mohan', 1, 2, 3, 4, 5]"
      ]
     },
     "execution_count": 134,
     "metadata": {},
     "output_type": "execute_result"
    }
   ],
   "source": [
    "list1"
   ]
  },
  {
   "cell_type": "code",
   "execution_count": 135,
   "id": "8e220229-a58e-4000-bcd7-b701cbd03ffb",
   "metadata": {},
   "outputs": [
    {
     "data": {
      "text/plain": [
       "['Aryan', 'Ram', 'rahul', 'sohan', 'Mohan', 1, 2, 3, 4, 5]"
      ]
     },
     "execution_count": 135,
     "metadata": {},
     "output_type": "execute_result"
    }
   ],
   "source": [
    "### Remove list items\n",
    "##1 .remove\n",
    "list1"
   ]
  },
  {
   "cell_type": "code",
   "execution_count": 136,
   "id": "cc11dfb2-00ef-4ba1-acb6-5370ac764324",
   "metadata": {},
   "outputs": [
    {
     "name": "stdout",
     "output_type": "stream",
     "text": [
      "['Aryan', 'Ram', 'rahul', 'Mohan', 1, 2, 3, 4, 5]\n"
     ]
    }
   ],
   "source": [
    "list1.remove(\"sohan\")\n",
    "print(list1)"
   ]
  },
  {
   "cell_type": "code",
   "execution_count": 137,
   "id": "1b32844b-18a9-49c6-ac34-01af93e38ae3",
   "metadata": {},
   "outputs": [
    {
     "data": {
      "text/plain": [
       "['Aryan', 'Ram', 'rahul', 'Mohan', 1, 2, 3, 4, 5]"
      ]
     },
     "execution_count": 137,
     "metadata": {},
     "output_type": "execute_result"
    }
   ],
   "source": [
    "### 2. pop \n",
    "list1"
   ]
  },
  {
   "cell_type": "code",
   "execution_count": 138,
   "id": "6c928929-dfa6-4869-909b-8fdeb11f9ccc",
   "metadata": {},
   "outputs": [
    {
     "name": "stdout",
     "output_type": "stream",
     "text": [
      "['Ram', 'rahul', 'Mohan', 1, 2, 3, 4, 5]\n"
     ]
    }
   ],
   "source": [
    "list1.pop(0)\n",
    "print(list1)"
   ]
  },
  {
   "cell_type": "code",
   "execution_count": null,
   "id": "78eb37a3-26c4-4c32-b808-445b9c0a9407",
   "metadata": {},
   "outputs": [],
   "source": [
    "#### clear , del"
   ]
  },
  {
   "cell_type": "code",
   "execution_count": 139,
   "id": "c3fb6d5c-fd8c-4db4-9979-757aa59dcdd0",
   "metadata": {},
   "outputs": [
    {
     "data": {
      "text/plain": [
       "['Ram', 'rahul', 'Mohan', 1, 2, 3, 4, 5]"
      ]
     },
     "execution_count": 139,
     "metadata": {},
     "output_type": "execute_result"
    }
   ],
   "source": [
    "list1"
   ]
  },
  {
   "cell_type": "code",
   "execution_count": 140,
   "id": "8cb00a17-6693-4295-9ff0-1200791f3778",
   "metadata": {},
   "outputs": [],
   "source": [
    "list1.clear()"
   ]
  },
  {
   "cell_type": "code",
   "execution_count": 141,
   "id": "c539eab0-ed16-48ab-bd49-69a196c1ca0a",
   "metadata": {},
   "outputs": [
    {
     "name": "stdout",
     "output_type": "stream",
     "text": [
      "[]\n"
     ]
    }
   ],
   "source": [
    "print(list1)"
   ]
  },
  {
   "cell_type": "code",
   "execution_count": 142,
   "id": "0d15c8cf-a0ca-43c1-800b-6f2227d42561",
   "metadata": {},
   "outputs": [],
   "source": [
    "del list1"
   ]
  },
  {
   "cell_type": "code",
   "execution_count": 143,
   "id": "b59ee854-6f5e-44f5-8f58-66af3d3793cf",
   "metadata": {},
   "outputs": [
    {
     "ename": "NameError",
     "evalue": "name 'list1' is not defined",
     "output_type": "error",
     "traceback": [
      "\u001b[1;31m---------------------------------------------------------------------------\u001b[0m",
      "\u001b[1;31mNameError\u001b[0m                                 Traceback (most recent call last)",
      "Cell \u001b[1;32mIn[143], line 1\u001b[0m\n\u001b[1;32m----> 1\u001b[0m \u001b[38;5;28mprint\u001b[39m(list1)\n",
      "\u001b[1;31mNameError\u001b[0m: name 'list1' is not defined"
     ]
    }
   ],
   "source": [
    "print(list1)"
   ]
  },
  {
   "cell_type": "code",
   "execution_count": 144,
   "id": "e87008da-bcf8-4431-93e0-e1adaa9cd0d3",
   "metadata": {},
   "outputs": [
    {
     "name": "stdout",
     "output_type": "stream",
     "text": [
      "[1, 2, 3, 4, 5, 6, 7, 8, 9, 11, 15, 0, 99, 80, 62, 55, 41, 18]\n"
     ]
    }
   ],
   "source": [
    "### Sorting in Lists\n",
    "\n",
    "list1= [ 1,2,3,4,5,6,7,8,9,11,15,0,99,80,62,55,41,18]\n",
    "print(list1)"
   ]
  },
  {
   "cell_type": "code",
   "execution_count": 147,
   "id": "148e7b81-e31b-4b06-834d-d3ba61fe1aa3",
   "metadata": {},
   "outputs": [],
   "source": [
    "list1.sort(reverse=True)"
   ]
  },
  {
   "cell_type": "code",
   "execution_count": 148,
   "id": "062393ec-bfd5-408a-93aa-4c7fb610a5ca",
   "metadata": {},
   "outputs": [
    {
     "data": {
      "text/plain": [
       "[99, 80, 62, 55, 41, 18, 15, 11, 9, 8, 7, 6, 5, 4, 3, 2, 1, 0]"
      ]
     },
     "execution_count": 148,
     "metadata": {},
     "output_type": "execute_result"
    }
   ],
   "source": [
    "list1"
   ]
  },
  {
   "cell_type": "code",
   "execution_count": 149,
   "id": "5bbcdc24-e9c1-4421-93d2-20fc911d0bae",
   "metadata": {},
   "outputs": [
    {
     "name": "stdout",
     "output_type": "stream",
     "text": [
      "[1, 2, 3, 4, 5, 6, 7, 8, 9, 11, 15, 0, 99, 80, 62, 55, 41, 18]\n"
     ]
    }
   ],
   "source": [
    "list1= [ 1,2,3,4,5,6,7,8,9,11,15,0,99,80,62,55,41,18]\n",
    "print(list1)"
   ]
  },
  {
   "cell_type": "code",
   "execution_count": 150,
   "id": "55a35706-ace5-404a-8734-604edbccf103",
   "metadata": {},
   "outputs": [],
   "source": [
    "list1.reverse()"
   ]
  },
  {
   "cell_type": "code",
   "execution_count": 151,
   "id": "842285c1-3945-4f06-8f25-db5fba9d93c3",
   "metadata": {},
   "outputs": [
    {
     "data": {
      "text/plain": [
       "[18, 41, 55, 62, 80, 99, 0, 15, 11, 9, 8, 7, 6, 5, 4, 3, 2, 1]"
      ]
     },
     "execution_count": 151,
     "metadata": {},
     "output_type": "execute_result"
    }
   ],
   "source": [
    "list1"
   ]
  },
  {
   "cell_type": "code",
   "execution_count": 152,
   "id": "bc9001ad-19c5-4ff8-be04-0337957e5c33",
   "metadata": {},
   "outputs": [],
   "source": [
    "##3 Copy Lists\n",
    "\n",
    "list1=[1,2,3,4,5]"
   ]
  },
  {
   "cell_type": "code",
   "execution_count": 155,
   "id": "69a76312-fb46-4d37-be1f-6ddc30e18bf4",
   "metadata": {},
   "outputs": [],
   "source": [
    "list2=list1.copy()"
   ]
  },
  {
   "cell_type": "code",
   "execution_count": 156,
   "id": "418b5fa3-60b6-439e-aca7-576ca66407b8",
   "metadata": {},
   "outputs": [
    {
     "data": {
      "text/plain": [
       "[1, 2, 3, 4, 5]"
      ]
     },
     "execution_count": 156,
     "metadata": {},
     "output_type": "execute_result"
    }
   ],
   "source": [
    "list2"
   ]
  },
  {
   "cell_type": "code",
   "execution_count": 157,
   "id": "a4610dc3-845d-4a4e-8bf3-e7d247f2bc0c",
   "metadata": {},
   "outputs": [],
   "source": [
    "list1=[1,2,3,4,5]\n",
    "list2=[7,8,9,10,11]"
   ]
  },
  {
   "cell_type": "code",
   "execution_count": 158,
   "id": "5c808592-1a77-4166-9af4-6f17a50b3ed3",
   "metadata": {},
   "outputs": [
    {
     "data": {
      "text/plain": [
       "[1, 2, 3, 4, 5, 7, 8, 9, 10, 11]"
      ]
     },
     "execution_count": 158,
     "metadata": {},
     "output_type": "execute_result"
    }
   ],
   "source": [
    "list1+list2"
   ]
  },
  {
   "cell_type": "code",
   "execution_count": null,
   "id": "2a5e69c5-04a1-4252-82dc-ae4ae1f5bb28",
   "metadata": {},
   "outputs": [],
   "source": []
  },
  {
   "cell_type": "code",
   "execution_count": null,
   "id": "16be8c16-f5b1-42c6-9bac-46163f922056",
   "metadata": {},
   "outputs": [],
   "source": []
  },
  {
   "cell_type": "code",
   "execution_count": null,
   "id": "7160440d-1fbc-40ba-bb03-18f4248d1319",
   "metadata": {},
   "outputs": [],
   "source": []
  },
  {
   "cell_type": "markdown",
   "id": "4ebc347a-3fdd-4bf3-96a7-2090d2ac44fb",
   "metadata": {},
   "source": [
    "### 10. Python Tuples"
   ]
  },
  {
   "cell_type": "code",
   "execution_count": 161,
   "id": "4e00b059-5362-424e-b357-b2187cc71e13",
   "metadata": {},
   "outputs": [
    {
     "name": "stdout",
     "output_type": "stream",
     "text": [
      "(1, 2, 3, 4, 5, 5, 5)\n"
     ]
    }
   ],
   "source": [
    "tuple1=(1,2,3,4,5,5,5)\n",
    "print(tuple1)"
   ]
  },
  {
   "cell_type": "code",
   "execution_count": 160,
   "id": "f5f26fe3-a1d6-4619-a249-a2e3a04eff1c",
   "metadata": {},
   "outputs": [
    {
     "data": {
      "text/plain": [
       "1"
      ]
     },
     "execution_count": 160,
     "metadata": {},
     "output_type": "execute_result"
    }
   ],
   "source": [
    "tuple1[0]"
   ]
  },
  {
   "cell_type": "code",
   "execution_count": 162,
   "id": "9b71d033-3a78-4de1-bb2f-f07dbff9c376",
   "metadata": {},
   "outputs": [
    {
     "ename": "TypeError",
     "evalue": "'tuple' object does not support item assignment",
     "output_type": "error",
     "traceback": [
      "\u001b[1;31m---------------------------------------------------------------------------\u001b[0m",
      "\u001b[1;31mTypeError\u001b[0m                                 Traceback (most recent call last)",
      "Cell \u001b[1;32mIn[162], line 1\u001b[0m\n\u001b[1;32m----> 1\u001b[0m tuple1[\u001b[38;5;241m0\u001b[39m] \u001b[38;5;241m=\u001b[39m \u001b[38;5;124m\"\u001b[39m\u001b[38;5;124mMohan\u001b[39m\u001b[38;5;124m\"\u001b[39m\n",
      "\u001b[1;31mTypeError\u001b[0m: 'tuple' object does not support item assignment"
     ]
    }
   ],
   "source": [
    "tuple1[0] = \"Mohan\""
   ]
  },
  {
   "cell_type": "code",
   "execution_count": 163,
   "id": "8b9d8e58-c121-4a1b-b98a-648ac016da5e",
   "metadata": {},
   "outputs": [
    {
     "data": {
      "text/plain": [
       "(1, 4)"
      ]
     },
     "execution_count": 163,
     "metadata": {},
     "output_type": "execute_result"
    }
   ],
   "source": [
    "## acessing Tuple\n",
    "tuple1[0:5:3]"
   ]
  },
  {
   "cell_type": "code",
   "execution_count": 164,
   "id": "cceb91dd-4679-48a9-abd3-166ebc0f5e1f",
   "metadata": {},
   "outputs": [
    {
     "name": "stdout",
     "output_type": "stream",
     "text": [
      "(1, 2, 3, 4, 5)\n"
     ]
    },
    {
     "data": {
      "text/plain": [
       "tuple"
      ]
     },
     "execution_count": 164,
     "metadata": {},
     "output_type": "execute_result"
    }
   ],
   "source": [
    "a = (1,2,3,4,5)\n",
    "print(a)\n",
    "type(a)"
   ]
  },
  {
   "cell_type": "code",
   "execution_count": 165,
   "id": "f3d045bd-ff60-487b-9602-d454214af5bb",
   "metadata": {},
   "outputs": [],
   "source": [
    "a = list(a)"
   ]
  },
  {
   "cell_type": "code",
   "execution_count": 166,
   "id": "207baa13-9d79-4f99-9cad-09845214121b",
   "metadata": {},
   "outputs": [
    {
     "data": {
      "text/plain": [
       "list"
      ]
     },
     "execution_count": 166,
     "metadata": {},
     "output_type": "execute_result"
    }
   ],
   "source": [
    "type(a)"
   ]
  },
  {
   "cell_type": "code",
   "execution_count": 167,
   "id": "93770d07-961c-49b2-9260-bb74f17e93a4",
   "metadata": {},
   "outputs": [],
   "source": [
    "a.append(6)"
   ]
  },
  {
   "cell_type": "code",
   "execution_count": 168,
   "id": "bf0c26da-0f94-4f1d-bf4c-f01ad04fc30b",
   "metadata": {},
   "outputs": [],
   "source": [
    "a = tuple(a)"
   ]
  },
  {
   "cell_type": "code",
   "execution_count": 169,
   "id": "e9c824ab-37ec-43ef-98b1-df7b43ff8699",
   "metadata": {},
   "outputs": [
    {
     "name": "stdout",
     "output_type": "stream",
     "text": [
      "(1, 2, 3, 4, 5, 6)\n"
     ]
    }
   ],
   "source": [
    "print(a)"
   ]
  },
  {
   "cell_type": "code",
   "execution_count": 170,
   "id": "f0e649f5-52cf-4dad-8875-e1c491c49095",
   "metadata": {},
   "outputs": [
    {
     "data": {
      "text/plain": [
       "tuple"
      ]
     },
     "execution_count": 170,
     "metadata": {},
     "output_type": "execute_result"
    }
   ],
   "source": [
    "type(a)"
   ]
  },
  {
   "cell_type": "code",
   "execution_count": 171,
   "id": "712747c8-6170-45eb-a147-78a6f9f845e1",
   "metadata": {},
   "outputs": [
    {
     "data": {
      "text/plain": [
       "(1, 3, 4, 5, 12, 11, 10)"
      ]
     },
     "execution_count": 171,
     "metadata": {},
     "output_type": "execute_result"
    }
   ],
   "source": [
    "### Join tuples\n",
    "tup1 = (1,3,4,5)\n",
    "tup2 = (12,11,10)\n",
    "\n",
    "tup1+tup2"
   ]
  },
  {
   "cell_type": "code",
   "execution_count": 172,
   "id": "ec5a0717-af8b-4c2d-87c9-b22759f54261",
   "metadata": {},
   "outputs": [
    {
     "data": {
      "text/plain": [
       "4"
      ]
     },
     "execution_count": 172,
     "metadata": {},
     "output_type": "execute_result"
    }
   ],
   "source": [
    "### Some methods\n",
    "### 1. count\n",
    "a =(1,3,3,3,3,4,5,6,7)\n",
    "a.count(3)"
   ]
  },
  {
   "cell_type": "code",
   "execution_count": 173,
   "id": "dbfce5c5-b77f-4799-b49d-0c9cd33fde68",
   "metadata": {},
   "outputs": [
    {
     "data": {
      "text/plain": [
       "6"
      ]
     },
     "execution_count": 173,
     "metadata": {},
     "output_type": "execute_result"
    }
   ],
   "source": [
    "### 2. index\n",
    "a =(1,3,3,3,3,4,5,6,7)\n",
    "a.index(5)"
   ]
  },
  {
   "cell_type": "markdown",
   "id": "3ad340e2-59d6-4ae8-b5f0-a26545570b24",
   "metadata": {},
   "source": [
    "### 11. Python Sets"
   ]
  },
  {
   "cell_type": "code",
   "execution_count": 176,
   "id": "a317f26a-6048-446d-95c7-dfdc455f40ae",
   "metadata": {},
   "outputs": [
    {
     "name": "stdout",
     "output_type": "stream",
     "text": [
      "{1, 2, 3, 4, 5}\n"
     ]
    }
   ],
   "source": [
    "set1 = {1,2,3,4,5,5,5,5,5,5}\n",
    "print(set1)"
   ]
  },
  {
   "cell_type": "code",
   "execution_count": 175,
   "id": "185f4778-3e12-4521-b32f-64810c0bd916",
   "metadata": {},
   "outputs": [
    {
     "ename": "TypeError",
     "evalue": "'set' object is not subscriptable",
     "output_type": "error",
     "traceback": [
      "\u001b[1;31m---------------------------------------------------------------------------\u001b[0m",
      "\u001b[1;31mTypeError\u001b[0m                                 Traceback (most recent call last)",
      "Cell \u001b[1;32mIn[175], line 1\u001b[0m\n\u001b[1;32m----> 1\u001b[0m set1[\u001b[38;5;241m0\u001b[39m]\n",
      "\u001b[1;31mTypeError\u001b[0m: 'set' object is not subscriptable"
     ]
    }
   ],
   "source": [
    "set1[0]"
   ]
  },
  {
   "cell_type": "code",
   "execution_count": 177,
   "id": "7dab2225-0377-4819-8674-fe759924d43c",
   "metadata": {},
   "outputs": [
    {
     "data": {
      "text/plain": [
       "{'student1', 'student2'}"
      ]
     },
     "execution_count": 177,
     "metadata": {},
     "output_type": "execute_result"
    }
   ],
   "source": [
    "### ADD ITEMS\n",
    "set1 = {\"student1\" , \"student2\"}\n",
    "set1"
   ]
  },
  {
   "cell_type": "code",
   "execution_count": 178,
   "id": "301f9f11-3082-4dfe-a9d0-dbbe832603d5",
   "metadata": {},
   "outputs": [],
   "source": [
    "### 1. add \n",
    "set1.add(\"student3\")"
   ]
  },
  {
   "cell_type": "code",
   "execution_count": 179,
   "id": "874c2fc5-a10a-46c0-b4c7-b80d452cce75",
   "metadata": {},
   "outputs": [
    {
     "data": {
      "text/plain": [
       "{'student1', 'student2', 'student3'}"
      ]
     },
     "execution_count": 179,
     "metadata": {},
     "output_type": "execute_result"
    }
   ],
   "source": [
    "set1"
   ]
  },
  {
   "cell_type": "code",
   "execution_count": 180,
   "id": "7f068b14-7501-429f-901b-263b761b0531",
   "metadata": {},
   "outputs": [
    {
     "data": {
      "text/plain": [
       "{'student1', 'student2', 'student3'}"
      ]
     },
     "execution_count": 180,
     "metadata": {},
     "output_type": "execute_result"
    }
   ],
   "source": [
    "### update\n",
    "set1"
   ]
  },
  {
   "cell_type": "code",
   "execution_count": 181,
   "id": "ef379c5b-b304-43f6-baa9-fc3b7f0eae1d",
   "metadata": {},
   "outputs": [],
   "source": [
    "set2 = {\"student4\",\"student5\",\"student6\"}"
   ]
  },
  {
   "cell_type": "code",
   "execution_count": 182,
   "id": "127d8af6-2913-48ef-b37a-45d8a64524e3",
   "metadata": {},
   "outputs": [],
   "source": [
    "set1.update(set2)"
   ]
  },
  {
   "cell_type": "code",
   "execution_count": 183,
   "id": "2e15d44e-3f4e-4ddb-8ab9-567a9d0b7dd9",
   "metadata": {},
   "outputs": [
    {
     "name": "stdout",
     "output_type": "stream",
     "text": [
      "{'student1', 'student4', 'student6', 'student5', 'student3', 'student2'}\n"
     ]
    }
   ],
   "source": [
    "print(set1)"
   ]
  },
  {
   "cell_type": "code",
   "execution_count": 184,
   "id": "30308db8-ede6-4a24-99a0-f641f71a2eef",
   "metadata": {},
   "outputs": [
    {
     "data": {
      "text/plain": [
       "{'student1', 'student2', 'student3', 'student4', 'student5', 'student6'}"
      ]
     },
     "execution_count": 184,
     "metadata": {},
     "output_type": "execute_result"
    }
   ],
   "source": [
    "### Remove Items in Sets\n",
    "## 1. remove \n",
    "\n",
    "set1"
   ]
  },
  {
   "cell_type": "code",
   "execution_count": 186,
   "id": "7693daf8-2e29-4540-ad39-1a376c13ecf9",
   "metadata": {},
   "outputs": [],
   "source": [
    "set1.remove(\"student1\")"
   ]
  },
  {
   "cell_type": "code",
   "execution_count": 187,
   "id": "d3ac5a00-e24c-4cac-9a02-56325c80374a",
   "metadata": {},
   "outputs": [
    {
     "data": {
      "text/plain": [
       "{'student2', 'student3', 'student4', 'student5', 'student6'}"
      ]
     },
     "execution_count": 187,
     "metadata": {},
     "output_type": "execute_result"
    }
   ],
   "source": [
    "set1"
   ]
  },
  {
   "cell_type": "code",
   "execution_count": 188,
   "id": "a260dc8d-1ccb-4e0b-97d0-d783015e0118",
   "metadata": {},
   "outputs": [
    {
     "ename": "KeyError",
     "evalue": "'student10'",
     "output_type": "error",
     "traceback": [
      "\u001b[1;31m---------------------------------------------------------------------------\u001b[0m",
      "\u001b[1;31mKeyError\u001b[0m                                  Traceback (most recent call last)",
      "Cell \u001b[1;32mIn[188], line 1\u001b[0m\n\u001b[1;32m----> 1\u001b[0m set1\u001b[38;5;241m.\u001b[39mremove(\u001b[38;5;124m\"\u001b[39m\u001b[38;5;124mstudent10\u001b[39m\u001b[38;5;124m\"\u001b[39m)\n",
      "\u001b[1;31mKeyError\u001b[0m: 'student10'"
     ]
    }
   ],
   "source": [
    "set1.remove(\"student10\")"
   ]
  },
  {
   "cell_type": "code",
   "execution_count": 189,
   "id": "ba9836b8-cd99-4c03-8763-b33d1d90256f",
   "metadata": {},
   "outputs": [
    {
     "data": {
      "text/plain": [
       "{'student2', 'student3', 'student4', 'student5', 'student6'}"
      ]
     },
     "execution_count": 189,
     "metadata": {},
     "output_type": "execute_result"
    }
   ],
   "source": [
    "### discard\n",
    "set1"
   ]
  },
  {
   "cell_type": "code",
   "execution_count": 190,
   "id": "c9bd10e0-f10f-4d3d-a925-63f72d28c0a1",
   "metadata": {},
   "outputs": [],
   "source": [
    "set1.discard(\"student2\")"
   ]
  },
  {
   "cell_type": "code",
   "execution_count": 191,
   "id": "041c7c12-6093-4960-a41b-fd7779a278c2",
   "metadata": {},
   "outputs": [
    {
     "data": {
      "text/plain": [
       "{'student3', 'student4', 'student5', 'student6'}"
      ]
     },
     "execution_count": 191,
     "metadata": {},
     "output_type": "execute_result"
    }
   ],
   "source": [
    "set1"
   ]
  },
  {
   "cell_type": "code",
   "execution_count": 192,
   "id": "c6254aee-bd80-48a2-aff0-5dd9d6709fd0",
   "metadata": {},
   "outputs": [],
   "source": [
    "set1.discard(\"student10\")"
   ]
  },
  {
   "cell_type": "code",
   "execution_count": null,
   "id": "970a5cab-8328-46c4-9d60-03f8e36dcc90",
   "metadata": {},
   "outputs": [],
   "source": []
  },
  {
   "cell_type": "code",
   "execution_count": 193,
   "id": "e19e1fda-b47f-455e-ac45-7a7095c8cde6",
   "metadata": {},
   "outputs": [
    {
     "data": {
      "text/plain": [
       "'student4'"
      ]
     },
     "execution_count": 193,
     "metadata": {},
     "output_type": "execute_result"
    }
   ],
   "source": [
    "### pop method\n",
    "set1.pop()"
   ]
  },
  {
   "cell_type": "code",
   "execution_count": 194,
   "id": "d69a8bba-e4f1-4f14-afad-1183f5642f2a",
   "metadata": {},
   "outputs": [
    {
     "data": {
      "text/plain": [
       "{'student3', 'student5', 'student6'}"
      ]
     },
     "execution_count": 194,
     "metadata": {},
     "output_type": "execute_result"
    }
   ],
   "source": [
    "set1"
   ]
  },
  {
   "cell_type": "code",
   "execution_count": 196,
   "id": "727d7046-bf62-497d-b7a6-d653f053fda6",
   "metadata": {},
   "outputs": [
    {
     "data": {
      "text/plain": [
       "{1, 2, 3, 4, 5, 6, 7}"
      ]
     },
     "execution_count": 196,
     "metadata": {},
     "output_type": "execute_result"
    }
   ],
   "source": [
    "### JOINING IN SETS\n",
    "a ={1,2,3,4}\n",
    "b= {4,5,6,7}\n",
    "\n",
    "a | b"
   ]
  },
  {
   "cell_type": "code",
   "execution_count": 198,
   "id": "52fe0827-fb70-4d83-a137-420aa6c09fad",
   "metadata": {},
   "outputs": [
    {
     "data": {
      "text/plain": [
       "{3, 4}"
      ]
     },
     "execution_count": 198,
     "metadata": {},
     "output_type": "execute_result"
    }
   ],
   "source": [
    "### 2. Intersection\n",
    "a = {1,2,3,4}\n",
    "b={3,4,5,6}\n",
    "a & b"
   ]
  },
  {
   "cell_type": "code",
   "execution_count": 199,
   "id": "a2a7bc99-4960-4c75-9f99-8ed84ae57815",
   "metadata": {},
   "outputs": [
    {
     "data": {
      "text/plain": [
       "{1, 2, 3}"
      ]
     },
     "execution_count": 199,
     "metadata": {},
     "output_type": "execute_result"
    }
   ],
   "source": [
    "### 3. differnece\n",
    "a={1,2,3,4,5}\n",
    "b={4,5,6,7,8}\n",
    "a-b"
   ]
  },
  {
   "cell_type": "code",
   "execution_count": 200,
   "id": "15515aeb-bbb8-48ac-818b-3aec9d45c59a",
   "metadata": {},
   "outputs": [
    {
     "data": {
      "text/plain": [
       "{1, 2, 3, 6, 7, 8}"
      ]
     },
     "execution_count": 200,
     "metadata": {},
     "output_type": "execute_result"
    }
   ],
   "source": [
    "### 4. symmetric difference\n",
    "a={1,2,3,4,5}\n",
    "b={4,5,6,7,8}\n",
    "a^b"
   ]
  },
  {
   "cell_type": "code",
   "execution_count": 203,
   "id": "7c40866c-942a-4dc8-9f75-a4f8ce2fc0b7",
   "metadata": {},
   "outputs": [],
   "source": [
    "## Sets Important methods\n",
    "##1. issubset\n",
    "a = {1,2,3,4,5,6,7,8,9,10}\n",
    "b= {1,5,15,8}"
   ]
  },
  {
   "cell_type": "code",
   "execution_count": 204,
   "id": "94250c37-da4f-4213-b7ca-a69919e2ae0d",
   "metadata": {},
   "outputs": [
    {
     "data": {
      "text/plain": [
       "False"
      ]
     },
     "execution_count": 204,
     "metadata": {},
     "output_type": "execute_result"
    }
   ],
   "source": [
    "b.issubset(a)"
   ]
  },
  {
   "cell_type": "code",
   "execution_count": 205,
   "id": "a494eeee-b530-47da-a4a6-f755c5f1ed0c",
   "metadata": {},
   "outputs": [
    {
     "data": {
      "text/plain": [
       "False"
      ]
     },
     "execution_count": 205,
     "metadata": {},
     "output_type": "execute_result"
    }
   ],
   "source": [
    "### isdisjoint\n",
    "a = {1,2,3,4,5}\n",
    "b= {3,4,5,6,7,8}\n",
    "a.isdisjoint(b)"
   ]
  },
  {
   "cell_type": "code",
   "execution_count": null,
   "id": "01bc839b-29d0-4bb6-a20e-11af3b79bce8",
   "metadata": {},
   "outputs": [],
   "source": [
    "False : intersection is there\n",
    "True : no intersection"
   ]
  },
  {
   "cell_type": "code",
   "execution_count": null,
   "id": "8b4323d3-a462-4fc5-bf33-63f344224802",
   "metadata": {},
   "outputs": [],
   "source": []
  },
  {
   "cell_type": "markdown",
   "id": "da4b13fa-9456-4b8c-9a40-ded64cbbed77",
   "metadata": {},
   "source": [
    "### 12. Python Dictionaries"
   ]
  },
  {
   "cell_type": "code",
   "execution_count": 214,
   "id": "c5ba6a9c-1532-4b6c-82d5-a9b46401e201",
   "metadata": {},
   "outputs": [],
   "source": [
    "a = {\n",
    "    \"brand\" : \"Ford\",\n",
    "    \"model\" : \"Ecossport\",\n",
    "    \"year\" : 2004,\n",
    "}"
   ]
  },
  {
   "cell_type": "code",
   "execution_count": 215,
   "id": "31c42780-c88d-479c-a1b2-910498cc57bb",
   "metadata": {},
   "outputs": [
    {
     "data": {
      "text/plain": [
       "{'brand': 'Ford', 'model': 'Ecossport', 'year': 2004}"
      ]
     },
     "execution_count": 215,
     "metadata": {},
     "output_type": "execute_result"
    }
   ],
   "source": [
    "a"
   ]
  },
  {
   "cell_type": "code",
   "execution_count": 216,
   "id": "8d93db92-c2ee-448e-b18b-c11b4c9b486c",
   "metadata": {},
   "outputs": [
    {
     "data": {
      "text/plain": [
       "2004"
      ]
     },
     "execution_count": 216,
     "metadata": {},
     "output_type": "execute_result"
    }
   ],
   "source": [
    "a[\"year\"]"
   ]
  },
  {
   "cell_type": "code",
   "execution_count": 217,
   "id": "4bade0bf-4274-4796-97ed-bd0d2a4c285e",
   "metadata": {},
   "outputs": [],
   "source": [
    "a[\"year\"] = 2010"
   ]
  },
  {
   "cell_type": "code",
   "execution_count": 218,
   "id": "80aac79e-acc4-49a9-a0b5-22b12abbcced",
   "metadata": {},
   "outputs": [
    {
     "name": "stdout",
     "output_type": "stream",
     "text": [
      "{'brand': 'Ford', 'model': 'Ecossport', 'year': 2010}\n"
     ]
    }
   ],
   "source": [
    "print(a)"
   ]
  },
  {
   "cell_type": "code",
   "execution_count": 219,
   "id": "55abbc3e-a982-4818-9439-c03bff447cb8",
   "metadata": {},
   "outputs": [
    {
     "data": {
      "text/plain": [
       "'Ford'"
      ]
     },
     "execution_count": 219,
     "metadata": {},
     "output_type": "execute_result"
    }
   ],
   "source": [
    "a[\"brand\"]"
   ]
  },
  {
   "cell_type": "code",
   "execution_count": 220,
   "id": "d0509daf-3828-4471-a920-865a87125a77",
   "metadata": {},
   "outputs": [
    {
     "data": {
      "text/plain": [
       "'Ford'"
      ]
     },
     "execution_count": 220,
     "metadata": {},
     "output_type": "execute_result"
    }
   ],
   "source": [
    "##get method()\n",
    "a.get(\"brand\")"
   ]
  },
  {
   "cell_type": "code",
   "execution_count": 221,
   "id": "9b0cb369-42e8-4971-8e44-fc4dc7345397",
   "metadata": {},
   "outputs": [
    {
     "data": {
      "text/plain": [
       "dict_keys(['brand', 'model', 'year'])"
      ]
     },
     "execution_count": 221,
     "metadata": {},
     "output_type": "execute_result"
    }
   ],
   "source": [
    "a.keys()"
   ]
  },
  {
   "cell_type": "code",
   "execution_count": 222,
   "id": "44efd7ef-7c68-4320-8440-cede8714d237",
   "metadata": {},
   "outputs": [
    {
     "data": {
      "text/plain": [
       "dict_values(['Ford', 'Ecossport', 2010])"
      ]
     },
     "execution_count": 222,
     "metadata": {},
     "output_type": "execute_result"
    }
   ],
   "source": [
    "a.values()"
   ]
  },
  {
   "cell_type": "code",
   "execution_count": 223,
   "id": "594a7dd1-25cc-4ec6-b4a9-763f320f22bf",
   "metadata": {},
   "outputs": [
    {
     "data": {
      "text/plain": [
       "dict_items([('brand', 'Ford'), ('model', 'Ecossport'), ('year', 2010)])"
      ]
     },
     "execution_count": 223,
     "metadata": {},
     "output_type": "execute_result"
    }
   ],
   "source": [
    "a.items()"
   ]
  },
  {
   "cell_type": "code",
   "execution_count": 224,
   "id": "acfae925-7b7c-4655-9dbf-eae9cab876b3",
   "metadata": {},
   "outputs": [],
   "source": [
    "### Change in dictionary\n",
    "a[\"year\"] = 2011"
   ]
  },
  {
   "cell_type": "code",
   "execution_count": 225,
   "id": "bfee7cf3-52d4-415d-803a-927c2221b58e",
   "metadata": {},
   "outputs": [
    {
     "data": {
      "text/plain": [
       "{'brand': 'Ford', 'model': 'Ecossport', 'year': 2011}"
      ]
     },
     "execution_count": 225,
     "metadata": {},
     "output_type": "execute_result"
    }
   ],
   "source": [
    "a"
   ]
  },
  {
   "cell_type": "code",
   "execution_count": 226,
   "id": "b14b28d4-40fa-4df5-a45d-289dd13a8017",
   "metadata": {},
   "outputs": [
    {
     "data": {
      "text/plain": [
       "{'brand': 'Ford', 'model': 'Ecossport', 'year': 2011}"
      ]
     },
     "execution_count": 226,
     "metadata": {},
     "output_type": "execute_result"
    }
   ],
   "source": [
    "### add items in dictionary\n",
    "a"
   ]
  },
  {
   "cell_type": "code",
   "execution_count": 227,
   "id": "8f4d7d2a-bfd3-405a-91ff-baab45ba1f37",
   "metadata": {},
   "outputs": [],
   "source": [
    "a[\"color\"] = \"red\""
   ]
  },
  {
   "cell_type": "code",
   "execution_count": 228,
   "id": "fd27010f-3b7e-4cdc-8f95-15e875fef14a",
   "metadata": {},
   "outputs": [
    {
     "data": {
      "text/plain": [
       "{'brand': 'Ford', 'model': 'Ecossport', 'year': 2011, 'color': 'red'}"
      ]
     },
     "execution_count": 228,
     "metadata": {},
     "output_type": "execute_result"
    }
   ],
   "source": [
    "a"
   ]
  },
  {
   "cell_type": "code",
   "execution_count": 230,
   "id": "a89cc117-b6a9-40de-aaa7-559c66d00341",
   "metadata": {},
   "outputs": [],
   "source": [
    "### update method\n",
    "a.update({\"wheels\" : 4 , \"engine\":\"4400cc\"})"
   ]
  },
  {
   "cell_type": "code",
   "execution_count": 231,
   "id": "3704470d-30d5-4d5e-8c57-73fe312d7d54",
   "metadata": {},
   "outputs": [
    {
     "data": {
      "text/plain": [
       "{'brand': 'Ford',\n",
       " 'model': 'Ecossport',\n",
       " 'year': 2011,\n",
       " 'color': 'red',\n",
       " 'wheels': 4,\n",
       " 'engine': '4400cc'}"
      ]
     },
     "execution_count": 231,
     "metadata": {},
     "output_type": "execute_result"
    }
   ],
   "source": [
    "a"
   ]
  },
  {
   "cell_type": "code",
   "execution_count": 232,
   "id": "606ff88f-45df-406a-b226-2f3043d9e07c",
   "metadata": {},
   "outputs": [
    {
     "data": {
      "text/plain": [
       "'4400cc'"
      ]
     },
     "execution_count": 232,
     "metadata": {},
     "output_type": "execute_result"
    }
   ],
   "source": [
    "### Remove items\n",
    "## 1. pop method\n",
    "a.pop(\"engine\")"
   ]
  },
  {
   "cell_type": "code",
   "execution_count": 233,
   "id": "13b63700-11be-4bcf-9973-19fb71e362b3",
   "metadata": {},
   "outputs": [
    {
     "data": {
      "text/plain": [
       "{'brand': 'Ford',\n",
       " 'model': 'Ecossport',\n",
       " 'year': 2011,\n",
       " 'color': 'red',\n",
       " 'wheels': 4}"
      ]
     },
     "execution_count": 233,
     "metadata": {},
     "output_type": "execute_result"
    }
   ],
   "source": [
    "a"
   ]
  },
  {
   "cell_type": "code",
   "execution_count": 234,
   "id": "e20822ae-7750-4918-8bab-9fe3a1fb9bfd",
   "metadata": {},
   "outputs": [
    {
     "data": {
      "text/plain": [
       "('wheels', 4)"
      ]
     },
     "execution_count": 234,
     "metadata": {},
     "output_type": "execute_result"
    }
   ],
   "source": [
    "### 2. popitem\n",
    "a.popitem()"
   ]
  },
  {
   "cell_type": "code",
   "execution_count": 235,
   "id": "52e90d91-4de5-4ccf-be9e-8a7976970f7c",
   "metadata": {},
   "outputs": [
    {
     "data": {
      "text/plain": [
       "{'brand': 'Ford', 'model': 'Ecossport', 'year': 2011, 'color': 'red'}"
      ]
     },
     "execution_count": 235,
     "metadata": {},
     "output_type": "execute_result"
    }
   ],
   "source": [
    "a"
   ]
  },
  {
   "cell_type": "code",
   "execution_count": 236,
   "id": "2590d749-2a03-4d19-9263-7e3a2b799ee5",
   "metadata": {},
   "outputs": [
    {
     "data": {
      "text/plain": [
       "{'brand': 'Ford', 'model': 'Ecossport', 'year': 2011, 'color': 'red'}"
      ]
     },
     "execution_count": 236,
     "metadata": {},
     "output_type": "execute_result"
    }
   ],
   "source": [
    "### copy\n",
    "a"
   ]
  },
  {
   "cell_type": "code",
   "execution_count": 237,
   "id": "5a7d96de-add7-44a2-b8c4-7b2716bf17fb",
   "metadata": {},
   "outputs": [],
   "source": [
    "b = a.copy()"
   ]
  },
  {
   "cell_type": "code",
   "execution_count": 238,
   "id": "96477399-472e-4ae4-8bd6-643fe5c96763",
   "metadata": {},
   "outputs": [
    {
     "name": "stdout",
     "output_type": "stream",
     "text": [
      "{'brand': 'Ford', 'model': 'Ecossport', 'year': 2011, 'color': 'red'}\n"
     ]
    }
   ],
   "source": [
    "print(b)"
   ]
  },
  {
   "cell_type": "markdown",
   "id": "5952ab45-e61f-447e-8d0b-3daa266372fc",
   "metadata": {},
   "source": [
    "### NESTED DICTIONARIES"
   ]
  },
  {
   "cell_type": "code",
   "execution_count": 239,
   "id": "ee830aaf-8aaf-4f3c-a0b7-b7f52bafd67c",
   "metadata": {},
   "outputs": [
    {
     "name": "stdout",
     "output_type": "stream",
     "text": [
      "{'student1': {'english': 99, 'hindi': 88}, 'student2': {'english': 87, 'hindi': 55}}\n"
     ]
    }
   ],
   "source": [
    "exams = {\n",
    "    \"student1\" : {\"english\" : 99 , \"hindi\":88},\n",
    "    \"student2\" : {\"english\" : 87 , \"hindi\" :55}\n",
    "}\n",
    "print(exams)"
   ]
  },
  {
   "cell_type": "code",
   "execution_count": 240,
   "id": "aafb369f-c3ae-402c-8b38-e635498106ab",
   "metadata": {},
   "outputs": [
    {
     "data": {
      "text/plain": [
       "88"
      ]
     },
     "execution_count": 240,
     "metadata": {},
     "output_type": "execute_result"
    }
   ],
   "source": [
    "exams[\"student1\"][\"hindi\"]"
   ]
  },
  {
   "cell_type": "code",
   "execution_count": 241,
   "id": "f355b420-fbfa-4025-b924-d78d1ac4f09c",
   "metadata": {},
   "outputs": [
    {
     "data": {
      "text/plain": [
       "87"
      ]
     },
     "execution_count": 241,
     "metadata": {},
     "output_type": "execute_result"
    }
   ],
   "source": [
    "exams[\"student2\"][\"english\"]"
   ]
  },
  {
   "cell_type": "code",
   "execution_count": null,
   "id": "af6a6364-9e03-4ee3-889b-b73306087eb0",
   "metadata": {},
   "outputs": [],
   "source": []
  },
  {
   "cell_type": "code",
   "execution_count": null,
   "id": "a3d3832d-21d3-4d8c-a30a-a7aeb3ebaf4e",
   "metadata": {},
   "outputs": [],
   "source": []
  },
  {
   "cell_type": "markdown",
   "id": "77dc9148-118c-447f-9dd2-98b74e84c671",
   "metadata": {},
   "source": [
    "### 13. Python Conditional Statements"
   ]
  },
  {
   "cell_type": "code",
   "execution_count": 4,
   "id": "34009db0-dd3b-4750-971c-2578303d6e86",
   "metadata": {},
   "outputs": [
    {
     "name": "stdout",
     "output_type": "stream",
     "text": [
      "Cant drive\n"
     ]
    }
   ],
   "source": [
    "age = 16\n",
    "if age>18:\n",
    "    print(\"Can Drive\")\n",
    "else:\n",
    "    print(\"Cant drive\")"
   ]
  },
  {
   "cell_type": "code",
   "execution_count": 8,
   "id": "28232bf5-8e61-4cd9-940b-c04a8d4c5d38",
   "metadata": {},
   "outputs": [
    {
     "name": "stdout",
     "output_type": "stream",
     "text": [
      "He can neither drive nor vote\n"
     ]
    }
   ],
   "source": [
    "age = 19\n",
    "voter_card=\"no\"\n",
    "license=\"no\"\n",
    "\n",
    "if (age>18 and license==\"yes\" and voter_card==\"yes\"):\n",
    "    print(\"He can drive and Vote\")\n",
    "\n",
    "elif (age>18 and license==\"yes\" and voter_card!=\"yes\"):\n",
    "    print(\"He can drive but cant vote\")\n",
    "\n",
    "elif (age>18 and license!=\"yes\" and voter_card==\"yes\"):\n",
    "    print(\"He can vote but cant drive\")\n",
    "\n",
    "else:\n",
    "    print(\"He can neither drive nor vote\")"
   ]
  },
  {
   "cell_type": "code",
   "execution_count": 16,
   "id": "4fddf704-c4fb-4d15-a9ef-6cdc963ab14c",
   "metadata": {},
   "outputs": [],
   "source": [
    "## NESTED IF_ELSE\n",
    "\n",
    "debarred = \"no\"\n",
    "percentage = 99"
   ]
  },
  {
   "cell_type": "code",
   "execution_count": 17,
   "id": "00a5aab6-b63a-4d4a-aa09-b765d9e7a33a",
   "metadata": {},
   "outputs": [
    {
     "name": "stdout",
     "output_type": "stream",
     "text": [
      "A+\n"
     ]
    }
   ],
   "source": [
    "if debarred!=\"yes\":\n",
    "\n",
    "    if percentage>90:\n",
    "        print(\"A+\")\n",
    "    elif percentage>70:\n",
    "        print(\"A\")\n",
    "    else:\n",
    "        print(\"B\")\n",
    "else:\n",
    "    print(\"You cannot get any grade due to low attendance\")"
   ]
  },
  {
   "cell_type": "code",
   "execution_count": 20,
   "id": "ea386319-8310-4310-8b76-c3a170cc1f77",
   "metadata": {},
   "outputs": [],
   "source": [
    "### pass statements\n",
    "age=18\n",
    "if age>18:\n",
    "   pass "
   ]
  },
  {
   "cell_type": "code",
   "execution_count": 22,
   "id": "f1d8d1d0-3788-4904-8d2a-b6b56e990734",
   "metadata": {},
   "outputs": [
    {
     "name": "stdout",
     "output_type": "stream",
     "text": [
      "Not prresent\n"
     ]
    }
   ],
   "source": [
    "list1= [1,3,5,8,9,10]\n",
    "\n",
    "if 11 in list1:\n",
    "    print(\"Present\")\n",
    "else:\n",
    "    print(\"Not prresent\")"
   ]
  },
  {
   "cell_type": "code",
   "execution_count": null,
   "id": "d018a2b1-e0bd-474d-a489-3be0ecb0f46b",
   "metadata": {},
   "outputs": [],
   "source": []
  },
  {
   "cell_type": "code",
   "execution_count": null,
   "id": "901ab958-2d35-4da5-8e02-dda66886dc61",
   "metadata": {},
   "outputs": [],
   "source": []
  },
  {
   "cell_type": "code",
   "execution_count": null,
   "id": "e2323cc9-9207-4305-a7cc-27044363884f",
   "metadata": {},
   "outputs": [],
   "source": []
  },
  {
   "cell_type": "code",
   "execution_count": 2,
   "id": "4ff2aea1-1451-4220-ad81-151619d429a0",
   "metadata": {},
   "outputs": [
    {
     "name": "stdout",
     "output_type": "stream",
     "text": [
      "Execution time for if statement approach: 0.009062099998118356\n",
      "Execution time for if-elif statement approach: 0.006585600000107661\n"
     ]
    }
   ],
   "source": [
    "#### IF_IF VS IF_ELIF\n",
    "import timeit\n",
    "# Define the code for the if statement approach\n",
    "if_statement_code = \"\"\"\n",
    "score = 75\n",
    "\n",
    "if score >= 90:\n",
    "    grade = \"A\"\n",
    "if score >= 80 and score < 90:\n",
    "    grade = \"B\"\n",
    "if score >= 70 and score < 80:\n",
    "    grade = \"C\"\n",
    "if score >= 60 and score < 70:\n",
    "    grade = \"D\"\n",
    "if score < 60:\n",
    "    grade = \"F\"\n",
    "\"\"\"\n",
    "\n",
    "# Define the code for the if-elif statement approach\n",
    "if_elif_statement_code = \"\"\"\n",
    "score = 75\n",
    "\n",
    "if score >= 90:\n",
    "    grade = \"A\"\n",
    "elif score >= 80:\n",
    "    grade = \"B\"\n",
    "elif score >= 70:\n",
    "    grade = \"C\"\n",
    "elif score >= 60:\n",
    "    grade = \"D\"\n",
    "else:\n",
    "    grade = \"F\"\n",
    "\"\"\"\n",
    "\n",
    "# Measure the execution time for the if statement approach\n",
    "if_time = timeit.timeit(stmt=if_statement_code, number=100000)\n",
    "\n",
    "# Measure the execution time for the if-elif statement approach\n",
    "if_elif_time = timeit.timeit(stmt=if_elif_statement_code, number=100000)\n",
    "\n",
    "print(\"Execution time for if statement approach:\", if_time)\n",
    "print(\"Execution time for if-elif statement approach:\", if_elif_time)"
   ]
  },
  {
   "cell_type": "markdown",
   "id": "e185333e-5583-4dbd-b2f8-029f22a24ce2",
   "metadata": {},
   "source": [
    "### 14. Python Looping Statements"
   ]
  },
  {
   "cell_type": "markdown",
   "id": "1b9e2578-4832-4fe7-b79c-09ef7ffcf33c",
   "metadata": {},
   "source": [
    "#### a. FOR LOOPS"
   ]
  },
  {
   "cell_type": "code",
   "execution_count": 23,
   "id": "4c372e69-6ad2-4b3d-88fe-36cf92c1aef9",
   "metadata": {},
   "outputs": [
    {
     "name": "stdout",
     "output_type": "stream",
     "text": [
      "R\n",
      "a\n",
      "g\n",
      "h\n",
      "a\n",
      "v\n",
      " \n",
      "S\n",
      "h\n",
      "a\n",
      "r\n",
      "m\n",
      "a\n"
     ]
    }
   ],
   "source": [
    "name = \"Raghav Sharma\"\n",
    "for i in name:\n",
    "    print(i)"
   ]
  },
  {
   "cell_type": "code",
   "execution_count": 24,
   "id": "f10b1cf9-5307-4e36-a045-cbc35b7a0dd3",
   "metadata": {},
   "outputs": [
    {
     "name": "stdout",
     "output_type": "stream",
     "text": [
      "1\n",
      "2\n",
      "3\n",
      "4\n",
      "5\n"
     ]
    }
   ],
   "source": [
    "list1=[1,2,3,4,5]\n",
    "for i in list1:\n",
    "    print(i)"
   ]
  },
  {
   "cell_type": "code",
   "execution_count": null,
   "id": "5a906ccb-f24e-431a-81b3-a853ac9f6020",
   "metadata": {},
   "outputs": [],
   "source": [
    "range(start,end)"
   ]
  },
  {
   "cell_type": "code",
   "execution_count": 25,
   "id": "7c42cfc9-2503-4b21-abc9-1dc10406bd85",
   "metadata": {},
   "outputs": [
    {
     "name": "stdout",
     "output_type": "stream",
     "text": [
      "Hello World\n",
      "Hello World\n",
      "Hello World\n",
      "Hello World\n",
      "Hello World\n",
      "Hello World\n",
      "Hello World\n",
      "Hello World\n",
      "Hello World\n",
      "Hello World\n"
     ]
    }
   ],
   "source": [
    "for i in range(0,10):\n",
    "    print(\"Hello World\")"
   ]
  },
  {
   "cell_type": "code",
   "execution_count": 26,
   "id": "9598fb78-f8d0-48f6-8c2d-180890c7dc64",
   "metadata": {},
   "outputs": [
    {
     "name": "stdout",
     "output_type": "stream",
     "text": [
      "1\n",
      "2\n",
      "3\n",
      "4\n"
     ]
    }
   ],
   "source": [
    "### break and continue\n",
    "### 1. break : terminate the loop if condition is true\n",
    "\n",
    "list1 = [1,2,3,4,5,6,7,8,9]\n",
    "for i in list1:\n",
    "    if i==5:\n",
    "        break\n",
    "    else:\n",
    "        print(i)"
   ]
  },
  {
   "cell_type": "code",
   "execution_count": 27,
   "id": "66cc1e4e-f280-4bf7-844c-29ad4ad4f159",
   "metadata": {},
   "outputs": [
    {
     "name": "stdout",
     "output_type": "stream",
     "text": [
      "1\n",
      "2\n",
      "3\n",
      "4\n",
      "6\n",
      "7\n",
      "8\n",
      "9\n"
     ]
    }
   ],
   "source": [
    "### 2. continue : skips the element according to condition\n",
    "list1 = [1,2,3,4,5,6,7,8,9]\n",
    "for i in list1:\n",
    "    if i==5:\n",
    "        continue\n",
    "    else:\n",
    "        print(i)"
   ]
  },
  {
   "cell_type": "code",
   "execution_count": null,
   "id": "a8c7fee1-b048-494d-8ac4-5641d6856fdb",
   "metadata": {},
   "outputs": [],
   "source": [
    "for i in  list1:\n",
    "    pass"
   ]
  },
  {
   "cell_type": "code",
   "execution_count": 28,
   "id": "ac3f5380-5fee-4c52-964e-3936e1f5d1b4",
   "metadata": {},
   "outputs": [],
   "source": [
    "### Nested FOR LOOPS"
   ]
  },
  {
   "cell_type": "code",
   "execution_count": 29,
   "id": "09fbb8fd-3cd0-45a1-b0df-ec7f22844715",
   "metadata": {},
   "outputs": [
    {
     "name": "stdout",
     "output_type": "stream",
     "text": [
      "red apple\n",
      "red banana\n",
      "red guava\n",
      "yellow apple\n",
      "yellow banana\n",
      "yellow guava\n",
      "green apple\n",
      "green banana\n",
      "green guava\n"
     ]
    }
   ],
   "source": [
    "adj = [\"red\" , \"yellow\" , \"green\"]\n",
    "fruits=[\"apple\",\"banana\",\"guava\"]\n",
    "\n",
    "for i in adj:\n",
    "    for j in fruits:\n",
    "        print(i,j)"
   ]
  },
  {
   "cell_type": "code",
   "execution_count": null,
   "id": "31d35a74-9b40-4f37-9778-f782b802a519",
   "metadata": {},
   "outputs": [],
   "source": []
  },
  {
   "cell_type": "markdown",
   "id": "a427b3df-19a4-42c3-82f7-0c5433f325d9",
   "metadata": {},
   "source": [
    "#### b. While Loops"
   ]
  },
  {
   "cell_type": "code",
   "execution_count": 31,
   "id": "f28d6bde-82ab-4226-95b6-8327ceb26f88",
   "metadata": {},
   "outputs": [
    {
     "name": "stdout",
     "output_type": "stream",
     "text": [
      "1\n",
      "2\n",
      "3\n",
      "4\n",
      "5\n",
      "Number is no longer less than 6\n"
     ]
    }
   ],
   "source": [
    "i=1\n",
    "\n",
    "while i<6:\n",
    "    print(i)\n",
    "    i=i+1\n",
    "else:\n",
    "    print(\"Number is no longer less than 6\")"
   ]
  },
  {
   "cell_type": "markdown",
   "id": "adde0d62-1603-452c-8158-9e9b1c7d6d9e",
   "metadata": {},
   "source": [
    "### 15. Python Functions"
   ]
  },
  {
   "cell_type": "code",
   "execution_count": 32,
   "id": "1535b780-2bb1-4a54-95c0-00c40fadc90a",
   "metadata": {},
   "outputs": [],
   "source": [
    "def my_function():\n",
    "    print(\"Hello from a function\")"
   ]
  },
  {
   "cell_type": "code",
   "execution_count": 33,
   "id": "084b7651-de9e-45a0-9c33-43f292b523a3",
   "metadata": {},
   "outputs": [
    {
     "name": "stdout",
     "output_type": "stream",
     "text": [
      "Hello from a function\n"
     ]
    }
   ],
   "source": [
    "my_function()"
   ]
  },
  {
   "cell_type": "code",
   "execution_count": 34,
   "id": "b5186b48-364d-4c1a-999b-d6b8e35812a0",
   "metadata": {},
   "outputs": [
    {
     "name": "stdout",
     "output_type": "stream",
     "text": [
      "Hello from a function\n"
     ]
    }
   ],
   "source": [
    "my_function()"
   ]
  },
  {
   "cell_type": "code",
   "execution_count": 35,
   "id": "ef0c480e-146f-415c-b6c5-4eb473a2bf08",
   "metadata": {},
   "outputs": [],
   "source": [
    "### Arguements\n",
    "\n",
    "def my_function(name,age):\n",
    "    print(f\"{name} is {age} years old\")"
   ]
  },
  {
   "cell_type": "code",
   "execution_count": 37,
   "id": "8917f59d-f803-4aa6-9217-52cf807e8fa8",
   "metadata": {},
   "outputs": [
    {
     "name": "stdout",
     "output_type": "stream",
     "text": [
      "Rohan is 18 years old\n"
     ]
    }
   ],
   "source": [
    "my_function(\"Rohan\",18)   ### Positional args"
   ]
  },
  {
   "cell_type": "code",
   "execution_count": 40,
   "id": "66a2b838-a741-4836-a23a-bdb3844c6565",
   "metadata": {},
   "outputs": [
    {
     "name": "stdout",
     "output_type": "stream",
     "text": [
      "sohan is 18 years old\n"
     ]
    }
   ],
   "source": [
    "my_function(age=18,name=\"sohan\")   # Keyword arguements"
   ]
  },
  {
   "cell_type": "code",
   "execution_count": 49,
   "id": "c5aed7b6-c0c0-4414-801f-9fe78ffb2c4e",
   "metadata": {},
   "outputs": [],
   "source": [
    "def my_function(*students):\n",
    "    print(\"Topper : \",students[0])\n",
    "    print(\"Failure : \",students[-1])"
   ]
  },
  {
   "cell_type": "code",
   "execution_count": 51,
   "id": "0f56caa0-397a-4fab-9ee3-42180cd39503",
   "metadata": {},
   "outputs": [
    {
     "name": "stdout",
     "output_type": "stream",
     "text": [
      "Topper :  studennt0\n",
      "Failure :  student5\n"
     ]
    }
   ],
   "source": [
    "my_function(\"studennt0\",\"student1\",\"student2\",\"student3\",\"student4\",\"student5\")"
   ]
  },
  {
   "cell_type": "code",
   "execution_count": 59,
   "id": "df5aa335-da5d-44cf-9309-24d85697420e",
   "metadata": {},
   "outputs": [],
   "source": [
    "### Deafault value\n",
    "def my_function(name=\"None\",age=18):\n",
    "    print(f\"{name} is {age} years old\")"
   ]
  },
  {
   "cell_type": "code",
   "execution_count": 60,
   "id": "1704eae5-ce6a-4772-837e-830aa6dcc844",
   "metadata": {},
   "outputs": [
    {
     "name": "stdout",
     "output_type": "stream",
     "text": [
      "None is 18 years old\n"
     ]
    }
   ],
   "source": [
    "my_function()"
   ]
  },
  {
   "cell_type": "code",
   "execution_count": 62,
   "id": "a4a5e7b5-8604-4109-9a6a-72cbb050a50b",
   "metadata": {},
   "outputs": [],
   "source": [
    "def my_function():\n",
    "    pass"
   ]
  },
  {
   "cell_type": "code",
   "execution_count": 63,
   "id": "6af5311e-c646-4677-8ae7-1bdf36eec142",
   "metadata": {},
   "outputs": [],
   "source": [
    "### Return statement\n",
    "def adder(a,b,c):\n",
    "    return a+b+c"
   ]
  },
  {
   "cell_type": "code",
   "execution_count": 65,
   "id": "0b22b486-49cd-46de-8c8e-8a9e80236f63",
   "metadata": {},
   "outputs": [],
   "source": [
    "z=adder(2,3,4)"
   ]
  },
  {
   "cell_type": "code",
   "execution_count": 66,
   "id": "0f22c08a-e125-48d6-8aaa-4d08aadb3ed3",
   "metadata": {},
   "outputs": [
    {
     "name": "stdout",
     "output_type": "stream",
     "text": [
      "9\n"
     ]
    }
   ],
   "source": [
    "print(z)"
   ]
  },
  {
   "cell_type": "code",
   "execution_count": null,
   "id": "f4b494d5-495b-45d9-91a0-6761f0633cac",
   "metadata": {},
   "outputs": [],
   "source": []
  },
  {
   "cell_type": "code",
   "execution_count": null,
   "id": "c9d7bed1-bb18-4c9a-acfc-602f7aa135fe",
   "metadata": {},
   "outputs": [],
   "source": []
  },
  {
   "cell_type": "code",
   "execution_count": null,
   "id": "3e180288-1ac3-478c-9fd6-c12497b2b4d4",
   "metadata": {},
   "outputs": [],
   "source": []
  },
  {
   "cell_type": "code",
   "execution_count": null,
   "id": "9f4fca0f-002d-429b-99fb-019928867c0a",
   "metadata": {},
   "outputs": [],
   "source": []
  },
  {
   "cell_type": "markdown",
   "id": "9d858aa6-09ba-4bb8-a097-6500a219ae1c",
   "metadata": {},
   "source": [
    "### 16. Lambda Functions"
   ]
  },
  {
   "cell_type": "code",
   "execution_count": 67,
   "id": "333532bd-e424-4ba1-877b-8ba92f9adde1",
   "metadata": {},
   "outputs": [],
   "source": [
    "x = lambda a : a+10"
   ]
  },
  {
   "cell_type": "code",
   "execution_count": 70,
   "id": "7171df51-d464-47e6-91c9-e84af62e3b68",
   "metadata": {},
   "outputs": [
    {
     "data": {
      "text/plain": [
       "30"
      ]
     },
     "execution_count": 70,
     "metadata": {},
     "output_type": "execute_result"
    }
   ],
   "source": [
    "x(20)"
   ]
  },
  {
   "cell_type": "code",
   "execution_count": 71,
   "id": "a76d16d7-c990-407f-88d7-2135872b9466",
   "metadata": {},
   "outputs": [],
   "source": [
    "x = lambda a,b,c : a+b+c"
   ]
  },
  {
   "cell_type": "code",
   "execution_count": 74,
   "id": "586021da-02f1-43b2-b68e-7639d11bdbf0",
   "metadata": {},
   "outputs": [
    {
     "data": {
      "text/plain": [
       "41"
      ]
     },
     "execution_count": 74,
     "metadata": {},
     "output_type": "execute_result"
    }
   ],
   "source": [
    "x(1,20,20)"
   ]
  },
  {
   "cell_type": "markdown",
   "id": "05cbd566-395a-45c3-9e2c-8afc3674990b",
   "metadata": {},
   "source": [
    "### 17. Map Function"
   ]
  },
  {
   "cell_type": "code",
   "execution_count": 77,
   "id": "dae922fe-bccc-41f3-8f33-e104c6b8668b",
   "metadata": {},
   "outputs": [],
   "source": [
    "numbers = [1,2,3,4,5]\n",
    "square = list(map(lambda x:x*x  , numbers))"
   ]
  },
  {
   "cell_type": "code",
   "execution_count": 79,
   "id": "b0246943-b706-4058-b16c-51e9fed9d23e",
   "metadata": {},
   "outputs": [
    {
     "data": {
      "text/plain": [
       "[1, 4, 9, 16, 25]"
      ]
     },
     "execution_count": 79,
     "metadata": {},
     "output_type": "execute_result"
    }
   ],
   "source": [
    "square"
   ]
  },
  {
   "cell_type": "markdown",
   "id": "2b9712d6-6b1c-41e7-b2ac-79d1764f2c00",
   "metadata": {},
   "source": [
    "### 18. Filter Function"
   ]
  },
  {
   "cell_type": "code",
   "execution_count": 80,
   "id": "74564cff-51cc-43e7-aeb8-d31e7ca78d21",
   "metadata": {},
   "outputs": [],
   "source": [
    "list1 = [1,2,3,4,5,6,7,8,9,10]\n",
    "\n",
    "even = list(filter(lambda x:x%2==0 , list1))"
   ]
  },
  {
   "cell_type": "code",
   "execution_count": 81,
   "id": "db9a8ebc-3809-4f86-807b-c9ead3be9a40",
   "metadata": {},
   "outputs": [
    {
     "data": {
      "text/plain": [
       "[2, 4, 6, 8, 10]"
      ]
     },
     "execution_count": 81,
     "metadata": {},
     "output_type": "execute_result"
    }
   ],
   "source": [
    "even"
   ]
  },
  {
   "cell_type": "markdown",
   "id": "64005458-1dd3-4867-80a0-e5ad6d4d23c6",
   "metadata": {},
   "source": [
    "### 19. User Input"
   ]
  },
  {
   "cell_type": "code",
   "execution_count": 82,
   "id": "1ba00702-ded3-457c-accc-4ac5cc4cae9d",
   "metadata": {},
   "outputs": [
    {
     "name": "stdin",
     "output_type": "stream",
     "text": [
      "Enter your name Rohan\n"
     ]
    }
   ],
   "source": [
    "string1 = int(input(\"Enter your name\"))"
   ]
  },
  {
   "cell_type": "code",
   "execution_count": 83,
   "id": "b6ea6dd1-555c-47b8-940b-74d5a4558313",
   "metadata": {},
   "outputs": [
    {
     "data": {
      "text/plain": [
       "'Rohan'"
      ]
     },
     "execution_count": 83,
     "metadata": {},
     "output_type": "execute_result"
    }
   ],
   "source": [
    "string1"
   ]
  },
  {
   "cell_type": "markdown",
   "id": "4a6bb81d-1a2e-4693-853a-eb3476a0c797",
   "metadata": {},
   "source": [
    "### 20. Python Modules`"
   ]
  },
  {
   "cell_type": "code",
   "execution_count": 84,
   "id": "dbc62e87-4f7b-48db-865c-3344eb27b30a",
   "metadata": {},
   "outputs": [],
   "source": [
    "from function import *"
   ]
  },
  {
   "cell_type": "code",
   "execution_count": 85,
   "id": "8ec19bd8-6e55-41a1-a5e5-8a1817e8c267",
   "metadata": {},
   "outputs": [
    {
     "name": "stdout",
     "output_type": "stream",
     "text": [
      "Hello Rohan\n"
     ]
    }
   ],
   "source": [
    "say_name(\"Rohan\")"
   ]
  },
  {
   "cell_type": "code",
   "execution_count": 86,
   "id": "2c77b0ec-bfa9-4aab-9132-e2494e5197d5",
   "metadata": {},
   "outputs": [
    {
     "name": "stdout",
     "output_type": "stream",
     "text": [
      "HEllo World\n"
     ]
    }
   ],
   "source": [
    "hello_world()"
   ]
  },
  {
   "cell_type": "markdown",
   "id": "b532e503-6cf5-4b82-85f6-2c8fe0d46a6e",
   "metadata": {},
   "source": [
    "### 21. PIP Package"
   ]
  },
  {
   "cell_type": "code",
   "execution_count": 88,
   "id": "50733f3c-d4d0-4ddd-be7b-3796fb7268d3",
   "metadata": {},
   "outputs": [
    {
     "name": "stdout",
     "output_type": "stream",
     "text": [
      "Requirement already satisfied: numpy in c:\\users\\gusai\\anaconda3\\lib\\site-packages (1.23.5)\n"
     ]
    }
   ],
   "source": [
    "!pip install numpy"
   ]
  },
  {
   "cell_type": "code",
   "execution_count": null,
   "id": "b8e26f04-34b4-4af1-b4de-c3030ce01ad8",
   "metadata": {},
   "outputs": [],
   "source": [
    "!pip uninstall numpy"
   ]
  },
  {
   "cell_type": "markdown",
   "id": "2d64b05e-3ee8-4fcc-9919-053adc5c44ea",
   "metadata": {},
   "source": [
    "### 22. Python Dates"
   ]
  },
  {
   "cell_type": "code",
   "execution_count": 89,
   "id": "484733d4-f25a-4641-9afe-629831679d4e",
   "metadata": {},
   "outputs": [],
   "source": [
    "import datetime"
   ]
  },
  {
   "cell_type": "code",
   "execution_count": 99,
   "id": "d7c93dd6-c7f0-4ae2-a06c-61497a7171d3",
   "metadata": {},
   "outputs": [],
   "source": [
    "x=datetime.datetime.now()"
   ]
  },
  {
   "cell_type": "code",
   "execution_count": 100,
   "id": "ac7e96b9-7e8d-41ab-8244-440bdbbb8e94",
   "metadata": {},
   "outputs": [
    {
     "name": "stdout",
     "output_type": "stream",
     "text": [
      "2024-06-04 22:51:32.731557\n"
     ]
    }
   ],
   "source": [
    "print(x)"
   ]
  },
  {
   "cell_type": "code",
   "execution_count": 101,
   "id": "03beabb9-fe27-4267-8057-ac1563a54ee1",
   "metadata": {},
   "outputs": [
    {
     "data": {
      "text/plain": [
       "32"
      ]
     },
     "execution_count": 101,
     "metadata": {},
     "output_type": "execute_result"
    }
   ],
   "source": [
    "x.second"
   ]
  },
  {
   "cell_type": "code",
   "execution_count": 102,
   "id": "df6a413d-3d52-4500-8bdc-d22cec79527c",
   "metadata": {},
   "outputs": [],
   "source": [
    "### Create Date Objects\n",
    "a = datetime.datetime(2024,9,8)"
   ]
  },
  {
   "cell_type": "code",
   "execution_count": 104,
   "id": "655da8c1-7f5c-4928-b32d-735acb96db8b",
   "metadata": {},
   "outputs": [
    {
     "name": "stdout",
     "output_type": "stream",
     "text": [
      "2024-09-08 00:00:00\n"
     ]
    }
   ],
   "source": [
    "print(a)"
   ]
  },
  {
   "cell_type": "code",
   "execution_count": null,
   "id": "faa01e7b-f91d-46d9-aec5-442e9870fe58",
   "metadata": {},
   "outputs": [],
   "source": [
    "## strftime method"
   ]
  },
  {
   "cell_type": "code",
   "execution_count": 106,
   "id": "dec06b5d-a3e1-401e-8c00-d9c5f797852e",
   "metadata": {},
   "outputs": [
    {
     "name": "stdout",
     "output_type": "stream",
     "text": [
      "2024-09-08 00:00:00\n"
     ]
    }
   ],
   "source": [
    "print(a)"
   ]
  },
  {
   "cell_type": "code",
   "execution_count": 107,
   "id": "003d7a05-3a16-4d47-816e-027418ccda3b",
   "metadata": {},
   "outputs": [
    {
     "data": {
      "text/plain": [
       "8"
      ]
     },
     "execution_count": 107,
     "metadata": {},
     "output_type": "execute_result"
    }
   ],
   "source": [
    "a.day"
   ]
  },
  {
   "cell_type": "code",
   "execution_count": 109,
   "id": "ade3da17-228b-4e2c-8a2a-4594ba624f36",
   "metadata": {},
   "outputs": [
    {
     "data": {
      "text/plain": [
       "'September'"
      ]
     },
     "execution_count": 109,
     "metadata": {},
     "output_type": "execute_result"
    }
   ],
   "source": [
    "a.strftime(\"%B\")"
   ]
  },
  {
   "cell_type": "markdown",
   "id": "28f69d73-bf99-45b5-92d0-0ca819f4bfcd",
   "metadata": {},
   "source": [
    "### 23. Python JSON"
   ]
  },
  {
   "cell_type": "code",
   "execution_count": 110,
   "id": "1aca153f-fd5a-4da7-aa7d-a07006c48a5f",
   "metadata": {},
   "outputs": [],
   "source": [
    "import json"
   ]
  },
  {
   "cell_type": "code",
   "execution_count": 111,
   "id": "e71bfb6d-7f4c-4846-82c8-3ae06c177c8b",
   "metadata": {},
   "outputs": [],
   "source": [
    "api = '{ \"name\":\"Rohan\" , \"age\":19 , \"Grade\" : \"A+\" }'"
   ]
  },
  {
   "cell_type": "code",
   "execution_count": 113,
   "id": "82b6fb19-5a55-421f-8776-234910724474",
   "metadata": {},
   "outputs": [
    {
     "data": {
      "text/plain": [
       "str"
      ]
     },
     "execution_count": 113,
     "metadata": {},
     "output_type": "execute_result"
    }
   ],
   "source": [
    "type(api)"
   ]
  },
  {
   "cell_type": "code",
   "execution_count": 114,
   "id": "15b0f065-0968-4582-bea9-201153b2e2b4",
   "metadata": {},
   "outputs": [],
   "source": [
    "#### Convert it to dictionary\n",
    "dict1 = json.loads(api)"
   ]
  },
  {
   "cell_type": "code",
   "execution_count": 115,
   "id": "8795a432-9869-4732-bb84-25500d86e601",
   "metadata": {},
   "outputs": [
    {
     "data": {
      "text/plain": [
       "{'name': 'Rohan', 'age': 19, 'Grade': 'A+'}"
      ]
     },
     "execution_count": 115,
     "metadata": {},
     "output_type": "execute_result"
    }
   ],
   "source": [
    "dict1"
   ]
  },
  {
   "cell_type": "code",
   "execution_count": 116,
   "id": "1dcfd8f5-ed44-4557-991f-a208de41ed1f",
   "metadata": {},
   "outputs": [
    {
     "data": {
      "text/plain": [
       "dict"
      ]
     },
     "execution_count": 116,
     "metadata": {},
     "output_type": "execute_result"
    }
   ],
   "source": [
    "type(dict1)"
   ]
  },
  {
   "cell_type": "code",
   "execution_count": 118,
   "id": "84d8767f-d3ed-4485-a0fb-e7701c5c81fd",
   "metadata": {},
   "outputs": [
    {
     "data": {
      "text/plain": [
       "19"
      ]
     },
     "execution_count": 118,
     "metadata": {},
     "output_type": "execute_result"
    }
   ],
   "source": [
    "dict1[\"age\"]"
   ]
  },
  {
   "cell_type": "code",
   "execution_count": 119,
   "id": "2984f88c-9a5f-4042-a220-366d881696a2",
   "metadata": {},
   "outputs": [
    {
     "data": {
      "text/plain": [
       "{'name': 'Rohan', 'age': 19, 'Grade': 'A+'}"
      ]
     },
     "execution_count": 119,
     "metadata": {},
     "output_type": "execute_result"
    }
   ],
   "source": [
    "#### Reconvert back to api\n",
    "dict1"
   ]
  },
  {
   "cell_type": "code",
   "execution_count": 120,
   "id": "44c36023-e4ef-4ef5-aa81-4f7695a8ea0b",
   "metadata": {},
   "outputs": [],
   "source": [
    "api = json.dumps(dict1)"
   ]
  },
  {
   "cell_type": "code",
   "execution_count": 121,
   "id": "6ebc1f7a-2396-4f6c-bcaf-e5b1aced06d9",
   "metadata": {},
   "outputs": [
    {
     "data": {
      "text/plain": [
       "'{\"name\": \"Rohan\", \"age\": 19, \"Grade\": \"A+\"}'"
      ]
     },
     "execution_count": 121,
     "metadata": {},
     "output_type": "execute_result"
    }
   ],
   "source": [
    "api"
   ]
  },
  {
   "cell_type": "code",
   "execution_count": 122,
   "id": "70e60c96-6880-43f2-a759-b3c92b94b8b4",
   "metadata": {},
   "outputs": [
    {
     "data": {
      "text/plain": [
       "str"
      ]
     },
     "execution_count": 122,
     "metadata": {},
     "output_type": "execute_result"
    }
   ],
   "source": [
    "type(api)"
   ]
  },
  {
   "cell_type": "markdown",
   "id": "de6209bb-4a2c-4dfd-b153-df2f3082f667",
   "metadata": {},
   "source": [
    "### 24. Python Try-Except"
   ]
  },
  {
   "cell_type": "code",
   "execution_count": 123,
   "id": "b4fb3d7c-1639-49c6-bb14-916a940d9768",
   "metadata": {},
   "outputs": [],
   "source": [
    "a=10\n",
    "b=0"
   ]
  },
  {
   "cell_type": "code",
   "execution_count": 124,
   "id": "9cf36de5-6313-4751-b77a-17f419b8b4f9",
   "metadata": {},
   "outputs": [
    {
     "ename": "ZeroDivisionError",
     "evalue": "division by zero",
     "output_type": "error",
     "traceback": [
      "\u001b[1;31m---------------------------------------------------------------------------\u001b[0m",
      "\u001b[1;31mZeroDivisionError\u001b[0m                         Traceback (most recent call last)",
      "Cell \u001b[1;32mIn[124], line 1\u001b[0m\n\u001b[1;32m----> 1\u001b[0m c \u001b[38;5;241m=\u001b[39m a\u001b[38;5;241m/\u001b[39mb\n",
      "\u001b[1;31mZeroDivisionError\u001b[0m: division by zero"
     ]
    }
   ],
   "source": [
    "c = a/b"
   ]
  },
  {
   "cell_type": "code",
   "execution_count": 125,
   "id": "724d7415-3d74-4b4e-9898-111c6fb56c84",
   "metadata": {},
   "outputs": [],
   "source": [
    "def my_function(a,b):\n",
    "    return a/b"
   ]
  },
  {
   "cell_type": "code",
   "execution_count": 126,
   "id": "8c844ba9-4c53-47b5-a9b4-0f15c414a8ad",
   "metadata": {},
   "outputs": [
    {
     "ename": "ZeroDivisionError",
     "evalue": "division by zero",
     "output_type": "error",
     "traceback": [
      "\u001b[1;31m---------------------------------------------------------------------------\u001b[0m",
      "\u001b[1;31mZeroDivisionError\u001b[0m                         Traceback (most recent call last)",
      "Cell \u001b[1;32mIn[126], line 1\u001b[0m\n\u001b[1;32m----> 1\u001b[0m my_function(\u001b[38;5;241m10\u001b[39m,\u001b[38;5;241m0\u001b[39m)\n",
      "Cell \u001b[1;32mIn[125], line 2\u001b[0m, in \u001b[0;36mmy_function\u001b[1;34m(a, b)\u001b[0m\n\u001b[0;32m      1\u001b[0m \u001b[38;5;28;01mdef\u001b[39;00m \u001b[38;5;21mmy_function\u001b[39m(a,b):\n\u001b[1;32m----> 2\u001b[0m     \u001b[38;5;28;01mreturn\u001b[39;00m a\u001b[38;5;241m/\u001b[39mb\n",
      "\u001b[1;31mZeroDivisionError\u001b[0m: division by zero"
     ]
    }
   ],
   "source": [
    "my_function(10,0)"
   ]
  },
  {
   "cell_type": "code",
   "execution_count": 132,
   "id": "65b68de1-d0ac-4219-9ddc-7088dd195e64",
   "metadata": {},
   "outputs": [],
   "source": [
    "def my_function(a,b):\n",
    "    try:\n",
    "        return a/b\n",
    "    except:\n",
    "        print(\"Cannot divide by zero\")"
   ]
  },
  {
   "cell_type": "code",
   "execution_count": null,
   "id": "5e64e4a8-553f-40bc-b0b2-786e6b5ee944",
   "metadata": {},
   "outputs": [],
   "source": []
  },
  {
   "cell_type": "code",
   "execution_count": null,
   "id": "0e1947c2-c836-4509-8ba1-51e0ece495b8",
   "metadata": {},
   "outputs": [],
   "source": []
  },
  {
   "cell_type": "code",
   "execution_count": null,
   "id": "e690840a-8307-49fe-b0c3-b6cff8545518",
   "metadata": {},
   "outputs": [],
   "source": []
  },
  {
   "cell_type": "markdown",
   "id": "16b77447-b265-4f60-b30e-9278104ab7cd",
   "metadata": {},
   "source": [
    "### 25. File Handling"
   ]
  },
  {
   "cell_type": "code",
   "execution_count": 147,
   "id": "344984ca-bfe4-45a9-ad92-da477f9dc2cb",
   "metadata": {},
   "outputs": [],
   "source": [
    "#### Open a file\n",
    "f = open(\"practice.txt\",\"r\")"
   ]
  },
  {
   "cell_type": "code",
   "execution_count": 138,
   "id": "3dcc253d-cb7a-4c5b-ae96-9decd5f7e24b",
   "metadata": {},
   "outputs": [
    {
     "name": "stdout",
     "output_type": "stream",
     "text": [
      "This is first line\n",
      "This is second line\n"
     ]
    }
   ],
   "source": [
    "### Read file\n",
    "print(f.read())"
   ]
  },
  {
   "cell_type": "code",
   "execution_count": null,
   "id": "0728d4a1-2dc1-4bb4-a00d-9f45dab35436",
   "metadata": {},
   "outputs": [],
   "source": [
    "### Close a file\n",
    "f.close()"
   ]
  },
  {
   "cell_type": "code",
   "execution_count": 145,
   "id": "9d949df2-416b-4be7-b1f2-507abb9f1e88",
   "metadata": {},
   "outputs": [
    {
     "name": "stdout",
     "output_type": "stream",
     "text": [
      "This is first line\n",
      "\n",
      "This is second line\n"
     ]
    }
   ],
   "source": [
    "print(f.readline())\n",
    "print(f.readline())"
   ]
  },
  {
   "cell_type": "code",
   "execution_count": 148,
   "id": "90d72c72-f98a-4991-9d86-aaccc4607e8d",
   "metadata": {},
   "outputs": [
    {
     "name": "stdout",
     "output_type": "stream",
     "text": [
      "This is first line\n",
      "\n",
      "This is second line\n"
     ]
    }
   ],
   "source": [
    "for i in f:\n",
    "    print(i)"
   ]
  },
  {
   "cell_type": "code",
   "execution_count": null,
   "id": "0b5d029e-100e-4cd3-a7e9-51530bee6ea5",
   "metadata": {},
   "outputs": [],
   "source": [
    "### \"a\" , \"w\""
   ]
  },
  {
   "cell_type": "code",
   "execution_count": 149,
   "id": "58212778-8696-46d2-8868-68ab3d18406a",
   "metadata": {},
   "outputs": [],
   "source": [
    "f = open(\"practice.txt\",\"a\")\n",
    "f.write(\"This is new content\")\n",
    "f.close()"
   ]
  },
  {
   "cell_type": "code",
   "execution_count": 150,
   "id": "2514fb27-d704-48e2-a2d9-c66dd839697b",
   "metadata": {},
   "outputs": [],
   "source": [
    "f = open(\"practice.txt\",\"w\")\n",
    "f.write(\"This is new content\")\n",
    "f.close()"
   ]
  },
  {
   "cell_type": "code",
   "execution_count": 151,
   "id": "c85dd581-2056-41de-832a-2e4172ad2e12",
   "metadata": {},
   "outputs": [],
   "source": [
    "f = open(\"practice2.txt\" , \"x\")"
   ]
  },
  {
   "cell_type": "code",
   "execution_count": 152,
   "id": "2470e0fd-073a-4888-ae21-73873af9bda3",
   "metadata": {},
   "outputs": [
    {
     "ename": "FileExistsError",
     "evalue": "[Errno 17] File exists: 'practice.txt'",
     "output_type": "error",
     "traceback": [
      "\u001b[1;31m---------------------------------------------------------------------------\u001b[0m",
      "\u001b[1;31mFileExistsError\u001b[0m                           Traceback (most recent call last)",
      "Cell \u001b[1;32mIn[152], line 1\u001b[0m\n\u001b[1;32m----> 1\u001b[0m f \u001b[38;5;241m=\u001b[39m \u001b[38;5;28mopen\u001b[39m(\u001b[38;5;124m\"\u001b[39m\u001b[38;5;124mpractice.txt\u001b[39m\u001b[38;5;124m\"\u001b[39m,\u001b[38;5;124m\"\u001b[39m\u001b[38;5;124mx\u001b[39m\u001b[38;5;124m\"\u001b[39m)\n",
      "File \u001b[1;32m~\\anaconda3\\Lib\\site-packages\\IPython\\core\\interactiveshell.py:310\u001b[0m, in \u001b[0;36m_modified_open\u001b[1;34m(file, *args, **kwargs)\u001b[0m\n\u001b[0;32m    303\u001b[0m \u001b[38;5;28;01mif\u001b[39;00m file \u001b[38;5;129;01min\u001b[39;00m {\u001b[38;5;241m0\u001b[39m, \u001b[38;5;241m1\u001b[39m, \u001b[38;5;241m2\u001b[39m}:\n\u001b[0;32m    304\u001b[0m     \u001b[38;5;28;01mraise\u001b[39;00m \u001b[38;5;167;01mValueError\u001b[39;00m(\n\u001b[0;32m    305\u001b[0m         \u001b[38;5;124mf\u001b[39m\u001b[38;5;124m\"\u001b[39m\u001b[38;5;124mIPython won\u001b[39m\u001b[38;5;124m'\u001b[39m\u001b[38;5;124mt let you open fd=\u001b[39m\u001b[38;5;132;01m{\u001b[39;00mfile\u001b[38;5;132;01m}\u001b[39;00m\u001b[38;5;124m by default \u001b[39m\u001b[38;5;124m\"\u001b[39m\n\u001b[0;32m    306\u001b[0m         \u001b[38;5;124m\"\u001b[39m\u001b[38;5;124mas it is likely to crash IPython. If you know what you are doing, \u001b[39m\u001b[38;5;124m\"\u001b[39m\n\u001b[0;32m    307\u001b[0m         \u001b[38;5;124m\"\u001b[39m\u001b[38;5;124myou can use builtins\u001b[39m\u001b[38;5;124m'\u001b[39m\u001b[38;5;124m open.\u001b[39m\u001b[38;5;124m\"\u001b[39m\n\u001b[0;32m    308\u001b[0m     )\n\u001b[1;32m--> 310\u001b[0m \u001b[38;5;28;01mreturn\u001b[39;00m io_open(file, \u001b[38;5;241m*\u001b[39margs, \u001b[38;5;241m*\u001b[39m\u001b[38;5;241m*\u001b[39mkwargs)\n",
      "\u001b[1;31mFileExistsError\u001b[0m: [Errno 17] File exists: 'practice.txt'"
     ]
    }
   ],
   "source": [
    "f = open(\"practice.txt\",\"x\")"
   ]
  },
  {
   "cell_type": "code",
   "execution_count": null,
   "id": "cf0849b7-11a4-43b4-aca0-4b4b50e80d18",
   "metadata": {},
   "outputs": [],
   "source": []
  }
 ],
 "metadata": {
  "kernelspec": {
   "display_name": "Python 3 (ipykernel)",
   "language": "python",
   "name": "python3"
  },
  "language_info": {
   "codemirror_mode": {
    "name": "ipython",
    "version": 3
   },
   "file_extension": ".py",
   "mimetype": "text/x-python",
   "name": "python",
   "nbconvert_exporter": "python",
   "pygments_lexer": "ipython3",
   "version": "3.11.7"
  }
 },
 "nbformat": 4,
 "nbformat_minor": 5
}
