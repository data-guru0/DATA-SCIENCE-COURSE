{
 "cells": [
  {
   "cell_type": "code",
   "execution_count": 13,
   "id": "0dd23986-4b41-4ad5-be4a-4b93d14d3704",
   "metadata": {},
   "outputs": [],
   "source": [
    "a = 2\n",
    "b = 5.2224\n",
    "c = False\n",
    "d = \"Hello World\""
   ]
  },
  {
   "cell_type": "code",
   "execution_count": 14,
   "id": "aa91323c-c545-4b37-ba88-2d0eef6d7135",
   "metadata": {},
   "outputs": [
    {
     "name": "stdout",
     "output_type": "stream",
     "text": [
      "<class 'int'>\n"
     ]
    }
   ],
   "source": [
    "print(type(a))"
   ]
  },
  {
   "cell_type": "code",
   "execution_count": 15,
   "id": "586e01d7-7f8e-4b29-bad5-682d22065747",
   "metadata": {},
   "outputs": [
    {
     "name": "stdout",
     "output_type": "stream",
     "text": [
      "<class 'float'>\n"
     ]
    }
   ],
   "source": [
    "print(type(b))"
   ]
  },
  {
   "cell_type": "code",
   "execution_count": 16,
   "id": "aa2040db-6f63-4ca0-a50e-fb88f6d074ba",
   "metadata": {},
   "outputs": [
    {
     "name": "stdout",
     "output_type": "stream",
     "text": [
      "<class 'bool'>\n"
     ]
    }
   ],
   "source": [
    "print(type(c))"
   ]
  },
  {
   "cell_type": "code",
   "execution_count": 6,
   "id": "f334795d-c85a-469f-a549-be2f8c1f8faf",
   "metadata": {},
   "outputs": [
    {
     "data": {
      "text/plain": [
       "str"
      ]
     },
     "execution_count": 6,
     "metadata": {},
     "output_type": "execute_result"
    }
   ],
   "source": [
    "type(d)"
   ]
  },
  {
   "cell_type": "code",
   "execution_count": 17,
   "id": "d06b273c-5345-4845-b732-de362d3f6db7",
   "metadata": {},
   "outputs": [],
   "source": [
    "list1 = [1,2,3,4,5,6]"
   ]
  },
  {
   "cell_type": "code",
   "execution_count": 18,
   "id": "dd6cda0c-5493-4b78-a491-598c588499bc",
   "metadata": {},
   "outputs": [
    {
     "name": "stdout",
     "output_type": "stream",
     "text": [
      "<class 'list'>\n"
     ]
    }
   ],
   "source": [
    "print(type(list1))"
   ]
  },
  {
   "cell_type": "code",
   "execution_count": 19,
   "id": "6eb3df1b-e48e-441c-ba8b-65ae4e7aa137",
   "metadata": {},
   "outputs": [
    {
     "name": "stdout",
     "output_type": "stream",
     "text": [
      "[1, 2, 3, 4, 5, 6]\n"
     ]
    }
   ],
   "source": [
    "print(list1)"
   ]
  },
  {
   "cell_type": "code",
   "execution_count": 22,
   "id": "a8372c7c-bc95-4cf1-8668-45e41d1bb7b9",
   "metadata": {},
   "outputs": [],
   "source": [
    "list1.append(5)"
   ]
  },
  {
   "cell_type": "code",
   "execution_count": 23,
   "id": "51d5837e-e635-44d1-a6d8-2cb00b0a450b",
   "metadata": {},
   "outputs": [
    {
     "data": {
      "text/plain": [
       "[1, 2, 3, 4, 5, 6, 5]"
      ]
     },
     "execution_count": 23,
     "metadata": {},
     "output_type": "execute_result"
    }
   ],
   "source": [
    "list1"
   ]
  },
  {
   "cell_type": "code",
   "execution_count": 24,
   "id": "e5fe8965-c132-4c2e-bfd8-d911ff91e82d",
   "metadata": {},
   "outputs": [],
   "source": [
    "list2 = [5,4,6,8]"
   ]
  },
  {
   "cell_type": "code",
   "execution_count": 25,
   "id": "db606c02-1866-4655-b1d5-a7e55d6d802b",
   "metadata": {},
   "outputs": [],
   "source": [
    "list2.append(5)"
   ]
  },
  {
   "cell_type": "code",
   "execution_count": 26,
   "id": "02e0ac46-3fcc-4f60-ae3b-11e5bca35e79",
   "metadata": {},
   "outputs": [
    {
     "data": {
      "text/plain": [
       "[5, 4, 6, 8, 5]"
      ]
     },
     "execution_count": 26,
     "metadata": {},
     "output_type": "execute_result"
    }
   ],
   "source": [
    "list2"
   ]
  },
  {
   "cell_type": "markdown",
   "id": "dca91f81-962c-41c6-a840-368a018eba44",
   "metadata": {},
   "source": [
    "### Creating a Class"
   ]
  },
  {
   "cell_type": "code",
   "execution_count": 53,
   "id": "117506f7-575b-4c72-bb86-f32e4935e678",
   "metadata": {},
   "outputs": [],
   "source": [
    "class ThisCar:\n",
    "\n",
    "    def __init__(self,model,type,color):\n",
    "        # model = Mercedes , type= automatic , color =orange\n",
    "        \n",
    "        self.model = model\n",
    "        # self.model = Mercedes\n",
    "        \n",
    "        self.type=type\n",
    "        #self.type = automatic\n",
    "        \n",
    "        self.color=color\n",
    "        # self.color = orange\n",
    "    \n",
    "    def print_details(self):\n",
    "        print(self.model)\n",
    "        print(self.type)\n",
    "        print(self.color)"
   ]
  },
  {
   "cell_type": "code",
   "execution_count": 58,
   "id": "77bcf186-de57-4735-a94a-f51fa78f50b3",
   "metadata": {},
   "outputs": [],
   "source": [
    "car1 = ThisCar(\"Mercedes\" , \"automatic\" , \"orange\")"
   ]
  },
  {
   "cell_type": "code",
   "execution_count": 59,
   "id": "446363f5-54ea-405a-a13c-fceb46298163",
   "metadata": {},
   "outputs": [
    {
     "name": "stdout",
     "output_type": "stream",
     "text": [
      "Mercedes\n",
      "automatic\n",
      "orange\n"
     ]
    }
   ],
   "source": [
    "car1.print_details()"
   ]
  },
  {
   "cell_type": "code",
   "execution_count": null,
   "id": "331972b4-9765-4894-9e70-50ccbc8e5781",
   "metadata": {},
   "outputs": [],
   "source": []
  }
 ],
 "metadata": {
  "kernelspec": {
   "display_name": "Python 3 (ipykernel)",
   "language": "python",
   "name": "python3"
  },
  "language_info": {
   "codemirror_mode": {
    "name": "ipython",
    "version": 3
   },
   "file_extension": ".py",
   "mimetype": "text/x-python",
   "name": "python",
   "nbconvert_exporter": "python",
   "pygments_lexer": "ipython3",
   "version": "3.11.7"
  }
 },
 "nbformat": 4,
 "nbformat_minor": 5
}
