{
 "cells": [
  {
   "cell_type": "markdown",
   "id": "60e78dd9-257b-42b0-9662-7f509422a678",
   "metadata": {},
   "source": [
    "### AGGREGATION"
   ]
  },
  {
   "cell_type": "code",
   "execution_count": 5,
   "id": "39274967-6912-436c-adfc-9aaea9fa1555",
   "metadata": {},
   "outputs": [],
   "source": [
    "class Book:\n",
    "    def __init__(self,title,author):\n",
    "        self.title=title\n",
    "        self.author=author\n",
    "    def __str__(self):\n",
    "        return f\"{self.title} by {self.author}\""
   ]
  },
  {
   "cell_type": "code",
   "execution_count": 6,
   "id": "1db81723-e198-454e-aed1-e0243d69a797",
   "metadata": {},
   "outputs": [],
   "source": [
    "class Library:\n",
    "    def __init__(self):\n",
    "        self.books=[]\n",
    "    def add_book(self,book):\n",
    "        self.books.append(book)\n",
    "    def show_book(self):\n",
    "        print(\"Books that are in the library are :\")\n",
    "        for book in self.books:\n",
    "            print(book)"
   ]
  },
  {
   "cell_type": "code",
   "execution_count": 7,
   "id": "9272195c-4a9e-4c66-b80f-1d8910b6953f",
   "metadata": {},
   "outputs": [],
   "source": [
    "library = Library()"
   ]
  },
  {
   "cell_type": "code",
   "execution_count": 8,
   "id": "efd4a255-04d6-4f06-a944-22931f02ae79",
   "metadata": {},
   "outputs": [
    {
     "name": "stdout",
     "output_type": "stream",
     "text": [
      "Books that are in the library are :\n"
     ]
    }
   ],
   "source": [
    "library.show_book()"
   ]
  },
  {
   "cell_type": "code",
   "execution_count": 9,
   "id": "fe2b9a04-f63a-4d09-9eb3-c330449382ea",
   "metadata": {},
   "outputs": [],
   "source": [
    "book1 = Book(\"1984\" , \"George\")"
   ]
  },
  {
   "cell_type": "code",
   "execution_count": 10,
   "id": "3bda225c-5627-42b8-be7a-c6a1caf4db2e",
   "metadata": {},
   "outputs": [],
   "source": [
    "book2 = Book(\"TO Kill a Mocking Bird\" , \"Harper Lee\")"
   ]
  },
  {
   "cell_type": "code",
   "execution_count": 11,
   "id": "8a1227c9-e084-4b42-9515-b5d9f4c94aed",
   "metadata": {},
   "outputs": [],
   "source": [
    "library.add_book(book1)"
   ]
  },
  {
   "cell_type": "code",
   "execution_count": 12,
   "id": "c10710a5-3be2-4fb6-86c3-ed1e76269206",
   "metadata": {},
   "outputs": [
    {
     "name": "stdout",
     "output_type": "stream",
     "text": [
      "Books that are in the library are :\n",
      "1984 by George\n"
     ]
    }
   ],
   "source": [
    "library.show_book()"
   ]
  },
  {
   "cell_type": "code",
   "execution_count": 13,
   "id": "52d27cc4-4a82-4f08-8717-bd40ff4acce6",
   "metadata": {},
   "outputs": [],
   "source": [
    "library.add_book(book2)"
   ]
  },
  {
   "cell_type": "code",
   "execution_count": 14,
   "id": "b2b3a8f2-d18e-48a1-9002-6799dfc7492a",
   "metadata": {},
   "outputs": [
    {
     "name": "stdout",
     "output_type": "stream",
     "text": [
      "Books that are in the library are :\n",
      "1984 by George\n",
      "TO Kill a Mocking Bird by Harper Lee\n"
     ]
    }
   ],
   "source": [
    "library.show_book()"
   ]
  },
  {
   "cell_type": "markdown",
   "id": "7696cd38-b414-4e7e-9233-c65dbe9ced4d",
   "metadata": {},
   "source": [
    "## INHERITANCE"
   ]
  },
  {
   "cell_type": "markdown",
   "id": "f839125e-3ed5-4be1-a95d-786255e9f00b",
   "metadata": {},
   "source": [
    "### 1. Single-Level"
   ]
  },
  {
   "cell_type": "code",
   "execution_count": 15,
   "id": "63685702-fde3-45ce-a035-95466596b780",
   "metadata": {},
   "outputs": [],
   "source": [
    "class Animal:\n",
    "    def speak(self):\n",
    "        return \"Animal speaks\"\n",
    "\n",
    "class Dog(Animal):\n",
    "    def bark(self):\n",
    "        return \"Dog Barks\""
   ]
  },
  {
   "cell_type": "code",
   "execution_count": 16,
   "id": "84e63b7b-e42d-4571-9acc-40f4e4b0fede",
   "metadata": {},
   "outputs": [],
   "source": [
    "dog = Dog()"
   ]
  },
  {
   "cell_type": "code",
   "execution_count": 17,
   "id": "1d1f970e-158d-4fbe-966b-3e6061b623e6",
   "metadata": {},
   "outputs": [
    {
     "data": {
      "text/plain": [
       "'Dog Barks'"
      ]
     },
     "execution_count": 17,
     "metadata": {},
     "output_type": "execute_result"
    }
   ],
   "source": [
    "dog.bark()"
   ]
  },
  {
   "cell_type": "code",
   "execution_count": 18,
   "id": "b1e731cf-bdbe-4d03-8b74-cdc3076a6fa3",
   "metadata": {},
   "outputs": [
    {
     "data": {
      "text/plain": [
       "'Animal speaks'"
      ]
     },
     "execution_count": 18,
     "metadata": {},
     "output_type": "execute_result"
    }
   ],
   "source": [
    "dog.speak()"
   ]
  },
  {
   "cell_type": "markdown",
   "id": "49739364-7675-4dd4-8e90-694ee86dd12c",
   "metadata": {},
   "source": [
    "### 2. Multiple Inheritance"
   ]
  },
  {
   "cell_type": "code",
   "execution_count": 20,
   "id": "c82a4b24-070a-4690-87b0-f922ded4e3b5",
   "metadata": {},
   "outputs": [],
   "source": [
    "class Father:\n",
    "    def skill(self):\n",
    "        return \"Driving\"\n",
    "\n",
    "\n",
    "class Mother:\n",
    "    def hobby(self):\n",
    "        return \"Cooking\"\n",
    "\n",
    "class Child(Father,Mother):\n",
    "    def activity(self):\n",
    "        return \"Playing\""
   ]
  },
  {
   "cell_type": "code",
   "execution_count": 21,
   "id": "2cdff264-c3ec-4893-80d5-6f2e496d2069",
   "metadata": {},
   "outputs": [],
   "source": [
    "child = Child()"
   ]
  },
  {
   "cell_type": "code",
   "execution_count": 22,
   "id": "ed60ffe9-a292-4b43-b309-de2b9ca277ed",
   "metadata": {},
   "outputs": [
    {
     "data": {
      "text/plain": [
       "'Playing'"
      ]
     },
     "execution_count": 22,
     "metadata": {},
     "output_type": "execute_result"
    }
   ],
   "source": [
    "child.activity()"
   ]
  },
  {
   "cell_type": "code",
   "execution_count": 23,
   "id": "277ccc81-0cba-48f7-b538-9445c3b1a073",
   "metadata": {},
   "outputs": [
    {
     "data": {
      "text/plain": [
       "'Driving'"
      ]
     },
     "execution_count": 23,
     "metadata": {},
     "output_type": "execute_result"
    }
   ],
   "source": [
    "child.skill()"
   ]
  },
  {
   "cell_type": "code",
   "execution_count": 24,
   "id": "8d9c040c-2a77-40fa-bb80-a9dee0fdbfb6",
   "metadata": {},
   "outputs": [
    {
     "data": {
      "text/plain": [
       "'Cooking'"
      ]
     },
     "execution_count": 24,
     "metadata": {},
     "output_type": "execute_result"
    }
   ],
   "source": [
    "child.hobby()"
   ]
  },
  {
   "cell_type": "markdown",
   "id": "83ad2a6f-076f-4e4f-8ef6-71e8418e59ae",
   "metadata": {},
   "source": [
    "### 3. Multi-Level "
   ]
  },
  {
   "cell_type": "code",
   "execution_count": 25,
   "id": "7b38b35e-b36b-4e0c-ab9a-771f7ca3e5bc",
   "metadata": {},
   "outputs": [],
   "source": [
    "class GrandParent:\n",
    "    def legacy(self):\n",
    "        return \"Old Tradition\"\n",
    "\n",
    "class Parent(GrandParent):\n",
    "    def values(self):\n",
    "        return \"Mid Tradition\"\n",
    "        \n",
    "class Child(Parent):\n",
    "    def trend(self):\n",
    "        return \"Modern Thinking\""
   ]
  },
  {
   "cell_type": "code",
   "execution_count": 26,
   "id": "4a52b115-08f0-4940-a41b-c6219a8dc965",
   "metadata": {},
   "outputs": [],
   "source": [
    "child = Child()"
   ]
  },
  {
   "cell_type": "code",
   "execution_count": 27,
   "id": "e0c2a667-f177-4286-af6c-0e668e367ee1",
   "metadata": {},
   "outputs": [
    {
     "data": {
      "text/plain": [
       "'Modern Thinking'"
      ]
     },
     "execution_count": 27,
     "metadata": {},
     "output_type": "execute_result"
    }
   ],
   "source": [
    "child.trend()"
   ]
  },
  {
   "cell_type": "code",
   "execution_count": 28,
   "id": "ee9a5f02-262b-43e1-b9ea-a94827613cf8",
   "metadata": {},
   "outputs": [
    {
     "data": {
      "text/plain": [
       "'Mid Tradition'"
      ]
     },
     "execution_count": 28,
     "metadata": {},
     "output_type": "execute_result"
    }
   ],
   "source": [
    "child.values()"
   ]
  },
  {
   "cell_type": "code",
   "execution_count": 29,
   "id": "7dadce0d-501c-4b48-9c76-8dd8f894b3bb",
   "metadata": {},
   "outputs": [
    {
     "data": {
      "text/plain": [
       "'Old Tradition'"
      ]
     },
     "execution_count": 29,
     "metadata": {},
     "output_type": "execute_result"
    }
   ],
   "source": [
    "child.legacy()"
   ]
  },
  {
   "cell_type": "markdown",
   "id": "e9d35645-246b-4236-a7f1-be8c2e0a32c2",
   "metadata": {},
   "source": [
    "### 4. Hierarchial"
   ]
  },
  {
   "cell_type": "code",
   "execution_count": 30,
   "id": "9d751eea-7018-4ae6-86cb-5e8630f6d59a",
   "metadata": {},
   "outputs": [],
   "source": [
    "class Vehicle:\n",
    "    def engine(self):\n",
    "        return \"Every vehicle has engine\"\n",
    "\n",
    "class Bike(Vehicle):\n",
    "    def tyres(self):\n",
    "        return \"Bike has 2 tyres\"\n",
    "\n",
    "class Boat(Vehicle):\n",
    "    def swim(self):\n",
    "        return \"Boat runs on water\""
   ]
  },
  {
   "cell_type": "code",
   "execution_count": 31,
   "id": "b07de6ad-a671-45e4-9686-8b7e0265e165",
   "metadata": {},
   "outputs": [],
   "source": [
    "bike = Bike()"
   ]
  },
  {
   "cell_type": "code",
   "execution_count": 32,
   "id": "cba15e49-f77c-40bc-8f70-f790c5f09f5b",
   "metadata": {},
   "outputs": [
    {
     "data": {
      "text/plain": [
       "'Bike has 2 tyres'"
      ]
     },
     "execution_count": 32,
     "metadata": {},
     "output_type": "execute_result"
    }
   ],
   "source": [
    "bike.tyres()"
   ]
  },
  {
   "cell_type": "code",
   "execution_count": 33,
   "id": "b6099373-dbf9-43bf-973c-6df4c58dffc9",
   "metadata": {},
   "outputs": [
    {
     "data": {
      "text/plain": [
       "'Every vehicle has engine'"
      ]
     },
     "execution_count": 33,
     "metadata": {},
     "output_type": "execute_result"
    }
   ],
   "source": [
    "bike.engine()"
   ]
  },
  {
   "cell_type": "code",
   "execution_count": 35,
   "id": "7424acf0-36af-4cfe-a30c-91cf6383a260",
   "metadata": {},
   "outputs": [],
   "source": [
    "boat = Boat()"
   ]
  },
  {
   "cell_type": "code",
   "execution_count": 36,
   "id": "71731f64-7bd3-4156-89b0-7a6cb2b9059b",
   "metadata": {},
   "outputs": [
    {
     "data": {
      "text/plain": [
       "'Boat runs on water'"
      ]
     },
     "execution_count": 36,
     "metadata": {},
     "output_type": "execute_result"
    }
   ],
   "source": [
    "boat.swim()"
   ]
  },
  {
   "cell_type": "code",
   "execution_count": 37,
   "id": "455fe1b1-6b2a-42fc-a3bc-c074f025e8de",
   "metadata": {},
   "outputs": [
    {
     "data": {
      "text/plain": [
       "'Every vehicle has engine'"
      ]
     },
     "execution_count": 37,
     "metadata": {},
     "output_type": "execute_result"
    }
   ],
   "source": [
    "boat.engine()"
   ]
  },
  {
   "cell_type": "code",
   "execution_count": 38,
   "id": "c01449cb-448f-4649-a8fe-6f80cdbc6ca7",
   "metadata": {},
   "outputs": [
    {
     "ename": "AttributeError",
     "evalue": "'Boat' object has no attribute 'tyres'",
     "output_type": "error",
     "traceback": [
      "\u001b[1;31m---------------------------------------------------------------------------\u001b[0m",
      "\u001b[1;31mAttributeError\u001b[0m                            Traceback (most recent call last)",
      "Cell \u001b[1;32mIn[38], line 1\u001b[0m\n\u001b[1;32m----> 1\u001b[0m boat\u001b[38;5;241m.\u001b[39mtyres()\n",
      "\u001b[1;31mAttributeError\u001b[0m: 'Boat' object has no attribute 'tyres'"
     ]
    }
   ],
   "source": [
    "boat.tyres()"
   ]
  },
  {
   "cell_type": "markdown",
   "id": "bb0238c0-0b20-4773-b6a0-ada9bd91fd94",
   "metadata": {},
   "source": [
    "## Inheriting Constructor"
   ]
  },
  {
   "cell_type": "code",
   "execution_count": 82,
   "id": "22279e43-5da7-4415-96b2-831a2ac28b85",
   "metadata": {},
   "outputs": [],
   "source": [
    "class Phone:\n",
    "    def __init__(self,brand,model,color,price):\n",
    "        self.__brand=brand\n",
    "        self.model=model\n",
    "        self.color=color\n",
    "        self.price=price\n",
    "    def buy(self):\n",
    "        return \"I am buying this Phone\""
   ]
  },
  {
   "cell_type": "code",
   "execution_count": 83,
   "id": "2bfebebe-97d5-46b4-8366-e3001b990674",
   "metadata": {},
   "outputs": [],
   "source": [
    "class SmartPhone(Phone):\n",
    "    def __init__(self,brand,model,color,price,screen , ram):\n",
    "        super().__init__(brand,model,color,price)\n",
    "        self.screen = screen\n",
    "        self.ram = ram\n",
    "        \n",
    "          \n",
    "    def sell(self):\n",
    "        return \"I am selling Smartphone\""
   ]
  },
  {
   "cell_type": "code",
   "execution_count": 84,
   "id": "ced9dbfb-adc1-405b-ba07-3656d915e647",
   "metadata": {},
   "outputs": [],
   "source": [
    "sp = SmartPhone(\"Mi\" , \"A5\" , \"black\" , 15000 , \"6.5\", 8)"
   ]
  },
  {
   "cell_type": "code",
   "execution_count": 76,
   "id": "f91e423b-af65-4821-abb6-024f0849e50c",
   "metadata": {},
   "outputs": [
    {
     "data": {
      "text/plain": [
       "'I am selling Smartphone'"
      ]
     },
     "execution_count": 76,
     "metadata": {},
     "output_type": "execute_result"
    }
   ],
   "source": [
    "sp.sell()"
   ]
  },
  {
   "cell_type": "code",
   "execution_count": 77,
   "id": "b672811e-324e-46f2-91b6-596c6e6f2d0f",
   "metadata": {},
   "outputs": [
    {
     "data": {
      "text/plain": [
       "'I am buying this Phone'"
      ]
     },
     "execution_count": 77,
     "metadata": {},
     "output_type": "execute_result"
    }
   ],
   "source": [
    "sp.buy()"
   ]
  },
  {
   "cell_type": "code",
   "execution_count": null,
   "id": "7884b10a-74bd-4735-93e3-1be88656be23",
   "metadata": {},
   "outputs": [],
   "source": []
  }
 ],
 "metadata": {
  "kernelspec": {
   "display_name": "Python 3 (ipykernel)",
   "language": "python",
   "name": "python3"
  },
  "language_info": {
   "codemirror_mode": {
    "name": "ipython",
    "version": 3
   },
   "file_extension": ".py",
   "mimetype": "text/x-python",
   "name": "python",
   "nbconvert_exporter": "python",
   "pygments_lexer": "ipython3",
   "version": "3.11.7"
  }
 },
 "nbformat": 4,
 "nbformat_minor": 5
}
