{
 "cells": [
  {
   "cell_type": "markdown",
   "id": "4869c840-32d6-4e36-9363-49523439a444",
   "metadata": {},
   "source": [
    "## EXAMPLE - 1 : VENDING MACHINE"
   ]
  },
  {
   "cell_type": "code",
   "execution_count": 41,
   "id": "918a5d32-4273-4290-a4d4-f6cd250505e3",
   "metadata": {},
   "outputs": [],
   "source": [
    "class VendingMachine:\n",
    "    def __init__(self):\n",
    "        self.__balance = 0\n",
    "        self.items = {\n",
    "            \"Soda\" : {\"price\" : 5.00 , \"stock\":5},\n",
    "            \"Chips\" : {\"price\" : 20.00 , \"stock\" : 5},\n",
    "            \"Candy\" : {\"price\" : 3.00 , \"stock\" : 5},\n",
    "            \"Colddrinks\" : {\"price\" : 25.00 , \"stock\":10}\n",
    "        }\n",
    "        \n",
    "    def show_items(self):\n",
    "        print(\"Available Items : \")\n",
    "        for item,info in self.items.items():\n",
    "            print(f\"{item} :  {info['price']} and {info['stock']} \")\n",
    "            \n",
    "    def deposit_money(self,amount):\n",
    "        if amount>0:\n",
    "            self.__balance = self.__balance+amount\n",
    "            print(\"Amount deposited succesfully\")\n",
    "        else:\n",
    "            print(\"Please enter a valid amount\")\n",
    "            \n",
    "    def purchase_item(self,item_name):\n",
    "        item = self.items.get(item_name)\n",
    "        if item:\n",
    "            if item[\"stock\"]>0:\n",
    "                if self.__balance >= item[\"price\"]:\n",
    "                    print(\"Purchased Succesfull !!!!!\")\n",
    "                    self.__balance = self.__balance - item[\"price\"]\n",
    "                    item[\"stock\"] -= 1\n",
    "                else:\n",
    "                    print(\"Insufficientr Balance\")\n",
    "            else:\n",
    "                print(\"Out of Stock\")\n",
    "        else:\n",
    "            print(\"Item dont exist\")\n",
    "\n",
    "    def check_balance(self):\n",
    "        print(\"Balance == \",self.__balance)\n",
    "                    \n",
    "                    "
   ]
  },
  {
   "cell_type": "code",
   "execution_count": 42,
   "id": "4d6d567b-dc6d-4ae6-8773-def57b440397",
   "metadata": {},
   "outputs": [],
   "source": [
    "customer1 = VendingMachine()"
   ]
  },
  {
   "cell_type": "code",
   "execution_count": 43,
   "id": "a07b68cf-4f59-4082-80f5-f328e1ffa901",
   "metadata": {},
   "outputs": [
    {
     "name": "stdout",
     "output_type": "stream",
     "text": [
      "Available Items : \n",
      "Soda :  5.0 and 5 \n",
      "Chips :  20.0 and 5 \n",
      "Candy :  3.0 and 5 \n",
      "Colddrinks :  25.0 and 10 \n"
     ]
    }
   ],
   "source": [
    "customer1.show_items()"
   ]
  },
  {
   "cell_type": "code",
   "execution_count": 44,
   "id": "09e7c2ef-a1a3-4baf-90e3-15859e7fda5a",
   "metadata": {},
   "outputs": [
    {
     "name": "stdout",
     "output_type": "stream",
     "text": [
      "Amount deposited succesfully\n"
     ]
    }
   ],
   "source": [
    "customer1.deposit_money(8)"
   ]
  },
  {
   "cell_type": "code",
   "execution_count": 45,
   "id": "6ecaa8d0-ce6d-4239-a509-299968e6fc39",
   "metadata": {},
   "outputs": [],
   "source": [
    "### 8 - 5 == 3"
   ]
  },
  {
   "cell_type": "code",
   "execution_count": 46,
   "id": "73bfa304-c87b-4fa5-a2c4-e41b9bcfe2c0",
   "metadata": {},
   "outputs": [
    {
     "name": "stdout",
     "output_type": "stream",
     "text": [
      "Purchased Succesfull !!!!!\n"
     ]
    }
   ],
   "source": [
    "customer1.purchase_item(\"Soda\")"
   ]
  },
  {
   "cell_type": "code",
   "execution_count": 47,
   "id": "5f85c35c-b151-4b6a-9c14-d0985aa025fc",
   "metadata": {},
   "outputs": [
    {
     "name": "stdout",
     "output_type": "stream",
     "text": [
      "Insufficientr Balance\n"
     ]
    }
   ],
   "source": [
    "customer1.purchase_item(\"Chips\")"
   ]
  },
  {
   "cell_type": "code",
   "execution_count": 48,
   "id": "3d7e3651-f35e-4249-a8a3-84e95cbf1714",
   "metadata": {},
   "outputs": [
    {
     "name": "stdout",
     "output_type": "stream",
     "text": [
      "Item dont exist\n"
     ]
    }
   ],
   "source": [
    "customer1.purchase_item(\"Lays\")"
   ]
  },
  {
   "cell_type": "code",
   "execution_count": 49,
   "id": "fe6bf7e6-7ab3-422a-b8fe-027f57117449",
   "metadata": {},
   "outputs": [
    {
     "name": "stdout",
     "output_type": "stream",
     "text": [
      "Balance ==  3.0\n"
     ]
    }
   ],
   "source": [
    "customer1.check_balance()"
   ]
  },
  {
   "cell_type": "code",
   "execution_count": 50,
   "id": "a532201a-542f-4a88-b96f-43e556559dd3",
   "metadata": {},
   "outputs": [
    {
     "name": "stdout",
     "output_type": "stream",
     "text": [
      "Available Items : \n",
      "Soda :  5.0 and 4 \n",
      "Chips :  20.0 and 5 \n",
      "Candy :  3.0 and 5 \n",
      "Colddrinks :  25.0 and 10 \n"
     ]
    }
   ],
   "source": [
    "customer1.show_items()"
   ]
  },
  {
   "cell_type": "markdown",
   "id": "d99f5664-c530-453a-b427-aa876ef0717c",
   "metadata": {},
   "source": [
    "### EXAMPLE-2 : Fraction Data Type -- Understand Magic Methods.."
   ]
  },
  {
   "cell_type": "code",
   "execution_count": 66,
   "id": "21c973f4-98aa-4d02-8da1-10c9867b7631",
   "metadata": {},
   "outputs": [],
   "source": [
    "class Fraction:\n",
    "    def __init__(self , num , den):\n",
    "        self.num = num\n",
    "        self.den = den\n",
    "        \n",
    "    def __str__(self):\n",
    "        return f\"{self.num}/{self.den}\"\n",
    "        \n",
    "    def __add__(self , other):\n",
    "        new_num = (self.num * other.den) + (other.num * self.den)\n",
    "        new_den = self.den * other.den\n",
    "        return f\"{new_num}/{new_den}\"\n",
    "        \n",
    "    def __sub__(self , other):\n",
    "        new_num = (self.num * other.den) - (other.num * self.den)\n",
    "        new_den = self.den * other.den\n",
    "        return f\"{new_num}/{new_den}\"\n",
    "        \n",
    "    def __mul__(self,other):\n",
    "        new_num = self.num * other.num\n",
    "        new_den = self.den * other.den\n",
    "        return f\"{new_num}/{new_den}\""
   ]
  },
  {
   "cell_type": "code",
   "execution_count": 67,
   "id": "819962b5-eff8-4a9d-9c1f-db4857d50b50",
   "metadata": {},
   "outputs": [],
   "source": [
    "num1 = Fraction(3,4)"
   ]
  },
  {
   "cell_type": "code",
   "execution_count": 68,
   "id": "fd9a3041-3b70-486d-a5fb-f3efbc9f44a3",
   "metadata": {},
   "outputs": [],
   "source": [
    "num2 = Fraction(4,6)"
   ]
  },
  {
   "cell_type": "code",
   "execution_count": 70,
   "id": "8469f1c2-33a8-4bd1-84eb-b777d7d85197",
   "metadata": {},
   "outputs": [
    {
     "data": {
      "text/plain": [
       "'12/24'"
      ]
     },
     "execution_count": 70,
     "metadata": {},
     "output_type": "execute_result"
    }
   ],
   "source": [
    "num1 * num2"
   ]
  },
  {
   "cell_type": "markdown",
   "id": "8b96f116-195d-4b62-b2c4-f09d0d7f6101",
   "metadata": {},
   "source": [
    "#### Assignment"
   ]
  },
  {
   "cell_type": "markdown",
   "id": "852acd29-e428-4dd9-8f0e-62f90ec8bddb",
   "metadata": {},
   "source": [
    "Library Managment System"
   ]
  },
  {
   "cell_type": "code",
   "execution_count": null,
   "id": "7e506710-c471-42a1-acbe-4ee91fc23c5b",
   "metadata": {},
   "outputs": [],
   "source": []
  }
 ],
 "metadata": {
  "kernelspec": {
   "display_name": "Python 3 (ipykernel)",
   "language": "python",
   "name": "python3"
  },
  "language_info": {
   "codemirror_mode": {
    "name": "ipython",
    "version": 3
   },
   "file_extension": ".py",
   "mimetype": "text/x-python",
   "name": "python",
   "nbconvert_exporter": "python",
   "pygments_lexer": "ipython3",
   "version": "3.11.7"
  }
 },
 "nbformat": 4,
 "nbformat_minor": 5
}
