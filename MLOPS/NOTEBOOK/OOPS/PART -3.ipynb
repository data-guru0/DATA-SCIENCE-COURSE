{
 "cells": [
  {
   "cell_type": "markdown",
   "id": "28374c80-e389-49bd-879b-95e87ce5e1a5",
   "metadata": {},
   "source": [
    "### VARIABLES"
   ]
  },
  {
   "cell_type": "markdown",
   "id": "d22e0b33-09ca-4c4f-99d9-3534833a3cfd",
   "metadata": {},
   "source": [
    "### 1. Instance Variables"
   ]
  },
  {
   "cell_type": "code",
   "execution_count": 1,
   "id": "6ca8ea90-a7dd-4bb8-955d-900b25b786e9",
   "metadata": {},
   "outputs": [],
   "source": [
    "class Car:\n",
    "    def __init__(self,brand,model):\n",
    "        self.brand=brand\n",
    "        self.model=model\n",
    "    def printer(self):\n",
    "        print(self.brand)\n",
    "        print(self.model)"
   ]
  },
  {
   "cell_type": "code",
   "execution_count": 2,
   "id": "37a60aaf-b1da-4355-93af-4071365009d5",
   "metadata": {},
   "outputs": [],
   "source": [
    "car1 = Car(\"BMW\",\"X5\")"
   ]
  },
  {
   "cell_type": "code",
   "execution_count": 3,
   "id": "1bbd8b77-8026-4ca6-a8f7-f8a677a0519d",
   "metadata": {},
   "outputs": [],
   "source": [
    "car2 = Car(\"Audi\" , \"A5\")"
   ]
  },
  {
   "cell_type": "code",
   "execution_count": 4,
   "id": "0ccdf0b6-a9f8-40a1-83f4-f8c433fc2179",
   "metadata": {},
   "outputs": [
    {
     "name": "stdout",
     "output_type": "stream",
     "text": [
      "BMW\n",
      "X5\n"
     ]
    }
   ],
   "source": [
    "car1.printer()"
   ]
  },
  {
   "cell_type": "code",
   "execution_count": 5,
   "id": "3708c588-3a33-4a67-9db9-3c3999c6aa11",
   "metadata": {},
   "outputs": [
    {
     "name": "stdout",
     "output_type": "stream",
     "text": [
      "Audi\n",
      "A5\n"
     ]
    }
   ],
   "source": [
    "car2.printer()"
   ]
  },
  {
   "cell_type": "markdown",
   "id": "5134f64b-c60c-4a20-9d8e-14ae25b005de",
   "metadata": {},
   "source": [
    "### 2. Statiic/ Class Variables"
   ]
  },
  {
   "cell_type": "code",
   "execution_count": 14,
   "id": "ae7bff8e-551c-4368-b33a-b1bf85d60a3b",
   "metadata": {},
   "outputs": [],
   "source": [
    "class Car:\n",
    "    wheels = 8    #static\n",
    "    def __init__(self,brand,model):\n",
    "        self.brand=brand\n",
    "        self.model=model\n",
    "    def printer(self):\n",
    "        print(self.brand)\n",
    "        print(self.model)"
   ]
  },
  {
   "cell_type": "code",
   "execution_count": 15,
   "id": "66f3ed24-ba4e-46fb-8e6d-a7bf14df932a",
   "metadata": {},
   "outputs": [],
   "source": [
    "car1 = Car(\"BMW\",\"X5\")   #car1 == reference variable"
   ]
  },
  {
   "cell_type": "code",
   "execution_count": 16,
   "id": "e97ce1e3-ce2a-4c52-be49-d8fa48d49ca6",
   "metadata": {},
   "outputs": [],
   "source": [
    "car2 = Car(\"Audi\" , \"A5\")   ##car2 ==  refernece variable"
   ]
  },
  {
   "cell_type": "code",
   "execution_count": 17,
   "id": "e36139ff-71e7-4d03-a693-f82905c8f41f",
   "metadata": {},
   "outputs": [
    {
     "name": "stdout",
     "output_type": "stream",
     "text": [
      "BMW\n",
      "X5\n"
     ]
    }
   ],
   "source": [
    "car1.printer()"
   ]
  },
  {
   "cell_type": "code",
   "execution_count": 18,
   "id": "6bb96784-954c-4d91-96e9-5a7d6d836b52",
   "metadata": {},
   "outputs": [
    {
     "name": "stdout",
     "output_type": "stream",
     "text": [
      "Audi\n",
      "A5\n"
     ]
    }
   ],
   "source": [
    "car2.printer()"
   ]
  },
  {
   "cell_type": "code",
   "execution_count": 19,
   "id": "bb2a55a2-85ba-40ee-879e-c0d1937ed6fa",
   "metadata": {},
   "outputs": [
    {
     "data": {
      "text/plain": [
       "8"
      ]
     },
     "execution_count": 19,
     "metadata": {},
     "output_type": "execute_result"
    }
   ],
   "source": [
    "car1.wheels"
   ]
  },
  {
   "cell_type": "code",
   "execution_count": 20,
   "id": "c230fb03-af57-4696-bfc8-4bf95b825478",
   "metadata": {},
   "outputs": [
    {
     "data": {
      "text/plain": [
       "8"
      ]
     },
     "execution_count": 20,
     "metadata": {},
     "output_type": "execute_result"
    }
   ],
   "source": [
    "car2.wheels"
   ]
  },
  {
   "cell_type": "markdown",
   "id": "d9bb0490-917c-452a-8266-cfee9368f05d",
   "metadata": {},
   "source": [
    "### ENCAPSULATION"
   ]
  },
  {
   "cell_type": "code",
   "execution_count": 52,
   "id": "9370716d-4be2-4af0-8bdb-10c86545c79f",
   "metadata": {},
   "outputs": [],
   "source": [
    "class Car:\n",
    "    \n",
    "    def __init__(self,brand,model):\n",
    "        self.__brand=brand  #private\n",
    "        self.model=model #public\n",
    "        \n",
    "    def __printer(self):\n",
    "        print(self.__brand)\n",
    "        print(self.model)\n",
    "        \n",
    "    def printd(self):\n",
    "        self.__printer()\n",
    "\n"
   ]
  },
  {
   "cell_type": "code",
   "execution_count": 53,
   "id": "be35803a-8e47-4bb4-a7b1-99cfb06f48be",
   "metadata": {},
   "outputs": [],
   "source": [
    "car1 = Car(\"Audi\" , \"A5\")"
   ]
  },
  {
   "cell_type": "code",
   "execution_count": 54,
   "id": "8e99c157-22fe-4727-b381-e87675bd8555",
   "metadata": {},
   "outputs": [
    {
     "ename": "AttributeError",
     "evalue": "'Car' object has no attribute 'printer'",
     "output_type": "error",
     "traceback": [
      "\u001b[1;31m---------------------------------------------------------------------------\u001b[0m",
      "\u001b[1;31mAttributeError\u001b[0m                            Traceback (most recent call last)",
      "Cell \u001b[1;32mIn[54], line 1\u001b[0m\n\u001b[1;32m----> 1\u001b[0m car1\u001b[38;5;241m.\u001b[39mprinter()\n",
      "\u001b[1;31mAttributeError\u001b[0m: 'Car' object has no attribute 'printer'"
     ]
    }
   ],
   "source": [
    "car1.printer()"
   ]
  },
  {
   "cell_type": "code",
   "execution_count": 55,
   "id": "53581a63-d343-42ec-b5a3-98b7538e20d7",
   "metadata": {},
   "outputs": [
    {
     "name": "stdout",
     "output_type": "stream",
     "text": [
      "Audi\n",
      "A5\n"
     ]
    }
   ],
   "source": [
    "car1.printd()"
   ]
  },
  {
   "cell_type": "code",
   "execution_count": 36,
   "id": "a3486e2d-b628-492c-930c-b83247740ea0",
   "metadata": {},
   "outputs": [],
   "source": [
    "car1.model = \"AAA\""
   ]
  },
  {
   "cell_type": "code",
   "execution_count": 37,
   "id": "62eed58f-8eab-488b-970d-6a14bce7d6ad",
   "metadata": {},
   "outputs": [
    {
     "name": "stdout",
     "output_type": "stream",
     "text": [
      "Audi\n",
      "AAA\n"
     ]
    }
   ],
   "source": [
    "car1.printer()"
   ]
  },
  {
   "cell_type": "code",
   "execution_count": 42,
   "id": "0c80c7db-70c7-4400-9858-e1ca8f69c0ec",
   "metadata": {},
   "outputs": [],
   "source": [
    "car1._Car__brand=\"BMw\""
   ]
  },
  {
   "cell_type": "code",
   "execution_count": 43,
   "id": "7d4ce37c-a8fa-4d35-9394-2e39fc5176ec",
   "metadata": {},
   "outputs": [
    {
     "name": "stdout",
     "output_type": "stream",
     "text": [
      "BMw\n",
      "AAA\n"
     ]
    }
   ],
   "source": [
    "car1.printer()"
   ]
  },
  {
   "cell_type": "markdown",
   "id": "0c475d73-29eb-486e-af06-8b5af6e7b740",
   "metadata": {},
   "source": [
    "### Getter Setter"
   ]
  },
  {
   "cell_type": "code",
   "execution_count": 68,
   "id": "ebe03e39-76f0-4c30-b805-6eb6232e60e5",
   "metadata": {},
   "outputs": [],
   "source": [
    "class ATM:\n",
    "    def __init__(self):\n",
    "        self.__pin = 999\n",
    "        \n",
    "    def pin_get(self): #Getter\n",
    "        return self.__pin\n",
    "        \n",
    "    def pin_set(self , new_pin): #Setter\n",
    "        self.__pin = new_pin\n",
    "        print(\"Pin changed\")\n",
    "        "
   ]
  },
  {
   "cell_type": "code",
   "execution_count": 69,
   "id": "b6e86b3a-3e6d-430d-ad52-3dc9e6087b7c",
   "metadata": {},
   "outputs": [],
   "source": [
    "sbi = ATM()"
   ]
  },
  {
   "cell_type": "code",
   "execution_count": 70,
   "id": "fe331fa4-256d-45f6-b871-543dcdd2bdf0",
   "metadata": {},
   "outputs": [
    {
     "ename": "AttributeError",
     "evalue": "'ATM' object has no attribute 'pin'",
     "output_type": "error",
     "traceback": [
      "\u001b[1;31m---------------------------------------------------------------------------\u001b[0m",
      "\u001b[1;31mAttributeError\u001b[0m                            Traceback (most recent call last)",
      "Cell \u001b[1;32mIn[70], line 1\u001b[0m\n\u001b[1;32m----> 1\u001b[0m sbi\u001b[38;5;241m.\u001b[39mpin\n",
      "\u001b[1;31mAttributeError\u001b[0m: 'ATM' object has no attribute 'pin'"
     ]
    }
   ],
   "source": [
    "sbi.pin"
   ]
  },
  {
   "cell_type": "code",
   "execution_count": 71,
   "id": "f21c8fcb-74b4-42d7-a1d2-3430e49cdd2e",
   "metadata": {},
   "outputs": [
    {
     "data": {
      "text/plain": [
       "999"
      ]
     },
     "execution_count": 71,
     "metadata": {},
     "output_type": "execute_result"
    }
   ],
   "source": [
    "sbi.pin_get()"
   ]
  },
  {
   "cell_type": "code",
   "execution_count": 72,
   "id": "0d23f09d-549f-4075-824c-195a82643b76",
   "metadata": {},
   "outputs": [
    {
     "name": "stdout",
     "output_type": "stream",
     "text": [
      "Pin changed\n"
     ]
    }
   ],
   "source": [
    "sbi.pin_set(888)"
   ]
  },
  {
   "cell_type": "code",
   "execution_count": 73,
   "id": "87d9f1b4-c1ed-4c79-8438-5296417121c9",
   "metadata": {},
   "outputs": [
    {
     "data": {
      "text/plain": [
       "888"
      ]
     },
     "execution_count": 73,
     "metadata": {},
     "output_type": "execute_result"
    }
   ],
   "source": [
    "sbi.pin_get()"
   ]
  },
  {
   "cell_type": "code",
   "execution_count": null,
   "id": "4e5ed07f-4408-4474-8abd-230571a61b84",
   "metadata": {},
   "outputs": [],
   "source": []
  }
 ],
 "metadata": {
  "kernelspec": {
   "display_name": "Python 3 (ipykernel)",
   "language": "python",
   "name": "python3"
  },
  "language_info": {
   "codemirror_mode": {
    "name": "ipython",
    "version": 3
   },
   "file_extension": ".py",
   "mimetype": "text/x-python",
   "name": "python",
   "nbconvert_exporter": "python",
   "pygments_lexer": "ipython3",
   "version": "3.11.7"
  }
 },
 "nbformat": 4,
 "nbformat_minor": 5
}
