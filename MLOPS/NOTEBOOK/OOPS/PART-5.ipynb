{
 "cells": [
  {
   "cell_type": "markdown",
   "id": "77717738-ef22-4072-93cd-43a9ede3b98e",
   "metadata": {},
   "source": [
    "## Polymorphism"
   ]
  },
  {
   "cell_type": "markdown",
   "id": "d2aabdf7-d4e9-42a4-9263-453b4337b7f2",
   "metadata": {},
   "source": [
    "### 1. Method Overriding"
   ]
  },
  {
   "cell_type": "code",
   "execution_count": 14,
   "id": "bc788a3c-6f83-4a46-bd0f-b22c6ea74e31",
   "metadata": {},
   "outputs": [],
   "source": [
    "class Vehicle:\n",
    "    def move(self):\n",
    "        print(\"Vehicle is moving\")\n",
    "\n",
    "class Bike(Vehicle):\n",
    "    def move(self):\n",
    "        print(\"Bike is moving\")\n"
   ]
  },
  {
   "cell_type": "code",
   "execution_count": 15,
   "id": "00b7cf9b-55ab-4399-829e-f4628cee9584",
   "metadata": {},
   "outputs": [],
   "source": [
    "bike = Bike()"
   ]
  },
  {
   "cell_type": "code",
   "execution_count": 3,
   "id": "3190f788-738c-4046-84f5-d1276710cc34",
   "metadata": {},
   "outputs": [
    {
     "name": "stdout",
     "output_type": "stream",
     "text": [
      "Bike is moving\n"
     ]
    }
   ],
   "source": [
    "bike.move()"
   ]
  },
  {
   "cell_type": "markdown",
   "id": "2d15fd83-5177-476b-9365-fd49e0ecb10b",
   "metadata": {},
   "source": [
    "### Method Resolution Order"
   ]
  },
  {
   "cell_type": "code",
   "execution_count": 11,
   "id": "dedd4d3a-f91a-40b3-bd78-bb1a8cc6fd5e",
   "metadata": {},
   "outputs": [],
   "source": [
    "class Vehicle:\n",
    "    def move(self):\n",
    "        print(\"Vehicle is moving\")\n",
    "\n",
    "class Bike:\n",
    "    def move(self):\n",
    "        print(\"Bike is moving\")\n",
    "\n",
    "class Splendor(Bike , Vehicle):\n",
    "    pass\n"
   ]
  },
  {
   "cell_type": "code",
   "execution_count": 12,
   "id": "1e229fff-4c3e-4738-821f-cabdf2bff2ba",
   "metadata": {},
   "outputs": [],
   "source": [
    "sp = Splendor()"
   ]
  },
  {
   "cell_type": "code",
   "execution_count": 13,
   "id": "6c83d098-41c2-44ce-b092-92d3ad052a36",
   "metadata": {},
   "outputs": [
    {
     "name": "stdout",
     "output_type": "stream",
     "text": [
      "Bike is moving\n"
     ]
    }
   ],
   "source": [
    "sp.move()"
   ]
  },
  {
   "cell_type": "markdown",
   "id": "b3bb65ec-fadf-4870-b66c-6cbfeae489fc",
   "metadata": {},
   "source": [
    "### 2. Method Overloading"
   ]
  },
  {
   "cell_type": "code",
   "execution_count": 16,
   "id": "d76ddff0-3b90-4891-8beb-4b498322d720",
   "metadata": {},
   "outputs": [],
   "source": [
    "### Without Method Overloading"
   ]
  },
  {
   "cell_type": "code",
   "execution_count": 17,
   "id": "2c07fd4b-9ec5-47ca-8acc-e90fd2e4ddb2",
   "metadata": {},
   "outputs": [],
   "source": [
    "class Square:\n",
    "    def area(self , side ):\n",
    "        return side*side\n",
    "\n",
    "class Rectangle:\n",
    "    def area(self, l ,b):\n",
    "        return l*b"
   ]
  },
  {
   "cell_type": "code",
   "execution_count": 18,
   "id": "fe9677fc-933e-4cfd-9522-c3245c77073e",
   "metadata": {},
   "outputs": [],
   "source": [
    "sq = Square()"
   ]
  },
  {
   "cell_type": "code",
   "execution_count": 19,
   "id": "e2b364f4-525d-4e6d-9f0a-fd3c01ee7e38",
   "metadata": {},
   "outputs": [
    {
     "data": {
      "text/plain": [
       "25"
      ]
     },
     "execution_count": 19,
     "metadata": {},
     "output_type": "execute_result"
    }
   ],
   "source": [
    "sq.area(5)"
   ]
  },
  {
   "cell_type": "code",
   "execution_count": 20,
   "id": "8d7c6149-9a57-4256-82b9-422e5a69a6dc",
   "metadata": {},
   "outputs": [],
   "source": [
    "rect = Rectangle()"
   ]
  },
  {
   "cell_type": "code",
   "execution_count": 21,
   "id": "2322f645-9f27-41be-8cd1-abf023026660",
   "metadata": {},
   "outputs": [
    {
     "data": {
      "text/plain": [
       "50"
      ]
     },
     "execution_count": 21,
     "metadata": {},
     "output_type": "execute_result"
    }
   ],
   "source": [
    "rect.area(5,10)"
   ]
  },
  {
   "cell_type": "code",
   "execution_count": 23,
   "id": "8ca9d52f-8f14-4e9e-868c-a39c47ca8639",
   "metadata": {},
   "outputs": [],
   "source": [
    "### With Method Overloading"
   ]
  },
  {
   "cell_type": "code",
   "execution_count": 24,
   "id": "5624a960-05d2-40c9-9ce2-92098479be66",
   "metadata": {},
   "outputs": [],
   "source": [
    "class Shape:\n",
    "    def area(self,a,b=None):\n",
    "        if b is None:\n",
    "            return a*a   #Square\n",
    "        else:\n",
    "            return a*b   #Rectangle"
   ]
  },
  {
   "cell_type": "code",
   "execution_count": 25,
   "id": "3da2f0bb-d60b-4a06-8230-a90f1cacf8c7",
   "metadata": {},
   "outputs": [],
   "source": [
    "shape = Shape()"
   ]
  },
  {
   "cell_type": "code",
   "execution_count": 26,
   "id": "d66603bc-2bb4-4c2a-af2a-abf28a7862b4",
   "metadata": {},
   "outputs": [
    {
     "data": {
      "text/plain": [
       "25"
      ]
     },
     "execution_count": 26,
     "metadata": {},
     "output_type": "execute_result"
    }
   ],
   "source": [
    "shape.area(5)"
   ]
  },
  {
   "cell_type": "code",
   "execution_count": 27,
   "id": "0b42da6c-d57f-4b0d-8e4f-65c9de084485",
   "metadata": {},
   "outputs": [
    {
     "data": {
      "text/plain": [
       "20"
      ]
     },
     "execution_count": 27,
     "metadata": {},
     "output_type": "execute_result"
    }
   ],
   "source": [
    "shape.area(4,5)"
   ]
  },
  {
   "cell_type": "markdown",
   "id": "9c643522-f229-4ab9-aa40-637aac1f6224",
   "metadata": {},
   "source": [
    "### ABSTRACTION"
   ]
  },
  {
   "cell_type": "code",
   "execution_count": 31,
   "id": "540e8d40-d888-4d03-967c-951bb005166e",
   "metadata": {},
   "outputs": [],
   "source": [
    "from abc import ABC , abstractmethod"
   ]
  },
  {
   "cell_type": "code",
   "execution_count": 41,
   "id": "986f056c-ca3f-453f-84b9-e970f33596c9",
   "metadata": {},
   "outputs": [],
   "source": [
    "### Abstract Class\n",
    "\n",
    "class Robot(ABC):\n",
    "    \n",
    "    @abstractmethod    #decorators\n",
    "    def cook(self):\n",
    "        pass"
   ]
  },
  {
   "cell_type": "code",
   "execution_count": 42,
   "id": "644e6c42-8a43-46e5-9226-9b2f5be5cc83",
   "metadata": {},
   "outputs": [],
   "source": [
    "# Concrete Class\n",
    "class PizzaRobot(Robot):\n",
    "    def cook(self):\n",
    "        print(\"I cook delicios Pizzas\")"
   ]
  },
  {
   "cell_type": "code",
   "execution_count": 48,
   "id": "bec214fa-9822-426f-a761-b51724f29ace",
   "metadata": {},
   "outputs": [],
   "source": [
    "# Concrete Class\n",
    "class BurgerRobot(Robot):\n",
    "    def cook(self):\n",
    "        print(\"I cook best burgers here\")"
   ]
  },
  {
   "cell_type": "code",
   "execution_count": 49,
   "id": "8a682b79-31a6-43b3-975f-704bae4bb54d",
   "metadata": {},
   "outputs": [],
   "source": [
    "pizza_bot = PizzaRobot()"
   ]
  },
  {
   "cell_type": "code",
   "execution_count": 50,
   "id": "1eed604e-589d-4950-9b0e-bc51abbfbdac",
   "metadata": {},
   "outputs": [
    {
     "name": "stdout",
     "output_type": "stream",
     "text": [
      "I cook delicios Pizzas\n"
     ]
    }
   ],
   "source": [
    "pizza_bot.cook()"
   ]
  },
  {
   "cell_type": "code",
   "execution_count": 51,
   "id": "7f4f65f3-9eb2-4602-b02b-05ebaca64b26",
   "metadata": {},
   "outputs": [],
   "source": [
    "burgeer_bot = BurgerRobot()"
   ]
  },
  {
   "cell_type": "code",
   "execution_count": 47,
   "id": "83824980-7343-4a33-a0f3-d709c45ed7c2",
   "metadata": {},
   "outputs": [
    {
     "name": "stdout",
     "output_type": "stream",
     "text": [
      "I cook best burgers here\n"
     ]
    }
   ],
   "source": [
    "burgeer_bot.cook()"
   ]
  },
  {
   "cell_type": "code",
   "execution_count": 52,
   "id": "bdca1853-f0c8-42a3-8654-7cb31230e971",
   "metadata": {},
   "outputs": [
    {
     "ename": "TypeError",
     "evalue": "Can't instantiate abstract class Robot with abstract method cook",
     "output_type": "error",
     "traceback": [
      "\u001b[1;31m---------------------------------------------------------------------------\u001b[0m",
      "\u001b[1;31mTypeError\u001b[0m                                 Traceback (most recent call last)",
      "Cell \u001b[1;32mIn[52], line 1\u001b[0m\n\u001b[1;32m----> 1\u001b[0m robo \u001b[38;5;241m=\u001b[39m Robot()\n",
      "\u001b[1;31mTypeError\u001b[0m: Can't instantiate abstract class Robot with abstract method cook"
     ]
    }
   ],
   "source": [
    "robo = Robot()"
   ]
  }
 ],
 "metadata": {
  "kernelspec": {
   "display_name": "Python 3 (ipykernel)",
   "language": "python",
   "name": "python3"
  },
  "language_info": {
   "codemirror_mode": {
    "name": "ipython",
    "version": 3
   },
   "file_extension": ".py",
   "mimetype": "text/x-python",
   "name": "python",
   "nbconvert_exporter": "python",
   "pygments_lexer": "ipython3",
   "version": "3.11.7"
  }
 },
 "nbformat": 4,
 "nbformat_minor": 5
}
