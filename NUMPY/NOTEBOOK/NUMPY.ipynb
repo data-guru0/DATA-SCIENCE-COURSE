{
 "cells": [
  {
   "cell_type": "markdown",
   "id": "55642b9e-95b2-47aa-9bc7-3976a00923e8",
   "metadata": {},
   "source": [
    "### 1. Installing and Importing"
   ]
  },
  {
   "cell_type": "code",
   "execution_count": null,
   "id": "1a8ca7f4-4351-447e-a4e6-00c5172b25ff",
   "metadata": {},
   "outputs": [],
   "source": [
    "!pip install numpy"
   ]
  },
  {
   "cell_type": "code",
   "execution_count": null,
   "id": "c2024ba4-e911-470a-95cc-926232c3df51",
   "metadata": {},
   "outputs": [],
   "source": [
    "import numpy as np"
   ]
  },
  {
   "cell_type": "code",
   "execution_count": null,
   "id": "93cec71a-908a-4619-9e27-53b2142572ae",
   "metadata": {},
   "outputs": [],
   "source": [
    "## Mean method\n",
    "numpy.mean()\n",
    "np.mean()"
   ]
  },
  {
   "cell_type": "code",
   "execution_count": null,
   "id": "072131be-f139-40d9-9ab0-084cb86fd9b0",
   "metadata": {},
   "outputs": [],
   "source": []
  },
  {
   "cell_type": "markdown",
   "id": "fe064b20-c350-4123-a0f0-b38260afc709",
   "metadata": {},
   "source": [
    "### 2. NUMPY VS LISTS"
   ]
  },
  {
   "cell_type": "code",
   "execution_count": 2,
   "id": "7552a563-bbba-4f0e-8344-b73c280847d0",
   "metadata": {},
   "outputs": [
    {
     "name": "stdout",
     "output_type": "stream",
     "text": [
      "Time taken for list: 0.1234433650970459 seconds\n",
      "Time taken for NumPy array: 0.005569934844970703 seconds\n"
     ]
    }
   ],
   "source": [
    "import time\n",
    "import numpy as np\n",
    "\n",
    "# Size of the array\n",
    "size = 1000000\n",
    "\n",
    "# Creating a list of numbers from 0 to size-1\n",
    "list_data = list(range(size))\n",
    "\n",
    "# Creating a NumPy array of numbers from 0 to size-1\n",
    "numpy_data = np.arange(size)\n",
    "\n",
    "# Timing the operation on the list\n",
    "start_time = time.time()\n",
    "list_result = [x * 2 for x in list_data]\n",
    "end_time = time.time()\n",
    "list_time = end_time - start_time\n",
    "\n",
    "# Timing the operation on the NumPy array\n",
    "start_time = time.time()\n",
    "numpy_result = numpy_data * 2\n",
    "end_time = time.time()\n",
    "numpy_time = end_time - start_time\n",
    "\n",
    "print(f\"Time taken for list: {list_time} seconds\")\n",
    "print(f\"Time taken for NumPy array: {numpy_time} seconds\")"
   ]
  },
  {
   "cell_type": "markdown",
   "id": "fa385aa8-9509-467c-904e-2c81029b6694",
   "metadata": {},
   "source": [
    "### 3. NUMPY VS MATH LIBRARY"
   ]
  },
  {
   "cell_type": "code",
   "execution_count": 3,
   "id": "e09a2633-a5d1-47b4-bdfb-de60e66289da",
   "metadata": {},
   "outputs": [
    {
     "name": "stdout",
     "output_type": "stream",
     "text": [
      "Time taken using math library: 0.26061248779296875 seconds\n",
      "Time taken using NumPy: 0.009945154190063477 seconds\n"
     ]
    }
   ],
   "source": [
    "import time\n",
    "import math\n",
    "import numpy as np\n",
    "\n",
    "# Size of the array\n",
    "size = 1000000\n",
    "\n",
    "# Creating a list of numbers from 0 to size-1\n",
    "list_data = list(range(size))\n",
    "\n",
    "# Creating a NumPy array of numbers from 0 to size-1\n",
    "numpy_data = np.arange(size)\n",
    "\n",
    "# Using math library to perform element-wise square root operation\n",
    "start_time = time.time()\n",
    "math_result = [math.sqrt(x) for x in list_data]\n",
    "end_time = time.time()\n",
    "math_time = end_time - start_time\n",
    "\n",
    "# Using NumPy to perform element-wise square root operation\n",
    "start_time = time.time()\n",
    "numpy_result = np.sqrt(numpy_data)\n",
    "end_time = time.time()\n",
    "numpy_time = end_time - start_time\n",
    "\n",
    "print(f\"Time taken using math library: {math_time} seconds\")\n",
    "print(f\"Time taken using NumPy: {numpy_time} seconds\")"
   ]
  },
  {
   "cell_type": "markdown",
   "id": "c50918d5-4f1d-4d44-86df-740f33093f52",
   "metadata": {},
   "source": [
    "### 4. Creating ARRAYS"
   ]
  },
  {
   "cell_type": "code",
   "execution_count": null,
   "id": "4f148df8-a64a-4df0-ac19-31b2c98a88c5",
   "metadata": {},
   "outputs": [],
   "source": [
    "### Tensors "
   ]
  },
  {
   "cell_type": "code",
   "execution_count": 4,
   "id": "8d565998-eb94-450a-8890-d6803fcb75d1",
   "metadata": {},
   "outputs": [
    {
     "name": "stdout",
     "output_type": "stream",
     "text": [
      "5\n"
     ]
    }
   ],
   "source": [
    "### 0-D array\n",
    "import numpy as np\n",
    "arr = np.array(5)\n",
    "print(arr)"
   ]
  },
  {
   "cell_type": "code",
   "execution_count": 5,
   "id": "edd9fbbb-eadb-40d5-8b85-7b09ab07b034",
   "metadata": {},
   "outputs": [
    {
     "data": {
      "text/plain": [
       "numpy.ndarray"
      ]
     },
     "execution_count": 5,
     "metadata": {},
     "output_type": "execute_result"
    }
   ],
   "source": [
    "type(arr)"
   ]
  },
  {
   "cell_type": "code",
   "execution_count": 6,
   "id": "5000cc24-187b-41e8-9a6e-a985280296f5",
   "metadata": {},
   "outputs": [
    {
     "name": "stdout",
     "output_type": "stream",
     "text": [
      "[1 2 3 4 5]\n"
     ]
    }
   ],
   "source": [
    "### 1-D array\n",
    "arr = np.array([1,2,3,4,5])\n",
    "print(arr)"
   ]
  },
  {
   "cell_type": "code",
   "execution_count": 7,
   "id": "155e7bcc-ef8d-4265-a94e-da393173618b",
   "metadata": {},
   "outputs": [
    {
     "name": "stdout",
     "output_type": "stream",
     "text": [
      "[[ 1  2  3  4  5]\n",
      " [ 6  7  8  9 10]]\n"
     ]
    }
   ],
   "source": [
    "### 2-D array\n",
    "arr =np.array([ [1,2,3,4,5] , [6,7,8,9,10] ])\n",
    "print(arr)"
   ]
  },
  {
   "cell_type": "code",
   "execution_count": 8,
   "id": "5bdbe8bb-6dd3-4de7-842d-4025d4d311c0",
   "metadata": {},
   "outputs": [],
   "source": [
    "### 3-D array\n",
    "arr = np.array([\n",
    "    [\n",
    "        [1,2,3,4,5],\n",
    "        [6,7,8,9,10]\n",
    "    ],\n",
    "    [\n",
    "        [11,12,13,14,15],\n",
    "        [16,17,18,19,20]\n",
    "    ]\n",
    "    \n",
    "])"
   ]
  },
  {
   "cell_type": "code",
   "execution_count": 9,
   "id": "de4328fc-6ed9-4622-9024-b0936c80749d",
   "metadata": {},
   "outputs": [
    {
     "name": "stdout",
     "output_type": "stream",
     "text": [
      "[[[ 1  2  3  4  5]\n",
      "  [ 6  7  8  9 10]]\n",
      "\n",
      " [[11 12 13 14 15]\n",
      "  [16 17 18 19 20]]]\n"
     ]
    }
   ],
   "source": [
    "print(arr)"
   ]
  },
  {
   "cell_type": "markdown",
   "id": "454869c2-873f-4333-a62e-2466c55d3fa3",
   "metadata": {},
   "source": [
    "### 5. Acessing ARRAYS"
   ]
  },
  {
   "cell_type": "code",
   "execution_count": 11,
   "id": "5c6c12f2-1dfa-430d-b8cb-0a906e50d647",
   "metadata": {},
   "outputs": [],
   "source": [
    "arr = np.array(5)"
   ]
  },
  {
   "cell_type": "code",
   "execution_count": 12,
   "id": "c31cb790-7928-4390-bd06-17de37b839f3",
   "metadata": {},
   "outputs": [
    {
     "data": {
      "text/plain": [
       "array([1, 2, 3, 4, 5])"
      ]
     },
     "execution_count": 12,
     "metadata": {},
     "output_type": "execute_result"
    }
   ],
   "source": [
    "### 1-D array\n",
    "arr = np.array([1,2,3,4,5])\n",
    "arr"
   ]
  },
  {
   "cell_type": "code",
   "execution_count": 16,
   "id": "7166eccb-ad5a-4a51-8fb8-93de044b51b4",
   "metadata": {},
   "outputs": [
    {
     "data": {
      "text/plain": [
       "4"
      ]
     },
     "execution_count": 16,
     "metadata": {},
     "output_type": "execute_result"
    }
   ],
   "source": [
    "arr[3]"
   ]
  },
  {
   "cell_type": "code",
   "execution_count": 17,
   "id": "e5993b6c-b461-4a52-9818-5ad08a1b23fa",
   "metadata": {},
   "outputs": [
    {
     "name": "stdout",
     "output_type": "stream",
     "text": [
      "[[ 1  2  3  4  5]\n",
      " [ 6  7  8  9 10]]\n"
     ]
    }
   ],
   "source": [
    "### 2-D array\n",
    "arr =np.array([ [1,2,3,4,5] , [6,7,8,9,10] ])\n",
    "print(arr)"
   ]
  },
  {
   "cell_type": "code",
   "execution_count": 19,
   "id": "076f787f-4831-4af2-893d-76d73d2c9417",
   "metadata": {},
   "outputs": [
    {
     "data": {
      "text/plain": [
       "7"
      ]
     },
     "execution_count": 19,
     "metadata": {},
     "output_type": "execute_result"
    }
   ],
   "source": [
    "arr[1,1]     ##row,column"
   ]
  },
  {
   "cell_type": "code",
   "execution_count": 20,
   "id": "df8628f3-4c7e-47ae-80e0-5653e38de8d5",
   "metadata": {},
   "outputs": [
    {
     "name": "stdout",
     "output_type": "stream",
     "text": [
      "[[[ 1  2  3  4  5]\n",
      "  [ 6  7  8  9 10]]\n",
      "\n",
      " [[11 12 13 14 15]\n",
      "  [16 17 18 19 20]]]\n"
     ]
    }
   ],
   "source": [
    "### 3-D array\n",
    "arr = np.array([\n",
    "    [\n",
    "        [1,2,3,4,5],\n",
    "        [6,7,8,9,10]\n",
    "    ],\n",
    "    [\n",
    "        [11,12,13,14,15],\n",
    "        [16,17,18,19,20]\n",
    "    ]\n",
    "    \n",
    "])\n",
    "print(arr)"
   ]
  },
  {
   "cell_type": "code",
   "execution_count": 21,
   "id": "69601a12-a3e2-4dbf-92fc-4c7bc43d8bdd",
   "metadata": {},
   "outputs": [
    {
     "data": {
      "text/plain": [
       "15"
      ]
     },
     "execution_count": 21,
     "metadata": {},
     "output_type": "execute_result"
    }
   ],
   "source": [
    "arr[1 , 0 ,-1 ]"
   ]
  },
  {
   "cell_type": "code",
   "execution_count": null,
   "id": "57111b24-445a-4e57-b62a-b46542ed90e6",
   "metadata": {},
   "outputs": [],
   "source": []
  },
  {
   "cell_type": "code",
   "execution_count": null,
   "id": "606000d5-7e2e-4045-ad8b-4d558c4a75b0",
   "metadata": {},
   "outputs": [],
   "source": []
  },
  {
   "cell_type": "markdown",
   "id": "0e217f4d-a2d7-4702-bfec-c5723f5d55da",
   "metadata": {},
   "source": [
    "### 6. Slicing ARRAYS"
   ]
  },
  {
   "cell_type": "code",
   "execution_count": null,
   "id": "f64e3d89-7e5e-4494-a8e2-f7776a96919f",
   "metadata": {},
   "outputs": [],
   "source": [
    "[array , row, col]"
   ]
  },
  {
   "cell_type": "code",
   "execution_count": 22,
   "id": "461bd7e8-4d54-4e8e-8564-431089922acf",
   "metadata": {},
   "outputs": [
    {
     "data": {
      "text/plain": [
       "array([[[ 1,  2,  3,  4,  5],\n",
       "        [ 6,  7,  8,  9, 10]],\n",
       "\n",
       "       [[11, 12, 13, 14, 15],\n",
       "        [16, 17, 18, 19, 20]]])"
      ]
     },
     "execution_count": 22,
     "metadata": {},
     "output_type": "execute_result"
    }
   ],
   "source": [
    "arr"
   ]
  },
  {
   "cell_type": "code",
   "execution_count": 26,
   "id": "84d3d666-e9f6-42df-93c0-a30f8c6da2b2",
   "metadata": {},
   "outputs": [
    {
     "data": {
      "text/plain": [
       "array([[11, 13],\n",
       "       [16, 18]])"
      ]
     },
     "execution_count": 26,
     "metadata": {},
     "output_type": "execute_result"
    }
   ],
   "source": [
    "arr[1 , 0:3 , 0:4:2]"
   ]
  },
  {
   "cell_type": "code",
   "execution_count": 25,
   "id": "193a3e61-0dd3-4dc8-b2c4-a15459da0a57",
   "metadata": {},
   "outputs": [
    {
     "data": {
      "text/plain": [
       "array([6, 7, 8, 9])"
      ]
     },
     "execution_count": 25,
     "metadata": {},
     "output_type": "execute_result"
    }
   ],
   "source": [
    "arr[0,1,0:-1:]"
   ]
  },
  {
   "cell_type": "code",
   "execution_count": 27,
   "id": "aafb90b1-cb91-4a48-9cb0-c515f44a47e3",
   "metadata": {},
   "outputs": [
    {
     "data": {
      "text/plain": [
       "array([[[ 1,  2,  3,  4,  5],\n",
       "        [ 6,  7,  8,  9, 10]],\n",
       "\n",
       "       [[11, 12, 13, 14, 15],\n",
       "        [16, 17, 18, 19, 20]]])"
      ]
     },
     "execution_count": 27,
     "metadata": {},
     "output_type": "execute_result"
    }
   ],
   "source": [
    "### Check dimesnion\n",
    "\n",
    "arr"
   ]
  },
  {
   "cell_type": "code",
   "execution_count": 28,
   "id": "6e9925d2-5430-490c-ad22-28aeb1b74170",
   "metadata": {},
   "outputs": [
    {
     "data": {
      "text/plain": [
       "3"
      ]
     },
     "execution_count": 28,
     "metadata": {},
     "output_type": "execute_result"
    }
   ],
   "source": [
    "arr.ndim"
   ]
  },
  {
   "cell_type": "markdown",
   "id": "549d67d0-78a0-4fce-8a0b-1a5d63046842",
   "metadata": {},
   "source": [
    "### 7. Change Data Type in ARRAYS"
   ]
  },
  {
   "cell_type": "code",
   "execution_count": 33,
   "id": "a5f2f013-f1fa-488d-a12a-6945d2550c8f",
   "metadata": {},
   "outputs": [],
   "source": [
    "arr=np.array([1.1,1.2,1.3,1.4,2.1,2.2,2.3,0])"
   ]
  },
  {
   "cell_type": "code",
   "execution_count": 34,
   "id": "2ba79e62-3795-4309-adb4-0a689e3a4f41",
   "metadata": {},
   "outputs": [
    {
     "data": {
      "text/plain": [
       "array([1.1, 1.2, 1.3, 1.4, 2.1, 2.2, 2.3, 0. ])"
      ]
     },
     "execution_count": 34,
     "metadata": {},
     "output_type": "execute_result"
    }
   ],
   "source": [
    "arr"
   ]
  },
  {
   "cell_type": "code",
   "execution_count": 36,
   "id": "8bf283f5-590a-4010-ada1-9fbb0f083276",
   "metadata": {},
   "outputs": [
    {
     "data": {
      "text/plain": [
       "array(['1.1', '1.2', '1.3', '1.4', '2.1', '2.2', '2.3', '0.0'],\n",
       "      dtype='<U32')"
      ]
     },
     "execution_count": 36,
     "metadata": {},
     "output_type": "execute_result"
    }
   ],
   "source": [
    "new_arr = arr.astype(\"str\")\n",
    "new_arr"
   ]
  },
  {
   "cell_type": "code",
   "execution_count": 38,
   "id": "bcf5ded7-e806-49c1-86c9-e6fc01746a21",
   "metadata": {},
   "outputs": [
    {
     "data": {
      "text/plain": [
       "dtype('float64')"
      ]
     },
     "execution_count": 38,
     "metadata": {},
     "output_type": "execute_result"
    }
   ],
   "source": [
    "### Check data type\n",
    "arr.dtype"
   ]
  },
  {
   "cell_type": "markdown",
   "id": "89c550f4-2dbe-45c2-bbaf-b02ed59cce31",
   "metadata": {},
   "source": [
    "### 8. Copy vs VIEW Function"
   ]
  },
  {
   "cell_type": "code",
   "execution_count": 40,
   "id": "a7e9c2f6-ee53-4b01-9379-9377ba9fea95",
   "metadata": {},
   "outputs": [
    {
     "data": {
      "text/plain": [
       "array([1, 2, 3, 4, 5])"
      ]
     },
     "execution_count": 40,
     "metadata": {},
     "output_type": "execute_result"
    }
   ],
   "source": [
    "arr= np.array([1,2,3,4,5])\n",
    "arr"
   ]
  },
  {
   "cell_type": "code",
   "execution_count": 42,
   "id": "07ad8805-2fdd-409b-a895-c9d8b10699fb",
   "metadata": {},
   "outputs": [
    {
     "data": {
      "text/plain": [
       "array([1, 2, 3, 4, 5])"
      ]
     },
     "execution_count": 42,
     "metadata": {},
     "output_type": "execute_result"
    }
   ],
   "source": [
    "new_arr = arr.copy()\n",
    "new_arr"
   ]
  },
  {
   "cell_type": "code",
   "execution_count": 43,
   "id": "1e94c3ed-20d0-46c5-9d17-a33dc46ebfa9",
   "metadata": {},
   "outputs": [
    {
     "data": {
      "text/plain": [
       "array([15,  2,  3,  4,  5])"
      ]
     },
     "execution_count": 43,
     "metadata": {},
     "output_type": "execute_result"
    }
   ],
   "source": [
    "new_arr[0] = 15\n",
    "new_arr"
   ]
  },
  {
   "cell_type": "code",
   "execution_count": 44,
   "id": "cfc6de2b-c296-4e8d-9995-07d64b1b059a",
   "metadata": {},
   "outputs": [
    {
     "data": {
      "text/plain": [
       "array([1, 2, 3, 4, 5])"
      ]
     },
     "execution_count": 44,
     "metadata": {},
     "output_type": "execute_result"
    }
   ],
   "source": [
    "arr"
   ]
  },
  {
   "cell_type": "code",
   "execution_count": 45,
   "id": "fd3c83f5-bd6d-403e-9bcb-1ba76d284c1c",
   "metadata": {},
   "outputs": [
    {
     "data": {
      "text/plain": [
       "array([1, 2, 3, 4, 5])"
      ]
     },
     "execution_count": 45,
     "metadata": {},
     "output_type": "execute_result"
    }
   ],
   "source": [
    "### View\n",
    "arr"
   ]
  },
  {
   "cell_type": "code",
   "execution_count": 46,
   "id": "f15b9c54-b950-4d58-badb-959b0ad41227",
   "metadata": {},
   "outputs": [
    {
     "data": {
      "text/plain": [
       "array([1, 2, 3, 4, 5])"
      ]
     },
     "execution_count": 46,
     "metadata": {},
     "output_type": "execute_result"
    }
   ],
   "source": [
    "new_arr = arr.view()\n",
    "new_arr"
   ]
  },
  {
   "cell_type": "code",
   "execution_count": 47,
   "id": "d71e26a9-d09b-4bf6-a960-561e33cadd34",
   "metadata": {},
   "outputs": [
    {
     "data": {
      "text/plain": [
       "array([15,  2,  3,  4,  5])"
      ]
     },
     "execution_count": 47,
     "metadata": {},
     "output_type": "execute_result"
    }
   ],
   "source": [
    "new_arr[0] = 15\n",
    "new_arr"
   ]
  },
  {
   "cell_type": "code",
   "execution_count": 48,
   "id": "55c36441-e4a8-4b41-879f-635de76c8da3",
   "metadata": {},
   "outputs": [
    {
     "data": {
      "text/plain": [
       "array([15,  2,  3,  4,  5])"
      ]
     },
     "execution_count": 48,
     "metadata": {},
     "output_type": "execute_result"
    }
   ],
   "source": [
    "arr"
   ]
  },
  {
   "cell_type": "code",
   "execution_count": null,
   "id": "5600d214-c8d1-4083-8d29-095f4ba64b45",
   "metadata": {},
   "outputs": [],
   "source": []
  },
  {
   "cell_type": "code",
   "execution_count": null,
   "id": "07e883f0-703d-4cc7-8e97-660738820037",
   "metadata": {},
   "outputs": [],
   "source": []
  },
  {
   "cell_type": "code",
   "execution_count": null,
   "id": "cba1fe55-4792-4a30-8018-01fffb3dfdbe",
   "metadata": {},
   "outputs": [],
   "source": []
  },
  {
   "cell_type": "markdown",
   "id": "2a70ac94-ee39-45f5-a591-77a575ce0eb3",
   "metadata": {},
   "source": [
    "### 9. Check ARRAY SHAPE"
   ]
  },
  {
   "cell_type": "code",
   "execution_count": null,
   "id": "a117536c-4872-4a7d-aed5-0b0dec3ee0a5",
   "metadata": {},
   "outputs": [],
   "source": [
    "array , row , column"
   ]
  },
  {
   "cell_type": "code",
   "execution_count": 49,
   "id": "73e64c95-6253-4a44-96f8-d7dbb981e993",
   "metadata": {},
   "outputs": [],
   "source": [
    "### 3-D array\n",
    "arr = np.array([\n",
    "    [\n",
    "        [1,2,3,4,5],\n",
    "        [6,7,8,9,10]\n",
    "    ],\n",
    "    [\n",
    "        [11,12,13,14,15],\n",
    "        [16,17,18,19,20]\n",
    "    ]\n",
    "    \n",
    "])"
   ]
  },
  {
   "cell_type": "code",
   "execution_count": 50,
   "id": "4840cfa1-bcd6-4229-9e54-85e018e00dbb",
   "metadata": {},
   "outputs": [
    {
     "data": {
      "text/plain": [
       "3"
      ]
     },
     "execution_count": 50,
     "metadata": {},
     "output_type": "execute_result"
    }
   ],
   "source": [
    "arr.ndim"
   ]
  },
  {
   "cell_type": "code",
   "execution_count": 51,
   "id": "c0b5f30d-e7a7-482a-b66d-2a7f498e7f9e",
   "metadata": {},
   "outputs": [
    {
     "data": {
      "text/plain": [
       "(2, 2, 5)"
      ]
     },
     "execution_count": 51,
     "metadata": {},
     "output_type": "execute_result"
    }
   ],
   "source": [
    "arr.shape"
   ]
  },
  {
   "cell_type": "code",
   "execution_count": null,
   "id": "c9eab922-5067-4b8c-aec0-36fcd85edf40",
   "metadata": {},
   "outputs": [],
   "source": []
  },
  {
   "cell_type": "markdown",
   "id": "090d4c45-ab2c-45a8-879e-3dd136a991fa",
   "metadata": {},
   "source": [
    "### 10. ARRAY RESHAPE"
   ]
  },
  {
   "cell_type": "code",
   "execution_count": 52,
   "id": "5985e7e1-4fe1-4187-8ffe-6c94a75c7452",
   "metadata": {},
   "outputs": [
    {
     "data": {
      "text/plain": [
       "array([ 1,  2,  3,  4,  5,  6,  7,  8,  9, 10, 11, 12])"
      ]
     },
     "execution_count": 52,
     "metadata": {},
     "output_type": "execute_result"
    }
   ],
   "source": [
    "arr = np.array([1,2,3,4,5,6,7,8,9,10,11,12])\n",
    "arr"
   ]
  },
  {
   "cell_type": "code",
   "execution_count": 54,
   "id": "af32072f-a465-4084-bc87-583757278663",
   "metadata": {},
   "outputs": [
    {
     "data": {
      "text/plain": [
       "1"
      ]
     },
     "execution_count": 54,
     "metadata": {},
     "output_type": "execute_result"
    }
   ],
   "source": [
    "arr.ndim"
   ]
  },
  {
   "cell_type": "code",
   "execution_count": 61,
   "id": "cb242757-4523-4595-985d-acd164cc30cd",
   "metadata": {},
   "outputs": [
    {
     "data": {
      "text/plain": [
       "array([[ 1,  2,  3],\n",
       "       [ 4,  5,  6],\n",
       "       [ 7,  8,  9],\n",
       "       [10, 11, 12]])"
      ]
     },
     "execution_count": 61,
     "metadata": {},
     "output_type": "execute_result"
    }
   ],
   "source": [
    "new_arr = arr.reshape(4,3)\n",
    "new_arr"
   ]
  },
  {
   "cell_type": "code",
   "execution_count": 55,
   "id": "e0f37e4b-d156-4928-85a3-baf16fc41139",
   "metadata": {},
   "outputs": [
    {
     "data": {
      "text/plain": [
       "2"
      ]
     },
     "execution_count": 55,
     "metadata": {},
     "output_type": "execute_result"
    }
   ],
   "source": [
    "new_arr.ndim"
   ]
  },
  {
   "cell_type": "code",
   "execution_count": 62,
   "id": "b647ea8f-e3ce-4bf6-a691-9414ae594da5",
   "metadata": {},
   "outputs": [
    {
     "data": {
      "text/plain": [
       "array([[ 1,  2,  3],\n",
       "       [ 4,  5,  6],\n",
       "       [ 7,  8,  9],\n",
       "       [10, 11, 12]])"
      ]
     },
     "execution_count": 62,
     "metadata": {},
     "output_type": "execute_result"
    }
   ],
   "source": [
    "new_arr"
   ]
  },
  {
   "cell_type": "markdown",
   "id": "7cdffd77-f477-4f4a-b12d-b6eb0cd9f4e3",
   "metadata": {},
   "source": []
  },
  {
   "cell_type": "code",
   "execution_count": 63,
   "id": "dcca15e4-852a-459f-86dd-22ca5d8e895d",
   "metadata": {},
   "outputs": [
    {
     "data": {
      "text/plain": [
       "array([[ 1,  2,  3,  4,  5,  6,  7,  8,  9, 10, 11, 12]])"
      ]
     },
     "execution_count": 63,
     "metadata": {},
     "output_type": "execute_result"
    }
   ],
   "source": [
    "arr1 = new_arr.reshape(1,-1)\n",
    "arr1"
   ]
  },
  {
   "cell_type": "code",
   "execution_count": null,
   "id": "11c8af1c-e4db-4969-8c15-b0c4b4e660fd",
   "metadata": {},
   "outputs": [],
   "source": []
  },
  {
   "cell_type": "code",
   "execution_count": null,
   "id": "378b12cb-c573-4afa-8ac7-7a90e02de39d",
   "metadata": {},
   "outputs": [],
   "source": []
  },
  {
   "cell_type": "code",
   "execution_count": null,
   "id": "c2a48f15-a918-4f5a-8a35-01f3213ca113",
   "metadata": {},
   "outputs": [],
   "source": []
  },
  {
   "cell_type": "code",
   "execution_count": 69,
   "id": "df01f711-29fb-4d7e-af33-5f8545e2c02a",
   "metadata": {},
   "outputs": [
    {
     "data": {
      "text/plain": [
       "array([[[ 1,  2],\n",
       "        [ 3,  4],\n",
       "        [ 5,  6]],\n",
       "\n",
       "       [[ 7,  8],\n",
       "        [ 9, 10],\n",
       "        [11, 12]]])"
      ]
     },
     "execution_count": 69,
     "metadata": {},
     "output_type": "execute_result"
    }
   ],
   "source": [
    "new_arr = arr.reshape(2,3,2)\n",
    "new_arr"
   ]
  },
  {
   "cell_type": "code",
   "execution_count": 67,
   "id": "58bae3b0-25b2-4036-a9b5-efa483ad65b8",
   "metadata": {},
   "outputs": [
    {
     "data": {
      "text/plain": [
       "3"
      ]
     },
     "execution_count": 67,
     "metadata": {},
     "output_type": "execute_result"
    }
   ],
   "source": [
    "new_arr.ndim"
   ]
  },
  {
   "cell_type": "code",
   "execution_count": 68,
   "id": "5d9662c6-1b78-449b-9f4c-f57c10d40436",
   "metadata": {},
   "outputs": [
    {
     "data": {
      "text/plain": [
       "array([[ 1,  2,  3,  4,  5,  6,  7,  8,  9, 10, 11, 12]])"
      ]
     },
     "execution_count": 68,
     "metadata": {},
     "output_type": "execute_result"
    }
   ],
   "source": [
    "arr1 = new_arr.reshape(1,-1)\n",
    "arr1"
   ]
  },
  {
   "cell_type": "markdown",
   "id": "f1adf7fc-7544-49cc-8cd1-edf851fc90bb",
   "metadata": {},
   "source": [
    "### 11. LOOPING INTO ARRAYS"
   ]
  },
  {
   "cell_type": "code",
   "execution_count": null,
   "id": "bf9e5020-ca6e-4c40-8751-2e9b1fcb5b13",
   "metadata": {},
   "outputs": [],
   "source": [
    "### FOR LOOPS"
   ]
  },
  {
   "cell_type": "code",
   "execution_count": 70,
   "id": "c39753aa-b8e7-441c-88cf-1bc8b63617ca",
   "metadata": {},
   "outputs": [
    {
     "data": {
      "text/plain": [
       "array([[[ 1,  2],\n",
       "        [ 3,  4],\n",
       "        [ 5,  6]],\n",
       "\n",
       "       [[ 7,  8],\n",
       "        [ 9, 10],\n",
       "        [11, 12]]])"
      ]
     },
     "execution_count": 70,
     "metadata": {},
     "output_type": "execute_result"
    }
   ],
   "source": [
    "new_arr"
   ]
  },
  {
   "cell_type": "code",
   "execution_count": 72,
   "id": "e08a7192-426d-423e-b2c2-4d9a23580cf8",
   "metadata": {},
   "outputs": [
    {
     "name": "stdout",
     "output_type": "stream",
     "text": [
      "1\n",
      "2\n",
      "3\n",
      "4\n",
      "5\n",
      "6\n",
      "7\n",
      "8\n",
      "9\n",
      "10\n",
      "11\n",
      "12\n"
     ]
    }
   ],
   "source": [
    "for i in new_arr:\n",
    "    for j in i:\n",
    "        for k in j:\n",
    "            print(k)"
   ]
  },
  {
   "cell_type": "code",
   "execution_count": 73,
   "id": "4cf29215-f994-4cd2-9b3f-7bb807ed8ccd",
   "metadata": {},
   "outputs": [
    {
     "data": {
      "text/plain": [
       "array([[[ 1,  2],\n",
       "        [ 3,  4],\n",
       "        [ 5,  6]],\n",
       "\n",
       "       [[ 7,  8],\n",
       "        [ 9, 10],\n",
       "        [11, 12]]])"
      ]
     },
     "execution_count": 73,
     "metadata": {},
     "output_type": "execute_result"
    }
   ],
   "source": [
    "new_arr"
   ]
  },
  {
   "cell_type": "code",
   "execution_count": 74,
   "id": "3dff3c73-4ba1-4061-b27e-29bd33402812",
   "metadata": {},
   "outputs": [
    {
     "name": "stdout",
     "output_type": "stream",
     "text": [
      "1\n",
      "2\n",
      "3\n",
      "4\n",
      "5\n",
      "6\n",
      "7\n",
      "8\n",
      "9\n",
      "10\n",
      "11\n",
      "12\n"
     ]
    }
   ],
   "source": [
    "## nditer\n",
    "for i in np.nditer(new_arr):\n",
    "    print(i)"
   ]
  },
  {
   "cell_type": "markdown",
   "id": "0ae8272d-34b0-44ed-826a-806685c1193f",
   "metadata": {},
   "source": [
    "### 12. SORTING ARRAYS"
   ]
  },
  {
   "cell_type": "code",
   "execution_count": 75,
   "id": "57412d0b-bb89-4c7d-a753-624edc801769",
   "metadata": {},
   "outputs": [
    {
     "data": {
      "text/plain": [
       "array([ 1,  2,  3,  4,  5, 10, 11,  8,  9,  2, 12,  0])"
      ]
     },
     "execution_count": 75,
     "metadata": {},
     "output_type": "execute_result"
    }
   ],
   "source": [
    "arr = np.array([1,2,3,4,5,10,11,8,9,2,12,0])\n",
    "arr"
   ]
  },
  {
   "cell_type": "code",
   "execution_count": 77,
   "id": "b3cf6e27-2adb-4c01-a197-dab20804fbcc",
   "metadata": {},
   "outputs": [],
   "source": [
    "new_arr=np.sort(arr)"
   ]
  },
  {
   "cell_type": "code",
   "execution_count": 78,
   "id": "5b7532f1-bf2e-423a-b8da-2e02f5448753",
   "metadata": {},
   "outputs": [
    {
     "data": {
      "text/plain": [
       "array([ 0,  1,  2,  2,  3,  4,  5,  8,  9, 10, 11, 12])"
      ]
     },
     "execution_count": 78,
     "metadata": {},
     "output_type": "execute_result"
    }
   ],
   "source": [
    "new_arr"
   ]
  },
  {
   "cell_type": "code",
   "execution_count": 80,
   "id": "80368c5c-a26c-4f88-9d5a-c1688a9fb948",
   "metadata": {},
   "outputs": [
    {
     "data": {
      "text/plain": [
       "array([12, 11, 10,  9,  8,  5,  4,  3,  2,  2,  1,  0])"
      ]
     },
     "execution_count": 80,
     "metadata": {},
     "output_type": "execute_result"
    }
   ],
   "source": [
    "### Descending\n",
    "np.sort(arr)[ : :-1]"
   ]
  },
  {
   "cell_type": "code",
   "execution_count": null,
   "id": "f703a85f-e207-4e0a-92c0-b7e6aa08f174",
   "metadata": {},
   "outputs": [],
   "source": []
  },
  {
   "cell_type": "markdown",
   "id": "f4f45056-2426-4051-8eb4-7c3030412f42",
   "metadata": {},
   "source": [
    "### 13. ARRAY SEARCH"
   ]
  },
  {
   "cell_type": "code",
   "execution_count": null,
   "id": "2dff1fc5-a80e-4768-be1e-2a81dd2809c9",
   "metadata": {},
   "outputs": [],
   "source": [
    "### where method\n"
   ]
  },
  {
   "cell_type": "code",
   "execution_count": 81,
   "id": "71382f04-ee46-49fa-8735-38fbd22fb4eb",
   "metadata": {},
   "outputs": [
    {
     "data": {
      "text/plain": [
       "array([ 1,  2,  3,  4,  5, 10, 11,  8,  9,  2, 12,  0])"
      ]
     },
     "execution_count": 81,
     "metadata": {},
     "output_type": "execute_result"
    }
   ],
   "source": [
    "arr"
   ]
  },
  {
   "cell_type": "code",
   "execution_count": 82,
   "id": "d66e52fb-74a1-475e-8e44-b76754dbb9d5",
   "metadata": {},
   "outputs": [],
   "source": [
    "x = np.where(arr==12)"
   ]
  },
  {
   "cell_type": "code",
   "execution_count": 83,
   "id": "b385d3e8-d7e7-4beb-b216-b095932fd764",
   "metadata": {},
   "outputs": [
    {
     "data": {
      "text/plain": [
       "(array([10], dtype=int64),)"
      ]
     },
     "execution_count": 83,
     "metadata": {},
     "output_type": "execute_result"
    }
   ],
   "source": [
    "x"
   ]
  },
  {
   "cell_type": "code",
   "execution_count": 84,
   "id": "7496132d-267a-4520-b8a3-204c94ff23a3",
   "metadata": {},
   "outputs": [
    {
     "data": {
      "text/plain": [
       "array([ 1,  2,  3,  4,  5,  6,  7,  8,  9, 10])"
      ]
     },
     "execution_count": 84,
     "metadata": {},
     "output_type": "execute_result"
    }
   ],
   "source": [
    "arr = np.array([1,2,3,4,5,6,7,8,9,10])\n",
    "arr"
   ]
  },
  {
   "cell_type": "code",
   "execution_count": 85,
   "id": "9e70916e-13cb-4f65-853c-89f21e757611",
   "metadata": {},
   "outputs": [
    {
     "data": {
      "text/plain": [
       "(array([1, 3, 5, 7, 9], dtype=int64),)"
      ]
     },
     "execution_count": 85,
     "metadata": {},
     "output_type": "execute_result"
    }
   ],
   "source": [
    "np.where(arr%2==0)"
   ]
  },
  {
   "cell_type": "code",
   "execution_count": 90,
   "id": "b6459005-b6f8-4655-ac4d-805c76c2e752",
   "metadata": {},
   "outputs": [
    {
     "data": {
      "text/plain": [
       "array([0, 1, 2, 3, 4, 6, 7, 8, 9])"
      ]
     },
     "execution_count": 90,
     "metadata": {},
     "output_type": "execute_result"
    }
   ],
   "source": [
    "### searchsorted\n",
    "arr = np.array([0,1,2,3,4,6,7,8,9])\n",
    "arr"
   ]
  },
  {
   "cell_type": "code",
   "execution_count": 92,
   "id": "c442de60-a938-4e99-b628-e1b98475a2d2",
   "metadata": {},
   "outputs": [
    {
     "data": {
      "text/plain": [
       "9"
      ]
     },
     "execution_count": 92,
     "metadata": {},
     "output_type": "execute_result"
    }
   ],
   "source": [
    "np.searchsorted(arr,11,side=)"
   ]
  },
  {
   "cell_type": "code",
   "execution_count": null,
   "id": "bd3dbdd7-9342-42e9-8857-c244df53a9d3",
   "metadata": {},
   "outputs": [],
   "source": []
  },
  {
   "cell_type": "code",
   "execution_count": null,
   "id": "d88f7e62-4b9b-4892-878b-3de5cbc24cf1",
   "metadata": {},
   "outputs": [],
   "source": []
  },
  {
   "cell_type": "code",
   "execution_count": null,
   "id": "54ee37c2-17e1-42bb-9e9f-c915707947c1",
   "metadata": {},
   "outputs": [],
   "source": []
  },
  {
   "cell_type": "code",
   "execution_count": null,
   "id": "9019dbb6-211d-4494-93cd-0bdbf4e1a8c1",
   "metadata": {},
   "outputs": [],
   "source": []
  },
  {
   "cell_type": "markdown",
   "id": "861c28b8-54d6-4977-bc68-d33fe4a6ece2",
   "metadata": {},
   "source": [
    "### 14. ARRAY FILTER"
   ]
  },
  {
   "cell_type": "code",
   "execution_count": 93,
   "id": "8fd22ffc-d2de-4898-8ac0-97f85dc67c57",
   "metadata": {},
   "outputs": [
    {
     "data": {
      "text/plain": [
       "array([41, 42, 43, 44])"
      ]
     },
     "execution_count": 93,
     "metadata": {},
     "output_type": "execute_result"
    }
   ],
   "source": [
    "arr = np.array([41,42,43,44])\n",
    "arr"
   ]
  },
  {
   "cell_type": "code",
   "execution_count": 94,
   "id": "f394fbf8-6144-4418-b04a-776a9e3adbd6",
   "metadata": {},
   "outputs": [
    {
     "data": {
      "text/plain": [
       "[True, False, True, False]"
      ]
     },
     "execution_count": 94,
     "metadata": {},
     "output_type": "execute_result"
    }
   ],
   "source": [
    "x = [True,False,True,False]\n",
    "x"
   ]
  },
  {
   "cell_type": "code",
   "execution_count": 95,
   "id": "fca91542-7edd-49e8-8b0e-1e39186cb467",
   "metadata": {},
   "outputs": [],
   "source": [
    "new_arr = arr[x]"
   ]
  },
  {
   "cell_type": "code",
   "execution_count": 96,
   "id": "df39bb1c-bb11-4271-8f99-9d780ec4a780",
   "metadata": {},
   "outputs": [
    {
     "data": {
      "text/plain": [
       "array([41, 43])"
      ]
     },
     "execution_count": 96,
     "metadata": {},
     "output_type": "execute_result"
    }
   ],
   "source": [
    "new_arr"
   ]
  },
  {
   "cell_type": "code",
   "execution_count": 97,
   "id": "e2902210-a4ca-4b50-9f35-b2dd862ef1db",
   "metadata": {},
   "outputs": [],
   "source": [
    "##### Practiacal\n",
    "\n",
    "arr = np.array([1,2,3,4,5,6,7,8,9,10])\n",
    "x = []"
   ]
  },
  {
   "cell_type": "code",
   "execution_count": 98,
   "id": "c44ed952-fdfd-4e41-a5f3-5540d65249a2",
   "metadata": {},
   "outputs": [],
   "source": [
    "for i in arr:\n",
    "    if i%2==0:\n",
    "        x.append(True)\n",
    "    else:\n",
    "        x.append(False)"
   ]
  },
  {
   "cell_type": "code",
   "execution_count": 99,
   "id": "277c6a8d-e1a5-4a1b-8162-ffbbd52e7126",
   "metadata": {},
   "outputs": [
    {
     "data": {
      "text/plain": [
       "[False, True, False, True, False, True, False, True, False, True]"
      ]
     },
     "execution_count": 99,
     "metadata": {},
     "output_type": "execute_result"
    }
   ],
   "source": [
    "x"
   ]
  },
  {
   "cell_type": "code",
   "execution_count": 100,
   "id": "367573f0-06ed-426f-93ff-40388e1b6c18",
   "metadata": {},
   "outputs": [
    {
     "data": {
      "text/plain": [
       "array([ 1,  2,  3,  4,  5,  6,  7,  8,  9, 10])"
      ]
     },
     "execution_count": 100,
     "metadata": {},
     "output_type": "execute_result"
    }
   ],
   "source": [
    "arr"
   ]
  },
  {
   "cell_type": "code",
   "execution_count": 101,
   "id": "543c77b7-84af-4801-922a-60a1d34adfb7",
   "metadata": {},
   "outputs": [],
   "source": [
    "new_arr = arr[x]"
   ]
  },
  {
   "cell_type": "code",
   "execution_count": 102,
   "id": "1df45208-3383-43c5-be7e-cca9ed03f7ef",
   "metadata": {},
   "outputs": [
    {
     "data": {
      "text/plain": [
       "array([ 2,  4,  6,  8, 10])"
      ]
     },
     "execution_count": 102,
     "metadata": {},
     "output_type": "execute_result"
    }
   ],
   "source": [
    "new_arr"
   ]
  },
  {
   "cell_type": "code",
   "execution_count": null,
   "id": "496c0853-3dfc-4abe-a3be-60efb98aea4b",
   "metadata": {},
   "outputs": [],
   "source": []
  },
  {
   "cell_type": "markdown",
   "id": "4666d221-d469-4b02-baa0-92b8ebd9df4b",
   "metadata": {},
   "source": [
    "### 15. RANDOM NUMBERS"
   ]
  },
  {
   "cell_type": "code",
   "execution_count": 103,
   "id": "98730b8b-0b8e-4020-8f50-64c1d676f9b2",
   "metadata": {},
   "outputs": [],
   "source": [
    "from numpy import random"
   ]
  },
  {
   "cell_type": "code",
   "execution_count": 108,
   "id": "fb3678e8-3dd2-46d1-9c18-03100cb83a6e",
   "metadata": {},
   "outputs": [],
   "source": [
    "x = random.randint(100)"
   ]
  },
  {
   "cell_type": "code",
   "execution_count": 109,
   "id": "91f34370-5bff-4fb2-86e0-91c310358992",
   "metadata": {},
   "outputs": [
    {
     "data": {
      "text/plain": [
       "33"
      ]
     },
     "execution_count": 109,
     "metadata": {},
     "output_type": "execute_result"
    }
   ],
   "source": [
    "x"
   ]
  },
  {
   "cell_type": "code",
   "execution_count": 124,
   "id": "bf5bb11b-7598-4b44-b4ea-a95db9caf685",
   "metadata": {},
   "outputs": [],
   "source": [
    "x = random.randint(0,5,size=(2,3,4))"
   ]
  },
  {
   "cell_type": "code",
   "execution_count": 125,
   "id": "5ec683fa-00ba-405b-82ea-a03047ec4a02",
   "metadata": {},
   "outputs": [
    {
     "data": {
      "text/plain": [
       "array([[[2, 3, 3, 4],\n",
       "        [3, 0, 0, 2],\n",
       "        [1, 2, 1, 0]],\n",
       "\n",
       "       [[4, 0, 0, 3],\n",
       "        [1, 4, 2, 0],\n",
       "        [3, 4, 1, 2]]])"
      ]
     },
     "execution_count": 125,
     "metadata": {},
     "output_type": "execute_result"
    }
   ],
   "source": [
    "x"
   ]
  },
  {
   "cell_type": "markdown",
   "id": "e998aa1e-ea52-41c1-ae4f-9619137fdaec",
   "metadata": {},
   "source": [
    "### 16. JOIN ARRAYS"
   ]
  },
  {
   "cell_type": "markdown",
   "id": "5e954ad2-7282-4b34-827b-acccd825112d",
   "metadata": {},
   "source": [
    "#### a. Concatenation"
   ]
  },
  {
   "cell_type": "code",
   "execution_count": 126,
   "id": "c033b966-85b3-479a-b045-270ae9980a2a",
   "metadata": {},
   "outputs": [],
   "source": [
    "a = np.array([[1,2,],[3,4]])\n",
    "b = np.array([[5,6,],[7,8]])"
   ]
  },
  {
   "cell_type": "code",
   "execution_count": 127,
   "id": "4d3ff02b-a11a-4b1b-bc73-7d4ae120e655",
   "metadata": {},
   "outputs": [
    {
     "name": "stdout",
     "output_type": "stream",
     "text": [
      "2 2\n"
     ]
    }
   ],
   "source": [
    "print(a.ndim,b.ndim)"
   ]
  },
  {
   "cell_type": "code",
   "execution_count": 129,
   "id": "845eacfb-fa9f-4539-bfb8-0182502698c0",
   "metadata": {},
   "outputs": [
    {
     "data": {
      "text/plain": [
       "array([[1, 2],\n",
       "       [3, 4]])"
      ]
     },
     "execution_count": 129,
     "metadata": {},
     "output_type": "execute_result"
    }
   ],
   "source": [
    "a"
   ]
  },
  {
   "cell_type": "code",
   "execution_count": 130,
   "id": "a05efb9d-2a7b-4c35-afe8-8d24edf68c93",
   "metadata": {},
   "outputs": [
    {
     "data": {
      "text/plain": [
       "array([[5, 6],\n",
       "       [7, 8]])"
      ]
     },
     "execution_count": 130,
     "metadata": {},
     "output_type": "execute_result"
    }
   ],
   "source": [
    "b"
   ]
  },
  {
   "cell_type": "code",
   "execution_count": 128,
   "id": "4aaddb54-4be2-45ca-b994-26b10ca6e1bc",
   "metadata": {},
   "outputs": [
    {
     "name": "stdout",
     "output_type": "stream",
     "text": [
      "[[1 2]\n",
      " [3 4]\n",
      " [5 6]\n",
      " [7 8]]\n"
     ]
    }
   ],
   "source": [
    "arr1 = np.concatenate((a,b) , axis=0)  #row-wise   #vertically\n",
    "print(arr1)"
   ]
  },
  {
   "cell_type": "code",
   "execution_count": 131,
   "id": "1d13487e-3ce6-49d6-ab53-62cfa6ae56d8",
   "metadata": {},
   "outputs": [
    {
     "name": "stdout",
     "output_type": "stream",
     "text": [
      "[[1 2 5 6]\n",
      " [3 4 7 8]]\n"
     ]
    }
   ],
   "source": [
    "arr1 = np.concatenate((a,b) , axis=1)  #column-wise   #sidebyside\n",
    "print(arr1)"
   ]
  },
  {
   "cell_type": "code",
   "execution_count": 134,
   "id": "ed4349e2-6d02-4828-b3e8-70ee3189f924",
   "metadata": {},
   "outputs": [
    {
     "data": {
      "text/plain": [
       "2"
      ]
     },
     "execution_count": 134,
     "metadata": {},
     "output_type": "execute_result"
    }
   ],
   "source": [
    "arr1.ndim"
   ]
  },
  {
   "cell_type": "markdown",
   "id": "671b67ca-1102-41c9-aaff-3d8428e0688e",
   "metadata": {},
   "source": [
    "#### Stacking"
   ]
  },
  {
   "cell_type": "code",
   "execution_count": 132,
   "id": "f57eae2f-8229-4dcf-8cd2-dbfcccccef74",
   "metadata": {},
   "outputs": [
    {
     "data": {
      "text/plain": [
       "array([[1, 2],\n",
       "       [3, 4]])"
      ]
     },
     "execution_count": 132,
     "metadata": {},
     "output_type": "execute_result"
    }
   ],
   "source": [
    "a"
   ]
  },
  {
   "cell_type": "code",
   "execution_count": 133,
   "id": "eadc3348-8763-47e9-9f53-1c43c1db0f4f",
   "metadata": {},
   "outputs": [
    {
     "data": {
      "text/plain": [
       "array([[5, 6],\n",
       "       [7, 8]])"
      ]
     },
     "execution_count": 133,
     "metadata": {},
     "output_type": "execute_result"
    }
   ],
   "source": [
    "b"
   ]
  },
  {
   "cell_type": "code",
   "execution_count": 135,
   "id": "f2527ac3-3b9b-4b51-b900-f9ffeeac0f23",
   "metadata": {},
   "outputs": [
    {
     "name": "stdout",
     "output_type": "stream",
     "text": [
      "2 2\n"
     ]
    }
   ],
   "source": [
    "print(a.ndim,b.ndim)"
   ]
  },
  {
   "cell_type": "code",
   "execution_count": 140,
   "id": "770e503c-5f1a-4db2-a1c2-14be69299af4",
   "metadata": {},
   "outputs": [
    {
     "data": {
      "text/plain": [
       "array([[[1, 2],\n",
       "        [5, 6]],\n",
       "\n",
       "       [[3, 4],\n",
       "        [7, 8]]])"
      ]
     },
     "execution_count": 140,
     "metadata": {},
     "output_type": "execute_result"
    }
   ],
   "source": [
    "arr1 = np.stack((a,b) , axis=1)\n",
    "arr1"
   ]
  },
  {
   "cell_type": "code",
   "execution_count": 142,
   "id": "57971997-4b1a-4804-b604-554c37644854",
   "metadata": {},
   "outputs": [
    {
     "data": {
      "text/plain": [
       "(2, 2, 2)"
      ]
     },
     "execution_count": 142,
     "metadata": {},
     "output_type": "execute_result"
    }
   ],
   "source": [
    "arr1.shape"
   ]
  },
  {
   "cell_type": "code",
   "execution_count": null,
   "id": "33209196-807b-4a4c-9682-4b7b8cdadb67",
   "metadata": {},
   "outputs": [],
   "source": [
    "arr.hstack(a,b)  axis=0"
   ]
  },
  {
   "cell_type": "code",
   "execution_count": null,
   "id": "de32de3b-b661-486c-9dce-f7d1c48d1fee",
   "metadata": {},
   "outputs": [],
   "source": []
  },
  {
   "cell_type": "code",
   "execution_count": null,
   "id": "5a378265-6ea8-464b-90b1-fbf29b1c86ae",
   "metadata": {},
   "outputs": [],
   "source": []
  },
  {
   "cell_type": "code",
   "execution_count": null,
   "id": "57caeb90-a125-4f06-bd43-bd61738ce5d8",
   "metadata": {},
   "outputs": [],
   "source": []
  },
  {
   "cell_type": "code",
   "execution_count": null,
   "id": "f13f4ccd-1a94-455a-9a8a-c99de44aba6b",
   "metadata": {},
   "outputs": [],
   "source": []
  },
  {
   "cell_type": "markdown",
   "id": "2733a920-c8a9-4994-b219-b60b94c14c34",
   "metadata": {},
   "source": [
    "### 17. Splitting ARRAYS"
   ]
  },
  {
   "cell_type": "code",
   "execution_count": 143,
   "id": "e41395be-ca66-422b-9021-3eadb60eb9f7",
   "metadata": {},
   "outputs": [],
   "source": [
    "### array_split"
   ]
  },
  {
   "cell_type": "code",
   "execution_count": 144,
   "id": "7fa9cfba-a601-4712-8115-7f85c7a98ce3",
   "metadata": {},
   "outputs": [
    {
     "data": {
      "text/plain": [
       "array([1, 2, 3, 4, 5, 6])"
      ]
     },
     "execution_count": 144,
     "metadata": {},
     "output_type": "execute_result"
    }
   ],
   "source": [
    "arr = np.array([1,2,3,4,5,6])\n",
    "arr"
   ]
  },
  {
   "cell_type": "code",
   "execution_count": 147,
   "id": "c6e86899-33ed-4f40-8a6e-0a65d52a1168",
   "metadata": {},
   "outputs": [],
   "source": [
    "new_arr = np.array_split(arr , 2)"
   ]
  },
  {
   "cell_type": "code",
   "execution_count": 148,
   "id": "39394455-52b0-4d35-aeee-d3a6f35ccb5b",
   "metadata": {},
   "outputs": [
    {
     "data": {
      "text/plain": [
       "[array([1, 2, 3]), array([4, 5, 6])]"
      ]
     },
     "execution_count": 148,
     "metadata": {},
     "output_type": "execute_result"
    }
   ],
   "source": [
    "new_arr"
   ]
  },
  {
   "cell_type": "code",
   "execution_count": 149,
   "id": "eab2f7b3-2e66-4d67-8a9a-76d44e69eb0d",
   "metadata": {},
   "outputs": [
    {
     "data": {
      "text/plain": [
       "array([1, 2, 3])"
      ]
     },
     "execution_count": 149,
     "metadata": {},
     "output_type": "execute_result"
    }
   ],
   "source": [
    "new_arr[0]"
   ]
  },
  {
   "cell_type": "code",
   "execution_count": 150,
   "id": "796aeda3-6b5b-4981-b9fa-bbf1026bd562",
   "metadata": {},
   "outputs": [
    {
     "data": {
      "text/plain": [
       "array([4, 5, 6])"
      ]
     },
     "execution_count": 150,
     "metadata": {},
     "output_type": "execute_result"
    }
   ],
   "source": [
    "new_arr[1]"
   ]
  },
  {
   "cell_type": "code",
   "execution_count": 151,
   "id": "da531979-c278-46d4-b8d7-40dc48761569",
   "metadata": {},
   "outputs": [],
   "source": [
    "arr = np.array([\n",
    "    [1,2],\n",
    "    [3,4],\n",
    "    [5,6],\n",
    "    [7,8],\n",
    "    [9,10],\n",
    "    [11,12]\n",
    "])"
   ]
  },
  {
   "cell_type": "code",
   "execution_count": 152,
   "id": "0bce5af1-4bd7-43d2-bade-1f5b87dfdbe9",
   "metadata": {},
   "outputs": [
    {
     "data": {
      "text/plain": [
       "array([[ 1,  2],\n",
       "       [ 3,  4],\n",
       "       [ 5,  6],\n",
       "       [ 7,  8],\n",
       "       [ 9, 10],\n",
       "       [11, 12]])"
      ]
     },
     "execution_count": 152,
     "metadata": {},
     "output_type": "execute_result"
    }
   ],
   "source": [
    "arr"
   ]
  },
  {
   "cell_type": "code",
   "execution_count": 153,
   "id": "d1fd343f-e5e8-4843-9085-4974ce423f63",
   "metadata": {},
   "outputs": [],
   "source": [
    "new_arr = np.array_split(arr , 3)"
   ]
  },
  {
   "cell_type": "code",
   "execution_count": 154,
   "id": "235f03d3-7388-431c-afdc-5acb78659ec1",
   "metadata": {},
   "outputs": [
    {
     "data": {
      "text/plain": [
       "[array([[1, 2],\n",
       "        [3, 4]]),\n",
       " array([[5, 6],\n",
       "        [7, 8]]),\n",
       " array([[ 9, 10],\n",
       "        [11, 12]])]"
      ]
     },
     "execution_count": 154,
     "metadata": {},
     "output_type": "execute_result"
    }
   ],
   "source": [
    "new_arr"
   ]
  },
  {
   "cell_type": "code",
   "execution_count": 156,
   "id": "9914d838-f60d-41e8-94fb-08fea7c7fa1b",
   "metadata": {},
   "outputs": [],
   "source": [
    "arr = np.array([\n",
    "    [1,2],\n",
    "    [3,4],\n",
    "    [5,6],\n",
    "    [7,8],\n",
    "    [9,10],\n",
    "    [11,12]\n",
    "])"
   ]
  },
  {
   "cell_type": "code",
   "execution_count": 157,
   "id": "3273635f-2dcb-4db6-bf6e-6b375cf3b4ce",
   "metadata": {},
   "outputs": [
    {
     "data": {
      "text/plain": [
       "array([[ 1,  2],\n",
       "       [ 3,  4],\n",
       "       [ 5,  6],\n",
       "       [ 7,  8],\n",
       "       [ 9, 10],\n",
       "       [11, 12]])"
      ]
     },
     "execution_count": 157,
     "metadata": {},
     "output_type": "execute_result"
    }
   ],
   "source": [
    "arr"
   ]
  },
  {
   "cell_type": "code",
   "execution_count": 159,
   "id": "8a1cc3ec-2824-4ed2-9e04-9386a4c90a76",
   "metadata": {},
   "outputs": [
    {
     "data": {
      "text/plain": [
       "[array([[ 1],\n",
       "        [ 3],\n",
       "        [ 5],\n",
       "        [ 7],\n",
       "        [ 9],\n",
       "        [11]]),\n",
       " array([[ 2],\n",
       "        [ 4],\n",
       "        [ 6],\n",
       "        [ 8],\n",
       "        [10],\n",
       "        [12]]),\n",
       " array([], shape=(6, 0), dtype=int32)]"
      ]
     },
     "execution_count": 159,
     "metadata": {},
     "output_type": "execute_result"
    }
   ],
   "source": [
    "new_arr = np.array_split(arr,3,axis=1)\n",
    "new_arr"
   ]
  },
  {
   "cell_type": "code",
   "execution_count": null,
   "id": "b8c100c5-68f0-4d4c-82fa-e659a3e1aefa",
   "metadata": {},
   "outputs": [],
   "source": []
  }
 ],
 "metadata": {
  "kernelspec": {
   "display_name": "Python 3 (ipykernel)",
   "language": "python",
   "name": "python3"
  },
  "language_info": {
   "codemirror_mode": {
    "name": "ipython",
    "version": 3
   },
   "file_extension": ".py",
   "mimetype": "text/x-python",
   "name": "python",
   "nbconvert_exporter": "python",
   "pygments_lexer": "ipython3",
   "version": "3.11.7"
  }
 },
 "nbformat": 4,
 "nbformat_minor": 5
}
