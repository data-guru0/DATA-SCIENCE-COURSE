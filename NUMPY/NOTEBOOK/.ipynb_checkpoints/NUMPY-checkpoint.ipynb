{
 "cells": [
  {
   "cell_type": "markdown",
   "id": "55642b9e-95b2-47aa-9bc7-3976a00923e8",
   "metadata": {},
   "source": [
    "### 1. Installing and Importing"
   ]
  },
  {
   "cell_type": "code",
   "execution_count": null,
   "id": "1a8ca7f4-4351-447e-a4e6-00c5172b25ff",
   "metadata": {},
   "outputs": [],
   "source": []
  },
  {
   "cell_type": "markdown",
   "id": "fe064b20-c350-4123-a0f0-b38260afc709",
   "metadata": {},
   "source": [
    "### 2. NUMPY VS LISTS"
   ]
  },
  {
   "cell_type": "code",
   "execution_count": null,
   "id": "7552a563-bbba-4f0e-8344-b73c280847d0",
   "metadata": {},
   "outputs": [],
   "source": [
    "import time\n",
    "import numpy as np\n",
    "\n",
    "# Size of the array\n",
    "size = 1000000\n",
    "\n",
    "# Creating a list of numbers from 0 to size-1\n",
    "list_data = list(range(size))\n",
    "\n",
    "# Creating a NumPy array of numbers from 0 to size-1\n",
    "numpy_data = np.arange(size)\n",
    "\n",
    "# Timing the operation on the list\n",
    "start_time = time.time()\n",
    "list_result = [x * 2 for x in list_data]\n",
    "end_time = time.time()\n",
    "list_time = end_time - start_time\n",
    "\n",
    "# Timing the operation on the NumPy array\n",
    "start_time = time.time()\n",
    "numpy_result = numpy_data * 2\n",
    "end_time = time.time()\n",
    "numpy_time = end_time - start_time\n",
    "\n",
    "print(f\"Time taken for list: {list_time} seconds\")\n",
    "print(f\"Time taken for NumPy array: {numpy_time} seconds\")"
   ]
  },
  {
   "cell_type": "markdown",
   "id": "fa385aa8-9509-467c-904e-2c81029b6694",
   "metadata": {},
   "source": [
    "### 3. NUMPY VS MATH LIBRARY"
   ]
  },
  {
   "cell_type": "code",
   "execution_count": null,
   "id": "e09a2633-a5d1-47b4-bdfb-de60e66289da",
   "metadata": {},
   "outputs": [],
   "source": [
    "import time\n",
    "import math\n",
    "import numpy as np\n",
    "\n",
    "# Size of the array\n",
    "size = 1000000\n",
    "\n",
    "# Creating a list of numbers from 0 to size-1\n",
    "list_data = list(range(size))\n",
    "\n",
    "# Creating a NumPy array of numbers from 0 to size-1\n",
    "numpy_data = np.arange(size)\n",
    "\n",
    "# Using math library to perform element-wise square root operation\n",
    "start_time = time.time()\n",
    "math_result = [math.sqrt(x) for x in list_data]\n",
    "end_time = time.time()\n",
    "math_time = end_time - start_time\n",
    "\n",
    "# Using NumPy to perform element-wise square root operation\n",
    "start_time = time.time()\n",
    "numpy_result = np.sqrt(numpy_data)\n",
    "end_time = time.time()\n",
    "numpy_time = end_time - start_time\n",
    "\n",
    "print(f\"Time taken using math library: {math_time} seconds\")\n",
    "print(f\"Time taken using NumPy: {numpy_time} seconds\")"
   ]
  },
  {
   "cell_type": "markdown",
   "id": "c50918d5-4f1d-4d44-86df-740f33093f52",
   "metadata": {},
   "source": [
    "### 4. Creating ARRAYS"
   ]
  },
  {
   "cell_type": "code",
   "execution_count": null,
   "id": "4f148df8-a64a-4df0-ac19-31b2c98a88c5",
   "metadata": {},
   "outputs": [],
   "source": []
  },
  {
   "cell_type": "markdown",
   "id": "454869c2-873f-4333-a62e-2466c55d3fa3",
   "metadata": {},
   "source": [
    "### 5. Acessing ARRAYS"
   ]
  },
  {
   "cell_type": "code",
   "execution_count": null,
   "id": "5c6c12f2-1dfa-430d-b8cb-0a906e50d647",
   "metadata": {},
   "outputs": [],
   "source": []
  },
  {
   "cell_type": "markdown",
   "id": "0e217f4d-a2d7-4702-bfec-c5723f5d55da",
   "metadata": {},
   "source": [
    "### 6. Slicing ARRAYS"
   ]
  },
  {
   "cell_type": "code",
   "execution_count": null,
   "id": "f64e3d89-7e5e-4494-a8e2-f7776a96919f",
   "metadata": {},
   "outputs": [],
   "source": []
  },
  {
   "cell_type": "markdown",
   "id": "549d67d0-78a0-4fce-8a0b-1a5d63046842",
   "metadata": {},
   "source": [
    "### 7. Change Data Type in ARRAYS"
   ]
  },
  {
   "cell_type": "code",
   "execution_count": null,
   "id": "a5f2f013-f1fa-488d-a12a-6945d2550c8f",
   "metadata": {},
   "outputs": [],
   "source": []
  },
  {
   "cell_type": "markdown",
   "id": "89c550f4-2dbe-45c2-bbaf-b02ed59cce31",
   "metadata": {},
   "source": [
    "### 8. Copy vs VIEW Function"
   ]
  },
  {
   "cell_type": "code",
   "execution_count": null,
   "id": "a7e9c2f6-ee53-4b01-9379-9377ba9fea95",
   "metadata": {},
   "outputs": [],
   "source": []
  },
  {
   "cell_type": "markdown",
   "id": "2a70ac94-ee39-45f5-a591-77a575ce0eb3",
   "metadata": {},
   "source": [
    "### 9. Check ARRAY SHAPE"
   ]
  },
  {
   "cell_type": "code",
   "execution_count": null,
   "id": "a117536c-4872-4a7d-aed5-0b0dec3ee0a5",
   "metadata": {},
   "outputs": [],
   "source": []
  },
  {
   "cell_type": "markdown",
   "id": "090d4c45-ab2c-45a8-879e-3dd136a991fa",
   "metadata": {},
   "source": [
    "### 10. ARRAY RESHAPE"
   ]
  },
  {
   "cell_type": "code",
   "execution_count": null,
   "id": "5985e7e1-4fe1-4187-8ffe-6c94a75c7452",
   "metadata": {},
   "outputs": [],
   "source": []
  },
  {
   "cell_type": "markdown",
   "id": "f1adf7fc-7544-49cc-8cd1-edf851fc90bb",
   "metadata": {},
   "source": [
    "### 11. LOOPING INTO ARRAYS"
   ]
  },
  {
   "cell_type": "code",
   "execution_count": null,
   "id": "bf9e5020-ca6e-4c40-8751-2e9b1fcb5b13",
   "metadata": {},
   "outputs": [],
   "source": []
  },
  {
   "cell_type": "markdown",
   "id": "0ae8272d-34b0-44ed-826a-806685c1193f",
   "metadata": {},
   "source": [
    "### 12. SORTING ARRAYS"
   ]
  },
  {
   "cell_type": "code",
   "execution_count": null,
   "id": "57412d0b-bb89-4c7d-a753-624edc801769",
   "metadata": {},
   "outputs": [],
   "source": []
  },
  {
   "cell_type": "markdown",
   "id": "f4f45056-2426-4051-8eb4-7c3030412f42",
   "metadata": {},
   "source": [
    "### 13. ARRAY SEARCH"
   ]
  },
  {
   "cell_type": "code",
   "execution_count": null,
   "id": "2dff1fc5-a80e-4768-be1e-2a81dd2809c9",
   "metadata": {},
   "outputs": [],
   "source": []
  },
  {
   "cell_type": "markdown",
   "id": "861c28b8-54d6-4977-bc68-d33fe4a6ece2",
   "metadata": {},
   "source": [
    "### 14. ARRAY FILTER"
   ]
  },
  {
   "cell_type": "code",
   "execution_count": null,
   "id": "8fd22ffc-d2de-4898-8ac0-97f85dc67c57",
   "metadata": {},
   "outputs": [],
   "source": []
  },
  {
   "cell_type": "markdown",
   "id": "4666d221-d469-4b02-baa0-92b8ebd9df4b",
   "metadata": {},
   "source": [
    "### 15. RANDOM NUMBERS"
   ]
  },
  {
   "cell_type": "code",
   "execution_count": null,
   "id": "1e3c209a-da1f-48a1-927f-a0e3b799120c",
   "metadata": {},
   "outputs": [],
   "source": []
  },
  {
   "cell_type": "markdown",
   "id": "e998aa1e-ea52-41c1-ae4f-9619137fdaec",
   "metadata": {},
   "source": [
    "### 16. JOIN ARRAYS"
   ]
  },
  {
   "cell_type": "markdown",
   "id": "5e954ad2-7282-4b34-827b-acccd825112d",
   "metadata": {},
   "source": [
    "#### a. Concatenation"
   ]
  },
  {
   "cell_type": "code",
   "execution_count": null,
   "id": "c033b966-85b3-479a-b045-270ae9980a2a",
   "metadata": {},
   "outputs": [],
   "source": []
  },
  {
   "cell_type": "markdown",
   "id": "f5fd0714-4710-4cfc-a26b-8ba109f2658c",
   "metadata": {},
   "source": [
    "#### b. Stacking"
   ]
  },
  {
   "cell_type": "code",
   "execution_count": null,
   "id": "24651948-c8b4-42ee-8a14-b9a93b5744ef",
   "metadata": {},
   "outputs": [],
   "source": []
  },
  {
   "cell_type": "markdown",
   "id": "2733a920-c8a9-4994-b219-b60b94c14c34",
   "metadata": {},
   "source": [
    "### 17. Splitting ARRAYS"
   ]
  },
  {
   "cell_type": "code",
   "execution_count": null,
   "id": "e41395be-ca66-422b-9021-3eadb60eb9f7",
   "metadata": {},
   "outputs": [],
   "source": []
  }
 ],
 "metadata": {
  "kernelspec": {
   "display_name": "Python 3 (ipykernel)",
   "language": "python",
   "name": "python3"
  },
  "language_info": {
   "codemirror_mode": {
    "name": "ipython",
    "version": 3
   },
   "file_extension": ".py",
   "mimetype": "text/x-python",
   "name": "python",
   "nbconvert_exporter": "python",
   "pygments_lexer": "ipython3",
   "version": "3.11.7"
  }
 },
 "nbformat": 4,
 "nbformat_minor": 5
}
